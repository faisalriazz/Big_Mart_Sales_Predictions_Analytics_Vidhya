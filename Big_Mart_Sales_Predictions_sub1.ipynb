{
 "cells": [
  {
   "cell_type": "markdown",
   "metadata": {},
   "source": [
    "# Big Mart Sales Prediction"
   ]
  },
  {
   "cell_type": "markdown",
   "metadata": {
    "ExecuteTime": {
     "end_time": "2020-12-05T11:54:14.087401Z",
     "start_time": "2020-12-05T11:54:14.084401Z"
    }
   },
   "source": [
    "### Importing required Libraries"
   ]
  },
  {
   "cell_type": "code",
   "execution_count": 1,
   "metadata": {
    "ExecuteTime": {
     "end_time": "2020-12-05T19:15:44.970759Z",
     "start_time": "2020-12-05T19:15:42.418605Z"
    }
   },
   "outputs": [],
   "source": [
    "import numpy as np\n",
    "import pandas as pd\n",
    "import matplotlib.pyplot as plt\n",
    "import seaborn as sns\n",
    "from sklearn.metrics import mean_squared_error\n",
    "from math import sqrt\n",
    "%matplotlib inline"
   ]
  },
  {
   "cell_type": "markdown",
   "metadata": {
    "ExecuteTime": {
     "end_time": "2020-12-05T11:55:08.808846Z",
     "start_time": "2020-12-05T11:55:08.790857Z"
    }
   },
   "source": [
    "### importing the dataset"
   ]
  },
  {
   "cell_type": "code",
   "execution_count": 2,
   "metadata": {
    "ExecuteTime": {
     "end_time": "2020-12-05T19:15:45.032894Z",
     "start_time": "2020-12-05T19:15:44.972766Z"
    }
   },
   "outputs": [],
   "source": [
    "# importing the test and train csv files\n",
    "train = pd.read_csv(\"train.csv\")\n",
    "test = pd.read_csv(\"test.csv\")"
   ]
  },
  {
   "cell_type": "code",
   "execution_count": 3,
   "metadata": {
    "ExecuteTime": {
     "end_time": "2020-12-05T19:15:45.079431Z",
     "start_time": "2020-12-05T19:15:45.036887Z"
    }
   },
   "outputs": [],
   "source": [
    "## Data exploration of Train Data"
   ]
  },
  {
   "cell_type": "code",
   "execution_count": 4,
   "metadata": {
    "ExecuteTime": {
     "end_time": "2020-12-05T19:15:45.158402Z",
     "start_time": "2020-12-05T19:15:45.082425Z"
    }
   },
   "outputs": [
    {
     "name": "stdout",
     "output_type": "stream",
     "text": [
      "dimension of train set are (8523, 12)\n",
      "dimension of test set are (5681, 11)\n",
      "\n"
     ]
    }
   ],
   "source": [
    "print('dimension of train set are {}\\ndimension of test set are {}\\n'.format(train.shape,test.shape))"
   ]
  },
  {
   "cell_type": "code",
   "execution_count": 5,
   "metadata": {
    "ExecuteTime": {
     "end_time": "2020-12-05T19:15:45.252163Z",
     "start_time": "2020-12-05T19:15:45.160486Z"
    }
   },
   "outputs": [
    {
     "name": "stdout",
     "output_type": "stream",
     "text": [
      "<class 'pandas.core.frame.DataFrame'>\n",
      "RangeIndex: 8523 entries, 0 to 8522\n",
      "Data columns (total 12 columns):\n",
      " #   Column                     Non-Null Count  Dtype  \n",
      "---  ------                     --------------  -----  \n",
      " 0   Item_Identifier            8523 non-null   object \n",
      " 1   Item_Weight                7060 non-null   float64\n",
      " 2   Item_Fat_Content           8523 non-null   object \n",
      " 3   Item_Visibility            8523 non-null   float64\n",
      " 4   Item_Type                  8523 non-null   object \n",
      " 5   Item_MRP                   8523 non-null   float64\n",
      " 6   Outlet_Identifier          8523 non-null   object \n",
      " 7   Outlet_Establishment_Year  8523 non-null   int64  \n",
      " 8   Outlet_Size                6113 non-null   object \n",
      " 9   Outlet_Location_Type       8523 non-null   object \n",
      " 10  Outlet_Type                8523 non-null   object \n",
      " 11  Item_Outlet_Sales          8523 non-null   float64\n",
      "dtypes: float64(4), int64(1), object(7)\n",
      "memory usage: 799.2+ KB\n"
     ]
    }
   ],
   "source": [
    "train.info()"
   ]
  },
  {
   "cell_type": "code",
   "execution_count": 6,
   "metadata": {
    "ExecuteTime": {
     "end_time": "2020-12-05T19:15:45.392333Z",
     "start_time": "2020-12-05T19:15:45.254162Z"
    }
   },
   "outputs": [
    {
     "data": {
      "text/html": [
       "<div>\n",
       "<style scoped>\n",
       "    .dataframe tbody tr th:only-of-type {\n",
       "        vertical-align: middle;\n",
       "    }\n",
       "\n",
       "    .dataframe tbody tr th {\n",
       "        vertical-align: top;\n",
       "    }\n",
       "\n",
       "    .dataframe thead th {\n",
       "        text-align: right;\n",
       "    }\n",
       "</style>\n",
       "<table border=\"1\" class=\"dataframe\">\n",
       "  <thead>\n",
       "    <tr style=\"text-align: right;\">\n",
       "      <th></th>\n",
       "      <th>Item_Weight</th>\n",
       "      <th>Item_Visibility</th>\n",
       "      <th>Item_MRP</th>\n",
       "      <th>Outlet_Establishment_Year</th>\n",
       "      <th>Item_Outlet_Sales</th>\n",
       "    </tr>\n",
       "  </thead>\n",
       "  <tbody>\n",
       "    <tr>\n",
       "      <th>count</th>\n",
       "      <td>7060.000000</td>\n",
       "      <td>8523.000000</td>\n",
       "      <td>8523.000000</td>\n",
       "      <td>8523.000000</td>\n",
       "      <td>8523.000000</td>\n",
       "    </tr>\n",
       "    <tr>\n",
       "      <th>mean</th>\n",
       "      <td>12.857645</td>\n",
       "      <td>0.066132</td>\n",
       "      <td>140.992782</td>\n",
       "      <td>1997.831867</td>\n",
       "      <td>2181.288914</td>\n",
       "    </tr>\n",
       "    <tr>\n",
       "      <th>std</th>\n",
       "      <td>4.643456</td>\n",
       "      <td>0.051598</td>\n",
       "      <td>62.275067</td>\n",
       "      <td>8.371760</td>\n",
       "      <td>1706.499616</td>\n",
       "    </tr>\n",
       "    <tr>\n",
       "      <th>min</th>\n",
       "      <td>4.555000</td>\n",
       "      <td>0.000000</td>\n",
       "      <td>31.290000</td>\n",
       "      <td>1985.000000</td>\n",
       "      <td>33.290000</td>\n",
       "    </tr>\n",
       "    <tr>\n",
       "      <th>25%</th>\n",
       "      <td>8.773750</td>\n",
       "      <td>0.026989</td>\n",
       "      <td>93.826500</td>\n",
       "      <td>1987.000000</td>\n",
       "      <td>834.247400</td>\n",
       "    </tr>\n",
       "    <tr>\n",
       "      <th>50%</th>\n",
       "      <td>12.600000</td>\n",
       "      <td>0.053931</td>\n",
       "      <td>143.012800</td>\n",
       "      <td>1999.000000</td>\n",
       "      <td>1794.331000</td>\n",
       "    </tr>\n",
       "    <tr>\n",
       "      <th>75%</th>\n",
       "      <td>16.850000</td>\n",
       "      <td>0.094585</td>\n",
       "      <td>185.643700</td>\n",
       "      <td>2004.000000</td>\n",
       "      <td>3101.296400</td>\n",
       "    </tr>\n",
       "    <tr>\n",
       "      <th>max</th>\n",
       "      <td>21.350000</td>\n",
       "      <td>0.328391</td>\n",
       "      <td>266.888400</td>\n",
       "      <td>2009.000000</td>\n",
       "      <td>13086.964800</td>\n",
       "    </tr>\n",
       "  </tbody>\n",
       "</table>\n",
       "</div>"
      ],
      "text/plain": [
       "       Item_Weight  Item_Visibility     Item_MRP  Outlet_Establishment_Year  \\\n",
       "count  7060.000000      8523.000000  8523.000000                8523.000000   \n",
       "mean     12.857645         0.066132   140.992782                1997.831867   \n",
       "std       4.643456         0.051598    62.275067                   8.371760   \n",
       "min       4.555000         0.000000    31.290000                1985.000000   \n",
       "25%       8.773750         0.026989    93.826500                1987.000000   \n",
       "50%      12.600000         0.053931   143.012800                1999.000000   \n",
       "75%      16.850000         0.094585   185.643700                2004.000000   \n",
       "max      21.350000         0.328391   266.888400                2009.000000   \n",
       "\n",
       "       Item_Outlet_Sales  \n",
       "count        8523.000000  \n",
       "mean         2181.288914  \n",
       "std          1706.499616  \n",
       "min            33.290000  \n",
       "25%           834.247400  \n",
       "50%          1794.331000  \n",
       "75%          3101.296400  \n",
       "max         13086.964800  "
      ]
     },
     "execution_count": 6,
     "metadata": {},
     "output_type": "execute_result"
    }
   ],
   "source": [
    "train.describe()"
   ]
  },
  {
   "cell_type": "code",
   "execution_count": 7,
   "metadata": {
    "ExecuteTime": {
     "end_time": "2020-12-05T19:15:45.473021Z",
     "start_time": "2020-12-05T19:15:45.395330Z"
    }
   },
   "outputs": [
    {
     "data": {
      "text/html": [
       "<div>\n",
       "<style scoped>\n",
       "    .dataframe tbody tr th:only-of-type {\n",
       "        vertical-align: middle;\n",
       "    }\n",
       "\n",
       "    .dataframe tbody tr th {\n",
       "        vertical-align: top;\n",
       "    }\n",
       "\n",
       "    .dataframe thead th {\n",
       "        text-align: right;\n",
       "    }\n",
       "</style>\n",
       "<table border=\"1\" class=\"dataframe\">\n",
       "  <thead>\n",
       "    <tr style=\"text-align: right;\">\n",
       "      <th></th>\n",
       "      <th>Item_Identifier</th>\n",
       "      <th>Item_Weight</th>\n",
       "      <th>Item_Fat_Content</th>\n",
       "      <th>Item_Visibility</th>\n",
       "      <th>Item_Type</th>\n",
       "      <th>Item_MRP</th>\n",
       "      <th>Outlet_Identifier</th>\n",
       "      <th>Outlet_Establishment_Year</th>\n",
       "      <th>Outlet_Size</th>\n",
       "      <th>Outlet_Location_Type</th>\n",
       "      <th>Outlet_Type</th>\n",
       "      <th>Item_Outlet_Sales</th>\n",
       "    </tr>\n",
       "  </thead>\n",
       "  <tbody>\n",
       "    <tr>\n",
       "      <th>0</th>\n",
       "      <td>FDA15</td>\n",
       "      <td>9.30</td>\n",
       "      <td>Low Fat</td>\n",
       "      <td>0.016047</td>\n",
       "      <td>Dairy</td>\n",
       "      <td>249.8092</td>\n",
       "      <td>OUT049</td>\n",
       "      <td>1999</td>\n",
       "      <td>Medium</td>\n",
       "      <td>Tier 1</td>\n",
       "      <td>Supermarket Type1</td>\n",
       "      <td>3735.1380</td>\n",
       "    </tr>\n",
       "    <tr>\n",
       "      <th>1</th>\n",
       "      <td>DRC01</td>\n",
       "      <td>5.92</td>\n",
       "      <td>Regular</td>\n",
       "      <td>0.019278</td>\n",
       "      <td>Soft Drinks</td>\n",
       "      <td>48.2692</td>\n",
       "      <td>OUT018</td>\n",
       "      <td>2009</td>\n",
       "      <td>Medium</td>\n",
       "      <td>Tier 3</td>\n",
       "      <td>Supermarket Type2</td>\n",
       "      <td>443.4228</td>\n",
       "    </tr>\n",
       "    <tr>\n",
       "      <th>2</th>\n",
       "      <td>FDN15</td>\n",
       "      <td>17.50</td>\n",
       "      <td>Low Fat</td>\n",
       "      <td>0.016760</td>\n",
       "      <td>Meat</td>\n",
       "      <td>141.6180</td>\n",
       "      <td>OUT049</td>\n",
       "      <td>1999</td>\n",
       "      <td>Medium</td>\n",
       "      <td>Tier 1</td>\n",
       "      <td>Supermarket Type1</td>\n",
       "      <td>2097.2700</td>\n",
       "    </tr>\n",
       "    <tr>\n",
       "      <th>3</th>\n",
       "      <td>FDX07</td>\n",
       "      <td>19.20</td>\n",
       "      <td>Regular</td>\n",
       "      <td>0.000000</td>\n",
       "      <td>Fruits and Vegetables</td>\n",
       "      <td>182.0950</td>\n",
       "      <td>OUT010</td>\n",
       "      <td>1998</td>\n",
       "      <td>NaN</td>\n",
       "      <td>Tier 3</td>\n",
       "      <td>Grocery Store</td>\n",
       "      <td>732.3800</td>\n",
       "    </tr>\n",
       "    <tr>\n",
       "      <th>4</th>\n",
       "      <td>NCD19</td>\n",
       "      <td>8.93</td>\n",
       "      <td>Low Fat</td>\n",
       "      <td>0.000000</td>\n",
       "      <td>Household</td>\n",
       "      <td>53.8614</td>\n",
       "      <td>OUT013</td>\n",
       "      <td>1987</td>\n",
       "      <td>High</td>\n",
       "      <td>Tier 3</td>\n",
       "      <td>Supermarket Type1</td>\n",
       "      <td>994.7052</td>\n",
       "    </tr>\n",
       "  </tbody>\n",
       "</table>\n",
       "</div>"
      ],
      "text/plain": [
       "  Item_Identifier  Item_Weight Item_Fat_Content  Item_Visibility  \\\n",
       "0           FDA15         9.30          Low Fat         0.016047   \n",
       "1           DRC01         5.92          Regular         0.019278   \n",
       "2           FDN15        17.50          Low Fat         0.016760   \n",
       "3           FDX07        19.20          Regular         0.000000   \n",
       "4           NCD19         8.93          Low Fat         0.000000   \n",
       "\n",
       "               Item_Type  Item_MRP Outlet_Identifier  \\\n",
       "0                  Dairy  249.8092            OUT049   \n",
       "1            Soft Drinks   48.2692            OUT018   \n",
       "2                   Meat  141.6180            OUT049   \n",
       "3  Fruits and Vegetables  182.0950            OUT010   \n",
       "4              Household   53.8614            OUT013   \n",
       "\n",
       "   Outlet_Establishment_Year Outlet_Size Outlet_Location_Type  \\\n",
       "0                       1999      Medium               Tier 1   \n",
       "1                       2009      Medium               Tier 3   \n",
       "2                       1999      Medium               Tier 1   \n",
       "3                       1998         NaN               Tier 3   \n",
       "4                       1987        High               Tier 3   \n",
       "\n",
       "         Outlet_Type  Item_Outlet_Sales  \n",
       "0  Supermarket Type1          3735.1380  \n",
       "1  Supermarket Type2           443.4228  \n",
       "2  Supermarket Type1          2097.2700  \n",
       "3      Grocery Store           732.3800  \n",
       "4  Supermarket Type1           994.7052  "
      ]
     },
     "execution_count": 7,
     "metadata": {},
     "output_type": "execute_result"
    }
   ],
   "source": [
    "train.head()"
   ]
  },
  {
   "cell_type": "code",
   "execution_count": 8,
   "metadata": {
    "ExecuteTime": {
     "end_time": "2020-12-05T19:15:45.565968Z",
     "start_time": "2020-12-05T19:15:45.482018Z"
    }
   },
   "outputs": [
    {
     "name": "stdout",
     "output_type": "stream",
     "text": [
      "Xtrain shape is (8523, 11)\n",
      "ytrain shape is (8523,)\n",
      "\n"
     ]
    }
   ],
   "source": [
    "## Extracting X and y from train dataset\n",
    "X = train.iloc[:,0:-1]\n",
    "y =train['Item_Outlet_Sales']\n",
    "print(\"Xtrain shape is {}\\nytrain shape is {}\\n\".format(X.shape,y.shape))"
   ]
  },
  {
   "cell_type": "code",
   "execution_count": 9,
   "metadata": {
    "ExecuteTime": {
     "end_time": "2020-12-05T19:15:45.769577Z",
     "start_time": "2020-12-05T19:15:45.569969Z"
    }
   },
   "outputs": [],
   "source": [
    "# Outlet_Establishment_year does not carry any significance so adding the age of Outlet\n",
    "# adding extra feature of Outlet_Age = max(Outlet_Establishment_Year)-(Outlet_Establishment_year)\n",
    "X['Outlet_Age']=X['Outlet_Establishment_Year'].max() - X['Outlet_Establishment_Year']"
   ]
  },
  {
   "cell_type": "code",
   "execution_count": 10,
   "metadata": {
    "ExecuteTime": {
     "end_time": "2020-12-05T19:15:45.911177Z",
     "start_time": "2020-12-05T19:15:45.772075Z"
    }
   },
   "outputs": [
    {
     "data": {
      "text/html": [
       "<div>\n",
       "<style scoped>\n",
       "    .dataframe tbody tr th:only-of-type {\n",
       "        vertical-align: middle;\n",
       "    }\n",
       "\n",
       "    .dataframe tbody tr th {\n",
       "        vertical-align: top;\n",
       "    }\n",
       "\n",
       "    .dataframe thead th {\n",
       "        text-align: right;\n",
       "    }\n",
       "</style>\n",
       "<table border=\"1\" class=\"dataframe\">\n",
       "  <thead>\n",
       "    <tr style=\"text-align: right;\">\n",
       "      <th></th>\n",
       "      <th>Item_Identifier</th>\n",
       "      <th>Item_Weight</th>\n",
       "      <th>Item_Fat_Content</th>\n",
       "      <th>Item_Visibility</th>\n",
       "      <th>Item_Type</th>\n",
       "      <th>Item_MRP</th>\n",
       "      <th>Outlet_Identifier</th>\n",
       "      <th>Outlet_Establishment_Year</th>\n",
       "      <th>Outlet_Size</th>\n",
       "      <th>Outlet_Location_Type</th>\n",
       "      <th>Outlet_Type</th>\n",
       "      <th>Outlet_Age</th>\n",
       "    </tr>\n",
       "  </thead>\n",
       "  <tbody>\n",
       "    <tr>\n",
       "      <th>0</th>\n",
       "      <td>FDA15</td>\n",
       "      <td>9.30</td>\n",
       "      <td>Low Fat</td>\n",
       "      <td>0.016047</td>\n",
       "      <td>Dairy</td>\n",
       "      <td>249.8092</td>\n",
       "      <td>OUT049</td>\n",
       "      <td>1999</td>\n",
       "      <td>Medium</td>\n",
       "      <td>Tier 1</td>\n",
       "      <td>Supermarket Type1</td>\n",
       "      <td>10</td>\n",
       "    </tr>\n",
       "    <tr>\n",
       "      <th>1</th>\n",
       "      <td>DRC01</td>\n",
       "      <td>5.92</td>\n",
       "      <td>Regular</td>\n",
       "      <td>0.019278</td>\n",
       "      <td>Soft Drinks</td>\n",
       "      <td>48.2692</td>\n",
       "      <td>OUT018</td>\n",
       "      <td>2009</td>\n",
       "      <td>Medium</td>\n",
       "      <td>Tier 3</td>\n",
       "      <td>Supermarket Type2</td>\n",
       "      <td>0</td>\n",
       "    </tr>\n",
       "    <tr>\n",
       "      <th>2</th>\n",
       "      <td>FDN15</td>\n",
       "      <td>17.50</td>\n",
       "      <td>Low Fat</td>\n",
       "      <td>0.016760</td>\n",
       "      <td>Meat</td>\n",
       "      <td>141.6180</td>\n",
       "      <td>OUT049</td>\n",
       "      <td>1999</td>\n",
       "      <td>Medium</td>\n",
       "      <td>Tier 1</td>\n",
       "      <td>Supermarket Type1</td>\n",
       "      <td>10</td>\n",
       "    </tr>\n",
       "    <tr>\n",
       "      <th>3</th>\n",
       "      <td>FDX07</td>\n",
       "      <td>19.20</td>\n",
       "      <td>Regular</td>\n",
       "      <td>0.000000</td>\n",
       "      <td>Fruits and Vegetables</td>\n",
       "      <td>182.0950</td>\n",
       "      <td>OUT010</td>\n",
       "      <td>1998</td>\n",
       "      <td>NaN</td>\n",
       "      <td>Tier 3</td>\n",
       "      <td>Grocery Store</td>\n",
       "      <td>11</td>\n",
       "    </tr>\n",
       "    <tr>\n",
       "      <th>4</th>\n",
       "      <td>NCD19</td>\n",
       "      <td>8.93</td>\n",
       "      <td>Low Fat</td>\n",
       "      <td>0.000000</td>\n",
       "      <td>Household</td>\n",
       "      <td>53.8614</td>\n",
       "      <td>OUT013</td>\n",
       "      <td>1987</td>\n",
       "      <td>High</td>\n",
       "      <td>Tier 3</td>\n",
       "      <td>Supermarket Type1</td>\n",
       "      <td>22</td>\n",
       "    </tr>\n",
       "  </tbody>\n",
       "</table>\n",
       "</div>"
      ],
      "text/plain": [
       "  Item_Identifier  Item_Weight Item_Fat_Content  Item_Visibility  \\\n",
       "0           FDA15         9.30          Low Fat         0.016047   \n",
       "1           DRC01         5.92          Regular         0.019278   \n",
       "2           FDN15        17.50          Low Fat         0.016760   \n",
       "3           FDX07        19.20          Regular         0.000000   \n",
       "4           NCD19         8.93          Low Fat         0.000000   \n",
       "\n",
       "               Item_Type  Item_MRP Outlet_Identifier  \\\n",
       "0                  Dairy  249.8092            OUT049   \n",
       "1            Soft Drinks   48.2692            OUT018   \n",
       "2                   Meat  141.6180            OUT049   \n",
       "3  Fruits and Vegetables  182.0950            OUT010   \n",
       "4              Household   53.8614            OUT013   \n",
       "\n",
       "   Outlet_Establishment_Year Outlet_Size Outlet_Location_Type  \\\n",
       "0                       1999      Medium               Tier 1   \n",
       "1                       2009      Medium               Tier 3   \n",
       "2                       1999      Medium               Tier 1   \n",
       "3                       1998         NaN               Tier 3   \n",
       "4                       1987        High               Tier 3   \n",
       "\n",
       "         Outlet_Type  Outlet_Age  \n",
       "0  Supermarket Type1          10  \n",
       "1  Supermarket Type2           0  \n",
       "2  Supermarket Type1          10  \n",
       "3      Grocery Store          11  \n",
       "4  Supermarket Type1          22  "
      ]
     },
     "execution_count": 10,
     "metadata": {},
     "output_type": "execute_result"
    }
   ],
   "source": [
    "X.head()"
   ]
  },
  {
   "cell_type": "code",
   "execution_count": 11,
   "metadata": {
    "ExecuteTime": {
     "end_time": "2020-12-05T19:15:46.238572Z",
     "start_time": "2020-12-05T19:15:45.914177Z"
    }
   },
   "outputs": [],
   "source": [
    "# at first droping item identifier , outlet_identifier , outlet establishment year\n",
    "X = X.drop(['Item_Identifier','Outlet_Identifier','Outlet_Establishment_Year'],axis=1)"
   ]
  },
  {
   "cell_type": "code",
   "execution_count": 12,
   "metadata": {
    "ExecuteTime": {
     "end_time": "2020-12-05T19:15:46.347174Z",
     "start_time": "2020-12-05T19:15:46.240567Z"
    }
   },
   "outputs": [],
   "source": [
    "### Item visibilty of 0 does not make any sense so imputing these 0 values with nan"
   ]
  },
  {
   "cell_type": "code",
   "execution_count": 13,
   "metadata": {
    "ExecuteTime": {
     "end_time": "2020-12-05T19:15:46.456721Z",
     "start_time": "2020-12-05T19:15:46.349166Z"
    }
   },
   "outputs": [],
   "source": [
    "X['Item_Visibility']=X['Item_Visibility'].mask(X['Item_Visibility']==0.0)"
   ]
  },
  {
   "cell_type": "code",
   "execution_count": 14,
   "metadata": {
    "ExecuteTime": {
     "end_time": "2020-12-05T19:15:46.580836Z",
     "start_time": "2020-12-05T19:15:46.458695Z"
    }
   },
   "outputs": [
    {
     "data": {
      "text/plain": [
       "Item_Weight             1463\n",
       "Item_Fat_Content           0\n",
       "Item_Visibility          526\n",
       "Item_Type                  0\n",
       "Item_MRP                   0\n",
       "Outlet_Size             2410\n",
       "Outlet_Location_Type       0\n",
       "Outlet_Type                0\n",
       "Outlet_Age                 0\n",
       "dtype: int64"
      ]
     },
     "execution_count": 14,
     "metadata": {},
     "output_type": "execute_result"
    }
   ],
   "source": [
    "# missing values\n",
    "X.isna().sum()"
   ]
  },
  {
   "cell_type": "code",
   "execution_count": 15,
   "metadata": {
    "ExecuteTime": {
     "end_time": "2020-12-05T19:15:46.689839Z",
     "start_time": "2020-12-05T19:15:46.583835Z"
    }
   },
   "outputs": [],
   "source": [
    "### missing values imputation"
   ]
  },
  {
   "cell_type": "code",
   "execution_count": 16,
   "metadata": {
    "ExecuteTime": {
     "end_time": "2020-12-05T19:15:46.844894Z",
     "start_time": "2020-12-05T19:15:46.692837Z"
    }
   },
   "outputs": [],
   "source": [
    "X['Item_Weight'].fillna(X['Item_Weight'].mean(),inplace=True)\n",
    "X['Outlet_Size'].fillna(X['Outlet_Size'].mode()[0],inplace=True)\n",
    "X['Item_Visibility'].fillna(X['Item_Visibility'].mean(),inplace=True)"
   ]
  },
  {
   "cell_type": "code",
   "execution_count": 17,
   "metadata": {
    "ExecuteTime": {
     "end_time": "2020-12-05T19:15:46.969438Z",
     "start_time": "2020-12-05T19:15:46.847887Z"
    }
   },
   "outputs": [
    {
     "data": {
      "text/plain": [
       "Item_Weight             0\n",
       "Item_Fat_Content        0\n",
       "Item_Visibility         0\n",
       "Item_Type               0\n",
       "Item_MRP                0\n",
       "Outlet_Size             0\n",
       "Outlet_Location_Type    0\n",
       "Outlet_Type             0\n",
       "Outlet_Age              0\n",
       "dtype: int64"
      ]
     },
     "execution_count": 17,
     "metadata": {},
     "output_type": "execute_result"
    }
   ],
   "source": [
    "X.isna().sum()\n"
   ]
  },
  {
   "cell_type": "code",
   "execution_count": 18,
   "metadata": {
    "ExecuteTime": {
     "end_time": "2020-12-05T19:15:47.092384Z",
     "start_time": "2020-12-05T19:15:46.971429Z"
    }
   },
   "outputs": [
    {
     "data": {
      "text/plain": [
       "Low Fat    5089\n",
       "Regular    2889\n",
       "LF          316\n",
       "reg         117\n",
       "low fat     112\n",
       "Name: Item_Fat_Content, dtype: int64"
      ]
     },
     "execution_count": 18,
     "metadata": {},
     "output_type": "execute_result"
    }
   ],
   "source": [
    "# checking the categorical variables\n",
    "X['Item_Fat_Content'].value_counts()"
   ]
  },
  {
   "cell_type": "code",
   "execution_count": 19,
   "metadata": {
    "ExecuteTime": {
     "end_time": "2020-12-05T19:15:47.234550Z",
     "start_time": "2020-12-05T19:15:47.095383Z"
    }
   },
   "outputs": [],
   "source": [
    "# Unifying categories to Low Fat and Regular only\n",
    "X['Item_Fat_Content'] = X['Item_Fat_Content'].replace({'reg':'Regular', 'LF':'Low Fat','low fat':'Low Fat'})"
   ]
  },
  {
   "cell_type": "code",
   "execution_count": 20,
   "metadata": {
    "ExecuteTime": {
     "end_time": "2020-12-05T19:15:47.359911Z",
     "start_time": "2020-12-05T19:15:47.236558Z"
    }
   },
   "outputs": [
    {
     "data": {
      "text/plain": [
       "Low Fat    5517\n",
       "Regular    3006\n",
       "Name: Item_Fat_Content, dtype: int64"
      ]
     },
     "execution_count": 20,
     "metadata": {},
     "output_type": "execute_result"
    }
   ],
   "source": [
    "X['Item_Fat_Content'].value_counts()"
   ]
  },
  {
   "cell_type": "code",
   "execution_count": 21,
   "metadata": {
    "ExecuteTime": {
     "end_time": "2020-12-05T19:15:47.578218Z",
     "start_time": "2020-12-05T19:15:47.361892Z"
    }
   },
   "outputs": [],
   "source": [
    "# Label encoding the categorical variables."
   ]
  },
  {
   "cell_type": "code",
   "execution_count": 22,
   "metadata": {
    "ExecuteTime": {
     "end_time": "2020-12-05T19:15:47.858522Z",
     "start_time": "2020-12-05T19:15:47.580190Z"
    }
   },
   "outputs": [
    {
     "data": {
      "text/html": [
       "<div>\n",
       "<style scoped>\n",
       "    .dataframe tbody tr th:only-of-type {\n",
       "        vertical-align: middle;\n",
       "    }\n",
       "\n",
       "    .dataframe tbody tr th {\n",
       "        vertical-align: top;\n",
       "    }\n",
       "\n",
       "    .dataframe thead th {\n",
       "        text-align: right;\n",
       "    }\n",
       "</style>\n",
       "<table border=\"1\" class=\"dataframe\">\n",
       "  <thead>\n",
       "    <tr style=\"text-align: right;\">\n",
       "      <th></th>\n",
       "      <th>Item_Weight</th>\n",
       "      <th>Item_Fat_Content</th>\n",
       "      <th>Item_Visibility</th>\n",
       "      <th>Item_Type</th>\n",
       "      <th>Item_MRP</th>\n",
       "      <th>Outlet_Size</th>\n",
       "      <th>Outlet_Location_Type</th>\n",
       "      <th>Outlet_Type</th>\n",
       "      <th>Outlet_Age</th>\n",
       "    </tr>\n",
       "  </thead>\n",
       "  <tbody>\n",
       "    <tr>\n",
       "      <th>0</th>\n",
       "      <td>9.30</td>\n",
       "      <td>0</td>\n",
       "      <td>0.016047</td>\n",
       "      <td>4</td>\n",
       "      <td>249.8092</td>\n",
       "      <td>1</td>\n",
       "      <td>0</td>\n",
       "      <td>1</td>\n",
       "      <td>10</td>\n",
       "    </tr>\n",
       "    <tr>\n",
       "      <th>1</th>\n",
       "      <td>5.92</td>\n",
       "      <td>1</td>\n",
       "      <td>0.019278</td>\n",
       "      <td>14</td>\n",
       "      <td>48.2692</td>\n",
       "      <td>1</td>\n",
       "      <td>2</td>\n",
       "      <td>2</td>\n",
       "      <td>0</td>\n",
       "    </tr>\n",
       "    <tr>\n",
       "      <th>2</th>\n",
       "      <td>17.50</td>\n",
       "      <td>0</td>\n",
       "      <td>0.016760</td>\n",
       "      <td>10</td>\n",
       "      <td>141.6180</td>\n",
       "      <td>1</td>\n",
       "      <td>0</td>\n",
       "      <td>1</td>\n",
       "      <td>10</td>\n",
       "    </tr>\n",
       "    <tr>\n",
       "      <th>3</th>\n",
       "      <td>19.20</td>\n",
       "      <td>1</td>\n",
       "      <td>0.070482</td>\n",
       "      <td>6</td>\n",
       "      <td>182.0950</td>\n",
       "      <td>1</td>\n",
       "      <td>2</td>\n",
       "      <td>0</td>\n",
       "      <td>11</td>\n",
       "    </tr>\n",
       "    <tr>\n",
       "      <th>4</th>\n",
       "      <td>8.93</td>\n",
       "      <td>0</td>\n",
       "      <td>0.070482</td>\n",
       "      <td>9</td>\n",
       "      <td>53.8614</td>\n",
       "      <td>0</td>\n",
       "      <td>2</td>\n",
       "      <td>1</td>\n",
       "      <td>22</td>\n",
       "    </tr>\n",
       "  </tbody>\n",
       "</table>\n",
       "</div>"
      ],
      "text/plain": [
       "   Item_Weight  Item_Fat_Content  Item_Visibility  Item_Type  Item_MRP  \\\n",
       "0         9.30                 0         0.016047          4  249.8092   \n",
       "1         5.92                 1         0.019278         14   48.2692   \n",
       "2        17.50                 0         0.016760         10  141.6180   \n",
       "3        19.20                 1         0.070482          6  182.0950   \n",
       "4         8.93                 0         0.070482          9   53.8614   \n",
       "\n",
       "   Outlet_Size  Outlet_Location_Type  Outlet_Type  Outlet_Age  \n",
       "0            1                     0            1          10  \n",
       "1            1                     2            2           0  \n",
       "2            1                     0            1          10  \n",
       "3            1                     2            0          11  \n",
       "4            0                     2            1          22  "
      ]
     },
     "execution_count": 22,
     "metadata": {},
     "output_type": "execute_result"
    }
   ],
   "source": [
    "# Import label encoder \n",
    "from sklearn import preprocessing\n",
    "# label_encoder object knows how to understand word labels. \n",
    "label_encoder = preprocessing.LabelEncoder()\n",
    "# Encode labels in column 'Country'. \n",
    "X['Item_Fat_Content']=label_encoder.fit_transform(X['Item_Fat_Content']) \n",
    "#,'Item_Type','Outlet_Size','Outlet_Location_Type','Outlet_Type'\n",
    "X['Outlet_Size']=label_encoder.fit_transform(X['Outlet_Size'])\n",
    "X['Outlet_Location_Type']=label_encoder.fit_transform(X['Outlet_Location_Type'])\n",
    "X['Outlet_Type']=label_encoder.fit_transform(X['Outlet_Type'])\n",
    "X['Item_Type']=label_encoder.fit_transform(X['Item_Type'])\n",
    "X.head()"
   ]
  },
  {
   "cell_type": "code",
   "execution_count": 23,
   "metadata": {
    "ExecuteTime": {
     "end_time": "2020-12-05T19:15:48.188498Z",
     "start_time": "2020-12-05T19:15:47.865516Z"
    }
   },
   "outputs": [
    {
     "data": {
      "text/html": [
       "<div>\n",
       "<style scoped>\n",
       "    .dataframe tbody tr th:only-of-type {\n",
       "        vertical-align: middle;\n",
       "    }\n",
       "\n",
       "    .dataframe tbody tr th {\n",
       "        vertical-align: top;\n",
       "    }\n",
       "\n",
       "    .dataframe thead th {\n",
       "        text-align: right;\n",
       "    }\n",
       "</style>\n",
       "<table border=\"1\" class=\"dataframe\">\n",
       "  <thead>\n",
       "    <tr style=\"text-align: right;\">\n",
       "      <th></th>\n",
       "      <th>Item_Weight</th>\n",
       "      <th>Item_Fat_Content</th>\n",
       "      <th>Item_Visibility</th>\n",
       "      <th>Item_Type</th>\n",
       "      <th>Item_MRP</th>\n",
       "      <th>Outlet_Size</th>\n",
       "      <th>Outlet_Location_Type</th>\n",
       "      <th>Outlet_Type</th>\n",
       "      <th>Outlet_Age</th>\n",
       "    </tr>\n",
       "  </thead>\n",
       "  <tbody>\n",
       "    <tr>\n",
       "      <th>Item_Weight</th>\n",
       "      <td>1.000000</td>\n",
       "      <td>-0.021157</td>\n",
       "      <td>-0.017763</td>\n",
       "      <td>0.028015</td>\n",
       "      <td>0.024756</td>\n",
       "      <td>-0.007225</td>\n",
       "      <td>0.004088</td>\n",
       "      <td>-0.000566</td>\n",
       "      <td>0.008301</td>\n",
       "    </tr>\n",
       "    <tr>\n",
       "      <th>Item_Fat_Content</th>\n",
       "      <td>-0.021157</td>\n",
       "      <td>1.000000</td>\n",
       "      <td>0.049915</td>\n",
       "      <td>-0.139434</td>\n",
       "      <td>0.006063</td>\n",
       "      <td>-0.000622</td>\n",
       "      <td>-0.001598</td>\n",
       "      <td>0.002199</td>\n",
       "      <td>-0.003151</td>\n",
       "    </tr>\n",
       "    <tr>\n",
       "      <th>Item_Visibility</th>\n",
       "      <td>-0.017763</td>\n",
       "      <td>0.049915</td>\n",
       "      <td>1.000000</td>\n",
       "      <td>-0.035922</td>\n",
       "      <td>-0.005515</td>\n",
       "      <td>0.072297</td>\n",
       "      <td>-0.027742</td>\n",
       "      <td>-0.179380</td>\n",
       "      <td>0.078316</td>\n",
       "    </tr>\n",
       "    <tr>\n",
       "      <th>Item_Type</th>\n",
       "      <td>0.028015</td>\n",
       "      <td>-0.139434</td>\n",
       "      <td>-0.035922</td>\n",
       "      <td>1.000000</td>\n",
       "      <td>0.032651</td>\n",
       "      <td>-0.001859</td>\n",
       "      <td>0.003084</td>\n",
       "      <td>0.003053</td>\n",
       "      <td>-0.004970</td>\n",
       "    </tr>\n",
       "    <tr>\n",
       "      <th>Item_MRP</th>\n",
       "      <td>0.024756</td>\n",
       "      <td>0.006063</td>\n",
       "      <td>-0.005515</td>\n",
       "      <td>0.032651</td>\n",
       "      <td>1.000000</td>\n",
       "      <td>0.006059</td>\n",
       "      <td>0.000232</td>\n",
       "      <td>-0.001975</td>\n",
       "      <td>-0.005020</td>\n",
       "    </tr>\n",
       "    <tr>\n",
       "      <th>Outlet_Size</th>\n",
       "      <td>-0.007225</td>\n",
       "      <td>-0.000622</td>\n",
       "      <td>0.072297</td>\n",
       "      <td>-0.001859</td>\n",
       "      <td>0.006059</td>\n",
       "      <td>1.000000</td>\n",
       "      <td>-0.614311</td>\n",
       "      <td>-0.201483</td>\n",
       "      <td>-0.193389</td>\n",
       "    </tr>\n",
       "    <tr>\n",
       "      <th>Outlet_Location_Type</th>\n",
       "      <td>0.004088</td>\n",
       "      <td>-0.001598</td>\n",
       "      <td>-0.027742</td>\n",
       "      <td>0.003084</td>\n",
       "      <td>0.000232</td>\n",
       "      <td>-0.614311</td>\n",
       "      <td>1.000000</td>\n",
       "      <td>0.467219</td>\n",
       "      <td>0.089216</td>\n",
       "    </tr>\n",
       "    <tr>\n",
       "      <th>Outlet_Type</th>\n",
       "      <td>-0.000566</td>\n",
       "      <td>0.002199</td>\n",
       "      <td>-0.179380</td>\n",
       "      <td>0.003053</td>\n",
       "      <td>-0.001975</td>\n",
       "      <td>-0.201483</td>\n",
       "      <td>0.467219</td>\n",
       "      <td>1.000000</td>\n",
       "      <td>0.122304</td>\n",
       "    </tr>\n",
       "    <tr>\n",
       "      <th>Outlet_Age</th>\n",
       "      <td>0.008301</td>\n",
       "      <td>-0.003151</td>\n",
       "      <td>0.078316</td>\n",
       "      <td>-0.004970</td>\n",
       "      <td>-0.005020</td>\n",
       "      <td>-0.193389</td>\n",
       "      <td>0.089216</td>\n",
       "      <td>0.122304</td>\n",
       "      <td>1.000000</td>\n",
       "    </tr>\n",
       "  </tbody>\n",
       "</table>\n",
       "</div>"
      ],
      "text/plain": [
       "                      Item_Weight  Item_Fat_Content  Item_Visibility  \\\n",
       "Item_Weight              1.000000         -0.021157        -0.017763   \n",
       "Item_Fat_Content        -0.021157          1.000000         0.049915   \n",
       "Item_Visibility         -0.017763          0.049915         1.000000   \n",
       "Item_Type                0.028015         -0.139434        -0.035922   \n",
       "Item_MRP                 0.024756          0.006063        -0.005515   \n",
       "Outlet_Size             -0.007225         -0.000622         0.072297   \n",
       "Outlet_Location_Type     0.004088         -0.001598        -0.027742   \n",
       "Outlet_Type             -0.000566          0.002199        -0.179380   \n",
       "Outlet_Age               0.008301         -0.003151         0.078316   \n",
       "\n",
       "                      Item_Type  Item_MRP  Outlet_Size  Outlet_Location_Type  \\\n",
       "Item_Weight            0.028015  0.024756    -0.007225              0.004088   \n",
       "Item_Fat_Content      -0.139434  0.006063    -0.000622             -0.001598   \n",
       "Item_Visibility       -0.035922 -0.005515     0.072297             -0.027742   \n",
       "Item_Type              1.000000  0.032651    -0.001859              0.003084   \n",
       "Item_MRP               0.032651  1.000000     0.006059              0.000232   \n",
       "Outlet_Size           -0.001859  0.006059     1.000000             -0.614311   \n",
       "Outlet_Location_Type   0.003084  0.000232    -0.614311              1.000000   \n",
       "Outlet_Type            0.003053 -0.001975    -0.201483              0.467219   \n",
       "Outlet_Age            -0.004970 -0.005020    -0.193389              0.089216   \n",
       "\n",
       "                      Outlet_Type  Outlet_Age  \n",
       "Item_Weight             -0.000566    0.008301  \n",
       "Item_Fat_Content         0.002199   -0.003151  \n",
       "Item_Visibility         -0.179380    0.078316  \n",
       "Item_Type                0.003053   -0.004970  \n",
       "Item_MRP                -0.001975   -0.005020  \n",
       "Outlet_Size             -0.201483   -0.193389  \n",
       "Outlet_Location_Type     0.467219    0.089216  \n",
       "Outlet_Type              1.000000    0.122304  \n",
       "Outlet_Age               0.122304    1.000000  "
      ]
     },
     "execution_count": 23,
     "metadata": {},
     "output_type": "execute_result"
    }
   ],
   "source": [
    "### checking correlation to check if there is any highly correlated variable\n",
    "X.corr()"
   ]
  },
  {
   "cell_type": "code",
   "execution_count": 24,
   "metadata": {
    "ExecuteTime": {
     "end_time": "2020-12-05T19:15:48.422010Z",
     "start_time": "2020-12-05T19:15:48.193497Z"
    }
   },
   "outputs": [
    {
     "name": "stdout",
     "output_type": "stream",
     "text": [
      "X shape is (8523, 9) \n",
      "y shape is (8523,) \n",
      "\n"
     ]
    }
   ],
   "source": [
    "print(\"X shape is {} \\ny shape is {} \\n\".format(X.shape,y.shape))"
   ]
  },
  {
   "cell_type": "code",
   "execution_count": 25,
   "metadata": {
    "ExecuteTime": {
     "end_time": "2020-12-05T19:15:48.638754Z",
     "start_time": "2020-12-05T19:15:48.425004Z"
    }
   },
   "outputs": [
    {
     "data": {
      "text/plain": [
       "array([[0.28252456, 0.        , 0.03839895, 0.26666667, 0.92750715,\n",
       "        0.5       , 0.        , 0.33333333, 0.41666667],\n",
       "       [0.08127419, 1.        , 0.04834585, 0.93333333, 0.0720684 ,\n",
       "        0.5       , 1.        , 0.66666667, 0.        ],\n",
       "       [0.77076511, 0.        , 0.04059334, 0.66666667, 0.46828841,\n",
       "        0.5       , 0.        , 0.33333333, 0.41666667],\n",
       "       [0.87198571, 1.        , 0.20598459, 0.4       , 0.64009348,\n",
       "        0.5       , 1.        , 0.        , 0.45833333],\n",
       "       [0.26049419, 0.        , 0.20598459, 0.6       , 0.09580456,\n",
       "        0.        , 1.        , 0.33333333, 0.91666667]])"
      ]
     },
     "execution_count": 25,
     "metadata": {},
     "output_type": "execute_result"
    }
   ],
   "source": [
    "#normalizing the X from 0 to 1 using MinMaxScalar\n",
    "from sklearn.preprocessing import MinMaxScaler\n",
    "min_max_scaler=MinMaxScaler()\n",
    "X=min_max_scaler.fit_transform(X)\n",
    "X[:5]"
   ]
  },
  {
   "cell_type": "code",
   "execution_count": 26,
   "metadata": {
    "ExecuteTime": {
     "end_time": "2020-12-05T19:15:48.902090Z",
     "start_time": "2020-12-05T19:15:48.641753Z"
    }
   },
   "outputs": [
    {
     "name": "stdout",
     "output_type": "stream",
     "text": [
      "(5966, 9) (5966,)\n",
      "(2557, 9) (2557,)\n"
     ]
    }
   ],
   "source": [
    "# Test Train split \n",
    "from sklearn.model_selection import train_test_split\n",
    "X_train,X_test,y_train,y_test= train_test_split(X,y, test_size = 0.3 ,shuffle = True,random_state =0)\n",
    "print(X_train.shape,y_train.shape);print(X_test.shape,y_test.shape)"
   ]
  },
  {
   "cell_type": "code",
   "execution_count": 27,
   "metadata": {
    "ExecuteTime": {
     "end_time": "2020-12-05T19:15:52.416385Z",
     "start_time": "2020-12-05T19:15:48.904331Z"
    }
   },
   "outputs": [
    {
     "name": "stderr",
     "output_type": "stream",
     "text": [
      "Using TensorFlow backend.\n"
     ]
    }
   ],
   "source": [
    "# Building the Model using Keras\n",
    "from keras.models import Sequential\n",
    "# importing different layers from keras\n",
    "from keras.layers import InputLayer, Dense , Dropout\n",
    "from keras.optimizers import Adam,RMSprop\n",
    "from keras.regularizers import l2"
   ]
  },
  {
   "cell_type": "code",
   "execution_count": 28,
   "metadata": {
    "ExecuteTime": {
     "end_time": "2020-12-05T19:15:52.432374Z",
     "start_time": "2020-12-05T19:15:52.419383Z"
    }
   },
   "outputs": [],
   "source": [
    "# defining the input and output neurons\n",
    "input_neurons = X_train.shape[1]\n",
    "output_neurons = 1"
   ]
  },
  {
   "cell_type": "code",
   "execution_count": 29,
   "metadata": {
    "ExecuteTime": {
     "end_time": "2020-12-05T19:15:52.618124Z",
     "start_time": "2020-12-05T19:15:52.437372Z"
    }
   },
   "outputs": [
    {
     "name": "stdout",
     "output_type": "stream",
     "text": [
      "Model: \"sequential_1\"\n",
      "_________________________________________________________________\n",
      "Layer (type)                 Output Shape              Param #   \n",
      "=================================================================\n",
      "Input_Layer1 (Dense)         (None, 500)               5000      \n",
      "_________________________________________________________________\n",
      "hidden_Layer1 (Dense)        (None, 100)               50100     \n",
      "_________________________________________________________________\n",
      "dropout_1 (Dropout)          (None, 100)               0         \n",
      "_________________________________________________________________\n",
      "hidden_Layer2 (Dense)        (None, 50)                5050      \n",
      "_________________________________________________________________\n",
      "output_Layer (Dense)         (None, 1)                 51        \n",
      "=================================================================\n",
      "Total params: 60,201\n",
      "Trainable params: 60,201\n",
      "Non-trainable params: 0\n",
      "_________________________________________________________________\n"
     ]
    }
   ],
   "source": [
    "model = Sequential()\n",
    "model.add(InputLayer(input_shape=(input_neurons,)))\n",
    "model.add(Dense(units=500,activation='relu',name='Input_Layer1'))\n",
    "model.add(Dense(units=100,activation='relu',name='hidden_Layer1'))\n",
    "model.add(Dropout(0.5))\n",
    "model.add(Dense(units=50,activation='relu',name='hidden_Layer2'))\n",
    "model.add(Dense(units=output_neurons,activation='linear',name ='output_Layer'))\n",
    "model.compile(loss= \"MSE\" , optimizer=\"RMSprop\", metrics=[\"MAE\"])\n",
    "model.summary()\n"
   ]
  },
  {
   "cell_type": "code",
   "execution_count": 31,
   "metadata": {
    "ExecuteTime": {
     "end_time": "2020-12-05T19:18:01.667822Z",
     "start_time": "2020-12-05T19:17:10.358390Z"
    }
   },
   "outputs": [
    {
     "name": "stdout",
     "output_type": "stream",
     "text": [
      "Train on 5966 samples, validate on 2557 samples\n",
      "Epoch 1/500\n",
      "5966/5966 [==============================] - 0s 43us/step - loss: 7552145.0000 - MAE: 2167.5083 - val_loss: 7943217.5000 - val_MAE: 2213.1902\n",
      "Epoch 2/500\n",
      "5966/5966 [==============================] - 0s 17us/step - loss: 7550425.5000 - MAE: 2167.1296 - val_loss: 7941076.5000 - val_MAE: 2212.7241\n",
      "Epoch 3/500\n",
      "5966/5966 [==============================] - 0s 17us/step - loss: 7548353.5000 - MAE: 2166.6687 - val_loss: 7938379.0000 - val_MAE: 2212.1357\n",
      "Epoch 4/500\n",
      "5966/5966 [==============================] - 0s 20us/step - loss: 7545654.0000 - MAE: 2166.0654 - val_loss: 7935051.5000 - val_MAE: 2211.4106\n",
      "Epoch 5/500\n",
      "5966/5966 [==============================] - 0s 19us/step - loss: 7542359.0000 - MAE: 2165.3311 - val_loss: 7930947.5000 - val_MAE: 2210.5161\n",
      "Epoch 6/500\n",
      "5966/5966 [==============================] - 0s 17us/step - loss: 7538328.0000 - MAE: 2164.4226 - val_loss: 7925933.0000 - val_MAE: 2209.4231\n",
      "Epoch 7/500\n",
      "5966/5966 [==============================] - 0s 17us/step - loss: 7533451.5000 - MAE: 2163.3352 - val_loss: 7919889.0000 - val_MAE: 2208.1064\n",
      "Epoch 8/500\n",
      "5966/5966 [==============================] - 0s 18us/step - loss: 7527445.0000 - MAE: 2161.9966 - val_loss: 7912660.0000 - val_MAE: 2206.5320\n",
      "Epoch 9/500\n",
      "5966/5966 [==============================] - 0s 17us/step - loss: 7520262.0000 - MAE: 2160.3938 - val_loss: 7904128.5000 - val_MAE: 2204.6733\n",
      "Epoch 10/500\n",
      "5966/5966 [==============================] - 0s 17us/step - loss: 7511777.0000 - MAE: 2158.5132 - val_loss: 7894147.0000 - val_MAE: 2202.4966\n",
      "Epoch 11/500\n",
      "5966/5966 [==============================] - 0s 18us/step - loss: 7502334.0000 - MAE: 2156.3650 - val_loss: 7882568.0000 - val_MAE: 2199.9746\n",
      "Epoch 12/500\n",
      "5966/5966 [==============================] - 0s 18us/step - loss: 7491079.5000 - MAE: 2153.8701 - val_loss: 7869306.5000 - val_MAE: 2197.0830\n",
      "Epoch 13/500\n",
      "5966/5966 [==============================] - 0s 17us/step - loss: 7478067.5000 - MAE: 2150.9702 - val_loss: 7854328.5000 - val_MAE: 2193.8137\n",
      "Epoch 14/500\n",
      "5966/5966 [==============================] - 0s 19us/step - loss: 7463104.0000 - MAE: 2147.6697 - val_loss: 7837537.5000 - val_MAE: 2190.1438\n",
      "Epoch 15/500\n",
      "5966/5966 [==============================] - 0s 18us/step - loss: 7447330.5000 - MAE: 2144.1060 - val_loss: 7818932.5000 - val_MAE: 2186.0723\n",
      "Epoch 16/500\n",
      "5966/5966 [==============================] - 0s 19us/step - loss: 7428490.0000 - MAE: 2139.9727 - val_loss: 7798292.0000 - val_MAE: 2181.5498\n",
      "Epoch 17/500\n",
      "5966/5966 [==============================] - 0s 22us/step - loss: 7409064.0000 - MAE: 2135.5332 - val_loss: 7775817.0000 - val_MAE: 2176.6162\n",
      "Epoch 18/500\n",
      "5966/5966 [==============================] - 0s 19us/step - loss: 7386865.0000 - MAE: 2130.5574 - val_loss: 7751353.0000 - val_MAE: 2171.2444\n",
      "Epoch 19/500\n",
      "5966/5966 [==============================] - 0s 17us/step - loss: 7362806.5000 - MAE: 2125.1975 - val_loss: 7724896.0000 - val_MAE: 2165.4346\n",
      "Epoch 20/500\n",
      "5966/5966 [==============================] - 0s 17us/step - loss: 7338493.5000 - MAE: 2119.6895 - val_loss: 7696586.5000 - val_MAE: 2159.2095\n",
      "Epoch 21/500\n",
      "5966/5966 [==============================] - 0s 17us/step - loss: 7309337.5000 - MAE: 2113.0376 - val_loss: 7666094.0000 - val_MAE: 2152.4932\n",
      "Epoch 22/500\n",
      "5966/5966 [==============================] - 0s 20us/step - loss: 7279493.5000 - MAE: 2106.3337 - val_loss: 7633561.0000 - val_MAE: 2145.3101\n",
      "Epoch 23/500\n",
      "5966/5966 [==============================] - 0s 22us/step - loss: 7248865.5000 - MAE: 2099.4907 - val_loss: 7599108.5000 - val_MAE: 2137.6865\n",
      "Epoch 24/500\n",
      "5966/5966 [==============================] - 0s 19us/step - loss: 7216301.5000 - MAE: 2092.0308 - val_loss: 7562657.5000 - val_MAE: 2129.6006\n",
      "Epoch 25/500\n",
      "5966/5966 [==============================] - 0s 18us/step - loss: 7179798.5000 - MAE: 2083.8828 - val_loss: 7524020.5000 - val_MAE: 2121.0369\n",
      "Epoch 26/500\n",
      "5966/5966 [==============================] - 0s 18us/step - loss: 7141408.5000 - MAE: 2075.3984 - val_loss: 7483264.5000 - val_MAE: 2112.0137\n",
      "Epoch 27/500\n",
      "5966/5966 [==============================] - 0s 20us/step - loss: 7101406.5000 - MAE: 2066.3879 - val_loss: 7440377.5000 - val_MAE: 2102.5212\n",
      "Epoch 28/500\n",
      "5966/5966 [==============================] - 0s 20us/step - loss: 7059967.0000 - MAE: 2057.2041 - val_loss: 7395417.5000 - val_MAE: 2092.6243\n",
      "Epoch 29/500\n",
      "5966/5966 [==============================] - 0s 20us/step - loss: 7018095.0000 - MAE: 2047.5159 - val_loss: 7348490.0000 - val_MAE: 2082.3428\n",
      "Epoch 30/500\n",
      "5966/5966 [==============================] - 0s 19us/step - loss: 6971775.0000 - MAE: 2037.3330 - val_loss: 7299394.0000 - val_MAE: 2071.6521\n",
      "Epoch 31/500\n",
      "5966/5966 [==============================] - 0s 21us/step - loss: 6922414.5000 - MAE: 2026.2571 - val_loss: 7248108.5000 - val_MAE: 2060.5881\n",
      "Epoch 32/500\n",
      "5966/5966 [==============================] - 0s 18us/step - loss: 6876746.0000 - MAE: 2016.1617 - val_loss: 7194979.0000 - val_MAE: 2049.2324\n",
      "Epoch 33/500\n",
      "5966/5966 [==============================] - 0s 17us/step - loss: 6822797.0000 - MAE: 2004.6057 - val_loss: 7139640.5000 - val_MAE: 2037.4832\n",
      "Epoch 34/500\n",
      "5966/5966 [==============================] - 0s 20us/step - loss: 6765117.5000 - MAE: 1992.0588 - val_loss: 7081995.0000 - val_MAE: 2025.3015\n",
      "Epoch 35/500\n",
      "5966/5966 [==============================] - 0s 18us/step - loss: 6712241.5000 - MAE: 1980.6217 - val_loss: 7022502.5000 - val_MAE: 2012.7843\n",
      "Epoch 36/500\n",
      "5966/5966 [==============================] - 0s 18us/step - loss: 6656616.0000 - MAE: 1967.5365 - val_loss: 6961084.0000 - val_MAE: 1999.9462\n",
      "Epoch 37/500\n",
      "5966/5966 [==============================] - 0s 20us/step - loss: 6587874.5000 - MAE: 1953.6097 - val_loss: 6897222.5000 - val_MAE: 1986.5848\n",
      "Epoch 38/500\n",
      "5966/5966 [==============================] - 0s 19us/step - loss: 6533769.5000 - MAE: 1941.2238 - val_loss: 6831828.5000 - val_MAE: 1972.8853\n",
      "Epoch 39/500\n",
      "5966/5966 [==============================] - 0s 17us/step - loss: 6467678.5000 - MAE: 1927.5737 - val_loss: 6764300.5000 - val_MAE: 1958.7245\n",
      "Epoch 40/500\n",
      "5966/5966 [==============================] - 0s 18us/step - loss: 6399749.5000 - MAE: 1913.3712 - val_loss: 6694752.5000 - val_MAE: 1944.1302\n",
      "Epoch 41/500\n",
      "5966/5966 [==============================] - 0s 18us/step - loss: 6335252.0000 - MAE: 1898.2754 - val_loss: 6623563.0000 - val_MAE: 1929.2904\n",
      "Epoch 42/500\n",
      "5966/5966 [==============================] - 0s 17us/step - loss: 6263810.5000 - MAE: 1884.4053 - val_loss: 6550359.0000 - val_MAE: 1914.1017\n",
      "Epoch 43/500\n",
      "5966/5966 [==============================] - 0s 16us/step - loss: 6193964.0000 - MAE: 1868.6891 - val_loss: 6475485.5000 - val_MAE: 1898.7137\n",
      "Epoch 44/500\n",
      "5966/5966 [==============================] - 0s 16us/step - loss: 6117017.5000 - MAE: 1852.8572 - val_loss: 6398716.5000 - val_MAE: 1883.0090\n",
      "Epoch 45/500\n",
      "5966/5966 [==============================] - 0s 17us/step - loss: 6046699.5000 - MAE: 1837.3068 - val_loss: 6320480.5000 - val_MAE: 1867.0248\n",
      "Epoch 46/500\n",
      "5966/5966 [==============================] - 0s 16us/step - loss: 5973635.0000 - MAE: 1822.6122 - val_loss: 6240732.0000 - val_MAE: 1850.8840\n",
      "Epoch 47/500\n",
      "5966/5966 [==============================] - 0s 17us/step - loss: 5898683.5000 - MAE: 1806.3909 - val_loss: 6159608.0000 - val_MAE: 1834.6562\n",
      "Epoch 48/500\n",
      "5966/5966 [==============================] - 0s 18us/step - loss: 5816949.5000 - MAE: 1789.7106 - val_loss: 6076877.0000 - val_MAE: 1818.1658\n",
      "Epoch 49/500\n",
      "5966/5966 [==============================] - 0s 18us/step - loss: 5740167.0000 - MAE: 1772.8832 - val_loss: 5992926.0000 - val_MAE: 1801.5753\n",
      "Epoch 50/500\n",
      "5966/5966 [==============================] - 0s 18us/step - loss: 5645041.5000 - MAE: 1753.9425 - val_loss: 5907164.0000 - val_MAE: 1784.6852\n",
      "Epoch 51/500\n",
      "5966/5966 [==============================] - 0s 16us/step - loss: 5576837.0000 - MAE: 1739.8611 - val_loss: 5820803.5000 - val_MAE: 1767.7626\n",
      "Epoch 52/500\n",
      "5966/5966 [==============================] - 0s 16us/step - loss: 5486682.0000 - MAE: 1721.6512 - val_loss: 5733113.5000 - val_MAE: 1750.6576\n",
      "Epoch 53/500\n",
      "5966/5966 [==============================] - 0s 17us/step - loss: 5396143.5000 - MAE: 1701.8994 - val_loss: 5644282.0000 - val_MAE: 1733.3774\n"
     ]
    },
    {
     "name": "stdout",
     "output_type": "stream",
     "text": [
      "Epoch 54/500\n",
      "5966/5966 [==============================] - 0s 16us/step - loss: 5320279.5000 - MAE: 1687.2472 - val_loss: 5554897.0000 - val_MAE: 1716.1598\n",
      "Epoch 55/500\n",
      "5966/5966 [==============================] - 0s 16us/step - loss: 5231568.5000 - MAE: 1668.8242 - val_loss: 5464679.0000 - val_MAE: 1698.9772\n",
      "Epoch 56/500\n",
      "5966/5966 [==============================] - 0s 15us/step - loss: 5164988.0000 - MAE: 1654.2700 - val_loss: 5374462.5000 - val_MAE: 1681.8544\n",
      "Epoch 57/500\n",
      "5966/5966 [==============================] - 0s 17us/step - loss: 5054418.0000 - MAE: 1634.6830 - val_loss: 5282860.0000 - val_MAE: 1664.5660\n",
      "Epoch 58/500\n",
      "5966/5966 [==============================] - 0s 16us/step - loss: 4978385.5000 - MAE: 1616.9357 - val_loss: 5191313.5000 - val_MAE: 1647.3602\n",
      "Epoch 59/500\n",
      "5966/5966 [==============================] - 0s 16us/step - loss: 4883179.0000 - MAE: 1600.7504 - val_loss: 5099231.0000 - val_MAE: 1630.2280\n",
      "Epoch 60/500\n",
      "5966/5966 [==============================] - 0s 18us/step - loss: 4801433.0000 - MAE: 1583.2192 - val_loss: 5007194.0000 - val_MAE: 1613.1146\n",
      "Epoch 61/500\n",
      "5966/5966 [==============================] - 0s 16us/step - loss: 4718542.0000 - MAE: 1566.7281 - val_loss: 4915271.0000 - val_MAE: 1596.1544\n",
      "Epoch 62/500\n",
      "5966/5966 [==============================] - 0s 16us/step - loss: 4618910.0000 - MAE: 1547.7368 - val_loss: 4823370.0000 - val_MAE: 1579.2502\n",
      "Epoch 63/500\n",
      "5966/5966 [==============================] - 0s 16us/step - loss: 4532127.0000 - MAE: 1530.0699 - val_loss: 4731501.0000 - val_MAE: 1562.5297\n",
      "Epoch 64/500\n",
      "5966/5966 [==============================] - 0s 16us/step - loss: 4465695.0000 - MAE: 1518.1460 - val_loss: 4640640.5000 - val_MAE: 1546.3314\n",
      "Epoch 65/500\n",
      "5966/5966 [==============================] - 0s 16us/step - loss: 4374983.5000 - MAE: 1499.9205 - val_loss: 4549984.0000 - val_MAE: 1530.4507\n",
      "Epoch 66/500\n",
      "5966/5966 [==============================] - 0s 15us/step - loss: 4272227.0000 - MAE: 1480.5432 - val_loss: 4459524.0000 - val_MAE: 1514.8403\n",
      "Epoch 67/500\n",
      "5966/5966 [==============================] - 0s 17us/step - loss: 4204463.5000 - MAE: 1466.7726 - val_loss: 4370682.5000 - val_MAE: 1499.5862\n",
      "Epoch 68/500\n",
      "5966/5966 [==============================] - 0s 17us/step - loss: 4104218.7500 - MAE: 1448.5776 - val_loss: 4282391.5000 - val_MAE: 1484.7153\n",
      "Epoch 69/500\n",
      "5966/5966 [==============================] - 0s 17us/step - loss: 4036607.0000 - MAE: 1438.3790 - val_loss: 4195889.5000 - val_MAE: 1470.2012\n",
      "Epoch 70/500\n",
      "5966/5966 [==============================] - 0s 17us/step - loss: 3935721.7500 - MAE: 1421.7169 - val_loss: 4110431.0000 - val_MAE: 1456.0767\n",
      "Epoch 71/500\n",
      "5966/5966 [==============================] - 0s 16us/step - loss: 3867855.7500 - MAE: 1408.9298 - val_loss: 4026801.2500 - val_MAE: 1442.4694\n",
      "Epoch 72/500\n",
      "5966/5966 [==============================] - 0s 16us/step - loss: 3779515.0000 - MAE: 1389.4513 - val_loss: 3944821.7500 - val_MAE: 1429.3810\n",
      "Epoch 73/500\n",
      "5966/5966 [==============================] - 0s 16us/step - loss: 3710189.5000 - MAE: 1377.6013 - val_loss: 3864790.7500 - val_MAE: 1416.8335\n",
      "Epoch 74/500\n",
      "5966/5966 [==============================] - 0s 15us/step - loss: 3638801.2500 - MAE: 1368.4470 - val_loss: 3787008.7500 - val_MAE: 1404.7411\n",
      "Epoch 75/500\n",
      "5966/5966 [==============================] - 0s 17us/step - loss: 3588040.7500 - MAE: 1357.6846 - val_loss: 3711898.2500 - val_MAE: 1392.9834\n",
      "Epoch 76/500\n",
      "5966/5966 [==============================] - 0s 16us/step - loss: 3488744.2500 - MAE: 1343.4991 - val_loss: 3638979.2500 - val_MAE: 1381.6707\n",
      "Epoch 77/500\n",
      "5966/5966 [==============================] - 0s 17us/step - loss: 3424010.5000 - MAE: 1328.5902 - val_loss: 3568411.2500 - val_MAE: 1371.1614\n",
      "Epoch 78/500\n",
      "5966/5966 [==============================] - 0s 16us/step - loss: 3380718.7500 - MAE: 1326.0964 - val_loss: 3501057.5000 - val_MAE: 1361.4039\n",
      "Epoch 79/500\n",
      "5966/5966 [==============================] - 0s 17us/step - loss: 3300261.7500 - MAE: 1312.0835 - val_loss: 3436247.2500 - val_MAE: 1352.1144\n",
      "Epoch 80/500\n",
      "5966/5966 [==============================] - 0s 17us/step - loss: 3251662.5000 - MAE: 1303.6229 - val_loss: 3374637.0000 - val_MAE: 1343.6079\n",
      "Epoch 81/500\n",
      "5966/5966 [==============================] - 0s 16us/step - loss: 3192073.2500 - MAE: 1300.3451 - val_loss: 3315607.2500 - val_MAE: 1335.7859\n",
      "Epoch 82/500\n",
      "5966/5966 [==============================] - 0s 16us/step - loss: 3147985.5000 - MAE: 1290.9504 - val_loss: 3260137.7500 - val_MAE: 1328.6736\n",
      "Epoch 83/500\n",
      "5966/5966 [==============================] - 0s 16us/step - loss: 3096879.7500 - MAE: 1285.5795 - val_loss: 3208161.5000 - val_MAE: 1322.3589\n",
      "Epoch 84/500\n",
      "5966/5966 [==============================] - 0s 17us/step - loss: 3044930.7500 - MAE: 1279.2717 - val_loss: 3159263.5000 - val_MAE: 1316.9082\n",
      "Epoch 85/500\n",
      "5966/5966 [==============================] - 0s 16us/step - loss: 2994977.5000 - MAE: 1273.8320 - val_loss: 3113194.0000 - val_MAE: 1312.0779\n",
      "Epoch 86/500\n",
      "5966/5966 [==============================] - 0s 15us/step - loss: 2973964.5000 - MAE: 1274.7614 - val_loss: 3070270.0000 - val_MAE: 1307.8866\n",
      "Epoch 87/500\n",
      "5966/5966 [==============================] - 0s 17us/step - loss: 2921121.5000 - MAE: 1262.7737 - val_loss: 3030699.7500 - val_MAE: 1304.2375\n",
      "Epoch 88/500\n",
      "5966/5966 [==============================] - 0s 17us/step - loss: 2883750.5000 - MAE: 1262.7383 - val_loss: 2994466.2500 - val_MAE: 1301.2841\n",
      "Epoch 89/500\n",
      "5966/5966 [==============================] - 0s 16us/step - loss: 2863584.2500 - MAE: 1260.8864 - val_loss: 2961684.2500 - val_MAE: 1298.8225\n",
      "Epoch 90/500\n",
      "5966/5966 [==============================] - 0s 17us/step - loss: 2824166.2500 - MAE: 1255.9379 - val_loss: 2931926.2500 - val_MAE: 1297.0242\n",
      "Epoch 91/500\n",
      "5966/5966 [==============================] - 0s 16us/step - loss: 2812309.5000 - MAE: 1257.7578 - val_loss: 2905294.5000 - val_MAE: 1295.7286\n",
      "Epoch 92/500\n",
      "5966/5966 [==============================] - 0s 16us/step - loss: 2791531.5000 - MAE: 1258.8722 - val_loss: 2881520.0000 - val_MAE: 1294.7970\n",
      "Epoch 93/500\n",
      "5966/5966 [==============================] - 0s 15us/step - loss: 2780625.7500 - MAE: 1263.6268 - val_loss: 2860554.7500 - val_MAE: 1294.0863\n",
      "Epoch 94/500\n",
      "5966/5966 [==============================] - 0s 16us/step - loss: 2769397.2500 - MAE: 1262.1392 - val_loss: 2841857.7500 - val_MAE: 1293.5863\n",
      "Epoch 95/500\n",
      "5966/5966 [==============================] - 0s 16us/step - loss: 2732626.5000 - MAE: 1257.1677 - val_loss: 2824896.2500 - val_MAE: 1293.3406\n",
      "Epoch 96/500\n",
      "5966/5966 [==============================] - 0s 16us/step - loss: 2721014.5000 - MAE: 1259.6475 - val_loss: 2810125.5000 - val_MAE: 1293.2690\n",
      "Epoch 97/500\n",
      "5966/5966 [==============================] - 0s 17us/step - loss: 2723981.2500 - MAE: 1258.5742 - val_loss: 2797793.5000 - val_MAE: 1293.3442\n",
      "Epoch 98/500\n",
      "5966/5966 [==============================] - 0s 16us/step - loss: 2710068.7500 - MAE: 1264.1128 - val_loss: 2786779.0000 - val_MAE: 1293.5752\n",
      "Epoch 99/500\n",
      "5966/5966 [==============================] - 0s 16us/step - loss: 2689564.5000 - MAE: 1261.1881 - val_loss: 2777079.2500 - val_MAE: 1293.9331\n",
      "Epoch 100/500\n",
      "5966/5966 [==============================] - 0s 19us/step - loss: 2721252.0000 - MAE: 1266.5050 - val_loss: 2769214.2500 - val_MAE: 1294.2136\n",
      "Epoch 101/500\n",
      "5966/5966 [==============================] - 0s 16us/step - loss: 2694024.2500 - MAE: 1266.0519 - val_loss: 2761551.5000 - val_MAE: 1294.5692\n",
      "Epoch 102/500\n",
      "5966/5966 [==============================] - 0s 16us/step - loss: 2715196.5000 - MAE: 1270.7517 - val_loss: 2755443.0000 - val_MAE: 1294.6877\n",
      "Epoch 103/500\n",
      "5966/5966 [==============================] - 0s 16us/step - loss: 2675179.7500 - MAE: 1266.5808 - val_loss: 2749510.2500 - val_MAE: 1294.8220\n",
      "Epoch 104/500\n",
      "5966/5966 [==============================] - 0s 16us/step - loss: 2683657.7500 - MAE: 1269.1780 - val_loss: 2744531.5000 - val_MAE: 1294.6836\n",
      "Epoch 105/500\n",
      "5966/5966 [==============================] - 0s 16us/step - loss: 2670486.5000 - MAE: 1261.8927 - val_loss: 2739496.0000 - val_MAE: 1294.6152\n",
      "Epoch 106/500\n",
      "5966/5966 [==============================] - 0s 16us/step - loss: 2698246.2500 - MAE: 1272.5332 - val_loss: 2734629.0000 - val_MAE: 1294.5017\n"
     ]
    },
    {
     "name": "stdout",
     "output_type": "stream",
     "text": [
      "Epoch 107/500\n",
      "5966/5966 [==============================] - 0s 16us/step - loss: 2691958.7500 - MAE: 1271.4307 - val_loss: 2730462.5000 - val_MAE: 1294.0674\n",
      "Epoch 108/500\n",
      "5966/5966 [==============================] - 0s 16us/step - loss: 2655800.2500 - MAE: 1263.7950 - val_loss: 2725972.2500 - val_MAE: 1293.7250\n",
      "Epoch 109/500\n",
      "5966/5966 [==============================] - 0s 17us/step - loss: 2667082.0000 - MAE: 1269.7603 - val_loss: 2721931.2500 - val_MAE: 1293.1742\n",
      "Epoch 110/500\n",
      "5966/5966 [==============================] - 0s 18us/step - loss: 2665906.7500 - MAE: 1273.3044 - val_loss: 2717783.7500 - val_MAE: 1292.6566\n",
      "Epoch 111/500\n",
      "5966/5966 [==============================] - 0s 16us/step - loss: 2663610.5000 - MAE: 1267.1555 - val_loss: 2713128.7500 - val_MAE: 1292.3182\n",
      "Epoch 112/500\n",
      "5966/5966 [==============================] - 0s 16us/step - loss: 2661986.2500 - MAE: 1271.1907 - val_loss: 2709525.5000 - val_MAE: 1291.3937\n",
      "Epoch 113/500\n",
      "5966/5966 [==============================] - 0s 15us/step - loss: 2662140.5000 - MAE: 1269.5538 - val_loss: 2705467.7500 - val_MAE: 1290.6490\n",
      "Epoch 114/500\n",
      "5966/5966 [==============================] - 0s 16us/step - loss: 2658840.0000 - MAE: 1268.9260 - val_loss: 2701839.0000 - val_MAE: 1289.6230\n",
      "Epoch 115/500\n",
      "5966/5966 [==============================] - 0s 16us/step - loss: 2638440.5000 - MAE: 1263.7218 - val_loss: 2697222.5000 - val_MAE: 1289.0714\n",
      "Epoch 116/500\n",
      "5966/5966 [==============================] - 0s 16us/step - loss: 2635256.7500 - MAE: 1268.3411 - val_loss: 2692982.7500 - val_MAE: 1288.2384\n",
      "Epoch 117/500\n",
      "5966/5966 [==============================] - 0s 16us/step - loss: 2624682.5000 - MAE: 1263.3739 - val_loss: 2688630.2500 - val_MAE: 1287.4080\n",
      "Epoch 118/500\n",
      "5966/5966 [==============================] - 0s 19us/step - loss: 2624565.0000 - MAE: 1259.5929 - val_loss: 2684008.2500 - val_MAE: 1286.6871\n",
      "Epoch 119/500\n",
      "5966/5966 [==============================] - 0s 15us/step - loss: 2614974.2500 - MAE: 1258.0100 - val_loss: 2679798.0000 - val_MAE: 1285.6128\n",
      "Epoch 120/500\n",
      "5966/5966 [==============================] - 0s 17us/step - loss: 2611068.2500 - MAE: 1255.3224 - val_loss: 2675615.7500 - val_MAE: 1284.4740\n",
      "Epoch 121/500\n",
      "5966/5966 [==============================] - 0s 16us/step - loss: 2608207.2500 - MAE: 1256.9811 - val_loss: 2670747.7500 - val_MAE: 1283.6490\n",
      "Epoch 122/500\n",
      "5966/5966 [==============================] - 0s 15us/step - loss: 2612840.5000 - MAE: 1257.9630 - val_loss: 2666110.2500 - val_MAE: 1282.5709\n",
      "Epoch 123/500\n",
      "5966/5966 [==============================] - 0s 20us/step - loss: 2604367.5000 - MAE: 1259.7054 - val_loss: 2662462.5000 - val_MAE: 1280.9086\n",
      "Epoch 124/500\n",
      "5966/5966 [==============================] - 0s 17us/step - loss: 2618057.2500 - MAE: 1260.6128 - val_loss: 2657148.0000 - val_MAE: 1280.0447\n",
      "Epoch 125/500\n",
      "5966/5966 [==============================] - 0s 16us/step - loss: 2594301.5000 - MAE: 1253.9518 - val_loss: 2651826.0000 - val_MAE: 1279.1604\n",
      "Epoch 126/500\n",
      "5966/5966 [==============================] - 0s 16us/step - loss: 2586037.5000 - MAE: 1253.4291 - val_loss: 2646303.2500 - val_MAE: 1278.2861\n",
      "Epoch 127/500\n",
      "5966/5966 [==============================] - 0s 16us/step - loss: 2575806.0000 - MAE: 1252.8317 - val_loss: 2641739.5000 - val_MAE: 1276.7389\n",
      "Epoch 128/500\n",
      "5966/5966 [==============================] - 0s 17us/step - loss: 2585100.2500 - MAE: 1250.7782 - val_loss: 2636256.5000 - val_MAE: 1275.6414\n",
      "Epoch 129/500\n",
      "5966/5966 [==============================] - 0s 15us/step - loss: 2590024.7500 - MAE: 1254.8359 - val_loss: 2631088.5000 - val_MAE: 1274.2737\n",
      "Epoch 130/500\n",
      "5966/5966 [==============================] - 0s 20us/step - loss: 2591305.0000 - MAE: 1252.5393 - val_loss: 2625694.5000 - val_MAE: 1272.9633\n",
      "Epoch 131/500\n",
      "5966/5966 [==============================] - 0s 18us/step - loss: 2572678.7500 - MAE: 1253.4537 - val_loss: 2619728.7500 - val_MAE: 1271.8448\n",
      "Epoch 132/500\n",
      "5966/5966 [==============================] - 0s 15us/step - loss: 2539520.2500 - MAE: 1240.0338 - val_loss: 2613526.2500 - val_MAE: 1270.7463\n",
      "Epoch 133/500\n",
      "5966/5966 [==============================] - 0s 16us/step - loss: 2550865.0000 - MAE: 1250.2218 - val_loss: 2607355.5000 - val_MAE: 1269.4938\n",
      "Epoch 134/500\n",
      "5966/5966 [==============================] - 0s 16us/step - loss: 2561209.5000 - MAE: 1247.9812 - val_loss: 2602473.2500 - val_MAE: 1267.4709\n",
      "Epoch 135/500\n",
      "5966/5966 [==============================] - 0s 16us/step - loss: 2538108.2500 - MAE: 1239.3872 - val_loss: 2595910.5000 - val_MAE: 1266.2542\n",
      "Epoch 136/500\n",
      "5966/5966 [==============================] - 0s 16us/step - loss: 2511769.2500 - MAE: 1230.9894 - val_loss: 2587713.5000 - val_MAE: 1265.9918\n",
      "Epoch 137/500\n",
      "5966/5966 [==============================] - 0s 17us/step - loss: 2538734.0000 - MAE: 1242.4785 - val_loss: 2583697.5000 - val_MAE: 1263.1100\n",
      "Epoch 138/500\n",
      "5966/5966 [==============================] - 0s 16us/step - loss: 2522714.0000 - MAE: 1238.5033 - val_loss: 2577100.7500 - val_MAE: 1261.6116\n",
      "Epoch 139/500\n",
      "5966/5966 [==============================] - 0s 16us/step - loss: 2540284.5000 - MAE: 1242.4147 - val_loss: 2570861.2500 - val_MAE: 1259.8142\n",
      "Epoch 140/500\n",
      "5966/5966 [==============================] - 0s 18us/step - loss: 2541856.7500 - MAE: 1246.3790 - val_loss: 2564051.7500 - val_MAE: 1258.2368\n",
      "Epoch 141/500\n",
      "5966/5966 [==============================] - 0s 16us/step - loss: 2513986.2500 - MAE: 1234.7697 - val_loss: 2556339.0000 - val_MAE: 1257.0935\n",
      "Epoch 142/500\n",
      "5966/5966 [==============================] - 0s 16us/step - loss: 2505724.7500 - MAE: 1231.6582 - val_loss: 2548847.7500 - val_MAE: 1255.6610\n",
      "Epoch 143/500\n",
      "5966/5966 [==============================] - 0s 17us/step - loss: 2504722.0000 - MAE: 1231.8826 - val_loss: 2542342.0000 - val_MAE: 1253.5745\n",
      "Epoch 144/500\n",
      "5966/5966 [==============================] - 0s 16us/step - loss: 2479585.2500 - MAE: 1227.0110 - val_loss: 2534260.7500 - val_MAE: 1252.2660\n",
      "Epoch 145/500\n",
      "5966/5966 [==============================] - 0s 16us/step - loss: 2479653.5000 - MAE: 1229.7524 - val_loss: 2526589.0000 - val_MAE: 1250.6815\n",
      "Epoch 146/500\n",
      "5966/5966 [==============================] - 0s 16us/step - loss: 2445176.7500 - MAE: 1217.3092 - val_loss: 2519004.7500 - val_MAE: 1248.8860\n",
      "Epoch 147/500\n",
      "5966/5966 [==============================] - 0s 16us/step - loss: 2458835.7500 - MAE: 1224.3422 - val_loss: 2510557.5000 - val_MAE: 1247.4844\n",
      "Epoch 148/500\n",
      "5966/5966 [==============================] - 0s 16us/step - loss: 2456262.0000 - MAE: 1223.1985 - val_loss: 2505313.2500 - val_MAE: 1244.1462\n",
      "Epoch 149/500\n",
      "5966/5966 [==============================] - 0s 16us/step - loss: 2455480.2500 - MAE: 1221.0231 - val_loss: 2497527.5000 - val_MAE: 1242.1400\n",
      "Epoch 150/500\n",
      "5966/5966 [==============================] - 0s 17us/step - loss: 2433438.7500 - MAE: 1212.2373 - val_loss: 2487675.5000 - val_MAE: 1241.1040\n",
      "Epoch 151/500\n",
      "5966/5966 [==============================] - 0s 17us/step - loss: 2443078.0000 - MAE: 1222.1365 - val_loss: 2480719.0000 - val_MAE: 1238.3568\n",
      "Epoch 152/500\n",
      "5966/5966 [==============================] - 0s 15us/step - loss: 2414277.7500 - MAE: 1211.0031 - val_loss: 2469689.2500 - val_MAE: 1237.8240\n",
      "Epoch 153/500\n",
      "5966/5966 [==============================] - 0s 16us/step - loss: 2401960.0000 - MAE: 1211.6613 - val_loss: 2462261.0000 - val_MAE: 1235.0757\n",
      "Epoch 154/500\n",
      "5966/5966 [==============================] - 0s 16us/step - loss: 2408571.7500 - MAE: 1208.6113 - val_loss: 2453711.5000 - val_MAE: 1232.8856\n",
      "Epoch 155/500\n",
      "5966/5966 [==============================] - 0s 16us/step - loss: 2420131.2500 - MAE: 1214.4641 - val_loss: 2446969.2500 - val_MAE: 1229.7327\n",
      "Epoch 156/500\n",
      "5966/5966 [==============================] - 0s 16us/step - loss: 2420349.2500 - MAE: 1212.9020 - val_loss: 2437473.0000 - val_MAE: 1227.9197\n",
      "Epoch 157/500\n",
      "5966/5966 [==============================] - 0s 18us/step - loss: 2402633.2500 - MAE: 1205.1571 - val_loss: 2427176.2500 - val_MAE: 1226.4767\n",
      "Epoch 158/500\n",
      "5966/5966 [==============================] - 0s 16us/step - loss: 2367067.0000 - MAE: 1201.6047 - val_loss: 2417353.0000 - val_MAE: 1224.6527\n",
      "Epoch 159/500\n",
      "5966/5966 [==============================] - 0s 17us/step - loss: 2377651.5000 - MAE: 1200.9628 - val_loss: 2409674.0000 - val_MAE: 1221.5220\n"
     ]
    },
    {
     "name": "stdout",
     "output_type": "stream",
     "text": [
      "Epoch 160/500\n",
      "5966/5966 [==============================] - 0s 17us/step - loss: 2371610.0000 - MAE: 1198.9646 - val_loss: 2399520.2500 - val_MAE: 1219.7081\n",
      "Epoch 161/500\n",
      "5966/5966 [==============================] - 0s 15us/step - loss: 2357210.2500 - MAE: 1196.9020 - val_loss: 2389656.5000 - val_MAE: 1217.6371\n",
      "Epoch 162/500\n",
      "5966/5966 [==============================] - 0s 16us/step - loss: 2352469.5000 - MAE: 1198.0497 - val_loss: 2381803.5000 - val_MAE: 1214.2100\n",
      "Epoch 163/500\n",
      "5966/5966 [==============================] - 0s 15us/step - loss: 2342766.7500 - MAE: 1196.5419 - val_loss: 2370613.7500 - val_MAE: 1212.7006\n",
      "Epoch 164/500\n",
      "5966/5966 [==============================] - 0s 16us/step - loss: 2313860.7500 - MAE: 1187.3826 - val_loss: 2362602.7500 - val_MAE: 1209.2896\n",
      "Epoch 165/500\n",
      "5966/5966 [==============================] - 0s 16us/step - loss: 2324881.0000 - MAE: 1186.4786 - val_loss: 2349968.7500 - val_MAE: 1208.5759\n",
      "Epoch 166/500\n",
      "5966/5966 [==============================] - 0s 16us/step - loss: 2316559.2500 - MAE: 1185.8344 - val_loss: 2342954.2500 - val_MAE: 1204.2644\n",
      "Epoch 167/500\n",
      "5966/5966 [==============================] - 0s 17us/step - loss: 2279381.7500 - MAE: 1178.2622 - val_loss: 2331313.5000 - val_MAE: 1202.7349\n",
      "Epoch 168/500\n",
      "5966/5966 [==============================] - 0s 16us/step - loss: 2276809.0000 - MAE: 1181.7134 - val_loss: 2322900.7500 - val_MAE: 1199.0531\n",
      "Epoch 169/500\n",
      "5966/5966 [==============================] - 0s 16us/step - loss: 2288697.2500 - MAE: 1183.5310 - val_loss: 2313478.0000 - val_MAE: 1195.9363\n",
      "Epoch 170/500\n",
      "5966/5966 [==============================] - 0s 20us/step - loss: 2277174.7500 - MAE: 1177.0140 - val_loss: 2302426.0000 - val_MAE: 1193.6769\n",
      "Epoch 171/500\n",
      "5966/5966 [==============================] - 0s 16us/step - loss: 2265885.0000 - MAE: 1171.6614 - val_loss: 2290232.7500 - val_MAE: 1192.1536\n",
      "Epoch 172/500\n",
      "5966/5966 [==============================] - 0s 15us/step - loss: 2252930.7500 - MAE: 1171.1355 - val_loss: 2280776.7500 - val_MAE: 1188.5106\n",
      "Epoch 173/500\n",
      "5966/5966 [==============================] - 0s 16us/step - loss: 2244775.7500 - MAE: 1170.2651 - val_loss: 2269924.7500 - val_MAE: 1185.6805\n",
      "Epoch 174/500\n",
      "5966/5966 [==============================] - 0s 15us/step - loss: 2237075.0000 - MAE: 1165.0044 - val_loss: 2260734.0000 - val_MAE: 1181.9712\n",
      "Epoch 175/500\n",
      "5966/5966 [==============================] - 0s 16us/step - loss: 2210846.5000 - MAE: 1160.5663 - val_loss: 2247451.2500 - val_MAE: 1180.4089\n",
      "Epoch 176/500\n",
      "5966/5966 [==============================] - 0s 15us/step - loss: 2229241.7500 - MAE: 1166.0576 - val_loss: 2238684.0000 - val_MAE: 1176.1241\n",
      "Epoch 177/500\n",
      "5966/5966 [==============================] - 0s 17us/step - loss: 2201537.2500 - MAE: 1152.1119 - val_loss: 2226386.2500 - val_MAE: 1173.9585\n",
      "Epoch 178/500\n",
      "5966/5966 [==============================] - 0s 17us/step - loss: 2183165.0000 - MAE: 1156.0616 - val_loss: 2214407.2500 - val_MAE: 1171.4270\n",
      "Epoch 179/500\n",
      "5966/5966 [==============================] - 0s 16us/step - loss: 2189894.5000 - MAE: 1153.5234 - val_loss: 2204801.7500 - val_MAE: 1167.3566\n",
      "Epoch 180/500\n",
      "5966/5966 [==============================] - 0s 18us/step - loss: 2152789.0000 - MAE: 1138.3042 - val_loss: 2193524.2500 - val_MAE: 1164.1954\n",
      "Epoch 181/500\n",
      "5966/5966 [==============================] - 0s 16us/step - loss: 2146381.0000 - MAE: 1138.8123 - val_loss: 2181729.7500 - val_MAE: 1161.2572\n",
      "Epoch 182/500\n",
      "5966/5966 [==============================] - 0s 16us/step - loss: 2159996.5000 - MAE: 1142.1571 - val_loss: 2169623.7500 - val_MAE: 1158.3800\n",
      "Epoch 183/500\n",
      "5966/5966 [==============================] - 0s 16us/step - loss: 2122671.2500 - MAE: 1136.3550 - val_loss: 2158767.0000 - val_MAE: 1154.5374\n",
      "Epoch 184/500\n",
      "5966/5966 [==============================] - 0s 16us/step - loss: 2127757.2500 - MAE: 1135.4073 - val_loss: 2146789.0000 - val_MAE: 1151.3077\n",
      "Epoch 185/500\n",
      "5966/5966 [==============================] - 0s 17us/step - loss: 2127289.7500 - MAE: 1138.6672 - val_loss: 2135268.7500 - val_MAE: 1147.7473\n",
      "Epoch 186/500\n",
      "5966/5966 [==============================] - 0s 16us/step - loss: 2079679.2500 - MAE: 1125.1846 - val_loss: 2123363.2500 - val_MAE: 1144.3802\n",
      "Epoch 187/500\n",
      "5966/5966 [==============================] - 0s 16us/step - loss: 2106674.5000 - MAE: 1127.9646 - val_loss: 2111793.2500 - val_MAE: 1140.6188\n",
      "Epoch 188/500\n",
      "5966/5966 [==============================] - 0s 17us/step - loss: 2086803.5000 - MAE: 1128.4647 - val_loss: 2099593.0000 - val_MAE: 1137.1866\n",
      "Epoch 189/500\n",
      "5966/5966 [==============================] - 0s 20us/step - loss: 2062380.0000 - MAE: 1118.8593 - val_loss: 2088775.3750 - val_MAE: 1132.9633\n",
      "Epoch 190/500\n",
      "5966/5966 [==============================] - 0s 17us/step - loss: 2069831.0000 - MAE: 1117.9523 - val_loss: 2075753.7500 - val_MAE: 1129.9874\n",
      "Epoch 191/500\n",
      "5966/5966 [==============================] - 0s 16us/step - loss: 2024377.5000 - MAE: 1105.8386 - val_loss: 2064107.5000 - val_MAE: 1126.1007\n",
      "Epoch 192/500\n",
      "5966/5966 [==============================] - 0s 15us/step - loss: 2074377.5000 - MAE: 1114.5039 - val_loss: 2050362.7500 - val_MAE: 1123.5851\n",
      "Epoch 193/500\n",
      "5966/5966 [==============================] - 0s 16us/step - loss: 2040036.5000 - MAE: 1105.7343 - val_loss: 2039247.3750 - val_MAE: 1119.0818\n",
      "Epoch 194/500\n",
      "5966/5966 [==============================] - 0s 16us/step - loss: 1996831.1250 - MAE: 1095.5256 - val_loss: 2027072.6250 - val_MAE: 1115.2969\n",
      "Epoch 195/500\n",
      "5966/5966 [==============================] - 0s 16us/step - loss: 1966926.8750 - MAE: 1088.2277 - val_loss: 2013015.6250 - val_MAE: 1112.9883\n",
      "Epoch 196/500\n",
      "5966/5966 [==============================] - 0s 17us/step - loss: 2003865.2500 - MAE: 1100.1378 - val_loss: 2003285.6250 - val_MAE: 1107.3176\n",
      "Epoch 197/500\n",
      "5966/5966 [==============================] - 0s 17us/step - loss: 1963968.0000 - MAE: 1083.3258 - val_loss: 1988631.0000 - val_MAE: 1105.3147\n",
      "Epoch 198/500\n",
      "5966/5966 [==============================] - 0s 16us/step - loss: 1943659.1250 - MAE: 1082.2306 - val_loss: 1976306.1250 - val_MAE: 1101.4314\n",
      "Epoch 199/500\n",
      "5966/5966 [==============================] - 0s 17us/step - loss: 1939862.6250 - MAE: 1081.0164 - val_loss: 1966270.8750 - val_MAE: 1096.1364\n",
      "Epoch 200/500\n",
      "5966/5966 [==============================] - 0s 18us/step - loss: 1935766.6250 - MAE: 1070.4116 - val_loss: 1953062.1250 - val_MAE: 1093.1901\n",
      "Epoch 201/500\n",
      "5966/5966 [==============================] - 0s 16us/step - loss: 1910805.5000 - MAE: 1073.0861 - val_loss: 1941242.1250 - val_MAE: 1088.9043\n",
      "Epoch 202/500\n",
      "5966/5966 [==============================] - 0s 17us/step - loss: 1912949.0000 - MAE: 1068.1346 - val_loss: 1928471.8750 - val_MAE: 1085.6610\n",
      "Epoch 203/500\n",
      "5966/5966 [==============================] - 0s 16us/step - loss: 1924087.1250 - MAE: 1066.0626 - val_loss: 1917336.6250 - val_MAE: 1081.0634\n",
      "Epoch 204/500\n",
      "5966/5966 [==============================] - 0s 16us/step - loss: 1925449.3750 - MAE: 1072.2219 - val_loss: 1904956.7500 - val_MAE: 1077.1602\n",
      "Epoch 205/500\n",
      "5966/5966 [==============================] - 0s 16us/step - loss: 1889201.3750 - MAE: 1060.1443 - val_loss: 1893763.6250 - val_MAE: 1072.6543\n",
      "Epoch 206/500\n",
      "5966/5966 [==============================] - 0s 17us/step - loss: 1871592.8750 - MAE: 1049.7643 - val_loss: 1881825.5000 - val_MAE: 1068.6985\n",
      "Epoch 207/500\n",
      "5966/5966 [==============================] - 0s 18us/step - loss: 1843703.8750 - MAE: 1045.4637 - val_loss: 1869602.3750 - val_MAE: 1064.8342\n",
      "Epoch 208/500\n",
      "5966/5966 [==============================] - 0s 16us/step - loss: 1870984.0000 - MAE: 1048.6833 - val_loss: 1859383.0000 - val_MAE: 1059.6843\n",
      "Epoch 209/500\n",
      "5966/5966 [==============================] - 0s 18us/step - loss: 1842155.0000 - MAE: 1037.7386 - val_loss: 1845949.0000 - val_MAE: 1056.9364\n",
      "Epoch 210/500\n",
      "5966/5966 [==============================] - 0s 16us/step - loss: 1823153.0000 - MAE: 1035.0784 - val_loss: 1835248.8750 - val_MAE: 1052.2379\n",
      "Epoch 211/500\n",
      "5966/5966 [==============================] - 0s 16us/step - loss: 1806496.1250 - MAE: 1029.0804 - val_loss: 1824078.2500 - val_MAE: 1048.0314\n",
      "Epoch 212/500\n",
      "5966/5966 [==============================] - 0s 17us/step - loss: 1792343.5000 - MAE: 1025.2322 - val_loss: 1813334.7500 - val_MAE: 1043.2930\n"
     ]
    },
    {
     "name": "stdout",
     "output_type": "stream",
     "text": [
      "Epoch 213/500\n",
      "5966/5966 [==============================] - 0s 16us/step - loss: 1819434.8750 - MAE: 1029.9589 - val_loss: 1801889.2500 - val_MAE: 1039.4860\n",
      "Epoch 214/500\n",
      "5966/5966 [==============================] - 0s 17us/step - loss: 1780581.1250 - MAE: 1015.9677 - val_loss: 1789584.6250 - val_MAE: 1036.4723\n",
      "Epoch 215/500\n",
      "5966/5966 [==============================] - 0s 18us/step - loss: 1770673.6250 - MAE: 1018.6157 - val_loss: 1780635.2500 - val_MAE: 1030.9037\n",
      "Epoch 216/500\n",
      "5966/5966 [==============================] - 0s 16us/step - loss: 1738637.5000 - MAE: 1001.9247 - val_loss: 1769474.3750 - val_MAE: 1027.1097\n",
      "Epoch 217/500\n",
      "5966/5966 [==============================] - 0s 17us/step - loss: 1759125.7500 - MAE: 1010.2305 - val_loss: 1760435.0000 - val_MAE: 1022.1797\n",
      "Epoch 218/500\n",
      "5966/5966 [==============================] - 0s 16us/step - loss: 1741542.5000 - MAE: 1001.8824 - val_loss: 1749122.7500 - val_MAE: 1018.9331\n",
      "Epoch 219/500\n",
      "5966/5966 [==============================] - 0s 17us/step - loss: 1739617.2500 - MAE: 1003.9027 - val_loss: 1741775.0000 - val_MAE: 1013.2026\n",
      "Epoch 220/500\n",
      "5966/5966 [==============================] - 0s 16us/step - loss: 1701443.2500 - MAE: 986.0384 - val_loss: 1726727.8750 - val_MAE: 1012.9324\n",
      "Epoch 221/500\n",
      "5966/5966 [==============================] - 0s 16us/step - loss: 1735598.8750 - MAE: 995.1638 - val_loss: 1720555.8750 - val_MAE: 1006.3096\n",
      "Epoch 222/500\n",
      "5966/5966 [==============================] - 0s 15us/step - loss: 1720717.1250 - MAE: 987.4239 - val_loss: 1710697.5000 - val_MAE: 1002.7997\n",
      "Epoch 223/500\n",
      "5966/5966 [==============================] - 0s 16us/step - loss: 1720781.0000 - MAE: 986.9052 - val_loss: 1698917.1250 - val_MAE: 1000.5647\n",
      "Epoch 224/500\n",
      "5966/5966 [==============================] - 0s 15us/step - loss: 1689925.6250 - MAE: 981.7877 - val_loss: 1692325.2500 - val_MAE: 994.9918\n",
      "Epoch 225/500\n",
      "5966/5966 [==============================] - 0s 16us/step - loss: 1685200.5000 - MAE: 978.6943 - val_loss: 1682155.6250 - val_MAE: 992.0975\n",
      "Epoch 226/500\n",
      "5966/5966 [==============================] - 0s 16us/step - loss: 1670761.3750 - MAE: 965.2778 - val_loss: 1672879.2500 - val_MAE: 988.8416\n",
      "Epoch 227/500\n",
      "5966/5966 [==============================] - 0s 16us/step - loss: 1680662.6250 - MAE: 971.4740 - val_loss: 1664439.3750 - val_MAE: 985.0779\n",
      "Epoch 228/500\n",
      "5966/5966 [==============================] - 0s 15us/step - loss: 1662789.1250 - MAE: 964.0529 - val_loss: 1656187.5000 - val_MAE: 981.5232\n",
      "Epoch 229/500\n",
      "5966/5966 [==============================] - 0s 17us/step - loss: 1609651.2500 - MAE: 952.6793 - val_loss: 1646850.7500 - val_MAE: 978.9433\n",
      "Epoch 230/500\n",
      "5966/5966 [==============================] - 0s 17us/step - loss: 1636536.1250 - MAE: 963.5911 - val_loss: 1644953.5000 - val_MAE: 972.3260\n",
      "Epoch 231/500\n",
      "5966/5966 [==============================] - 0s 16us/step - loss: 1634572.5000 - MAE: 952.2882 - val_loss: 1629578.2500 - val_MAE: 973.7643\n",
      "Epoch 232/500\n",
      "5966/5966 [==============================] - 0s 16us/step - loss: 1626725.1250 - MAE: 951.0187 - val_loss: 1625518.7500 - val_MAE: 968.0457\n",
      "Epoch 233/500\n",
      "5966/5966 [==============================] - 0s 16us/step - loss: 1597768.8750 - MAE: 947.5498 - val_loss: 1615323.1250 - val_MAE: 966.9168\n",
      "Epoch 234/500\n",
      "5966/5966 [==============================] - 0s 16us/step - loss: 1603234.2500 - MAE: 945.8436 - val_loss: 1615621.6250 - val_MAE: 960.1150\n",
      "Epoch 235/500\n",
      "5966/5966 [==============================] - 0s 15us/step - loss: 1625814.7500 - MAE: 942.9807 - val_loss: 1601791.3750 - val_MAE: 961.3306\n",
      "Epoch 236/500\n",
      "5966/5966 [==============================] - 0s 17us/step - loss: 1616842.5000 - MAE: 949.0251 - val_loss: 1600844.2500 - val_MAE: 955.2921\n",
      "Epoch 237/500\n",
      "5966/5966 [==============================] - 0s 16us/step - loss: 1601789.8750 - MAE: 937.3408 - val_loss: 1590381.5000 - val_MAE: 954.7729\n",
      "Epoch 238/500\n",
      "5966/5966 [==============================] - 0s 16us/step - loss: 1612871.7500 - MAE: 938.9716 - val_loss: 1589072.7500 - val_MAE: 949.9233\n",
      "Epoch 239/500\n",
      "5966/5966 [==============================] - 0s 16us/step - loss: 1588257.8750 - MAE: 932.6539 - val_loss: 1576815.0000 - val_MAE: 950.8375\n",
      "Epoch 240/500\n",
      "5966/5966 [==============================] - 0s 16us/step - loss: 1589448.0000 - MAE: 935.4508 - val_loss: 1579930.6250 - val_MAE: 944.2052\n",
      "Epoch 241/500\n",
      "5966/5966 [==============================] - 0s 16us/step - loss: 1572817.5000 - MAE: 926.5178 - val_loss: 1566794.2500 - val_MAE: 945.4087\n",
      "Epoch 242/500\n",
      "5966/5966 [==============================] - 0s 16us/step - loss: 1567977.1250 - MAE: 925.3556 - val_loss: 1566011.6250 - val_MAE: 940.9693\n",
      "Epoch 243/500\n",
      "5966/5966 [==============================] - 0s 16us/step - loss: 1603609.2500 - MAE: 928.4706 - val_loss: 1559221.8750 - val_MAE: 939.6148\n",
      "Epoch 244/500\n",
      "5966/5966 [==============================] - 0s 16us/step - loss: 1584185.6250 - MAE: 927.1145 - val_loss: 1558292.8750 - val_MAE: 936.1865\n",
      "Epoch 245/500\n",
      "5966/5966 [==============================] - 0s 16us/step - loss: 1575701.5000 - MAE: 920.9856 - val_loss: 1545487.3750 - val_MAE: 938.2410\n",
      "Epoch 246/500\n",
      "5966/5966 [==============================] - 0s 16us/step - loss: 1579841.8750 - MAE: 925.1855 - val_loss: 1559982.7500 - val_MAE: 930.3920\n",
      "Epoch 247/500\n",
      "5966/5966 [==============================] - 0s 17us/step - loss: 1549622.0000 - MAE: 908.4375 - val_loss: 1535842.7500 - val_MAE: 938.0552\n",
      "Epoch 248/500\n",
      "5966/5966 [==============================] - 0s 16us/step - loss: 1564470.8750 - MAE: 925.3425 - val_loss: 1545438.0000 - val_MAE: 928.3991\n",
      "Epoch 249/500\n",
      "5966/5966 [==============================] - 0s 17us/step - loss: 1567351.5000 - MAE: 917.1296 - val_loss: 1531016.1250 - val_MAE: 931.3264\n",
      "Epoch 250/500\n",
      "5966/5966 [==============================] - 0s 16us/step - loss: 1559283.8750 - MAE: 916.0561 - val_loss: 1541317.8750 - val_MAE: 925.1335\n",
      "Epoch 251/500\n",
      "5966/5966 [==============================] - 0s 17us/step - loss: 1550484.5000 - MAE: 908.8394 - val_loss: 1525092.1250 - val_MAE: 928.6418\n",
      "Epoch 252/500\n",
      "5966/5966 [==============================] - 0s 16us/step - loss: 1520239.2500 - MAE: 906.7554 - val_loss: 1528169.8750 - val_MAE: 924.2217\n",
      "Epoch 253/500\n",
      "5966/5966 [==============================] - 0s 15us/step - loss: 1571558.6250 - MAE: 919.2089 - val_loss: 1523873.2500 - val_MAE: 923.3746\n",
      "Epoch 254/500\n",
      "5966/5966 [==============================] - 0s 16us/step - loss: 1552587.3750 - MAE: 912.1168 - val_loss: 1523348.3750 - val_MAE: 921.5615\n",
      "Epoch 255/500\n",
      "5966/5966 [==============================] - 0s 16us/step - loss: 1570608.8750 - MAE: 911.2111 - val_loss: 1515060.0000 - val_MAE: 922.8495\n",
      "Epoch 256/500\n",
      "5966/5966 [==============================] - 0s 16us/step - loss: 1561869.2500 - MAE: 915.4140 - val_loss: 1521470.2500 - val_MAE: 918.6405\n",
      "Epoch 257/500\n",
      "5966/5966 [==============================] - 0s 17us/step - loss: 1528155.0000 - MAE: 899.4052 - val_loss: 1508324.6250 - val_MAE: 922.0909\n",
      "Epoch 258/500\n",
      "5966/5966 [==============================] - 0s 16us/step - loss: 1528431.6250 - MAE: 909.2484 - val_loss: 1526623.3750 - val_MAE: 916.0848\n",
      "Epoch 259/500\n",
      "5966/5966 [==============================] - 0s 17us/step - loss: 1540643.8750 - MAE: 901.9122 - val_loss: 1503485.3750 - val_MAE: 921.3585\n",
      "Epoch 260/500\n",
      "5966/5966 [==============================] - 0s 16us/step - loss: 1533746.8750 - MAE: 913.0059 - val_loss: 1522962.3750 - val_MAE: 914.6672\n",
      "Epoch 261/500\n",
      "5966/5966 [==============================] - 0s 17us/step - loss: 1546178.2500 - MAE: 901.4039 - val_loss: 1500751.5000 - val_MAE: 919.0817\n",
      "Epoch 262/500\n",
      "5966/5966 [==============================] - 0s 16us/step - loss: 1543031.5000 - MAE: 910.3069 - val_loss: 1514369.2500 - val_MAE: 913.6300\n",
      "Epoch 263/500\n",
      "5966/5966 [==============================] - 0s 17us/step - loss: 1534019.5000 - MAE: 903.6730 - val_loss: 1498324.3750 - val_MAE: 916.9974\n",
      "Epoch 264/500\n",
      "5966/5966 [==============================] - 0s 17us/step - loss: 1511925.0000 - MAE: 899.2728 - val_loss: 1503514.3750 - val_MAE: 913.3413\n",
      "Epoch 265/500\n",
      "5966/5966 [==============================] - 0s 16us/step - loss: 1499645.7500 - MAE: 895.2224 - val_loss: 1497095.0000 - val_MAE: 914.4547\n",
      "Epoch 266/500\n"
     ]
    },
    {
     "name": "stdout",
     "output_type": "stream",
     "text": [
      "5966/5966 [==============================] - 0s 16us/step - loss: 1548035.0000 - MAE: 908.0208 - val_loss: 1501548.3750 - val_MAE: 912.0630\n",
      "Epoch 267/500\n",
      "5966/5966 [==============================] - 0s 17us/step - loss: 1546161.7500 - MAE: 905.5739 - val_loss: 1494504.1250 - val_MAE: 913.3149\n",
      "Epoch 268/500\n",
      "5966/5966 [==============================] - 0s 15us/step - loss: 1531121.1250 - MAE: 908.0424 - val_loss: 1504973.2500 - val_MAE: 910.3105\n",
      "Epoch 269/500\n",
      "5966/5966 [==============================] - 0s 17us/step - loss: 1518812.8750 - MAE: 897.3329 - val_loss: 1490106.8750 - val_MAE: 913.4103\n",
      "Epoch 270/500\n",
      "5966/5966 [==============================] - 0s 15us/step - loss: 1523221.0000 - MAE: 901.5323 - val_loss: 1507098.3750 - val_MAE: 909.1855\n",
      "Epoch 271/500\n",
      "5966/5966 [==============================] - 0s 17us/step - loss: 1526084.0000 - MAE: 893.8719 - val_loss: 1486470.8750 - val_MAE: 914.4532\n",
      "Epoch 272/500\n",
      "5966/5966 [==============================] - 0s 16us/step - loss: 1527922.2500 - MAE: 908.5748 - val_loss: 1506140.3750 - val_MAE: 908.2487\n",
      "Epoch 273/500\n",
      "5966/5966 [==============================] - 0s 16us/step - loss: 1516813.6250 - MAE: 894.0514 - val_loss: 1485341.3750 - val_MAE: 912.3358\n",
      "Epoch 274/500\n",
      "5966/5966 [==============================] - 0s 16us/step - loss: 1523863.0000 - MAE: 901.3727 - val_loss: 1501862.7500 - val_MAE: 907.6025\n",
      "Epoch 275/500\n",
      "5966/5966 [==============================] - 0s 17us/step - loss: 1513273.8750 - MAE: 893.7877 - val_loss: 1485804.5000 - val_MAE: 909.9240\n",
      "Epoch 276/500\n",
      "5966/5966 [==============================] - 0s 17us/step - loss: 1496507.8750 - MAE: 895.1868 - val_loss: 1495105.8750 - val_MAE: 907.2068\n",
      "Epoch 277/500\n",
      "5966/5966 [==============================] - 0s 16us/step - loss: 1496835.1250 - MAE: 894.4560 - val_loss: 1483137.8750 - val_MAE: 909.7407\n",
      "Epoch 278/500\n",
      "5966/5966 [==============================] - 0s 17us/step - loss: 1498694.3750 - MAE: 890.3441 - val_loss: 1493718.7500 - val_MAE: 906.4783\n",
      "Epoch 279/500\n",
      "5966/5966 [==============================] - 0s 17us/step - loss: 1512204.1250 - MAE: 893.8562 - val_loss: 1482708.7500 - val_MAE: 908.3715\n",
      "Epoch 280/500\n",
      "5966/5966 [==============================] - 0s 16us/step - loss: 1509116.2500 - MAE: 898.7869 - val_loss: 1497997.6250 - val_MAE: 905.4987\n",
      "Epoch 281/500\n",
      "5966/5966 [==============================] - 0s 17us/step - loss: 1505181.6250 - MAE: 891.2145 - val_loss: 1479053.2500 - val_MAE: 910.0512\n",
      "Epoch 282/500\n",
      "5966/5966 [==============================] - 0s 15us/step - loss: 1512391.5000 - MAE: 904.6302 - val_loss: 1499434.8750 - val_MAE: 904.9267\n",
      "Epoch 283/500\n",
      "5966/5966 [==============================] - 0s 16us/step - loss: 1517110.8750 - MAE: 893.8300 - val_loss: 1479477.6250 - val_MAE: 907.9786\n",
      "Epoch 284/500\n",
      "5966/5966 [==============================] - 0s 15us/step - loss: 1507657.8750 - MAE: 900.8832 - val_loss: 1496358.5000 - val_MAE: 904.5101\n",
      "Epoch 285/500\n",
      "5966/5966 [==============================] - 0s 16us/step - loss: 1521669.5000 - MAE: 895.8927 - val_loss: 1478217.8750 - val_MAE: 907.8167\n",
      "Epoch 286/500\n",
      "5966/5966 [==============================] - 0s 16us/step - loss: 1486481.8750 - MAE: 893.3327 - val_loss: 1491987.3750 - val_MAE: 904.1393\n",
      "Epoch 287/500\n",
      "5966/5966 [==============================] - 0s 17us/step - loss: 1519652.8750 - MAE: 889.8816 - val_loss: 1477650.1250 - val_MAE: 906.9473\n",
      "Epoch 288/500\n",
      "5966/5966 [==============================] - 0s 16us/step - loss: 1541903.7500 - MAE: 906.3704 - val_loss: 1492534.6250 - val_MAE: 903.5109\n",
      "Epoch 289/500\n",
      "5966/5966 [==============================] - 0s 16us/step - loss: 1520087.6250 - MAE: 895.6918 - val_loss: 1476670.8750 - val_MAE: 906.3852\n",
      "Epoch 290/500\n",
      "5966/5966 [==============================] - 0s 16us/step - loss: 1507794.0000 - MAE: 896.2256 - val_loss: 1489822.1250 - val_MAE: 903.0656\n",
      "Epoch 291/500\n",
      "5966/5966 [==============================] - 0s 17us/step - loss: 1524033.2500 - MAE: 898.0001 - val_loss: 1477959.2500 - val_MAE: 904.6912\n",
      "Epoch 292/500\n",
      "5966/5966 [==============================] - 0s 16us/step - loss: 1517128.6250 - MAE: 895.7574 - val_loss: 1490508.8750 - val_MAE: 902.5237\n",
      "Epoch 293/500\n",
      "5966/5966 [==============================] - 0s 15us/step - loss: 1518149.5000 - MAE: 894.4553 - val_loss: 1474312.7500 - val_MAE: 905.7415\n",
      "Epoch 294/500\n",
      "5966/5966 [==============================] - 0s 16us/step - loss: 1523385.8750 - MAE: 899.3636 - val_loss: 1493021.7500 - val_MAE: 902.0469\n",
      "Epoch 295/500\n",
      "5966/5966 [==============================] - 0s 16us/step - loss: 1491842.7500 - MAE: 889.1108 - val_loss: 1474194.1250 - val_MAE: 904.8928\n",
      "Epoch 296/500\n",
      "5966/5966 [==============================] - 0s 16us/step - loss: 1495906.7500 - MAE: 893.8054 - val_loss: 1492315.2500 - val_MAE: 901.6442\n",
      "Epoch 297/500\n",
      "5966/5966 [==============================] - 0s 16us/step - loss: 1516157.5000 - MAE: 892.6976 - val_loss: 1472934.6250 - val_MAE: 904.7911\n",
      "Epoch 298/500\n",
      "5966/5966 [==============================] - 0s 16us/step - loss: 1527917.1250 - MAE: 905.6940 - val_loss: 1494582.3750 - val_MAE: 901.2524\n",
      "Epoch 299/500\n",
      "5966/5966 [==============================] - 0s 15us/step - loss: 1476523.7500 - MAE: 882.0671 - val_loss: 1471109.3750 - val_MAE: 905.7496\n",
      "Epoch 300/500\n",
      "5966/5966 [==============================] - 0s 17us/step - loss: 1502069.3750 - MAE: 901.7659 - val_loss: 1487907.1250 - val_MAE: 900.9380\n",
      "Epoch 301/500\n",
      "5966/5966 [==============================] - 0s 16us/step - loss: 1509407.2500 - MAE: 890.8038 - val_loss: 1471688.1250 - val_MAE: 903.8731\n",
      "Epoch 302/500\n",
      "5966/5966 [==============================] - 0s 17us/step - loss: 1537080.6250 - MAE: 901.4641 - val_loss: 1486352.3750 - val_MAE: 900.5723\n",
      "Epoch 303/500\n",
      "5966/5966 [==============================] - 0s 16us/step - loss: 1489929.5000 - MAE: 882.8848 - val_loss: 1471033.2500 - val_MAE: 903.3214\n",
      "Epoch 304/500\n",
      "5966/5966 [==============================] - 0s 16us/step - loss: 1512531.7500 - MAE: 897.0054 - val_loss: 1485555.3750 - val_MAE: 900.3108\n",
      "Epoch 305/500\n",
      "5966/5966 [==============================] - 0s 16us/step - loss: 1494063.7500 - MAE: 887.8244 - val_loss: 1469928.6250 - val_MAE: 903.3243\n",
      "Epoch 306/500\n",
      "5966/5966 [==============================] - 0s 17us/step - loss: 1536960.0000 - MAE: 903.6744 - val_loss: 1490303.6250 - val_MAE: 899.7792\n",
      "Epoch 307/500\n",
      "5966/5966 [==============================] - 0s 17us/step - loss: 1513950.3750 - MAE: 889.9846 - val_loss: 1470106.3750 - val_MAE: 902.5944\n",
      "Epoch 308/500\n",
      "5966/5966 [==============================] - 0s 17us/step - loss: 1511166.0000 - MAE: 894.4540 - val_loss: 1488048.0000 - val_MAE: 899.4996\n",
      "Epoch 309/500\n",
      "5966/5966 [==============================] - 0s 17us/step - loss: 1511347.6250 - MAE: 889.4990 - val_loss: 1469068.3750 - val_MAE: 902.5224\n",
      "Epoch 310/500\n",
      "5966/5966 [==============================] - 0s 16us/step - loss: 1502197.1250 - MAE: 893.3976 - val_loss: 1481878.1250 - val_MAE: 899.4064\n",
      "Epoch 311/500\n",
      "5966/5966 [==============================] - 0s 17us/step - loss: 1494921.7500 - MAE: 886.2936 - val_loss: 1468760.5000 - val_MAE: 901.9756\n",
      "Epoch 312/500\n",
      "5966/5966 [==============================] - 0s 17us/step - loss: 1496384.7500 - MAE: 892.8511 - val_loss: 1483782.5000 - val_MAE: 898.8890\n",
      "Epoch 313/500\n",
      "5966/5966 [==============================] - 0s 24us/step - loss: 1496812.0000 - MAE: 882.5990 - val_loss: 1468365.6250 - val_MAE: 901.4213\n",
      "Epoch 314/500\n",
      "5966/5966 [==============================] - 0s 19us/step - loss: 1501065.2500 - MAE: 890.4538 - val_loss: 1478332.5000 - val_MAE: 898.8132\n",
      "Epoch 315/500\n",
      "5966/5966 [==============================] - 0s 19us/step - loss: 1503975.0000 - MAE: 891.0355 - val_loss: 1469964.6250 - val_MAE: 899.9478\n",
      "Epoch 316/500\n",
      "5966/5966 [==============================] - 0s 20us/step - loss: 1514507.3750 - MAE: 898.5178 - val_loss: 1478891.6250 - val_MAE: 898.3519\n",
      "Epoch 317/500\n",
      "5966/5966 [==============================] - 0s 17us/step - loss: 1494579.1250 - MAE: 887.8052 - val_loss: 1467864.1250 - val_MAE: 900.1921\n",
      "Epoch 318/500\n",
      "5966/5966 [==============================] - 0s 17us/step - loss: 1485501.0000 - MAE: 888.9403 - val_loss: 1475571.0000 - val_MAE: 898.1764\n",
      "Epoch 319/500\n",
      "5966/5966 [==============================] - 0s 17us/step - loss: 1510851.6250 - MAE: 888.8421 - val_loss: 1468042.6250 - val_MAE: 899.4614\n"
     ]
    },
    {
     "name": "stdout",
     "output_type": "stream",
     "text": [
      "Epoch 320/500\n",
      "5966/5966 [==============================] - 0s 17us/step - loss: 1517173.2500 - MAE: 895.0103 - val_loss: 1482467.5000 - val_MAE: 897.3336\n",
      "Epoch 321/500\n",
      "5966/5966 [==============================] - 0s 16us/step - loss: 1506234.6250 - MAE: 887.8875 - val_loss: 1463904.1250 - val_MAE: 901.0564\n",
      "Epoch 322/500\n",
      "5966/5966 [==============================] - 0s 16us/step - loss: 1496147.3750 - MAE: 893.7785 - val_loss: 1486399.1250 - val_MAE: 896.8495\n",
      "Epoch 323/500\n",
      "5966/5966 [==============================] - 0s 16us/step - loss: 1516522.3750 - MAE: 891.0693 - val_loss: 1462531.2500 - val_MAE: 901.4615\n",
      "Epoch 324/500\n",
      "5966/5966 [==============================] - 0s 16us/step - loss: 1514870.7500 - MAE: 900.9139 - val_loss: 1489180.8750 - val_MAE: 896.5051\n",
      "Epoch 325/500\n",
      "5966/5966 [==============================] - 0s 16us/step - loss: 1520103.2500 - MAE: 889.5276 - val_loss: 1461530.3750 - val_MAE: 901.4115\n",
      "Epoch 326/500\n",
      "5966/5966 [==============================] - 0s 17us/step - loss: 1489109.1250 - MAE: 889.2532 - val_loss: 1475764.7500 - val_MAE: 896.4368\n",
      "Epoch 327/500\n",
      "5966/5966 [==============================] - 0s 16us/step - loss: 1518771.5000 - MAE: 891.2253 - val_loss: 1467184.2500 - val_MAE: 897.3540\n",
      "Epoch 328/500\n",
      "5966/5966 [==============================] - 0s 17us/step - loss: 1513372.7500 - MAE: 890.9534 - val_loss: 1468196.6250 - val_MAE: 896.8845\n",
      "Epoch 329/500\n",
      "5966/5966 [==============================] - 0s 16us/step - loss: 1487424.3750 - MAE: 885.3542 - val_loss: 1464820.6250 - val_MAE: 897.3642\n",
      "Epoch 330/500\n",
      "5966/5966 [==============================] - 0s 16us/step - loss: 1472151.7500 - MAE: 885.8273 - val_loss: 1472759.2500 - val_MAE: 895.7399\n",
      "Epoch 331/500\n",
      "5966/5966 [==============================] - 0s 16us/step - loss: 1494222.8750 - MAE: 885.9270 - val_loss: 1463512.0000 - val_MAE: 897.1776\n",
      "Epoch 332/500\n",
      "5966/5966 [==============================] - 0s 16us/step - loss: 1510544.7500 - MAE: 894.8272 - val_loss: 1477420.2500 - val_MAE: 895.1263\n",
      "Epoch 333/500\n",
      "5966/5966 [==============================] - 0s 16us/step - loss: 1474456.3750 - MAE: 876.7943 - val_loss: 1458204.1250 - val_MAE: 900.3080\n",
      "Epoch 334/500\n",
      "5966/5966 [==============================] - 0s 16us/step - loss: 1510024.5000 - MAE: 895.7275 - val_loss: 1490814.8750 - val_MAE: 894.8549\n",
      "Epoch 335/500\n",
      "5966/5966 [==============================] - 0s 16us/step - loss: 1503899.1250 - MAE: 880.9152 - val_loss: 1458021.3750 - val_MAE: 899.4626\n",
      "Epoch 336/500\n",
      "5966/5966 [==============================] - 0s 17us/step - loss: 1498474.6250 - MAE: 892.2293 - val_loss: 1477230.2500 - val_MAE: 894.4738\n",
      "Epoch 337/500\n",
      "5966/5966 [==============================] - 0s 16us/step - loss: 1500539.6250 - MAE: 885.3788 - val_loss: 1458250.6250 - val_MAE: 897.7445\n",
      "Epoch 338/500\n",
      "5966/5966 [==============================] - 0s 16us/step - loss: 1473959.1250 - MAE: 881.9926 - val_loss: 1468345.0000 - val_MAE: 894.4154\n",
      "Epoch 339/500\n",
      "5966/5966 [==============================] - 0s 17us/step - loss: 1491565.1250 - MAE: 887.6639 - val_loss: 1459665.2500 - val_MAE: 896.0527\n",
      "Epoch 340/500\n",
      "5966/5966 [==============================] - 0s 15us/step - loss: 1492261.1250 - MAE: 891.0413 - val_loss: 1471429.7500 - val_MAE: 893.8108\n",
      "Epoch 341/500\n",
      "5966/5966 [==============================] - 0s 17us/step - loss: 1492672.8750 - MAE: 886.3362 - val_loss: 1459782.2500 - val_MAE: 895.4940\n",
      "Epoch 342/500\n",
      "5966/5966 [==============================] - 0s 15us/step - loss: 1492193.2500 - MAE: 887.2722 - val_loss: 1468262.8750 - val_MAE: 893.7152\n",
      "Epoch 343/500\n",
      "5966/5966 [==============================] - 0s 16us/step - loss: 1496911.5000 - MAE: 883.6472 - val_loss: 1457397.1250 - val_MAE: 895.8614\n",
      "Epoch 344/500\n",
      "5966/5966 [==============================] - 0s 16us/step - loss: 1482339.3750 - MAE: 885.3296 - val_loss: 1471174.8750 - val_MAE: 893.1182\n",
      "Epoch 345/500\n",
      "5966/5966 [==============================] - 0s 16us/step - loss: 1485536.0000 - MAE: 882.2001 - val_loss: 1455473.3750 - val_MAE: 896.1815\n",
      "Epoch 346/500\n",
      "5966/5966 [==============================] - 0s 16us/step - loss: 1501109.8750 - MAE: 890.2019 - val_loss: 1473006.2500 - val_MAE: 892.6384\n",
      "Epoch 347/500\n",
      "5966/5966 [==============================] - 0s 16us/step - loss: 1491339.1250 - MAE: 882.4523 - val_loss: 1454573.2500 - val_MAE: 895.9737\n",
      "Epoch 348/500\n",
      "5966/5966 [==============================] - 0s 15us/step - loss: 1489523.3750 - MAE: 887.5284 - val_loss: 1476438.5000 - val_MAE: 892.2193\n",
      "Epoch 349/500\n",
      "5966/5966 [==============================] - 0s 17us/step - loss: 1475667.1250 - MAE: 877.0040 - val_loss: 1452053.5000 - val_MAE: 897.9849\n",
      "Epoch 350/500\n",
      "5966/5966 [==============================] - 0s 16us/step - loss: 1464610.8750 - MAE: 882.8466 - val_loss: 1471916.2500 - val_MAE: 891.8264\n",
      "Epoch 351/500\n",
      "5966/5966 [==============================] - 0s 17us/step - loss: 1478460.6250 - MAE: 877.8919 - val_loss: 1453726.0000 - val_MAE: 894.5728\n",
      "Epoch 352/500\n",
      "5966/5966 [==============================] - 0s 16us/step - loss: 1468290.0000 - MAE: 883.1431 - val_loss: 1463622.8750 - val_MAE: 891.9056\n",
      "Epoch 353/500\n",
      "5966/5966 [==============================] - 0s 16us/step - loss: 1496403.5000 - MAE: 886.4357 - val_loss: 1454779.5000 - val_MAE: 893.3546\n",
      "Epoch 354/500\n",
      "5966/5966 [==============================] - 0s 16us/step - loss: 1470778.1250 - MAE: 878.6777 - val_loss: 1465358.6250 - val_MAE: 891.2682\n",
      "Epoch 355/500\n",
      "5966/5966 [==============================] - 0s 16us/step - loss: 1517637.0000 - MAE: 885.5750 - val_loss: 1453989.7500 - val_MAE: 893.1384\n",
      "Epoch 356/500\n",
      "5966/5966 [==============================] - 0s 16us/step - loss: 1509605.2500 - MAE: 895.8444 - val_loss: 1464650.1250 - val_MAE: 891.0236\n",
      "Epoch 357/500\n",
      "5966/5966 [==============================] - 0s 17us/step - loss: 1474798.2500 - MAE: 876.8336 - val_loss: 1450640.1250 - val_MAE: 894.1069\n",
      "Epoch 358/500\n",
      "5966/5966 [==============================] - 0s 15us/step - loss: 1477260.6250 - MAE: 880.0837 - val_loss: 1469174.6250 - val_MAE: 890.4103\n",
      "Epoch 359/500\n",
      "5966/5966 [==============================] - 0s 18us/step - loss: 1499028.2500 - MAE: 883.7051 - val_loss: 1451930.2500 - val_MAE: 892.7435\n",
      "Epoch 360/500\n",
      "5966/5966 [==============================] - 0s 16us/step - loss: 1476941.1250 - MAE: 880.2411 - val_loss: 1463184.6250 - val_MAE: 890.2476\n",
      "Epoch 361/500\n",
      "5966/5966 [==============================] - 0s 17us/step - loss: 1468787.7500 - MAE: 875.4359 - val_loss: 1448186.0000 - val_MAE: 893.7040\n",
      "Epoch 362/500\n",
      "5966/5966 [==============================] - 0s 17us/step - loss: 1479515.0000 - MAE: 885.5936 - val_loss: 1466841.2500 - val_MAE: 889.4000\n",
      "Epoch 363/500\n",
      "5966/5966 [==============================] - 0s 16us/step - loss: 1493941.6250 - MAE: 884.7897 - val_loss: 1446648.8750 - val_MAE: 893.7283\n",
      "Epoch 364/500\n",
      "5966/5966 [==============================] - 0s 16us/step - loss: 1509742.1250 - MAE: 891.4464 - val_loss: 1476233.5000 - val_MAE: 889.1440\n",
      "Epoch 365/500\n",
      "5966/5966 [==============================] - 0s 17us/step - loss: 1472298.0000 - MAE: 873.7770 - val_loss: 1445334.5000 - val_MAE: 894.3611\n",
      "Epoch 366/500\n",
      "5966/5966 [==============================] - 0s 16us/step - loss: 1490980.3750 - MAE: 883.4975 - val_loss: 1469544.2500 - val_MAE: 888.7369\n",
      "Epoch 367/500\n",
      "5966/5966 [==============================] - 0s 17us/step - loss: 1483075.8750 - MAE: 877.8624 - val_loss: 1446673.6250 - val_MAE: 891.8834\n",
      "Epoch 368/500\n",
      "5966/5966 [==============================] - 0s 16us/step - loss: 1488466.0000 - MAE: 885.1052 - val_loss: 1455667.0000 - val_MAE: 888.9703\n",
      "Epoch 369/500\n",
      "5966/5966 [==============================] - 0s 17us/step - loss: 1470995.6250 - MAE: 880.7882 - val_loss: 1448480.3750 - val_MAE: 890.0059\n",
      "Epoch 370/500\n",
      "5966/5966 [==============================] - 0s 15us/step - loss: 1452320.0000 - MAE: 873.0276 - val_loss: 1453424.8750 - val_MAE: 888.7017\n",
      "Epoch 371/500\n",
      "5966/5966 [==============================] - 0s 17us/step - loss: 1479717.6250 - MAE: 881.0029 - val_loss: 1450379.3750 - val_MAE: 888.9836\n",
      "Epoch 372/500\n",
      "5966/5966 [==============================] - 0s 16us/step - loss: 1485925.5000 - MAE: 881.2794 - val_loss: 1453216.7500 - val_MAE: 888.2003\n",
      "Epoch 373/500\n",
      "5966/5966 [==============================] - 0s 16us/step - loss: 1471918.2500 - MAE: 876.5834 - val_loss: 1444632.7500 - val_MAE: 889.8551\n"
     ]
    },
    {
     "name": "stdout",
     "output_type": "stream",
     "text": [
      "Epoch 374/500\n",
      "5966/5966 [==============================] - 0s 16us/step - loss: 1457358.1250 - MAE: 875.1224 - val_loss: 1453338.8750 - val_MAE: 887.4103\n",
      "Epoch 375/500\n",
      "5966/5966 [==============================] - 0s 15us/step - loss: 1472570.1250 - MAE: 875.2096 - val_loss: 1443895.1250 - val_MAE: 889.1260\n",
      "Epoch 376/500\n",
      "5966/5966 [==============================] - 0s 17us/step - loss: 1468058.6250 - MAE: 877.6289 - val_loss: 1458901.0000 - val_MAE: 886.4407\n",
      "Epoch 377/500\n",
      "5966/5966 [==============================] - 0s 17us/step - loss: 1462288.8750 - MAE: 872.3232 - val_loss: 1440292.0000 - val_MAE: 890.7659\n",
      "Epoch 378/500\n",
      "5966/5966 [==============================] - 0s 16us/step - loss: 1483387.1250 - MAE: 883.1684 - val_loss: 1462254.8750 - val_MAE: 886.0096\n",
      "Epoch 379/500\n",
      "5966/5966 [==============================] - 0s 17us/step - loss: 1490245.3750 - MAE: 877.7620 - val_loss: 1438172.0000 - val_MAE: 892.8270\n",
      "Epoch 380/500\n",
      "5966/5966 [==============================] - 0s 16us/step - loss: 1488105.6250 - MAE: 891.5802 - val_loss: 1471721.8750 - val_MAE: 885.9117\n",
      "Epoch 381/500\n",
      "5966/5966 [==============================] - 0s 15us/step - loss: 1491284.2500 - MAE: 874.2717 - val_loss: 1438453.5000 - val_MAE: 890.1746\n",
      "Epoch 382/500\n",
      "5966/5966 [==============================] - 0s 17us/step - loss: 1489128.0000 - MAE: 884.4080 - val_loss: 1455176.8750 - val_MAE: 885.2705\n",
      "Epoch 383/500\n",
      "5966/5966 [==============================] - 0s 16us/step - loss: 1476375.7500 - MAE: 877.6060 - val_loss: 1439011.8750 - val_MAE: 888.1627\n",
      "Epoch 384/500\n",
      "5966/5966 [==============================] - 0s 16us/step - loss: 1497271.2500 - MAE: 883.9049 - val_loss: 1452192.6250 - val_MAE: 884.8923\n",
      "Epoch 385/500\n",
      "5966/5966 [==============================] - 0s 16us/step - loss: 1475090.3750 - MAE: 871.2987 - val_loss: 1437093.6250 - val_MAE: 888.2795\n",
      "Epoch 386/500\n",
      "5966/5966 [==============================] - 0s 17us/step - loss: 1465889.8750 - MAE: 878.0577 - val_loss: 1452673.3750 - val_MAE: 884.2929\n",
      "Epoch 387/500\n",
      "5966/5966 [==============================] - 0s 16us/step - loss: 1475192.6250 - MAE: 870.2882 - val_loss: 1437822.8750 - val_MAE: 886.7451\n",
      "Epoch 388/500\n",
      "5966/5966 [==============================] - 0s 16us/step - loss: 1477431.8750 - MAE: 883.2239 - val_loss: 1446075.2500 - val_MAE: 884.4182\n",
      "Epoch 389/500\n",
      "5966/5966 [==============================] - 0s 17us/step - loss: 1462845.1250 - MAE: 877.6559 - val_loss: 1439275.5000 - val_MAE: 885.5068\n",
      "Epoch 390/500\n",
      "5966/5966 [==============================] - 0s 16us/step - loss: 1453310.0000 - MAE: 872.9115 - val_loss: 1443752.1250 - val_MAE: 884.2989\n",
      "Epoch 391/500\n",
      "5966/5966 [==============================] - 0s 16us/step - loss: 1484158.2500 - MAE: 881.6149 - val_loss: 1442985.5000 - val_MAE: 884.1300\n",
      "Epoch 392/500\n",
      "5966/5966 [==============================] - 0s 17us/step - loss: 1464757.0000 - MAE: 880.7558 - val_loss: 1438409.0000 - val_MAE: 884.6785\n",
      "Epoch 393/500\n",
      "5966/5966 [==============================] - 0s 16us/step - loss: 1491388.7500 - MAE: 880.5395 - val_loss: 1445264.1250 - val_MAE: 883.2153\n",
      "Epoch 394/500\n",
      "5966/5966 [==============================] - 0s 16us/step - loss: 1461980.0000 - MAE: 869.9315 - val_loss: 1432853.5000 - val_MAE: 886.5648\n",
      "Epoch 395/500\n",
      "5966/5966 [==============================] - 0s 16us/step - loss: 1450302.8750 - MAE: 868.4935 - val_loss: 1455455.2500 - val_MAE: 882.2864\n",
      "Epoch 396/500\n",
      "5966/5966 [==============================] - 0s 17us/step - loss: 1496409.8750 - MAE: 879.3870 - val_loss: 1430274.0000 - val_MAE: 888.2219\n",
      "Epoch 397/500\n",
      "5966/5966 [==============================] - 0s 17us/step - loss: 1494197.7500 - MAE: 885.5872 - val_loss: 1458426.3750 - val_MAE: 881.9170\n",
      "Epoch 398/500\n",
      "5966/5966 [==============================] - 0s 16us/step - loss: 1479278.0000 - MAE: 873.8235 - val_loss: 1429285.2500 - val_MAE: 887.1185\n",
      "Epoch 399/500\n",
      "5966/5966 [==============================] - 0s 18us/step - loss: 1461265.8750 - MAE: 875.8971 - val_loss: 1442786.6250 - val_MAE: 881.5433\n",
      "Epoch 400/500\n",
      "5966/5966 [==============================] - 0s 16us/step - loss: 1465025.6250 - MAE: 871.4482 - val_loss: 1432496.0000 - val_MAE: 883.3702\n",
      "Epoch 401/500\n",
      "5966/5966 [==============================] - 0s 15us/step - loss: 1457501.0000 - MAE: 871.8830 - val_loss: 1439477.2500 - val_MAE: 881.3358\n",
      "Epoch 402/500\n",
      "5966/5966 [==============================] - 0s 17us/step - loss: 1459858.8750 - MAE: 867.1680 - val_loss: 1429190.8750 - val_MAE: 883.9287\n",
      "Epoch 403/500\n",
      "5966/5966 [==============================] - 0s 16us/step - loss: 1464432.3750 - MAE: 875.7358 - val_loss: 1440405.5000 - val_MAE: 880.5372\n",
      "Epoch 404/500\n",
      "5966/5966 [==============================] - 0s 16us/step - loss: 1457656.5000 - MAE: 869.6094 - val_loss: 1427844.0000 - val_MAE: 883.3286\n",
      "Epoch 405/500\n",
      "5966/5966 [==============================] - 0s 16us/step - loss: 1471694.5000 - MAE: 875.7292 - val_loss: 1442334.6250 - val_MAE: 879.7035\n",
      "Epoch 406/500\n",
      "5966/5966 [==============================] - 0s 17us/step - loss: 1455195.1250 - MAE: 869.7981 - val_loss: 1427372.8750 - val_MAE: 882.4883\n",
      "Epoch 407/500\n",
      "5966/5966 [==============================] - 0s 17us/step - loss: 1477808.7500 - MAE: 877.2293 - val_loss: 1441282.0000 - val_MAE: 879.1334\n",
      "Epoch 408/500\n",
      "5966/5966 [==============================] - 0s 16us/step - loss: 1479886.1250 - MAE: 875.3410 - val_loss: 1423971.7500 - val_MAE: 883.5518\n",
      "Epoch 409/500\n",
      "5966/5966 [==============================] - 0s 16us/step - loss: 1474785.8750 - MAE: 878.0678 - val_loss: 1446883.0000 - val_MAE: 878.4066\n",
      "Epoch 410/500\n",
      "5966/5966 [==============================] - 0s 16us/step - loss: 1474464.6250 - MAE: 870.2460 - val_loss: 1421907.7500 - val_MAE: 884.5978\n",
      "Epoch 411/500\n",
      "5966/5966 [==============================] - 0s 17us/step - loss: 1445760.0000 - MAE: 869.6074 - val_loss: 1447022.3750 - val_MAE: 877.9816\n",
      "Epoch 412/500\n",
      "5966/5966 [==============================] - 0s 17us/step - loss: 1465771.2500 - MAE: 866.0500 - val_loss: 1420955.3750 - val_MAE: 884.1763\n",
      "Epoch 413/500\n",
      "5966/5966 [==============================] - 0s 16us/step - loss: 1486289.8750 - MAE: 880.5696 - val_loss: 1446410.8750 - val_MAE: 877.5564\n",
      "Epoch 414/500\n",
      "5966/5966 [==============================] - 0s 16us/step - loss: 1461420.5000 - MAE: 868.4021 - val_loss: 1422099.8750 - val_MAE: 881.1823\n",
      "Epoch 415/500\n",
      "5966/5966 [==============================] - 0s 16us/step - loss: 1477245.2500 - MAE: 877.9716 - val_loss: 1438073.5000 - val_MAE: 877.1975\n",
      "Epoch 416/500\n",
      "5966/5966 [==============================] - 0s 16us/step - loss: 1476843.5000 - MAE: 873.5541 - val_loss: 1425232.0000 - val_MAE: 878.8257\n",
      "Epoch 417/500\n",
      "5966/5966 [==============================] - 0s 17us/step - loss: 1473764.6250 - MAE: 872.4814 - val_loss: 1430609.1250 - val_MAE: 877.3362\n",
      "Epoch 418/500\n",
      "5966/5966 [==============================] - 0s 17us/step - loss: 1465886.0000 - MAE: 869.4921 - val_loss: 1423283.2500 - val_MAE: 878.5947\n",
      "Epoch 419/500\n",
      "5966/5966 [==============================] - 0s 18us/step - loss: 1450162.6250 - MAE: 871.6929 - val_loss: 1433295.5000 - val_MAE: 876.4152\n",
      "Epoch 420/500\n",
      "5966/5966 [==============================] - 0s 16us/step - loss: 1458358.2500 - MAE: 868.1107 - val_loss: 1419710.0000 - val_MAE: 879.1487\n",
      "Epoch 421/500\n",
      "5966/5966 [==============================] - 0s 17us/step - loss: 1449661.0000 - MAE: 869.1756 - val_loss: 1433627.2500 - val_MAE: 875.7185\n",
      "Epoch 422/500\n",
      "5966/5966 [==============================] - 0s 16us/step - loss: 1453835.1250 - MAE: 868.7245 - val_loss: 1419438.7500 - val_MAE: 878.0079\n",
      "Epoch 423/500\n",
      "5966/5966 [==============================] - 0s 16us/step - loss: 1448497.3750 - MAE: 870.5400 - val_loss: 1425371.8750 - val_MAE: 875.8190\n",
      "Epoch 424/500\n",
      "5966/5966 [==============================] - 0s 16us/step - loss: 1463555.0000 - MAE: 865.4023 - val_loss: 1418460.0000 - val_MAE: 877.2134\n",
      "Epoch 425/500\n",
      "5966/5966 [==============================] - 0s 16us/step - loss: 1443178.1250 - MAE: 865.4504 - val_loss: 1428391.7500 - val_MAE: 874.7037\n",
      "Epoch 426/500\n",
      "5966/5966 [==============================] - 0s 16us/step - loss: 1464975.6250 - MAE: 870.6073 - val_loss: 1413895.1250 - val_MAE: 878.5847\n",
      "Epoch 427/500\n",
      "5966/5966 [==============================] - 0s 17us/step - loss: 1470927.3750 - MAE: 879.2697 - val_loss: 1438927.1250 - val_MAE: 873.8007\n"
     ]
    },
    {
     "name": "stdout",
     "output_type": "stream",
     "text": [
      "Epoch 428/500\n",
      "5966/5966 [==============================] - 0s 17us/step - loss: 1461916.7500 - MAE: 866.6316 - val_loss: 1411786.8750 - val_MAE: 879.6597\n",
      "Epoch 429/500\n",
      "5966/5966 [==============================] - 0s 17us/step - loss: 1427668.0000 - MAE: 868.4472 - val_loss: 1434368.5000 - val_MAE: 873.1766\n",
      "Epoch 430/500\n",
      "5966/5966 [==============================] - 0s 16us/step - loss: 1448960.1250 - MAE: 865.1130 - val_loss: 1410163.7500 - val_MAE: 879.8562\n",
      "Epoch 431/500\n",
      "5966/5966 [==============================] - 0s 16us/step - loss: 1471232.7500 - MAE: 882.2632 - val_loss: 1438852.6250 - val_MAE: 872.8353\n",
      "Epoch 432/500\n",
      "5966/5966 [==============================] - 0s 17us/step - loss: 1455945.2500 - MAE: 868.9811 - val_loss: 1410560.1250 - val_MAE: 876.8474\n",
      "Epoch 433/500\n",
      "5966/5966 [==============================] - 0s 16us/step - loss: 1434642.2500 - MAE: 868.2217 - val_loss: 1420769.2500 - val_MAE: 872.7354\n",
      "Epoch 434/500\n",
      "5966/5966 [==============================] - 0s 16us/step - loss: 1425777.2500 - MAE: 859.2965 - val_loss: 1411694.2500 - val_MAE: 874.5920\n",
      "Epoch 435/500\n",
      "5966/5966 [==============================] - 0s 16us/step - loss: 1422906.1250 - MAE: 856.8190 - val_loss: 1418533.8750 - val_MAE: 872.3980\n",
      "Epoch 436/500\n",
      "5966/5966 [==============================] - 0s 16us/step - loss: 1464789.2500 - MAE: 872.7622 - val_loss: 1413386.7500 - val_MAE: 873.2266\n",
      "Epoch 437/500\n",
      "5966/5966 [==============================] - 0s 16us/step - loss: 1450360.6250 - MAE: 866.8580 - val_loss: 1418742.2500 - val_MAE: 871.5047\n",
      "Epoch 438/500\n",
      "5966/5966 [==============================] - 0s 16us/step - loss: 1446470.2500 - MAE: 861.5721 - val_loss: 1409852.1250 - val_MAE: 873.1334\n",
      "Epoch 439/500\n",
      "5966/5966 [==============================] - 0s 17us/step - loss: 1455700.2500 - MAE: 870.2980 - val_loss: 1417009.0000 - val_MAE: 870.8197\n",
      "Epoch 440/500\n",
      "5966/5966 [==============================] - 0s 16us/step - loss: 1415168.7500 - MAE: 858.8005 - val_loss: 1405217.6250 - val_MAE: 874.4419\n",
      "Epoch 441/500\n",
      "5966/5966 [==============================] - 0s 16us/step - loss: 1496261.8750 - MAE: 881.3184 - val_loss: 1430916.7500 - val_MAE: 869.8036\n",
      "Epoch 442/500\n",
      "5966/5966 [==============================] - 0s 16us/step - loss: 1427263.6250 - MAE: 857.9733 - val_loss: 1402544.7500 - val_MAE: 877.1787\n",
      "Epoch 443/500\n",
      "5966/5966 [==============================] - 0s 16us/step - loss: 1428105.0000 - MAE: 867.7388 - val_loss: 1429233.0000 - val_MAE: 869.2280\n",
      "Epoch 444/500\n",
      "5966/5966 [==============================] - 0s 15us/step - loss: 1430014.5000 - MAE: 854.2643 - val_loss: 1403140.3750 - val_MAE: 873.1453\n",
      "Epoch 445/500\n",
      "5966/5966 [==============================] - 0s 16us/step - loss: 1411104.3750 - MAE: 863.5029 - val_loss: 1414511.3750 - val_MAE: 868.9518\n",
      "Epoch 446/500\n",
      "5966/5966 [==============================] - 0s 17us/step - loss: 1441383.1250 - MAE: 862.1698 - val_loss: 1404481.8750 - val_MAE: 870.7209\n",
      "Epoch 447/500\n",
      "5966/5966 [==============================] - 0s 16us/step - loss: 1446643.7500 - MAE: 869.2161 - val_loss: 1411149.5000 - val_MAE: 868.5865\n",
      "Epoch 448/500\n",
      "5966/5966 [==============================] - 0s 16us/step - loss: 1454147.6250 - MAE: 863.0502 - val_loss: 1405538.6250 - val_MAE: 869.2885\n",
      "Epoch 449/500\n",
      "5966/5966 [==============================] - 0s 17us/step - loss: 1424092.1250 - MAE: 858.2732 - val_loss: 1404467.7500 - val_MAE: 868.9559\n",
      "Epoch 450/500\n",
      "5966/5966 [==============================] - 0s 15us/step - loss: 1453853.3750 - MAE: 860.3023 - val_loss: 1403034.7500 - val_MAE: 868.8367\n",
      "Epoch 451/500\n",
      "5966/5966 [==============================] - 0s 16us/step - loss: 1424459.8750 - MAE: 857.6832 - val_loss: 1407320.7500 - val_MAE: 867.4144\n",
      "Epoch 452/500\n",
      "5966/5966 [==============================] - 0s 17us/step - loss: 1427810.7500 - MAE: 853.9424 - val_loss: 1399292.1250 - val_MAE: 869.1878\n",
      "Epoch 453/500\n",
      "5966/5966 [==============================] - 0s 16us/step - loss: 1454068.0000 - MAE: 871.3005 - val_loss: 1420452.5000 - val_MAE: 866.0842\n",
      "Epoch 454/500\n",
      "5966/5966 [==============================] - 0s 16us/step - loss: 1429704.8750 - MAE: 855.1366 - val_loss: 1394461.3750 - val_MAE: 873.1230\n",
      "Epoch 455/500\n",
      "5966/5966 [==============================] - 0s 16us/step - loss: 1447467.3750 - MAE: 872.4125 - val_loss: 1428405.3750 - val_MAE: 865.9570\n",
      "Epoch 456/500\n",
      "5966/5966 [==============================] - 0s 17us/step - loss: 1440758.3750 - MAE: 858.8270 - val_loss: 1393426.0000 - val_MAE: 872.0304\n",
      "Epoch 457/500\n",
      "5966/5966 [==============================] - 0s 17us/step - loss: 1442031.1250 - MAE: 865.3632 - val_loss: 1413776.5000 - val_MAE: 865.0910\n",
      "Epoch 458/500\n",
      "5966/5966 [==============================] - 0s 16us/step - loss: 1460510.1250 - MAE: 860.8198 - val_loss: 1396477.7500 - val_MAE: 867.4410\n",
      "Epoch 459/500\n",
      "5966/5966 [==============================] - 0s 17us/step - loss: 1430447.8750 - MAE: 860.4975 - val_loss: 1399558.2500 - val_MAE: 865.6146\n",
      "Epoch 460/500\n",
      "5966/5966 [==============================] - 0s 15us/step - loss: 1409823.1250 - MAE: 857.1846 - val_loss: 1398079.8750 - val_MAE: 865.4665\n",
      "Epoch 461/500\n",
      "5966/5966 [==============================] - 0s 16us/step - loss: 1416122.8750 - MAE: 854.4243 - val_loss: 1396188.0000 - val_MAE: 865.5258\n",
      "Epoch 462/500\n",
      "5966/5966 [==============================] - 0s 16us/step - loss: 1438313.7500 - MAE: 863.7509 - val_loss: 1399798.3750 - val_MAE: 864.2573\n",
      "Epoch 463/500\n",
      "5966/5966 [==============================] - 0s 17us/step - loss: 1423537.6250 - MAE: 862.2314 - val_loss: 1390789.0000 - val_MAE: 866.7120\n",
      "Epoch 464/500\n",
      "5966/5966 [==============================] - 0s 15us/step - loss: 1448010.1250 - MAE: 866.2108 - val_loss: 1413818.5000 - val_MAE: 862.8751\n",
      "Epoch 465/500\n",
      "5966/5966 [==============================] - 0s 16us/step - loss: 1441247.0000 - MAE: 859.0671 - val_loss: 1387104.7500 - val_MAE: 869.8398\n",
      "Epoch 466/500\n",
      "5966/5966 [==============================] - 0s 17us/step - loss: 1435799.5000 - MAE: 869.3444 - val_loss: 1418036.1250 - val_MAE: 862.4817\n",
      "Epoch 467/500\n",
      "5966/5966 [==============================] - 0s 16us/step - loss: 1430058.6250 - MAE: 852.2255 - val_loss: 1386186.2500 - val_MAE: 867.9397\n",
      "Epoch 468/500\n",
      "5966/5966 [==============================] - 0s 18us/step - loss: 1458135.6250 - MAE: 875.7697 - val_loss: 1407603.3750 - val_MAE: 861.7405\n",
      "Epoch 469/500\n",
      "5966/5966 [==============================] - 0s 17us/step - loss: 1437924.8750 - MAE: 855.3469 - val_loss: 1387847.1250 - val_MAE: 864.6939\n",
      "Epoch 470/500\n",
      "5966/5966 [==============================] - 0s 16us/step - loss: 1417370.2500 - MAE: 862.2465 - val_loss: 1398206.8750 - val_MAE: 861.5974\n",
      "Epoch 471/500\n",
      "5966/5966 [==============================] - 0s 17us/step - loss: 1401917.0000 - MAE: 847.4843 - val_loss: 1388048.8750 - val_MAE: 863.3408\n",
      "Epoch 472/500\n",
      "5966/5966 [==============================] - 0s 17us/step - loss: 1412105.2500 - MAE: 860.7820 - val_loss: 1394408.6250 - val_MAE: 861.1853\n",
      "Epoch 473/500\n",
      "5966/5966 [==============================] - 0s 18us/step - loss: 1453205.8750 - MAE: 865.9753 - val_loss: 1387447.3750 - val_MAE: 862.3400\n",
      "Epoch 474/500\n",
      "5966/5966 [==============================] - 0s 16us/step - loss: 1429160.2500 - MAE: 862.6793 - val_loss: 1394719.6250 - val_MAE: 860.3799\n",
      "Epoch 475/500\n",
      "5966/5966 [==============================] - 0s 16us/step - loss: 1427805.5000 - MAE: 854.7999 - val_loss: 1382412.2500 - val_MAE: 863.6310\n",
      "Epoch 476/500\n",
      "5966/5966 [==============================] - 0s 17us/step - loss: 1421137.3750 - MAE: 862.2340 - val_loss: 1405965.0000 - val_MAE: 859.5211\n",
      "Epoch 477/500\n",
      "5966/5966 [==============================] - 0s 16us/step - loss: 1440487.2500 - MAE: 854.0406 - val_loss: 1380043.1250 - val_MAE: 864.9368\n",
      "Epoch 478/500\n",
      "5966/5966 [==============================] - 0s 16us/step - loss: 1447387.7500 - MAE: 867.6526 - val_loss: 1404182.5000 - val_MAE: 858.9387\n",
      "Epoch 479/500\n",
      "5966/5966 [==============================] - 0s 17us/step - loss: 1417398.7500 - MAE: 850.3454 - val_loss: 1378402.0000 - val_MAE: 864.5416\n",
      "Epoch 480/500\n",
      "5966/5966 [==============================] - 0s 16us/step - loss: 1424184.0000 - MAE: 862.9155 - val_loss: 1400149.8750 - val_MAE: 858.3476\n",
      "Epoch 481/500\n",
      "5966/5966 [==============================] - 0s 17us/step - loss: 1411457.6250 - MAE: 849.0901 - val_loss: 1378799.8750 - val_MAE: 862.2256\n"
     ]
    },
    {
     "name": "stdout",
     "output_type": "stream",
     "text": [
      "Epoch 482/500\n",
      "5966/5966 [==============================] - 0s 16us/step - loss: 1458196.6250 - MAE: 867.1306 - val_loss: 1394458.8750 - val_MAE: 858.0045\n",
      "Epoch 483/500\n",
      "5966/5966 [==============================] - 0s 17us/step - loss: 1410859.7500 - MAE: 847.0454 - val_loss: 1379661.8750 - val_MAE: 860.2425\n",
      "Epoch 484/500\n",
      "5966/5966 [==============================] - 0s 18us/step - loss: 1412758.3750 - MAE: 854.6602 - val_loss: 1389669.0000 - val_MAE: 857.7430\n",
      "Epoch 485/500\n",
      "5966/5966 [==============================] - 0s 16us/step - loss: 1421179.8750 - MAE: 849.7037 - val_loss: 1378059.2500 - val_MAE: 859.9083\n",
      "Epoch 486/500\n",
      "5966/5966 [==============================] - 0s 16us/step - loss: 1379258.3750 - MAE: 846.1422 - val_loss: 1386288.3750 - val_MAE: 857.4430\n",
      "Epoch 487/500\n",
      "5966/5966 [==============================] - 0s 17us/step - loss: 1440600.0000 - MAE: 853.9812 - val_loss: 1377711.1250 - val_MAE: 859.0546\n",
      "Epoch 488/500\n",
      "5966/5966 [==============================] - 0s 16us/step - loss: 1423880.0000 - MAE: 858.6251 - val_loss: 1382214.2500 - val_MAE: 857.1706\n",
      "Epoch 489/500\n",
      "5966/5966 [==============================] - 0s 17us/step - loss: 1395278.5000 - MAE: 848.4352 - val_loss: 1376998.3750 - val_MAE: 857.9105\n",
      "Epoch 490/500\n",
      "5966/5966 [==============================] - 0s 15us/step - loss: 1424786.1250 - MAE: 855.8023 - val_loss: 1381583.5000 - val_MAE: 856.2823\n",
      "Epoch 491/500\n",
      "5966/5966 [==============================] - 0s 16us/step - loss: 1415795.2500 - MAE: 851.6849 - val_loss: 1375742.8750 - val_MAE: 857.0753\n",
      "Epoch 492/500\n",
      "5966/5966 [==============================] - 0s 16us/step - loss: 1440165.0000 - MAE: 856.8978 - val_loss: 1387239.3750 - val_MAE: 854.9513\n",
      "Epoch 493/500\n",
      "5966/5966 [==============================] - 0s 17us/step - loss: 1390161.1250 - MAE: 844.4050 - val_loss: 1369171.0000 - val_MAE: 860.2898\n",
      "Epoch 494/500\n",
      "5966/5966 [==============================] - 0s 16us/step - loss: 1422697.0000 - MAE: 860.9575 - val_loss: 1404161.7500 - val_MAE: 854.6808\n",
      "Epoch 495/500\n",
      "5966/5966 [==============================] - 0s 15us/step - loss: 1390511.3750 - MAE: 843.8007 - val_loss: 1367629.7500 - val_MAE: 862.3601\n",
      "Epoch 496/500\n",
      "5966/5966 [==============================] - 0s 17us/step - loss: 1420194.6250 - MAE: 862.0591 - val_loss: 1392988.3750 - val_MAE: 853.8036\n",
      "Epoch 497/500\n",
      "5966/5966 [==============================] - 0s 16us/step - loss: 1438564.8750 - MAE: 855.9678 - val_loss: 1369415.1250 - val_MAE: 856.6036\n",
      "Epoch 498/500\n",
      "5966/5966 [==============================] - 0s 16us/step - loss: 1403209.3750 - MAE: 851.6397 - val_loss: 1385007.1250 - val_MAE: 853.3715\n",
      "Epoch 499/500\n",
      "5966/5966 [==============================] - 0s 17us/step - loss: 1433475.6250 - MAE: 852.8032 - val_loss: 1368289.2500 - val_MAE: 855.8851\n",
      "Epoch 500/500\n",
      "5966/5966 [==============================] - 0s 15us/step - loss: 1400787.2500 - MAE: 852.5099 - val_loss: 1376429.5000 - val_MAE: 853.2939\n"
     ]
    }
   ],
   "source": [
    "# removing history from memory\n",
    "#del history\n",
    "# training the model\n",
    "history = model.fit(X_train, y_train, epochs=500, batch_size=len(X_train),validation_data =(X_test,y_test), verbose=1)"
   ]
  },
  {
   "cell_type": "code",
   "execution_count": 32,
   "metadata": {
    "ExecuteTime": {
     "end_time": "2020-12-05T19:18:14.381761Z",
     "start_time": "2020-12-05T19:18:14.141909Z"
    }
   },
   "outputs": [
    {
     "name": "stdout",
     "output_type": "stream",
     "text": [
      "1135.5845272692366\n"
     ]
    }
   ],
   "source": [
    "pred_train= model.predict(X_train)\n",
    "print(np.sqrt(mean_squared_error(y_train,pred_train)))"
   ]
  },
  {
   "cell_type": "code",
   "execution_count": 33,
   "metadata": {
    "ExecuteTime": {
     "end_time": "2020-12-05T19:18:16.840268Z",
     "start_time": "2020-12-05T19:18:16.627399Z"
    }
   },
   "outputs": [
    {
     "name": "stdout",
     "output_type": "stream",
     "text": [
      "5966/5966 [==============================] - 0s 34us/step\n"
     ]
    },
    {
     "data": {
      "text/plain": [
       "[1289552.2218823333, 814.5740966796875]"
      ]
     },
     "execution_count": 33,
     "metadata": {},
     "output_type": "execute_result"
    }
   ],
   "source": [
    "model.evaluate(X_train,y_train)"
   ]
  },
  {
   "cell_type": "code",
   "execution_count": 34,
   "metadata": {
    "ExecuteTime": {
     "end_time": "2020-12-05T19:18:20.107168Z",
     "start_time": "2020-12-05T19:18:19.799373Z"
    }
   },
   "outputs": [
    {
     "data": {
      "text/plain": [
       "<matplotlib.legend.Legend at 0x26b61b897c8>"
      ]
     },
     "execution_count": 34,
     "metadata": {},
     "output_type": "execute_result"
    },
    {
     "data": {
      "image/png": "[encoded data removed]",
      "text/plain": [
       "<Figure size 864x576 with 1 Axes>"
      ]
     },
     "metadata": {},
     "output_type": "display_data"
    }
   ],
   "source": [
    "# plot the training loss and accuracy\n",
    "N = np.arange(0, 500)\n",
    "plt.style.use(\"ggplot\")\n",
    "plt.figure(figsize=(12, 8))\n",
    "#plt.figure(figure)\n",
    "plt.plot(N, history.history[\"loss\"], label=\"train_loss\")\n",
    "plt.plot(N, history.history[\"val_loss\"], label=\"val_loss\")\n",
    "plt.plot(N, history.history[\"MAE\"], label=\"train_MAE\")\n",
    "plt.plot(N, history.history[\"val_MAE\"], label=\"val_MAE\")\n",
    "plt.title(\"Training Loss and Mean Absolute Error on Dataset\")\n",
    "plt.xlabel(\"Epoch #\")\n",
    "plt.ylabel(\"Loss/MAE\")\n",
    "plt.legend(loc=\"upper right\")\n",
    "#plt.savefig(args[\"plot\"])"
   ]
  },
  {
   "cell_type": "code",
   "execution_count": 35,
   "metadata": {
    "ExecuteTime": {
     "end_time": "2020-12-05T19:18:27.528402Z",
     "start_time": "2020-12-05T19:18:27.509417Z"
    }
   },
   "outputs": [],
   "source": [
    "# Applying the same transformations to test dataset\n",
    "# Outlet_Establishment_year does not carry any significance so adding the age of Outlet\n",
    "# adding extra feature of Outlet_Age = max(Outlet_Establishment_Year)-(Outlet_Establishment_year)\n",
    "test['Outlet_Age']=test['Outlet_Establishment_Year'].max() - test['Outlet_Establishment_Year']"
   ]
  },
  {
   "cell_type": "code",
   "execution_count": 36,
   "metadata": {
    "ExecuteTime": {
     "end_time": "2020-12-05T19:18:29.148353Z",
     "start_time": "2020-12-05T19:18:29.139356Z"
    }
   },
   "outputs": [],
   "source": [
    "submission = test[['Item_Identifier','Outlet_Identifier']].copy()"
   ]
  },
  {
   "cell_type": "code",
   "execution_count": 37,
   "metadata": {
    "ExecuteTime": {
     "end_time": "2020-12-05T19:18:30.493475Z",
     "start_time": "2020-12-05T19:18:30.485480Z"
    },
    "scrolled": true
   },
   "outputs": [],
   "source": [
    "# at first droping item identifier , outlet_identifier , outlet establishment year\n",
    "test = test.drop(['Item_Identifier','Outlet_Identifier','Outlet_Establishment_Year'],axis=1)"
   ]
  },
  {
   "cell_type": "code",
   "execution_count": 38,
   "metadata": {
    "ExecuteTime": {
     "end_time": "2020-12-05T19:18:31.471297Z",
     "start_time": "2020-12-05T19:18:31.461301Z"
    }
   },
   "outputs": [],
   "source": [
    "test['Item_Visibility']=test['Item_Visibility'].mask(test['Item_Visibility']==0.0)"
   ]
  },
  {
   "cell_type": "code",
   "execution_count": 39,
   "metadata": {
    "ExecuteTime": {
     "end_time": "2020-12-05T19:18:32.260197Z",
     "start_time": "2020-12-05T19:18:32.241208Z"
    }
   },
   "outputs": [
    {
     "data": {
      "text/plain": [
       "Item_Weight              976\n",
       "Item_Fat_Content           0\n",
       "Item_Visibility          353\n",
       "Item_Type                  0\n",
       "Item_MRP                   0\n",
       "Outlet_Size             1606\n",
       "Outlet_Location_Type       0\n",
       "Outlet_Type                0\n",
       "Outlet_Age                 0\n",
       "dtype: int64"
      ]
     },
     "execution_count": 39,
     "metadata": {},
     "output_type": "execute_result"
    }
   ],
   "source": [
    "test.isna().sum()"
   ]
  },
  {
   "cell_type": "code",
   "execution_count": 40,
   "metadata": {
    "ExecuteTime": {
     "end_time": "2020-12-05T19:18:33.633324Z",
     "start_time": "2020-12-05T19:18:33.613338Z"
    }
   },
   "outputs": [],
   "source": [
    "test['Item_Weight'].fillna(test['Item_Weight'].mean(),inplace=True)\n",
    "test['Outlet_Size'].fillna(test['Outlet_Size'].mode()[0],inplace=True)\n",
    "test['Item_Visibility'].fillna(test['Item_Visibility'].mean(),inplace=True)"
   ]
  },
  {
   "cell_type": "code",
   "execution_count": 41,
   "metadata": {
    "ExecuteTime": {
     "end_time": "2020-12-05T19:18:34.988381Z",
     "start_time": "2020-12-05T19:18:34.979388Z"
    }
   },
   "outputs": [
    {
     "data": {
      "text/plain": [
       "Low Fat    3396\n",
       "Regular    1935\n",
       "LF          206\n",
       "reg          78\n",
       "low fat      66\n",
       "Name: Item_Fat_Content, dtype: int64"
      ]
     },
     "execution_count": 41,
     "metadata": {},
     "output_type": "execute_result"
    }
   ],
   "source": [
    "# checking the categorical variables\n",
    "test['Item_Fat_Content'].value_counts()"
   ]
  },
  {
   "cell_type": "code",
   "execution_count": 42,
   "metadata": {
    "ExecuteTime": {
     "end_time": "2020-12-05T19:18:36.530416Z",
     "start_time": "2020-12-05T19:18:36.520420Z"
    }
   },
   "outputs": [],
   "source": [
    "# Unifying categories to Low Fat and Regular only\n",
    "test['Item_Fat_Content'] = test['Item_Fat_Content'].replace({'reg':'Regular', 'LF':'Low Fat','low fat':'Low Fat'})"
   ]
  },
  {
   "cell_type": "code",
   "execution_count": 43,
   "metadata": {
    "ExecuteTime": {
     "end_time": "2020-12-05T19:18:37.474068Z",
     "start_time": "2020-12-05T19:18:37.435096Z"
    }
   },
   "outputs": [
    {
     "data": {
      "text/html": [
       "<div>\n",
       "<style scoped>\n",
       "    .dataframe tbody tr th:only-of-type {\n",
       "        vertical-align: middle;\n",
       "    }\n",
       "\n",
       "    .dataframe tbody tr th {\n",
       "        vertical-align: top;\n",
       "    }\n",
       "\n",
       "    .dataframe thead th {\n",
       "        text-align: right;\n",
       "    }\n",
       "</style>\n",
       "<table border=\"1\" class=\"dataframe\">\n",
       "  <thead>\n",
       "    <tr style=\"text-align: right;\">\n",
       "      <th></th>\n",
       "      <th>Item_Weight</th>\n",
       "      <th>Item_Fat_Content</th>\n",
       "      <th>Item_Visibility</th>\n",
       "      <th>Item_Type</th>\n",
       "      <th>Item_MRP</th>\n",
       "      <th>Outlet_Size</th>\n",
       "      <th>Outlet_Location_Type</th>\n",
       "      <th>Outlet_Type</th>\n",
       "      <th>Outlet_Age</th>\n",
       "    </tr>\n",
       "  </thead>\n",
       "  <tbody>\n",
       "    <tr>\n",
       "      <th>0</th>\n",
       "      <td>20.750000</td>\n",
       "      <td>0</td>\n",
       "      <td>0.007565</td>\n",
       "      <td>13</td>\n",
       "      <td>107.8622</td>\n",
       "      <td>1</td>\n",
       "      <td>0</td>\n",
       "      <td>1</td>\n",
       "      <td>10</td>\n",
       "    </tr>\n",
       "    <tr>\n",
       "      <th>1</th>\n",
       "      <td>8.300000</td>\n",
       "      <td>1</td>\n",
       "      <td>0.038428</td>\n",
       "      <td>4</td>\n",
       "      <td>87.3198</td>\n",
       "      <td>1</td>\n",
       "      <td>1</td>\n",
       "      <td>1</td>\n",
       "      <td>2</td>\n",
       "    </tr>\n",
       "    <tr>\n",
       "      <th>2</th>\n",
       "      <td>14.600000</td>\n",
       "      <td>0</td>\n",
       "      <td>0.099575</td>\n",
       "      <td>11</td>\n",
       "      <td>241.7538</td>\n",
       "      <td>1</td>\n",
       "      <td>2</td>\n",
       "      <td>0</td>\n",
       "      <td>11</td>\n",
       "    </tr>\n",
       "    <tr>\n",
       "      <th>3</th>\n",
       "      <td>7.315000</td>\n",
       "      <td>0</td>\n",
       "      <td>0.015388</td>\n",
       "      <td>13</td>\n",
       "      <td>155.0340</td>\n",
       "      <td>1</td>\n",
       "      <td>1</td>\n",
       "      <td>1</td>\n",
       "      <td>2</td>\n",
       "    </tr>\n",
       "    <tr>\n",
       "      <th>4</th>\n",
       "      <td>12.695633</td>\n",
       "      <td>1</td>\n",
       "      <td>0.118599</td>\n",
       "      <td>4</td>\n",
       "      <td>234.2300</td>\n",
       "      <td>1</td>\n",
       "      <td>2</td>\n",
       "      <td>3</td>\n",
       "      <td>24</td>\n",
       "    </tr>\n",
       "  </tbody>\n",
       "</table>\n",
       "</div>"
      ],
      "text/plain": [
       "   Item_Weight  Item_Fat_Content  Item_Visibility  Item_Type  Item_MRP  \\\n",
       "0    20.750000                 0         0.007565         13  107.8622   \n",
       "1     8.300000                 1         0.038428          4   87.3198   \n",
       "2    14.600000                 0         0.099575         11  241.7538   \n",
       "3     7.315000                 0         0.015388         13  155.0340   \n",
       "4    12.695633                 1         0.118599          4  234.2300   \n",
       "\n",
       "   Outlet_Size  Outlet_Location_Type  Outlet_Type  Outlet_Age  \n",
       "0            1                     0            1          10  \n",
       "1            1                     1            1           2  \n",
       "2            1                     2            0          11  \n",
       "3            1                     1            1           2  \n",
       "4            1                     2            3          24  "
      ]
     },
     "execution_count": 43,
     "metadata": {},
     "output_type": "execute_result"
    }
   ],
   "source": [
    "# Import label encoder \n",
    "from sklearn import preprocessing\n",
    "# label_encoder object knows how to understand word labels. \n",
    "label_encoder = preprocessing.LabelEncoder()\n",
    "# Encode labels in column 'Country'. \n",
    "test['Item_Fat_Content']=label_encoder.fit_transform(test['Item_Fat_Content']) \n",
    "#,'Item_Type','Outlet_Size','Outlet_Location_Type','Outlet_Type'\n",
    "test['Outlet_Size']=label_encoder.fit_transform(test['Outlet_Size'])\n",
    "test['Outlet_Location_Type']=label_encoder.fit_transform(test['Outlet_Location_Type'])\n",
    "test['Outlet_Type']=label_encoder.fit_transform(test['Outlet_Type'])\n",
    "test['Item_Type']=label_encoder.fit_transform(test['Item_Type'])\n",
    "test.head()"
   ]
  },
  {
   "cell_type": "code",
   "execution_count": 44,
   "metadata": {
    "ExecuteTime": {
     "end_time": "2020-12-05T19:18:43.862031Z",
     "start_time": "2020-12-05T19:18:43.844042Z"
    }
   },
   "outputs": [
    {
     "data": {
      "text/plain": [
       "array([[0.96427508, 0.        , 0.01241517, 0.86666667, 0.32341312,\n",
       "        0.5       , 0.        , 0.33333333, 0.41666667],\n",
       "       [0.22298303, 1.        , 0.10884773, 0.26666667, 0.23584901,\n",
       "        0.5       , 0.5       , 0.33333333, 0.08333333],\n",
       "       [0.59809467, 0.        , 0.29990547, 0.73333333, 0.89413994,\n",
       "        0.5       , 1.        , 0.        , 0.45833333],\n",
       "       [0.16433462, 0.        , 0.03686028, 0.86666667, 0.52448781,\n",
       "        0.5       , 0.5       , 0.33333333, 0.08333333],\n",
       "       [0.48470577, 1.        , 0.35934822, 0.26666667, 0.86206897,\n",
       "        0.5       , 1.        , 1.        , 1.        ]])"
      ]
     },
     "execution_count": 44,
     "metadata": {},
     "output_type": "execute_result"
    }
   ],
   "source": [
    "#normalizing the test from 0 to 1 using MinMaxScalar\n",
    "from sklearn.preprocessing import MinMaxScaler\n",
    "min_max_scaler=MinMaxScaler()\n",
    "test=min_max_scaler.fit_transform(test)\n",
    "test[:5]"
   ]
  },
  {
   "cell_type": "code",
   "execution_count": 45,
   "metadata": {
    "ExecuteTime": {
     "end_time": "2020-12-05T19:18:58.749836Z",
     "start_time": "2020-12-05T19:18:58.598927Z"
    }
   },
   "outputs": [],
   "source": [
    "predictions = model.predict(test)"
   ]
  },
  {
   "cell_type": "code",
   "execution_count": 46,
   "metadata": {
    "ExecuteTime": {
     "end_time": "2020-12-05T19:18:59.697639Z",
     "start_time": "2020-12-05T19:18:59.678649Z"
    }
   },
   "outputs": [
    {
     "data": {
      "text/html": [
       "<div>\n",
       "<style scoped>\n",
       "    .dataframe tbody tr th:only-of-type {\n",
       "        vertical-align: middle;\n",
       "    }\n",
       "\n",
       "    .dataframe tbody tr th {\n",
       "        vertical-align: top;\n",
       "    }\n",
       "\n",
       "    .dataframe thead th {\n",
       "        text-align: right;\n",
       "    }\n",
       "</style>\n",
       "<table border=\"1\" class=\"dataframe\">\n",
       "  <thead>\n",
       "    <tr style=\"text-align: right;\">\n",
       "      <th></th>\n",
       "      <th>Item_Identifier</th>\n",
       "      <th>Outlet_Identifier</th>\n",
       "      <th>Item_Outlet_Sales</th>\n",
       "    </tr>\n",
       "  </thead>\n",
       "  <tbody>\n",
       "    <tr>\n",
       "      <th>0</th>\n",
       "      <td>FDW58</td>\n",
       "      <td>OUT049</td>\n",
       "      <td>1922.841309</td>\n",
       "    </tr>\n",
       "    <tr>\n",
       "      <th>1</th>\n",
       "      <td>FDW14</td>\n",
       "      <td>OUT017</td>\n",
       "      <td>1216.849609</td>\n",
       "    </tr>\n",
       "    <tr>\n",
       "      <th>2</th>\n",
       "      <td>NCN55</td>\n",
       "      <td>OUT010</td>\n",
       "      <td>1504.466797</td>\n",
       "    </tr>\n",
       "    <tr>\n",
       "      <th>3</th>\n",
       "      <td>FDQ58</td>\n",
       "      <td>OUT017</td>\n",
       "      <td>2287.141357</td>\n",
       "    </tr>\n",
       "    <tr>\n",
       "      <th>4</th>\n",
       "      <td>FDY38</td>\n",
       "      <td>OUT027</td>\n",
       "      <td>5254.823730</td>\n",
       "    </tr>\n",
       "    <tr>\n",
       "      <th>...</th>\n",
       "      <td>...</td>\n",
       "      <td>...</td>\n",
       "      <td>...</td>\n",
       "    </tr>\n",
       "    <tr>\n",
       "      <th>5676</th>\n",
       "      <td>FDB58</td>\n",
       "      <td>OUT046</td>\n",
       "      <td>2284.740479</td>\n",
       "    </tr>\n",
       "    <tr>\n",
       "      <th>5677</th>\n",
       "      <td>FDD47</td>\n",
       "      <td>OUT018</td>\n",
       "      <td>2846.597412</td>\n",
       "    </tr>\n",
       "    <tr>\n",
       "      <th>5678</th>\n",
       "      <td>NCO17</td>\n",
       "      <td>OUT045</td>\n",
       "      <td>1440.291748</td>\n",
       "    </tr>\n",
       "    <tr>\n",
       "      <th>5679</th>\n",
       "      <td>FDJ26</td>\n",
       "      <td>OUT017</td>\n",
       "      <td>3165.809814</td>\n",
       "    </tr>\n",
       "    <tr>\n",
       "      <th>5680</th>\n",
       "      <td>FDU37</td>\n",
       "      <td>OUT045</td>\n",
       "      <td>864.133789</td>\n",
       "    </tr>\n",
       "  </tbody>\n",
       "</table>\n",
       "<p>5681 rows × 3 columns</p>\n",
       "</div>"
      ],
      "text/plain": [
       "     Item_Identifier Outlet_Identifier  Item_Outlet_Sales\n",
       "0              FDW58            OUT049        1922.841309\n",
       "1              FDW14            OUT017        1216.849609\n",
       "2              NCN55            OUT010        1504.466797\n",
       "3              FDQ58            OUT017        2287.141357\n",
       "4              FDY38            OUT027        5254.823730\n",
       "...              ...               ...                ...\n",
       "5676           FDB58            OUT046        2284.740479\n",
       "5677           FDD47            OUT018        2846.597412\n",
       "5678           NCO17            OUT045        1440.291748\n",
       "5679           FDJ26            OUT017        3165.809814\n",
       "5680           FDU37            OUT045         864.133789\n",
       "\n",
       "[5681 rows x 3 columns]"
      ]
     },
     "execution_count": 46,
     "metadata": {},
     "output_type": "execute_result"
    }
   ],
   "source": [
    "submission['Item_Outlet_Sales']=predictions\n",
    "submission"
   ]
  },
  {
   "cell_type": "code",
   "execution_count": 47,
   "metadata": {
    "ExecuteTime": {
     "end_time": "2020-12-05T19:19:01.088835Z",
     "start_time": "2020-12-05T19:19:01.050855Z"
    }
   },
   "outputs": [],
   "source": [
    "submission.to_csv('submission.csv',index=False)"
   ]
  }
 ],
 "metadata": {
  "kernelspec": {
   "display_name": "Python 3",
   "language": "python",
   "name": "python3"
  },
  "language_info": {
   "codemirror_mode": {
    "name": "ipython",
    "version": 3
   },
   "file_extension": ".py",
   "mimetype": "text/x-python",
   "name": "python",
   "nbconvert_exporter": "python",
   "pygments_lexer": "ipython3",
   "version": "3.7.6"
  }
 },
 "nbformat": 4,
 "nbformat_minor": 4
}
