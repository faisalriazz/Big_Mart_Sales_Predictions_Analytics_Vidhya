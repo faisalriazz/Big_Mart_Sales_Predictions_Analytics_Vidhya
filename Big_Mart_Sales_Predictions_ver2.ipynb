{
 "cells": [
  {
   "cell_type": "markdown",
   "metadata": {},
   "source": [
    "# Big Mart Sales Prediction"
   ]
  },
  {
   "cell_type": "markdown",
   "metadata": {},
   "source": [
    "### Importing required Libraries"
   ]
  },
  {
   "cell_type": "code",
   "execution_count": 22,
   "metadata": {
    "ExecuteTime": {
     "end_time": "2020-12-05T08:06:39.856543Z",
     "start_time": "2020-12-05T08:06:32.584658Z"
    }
   },
   "outputs": [],
   "source": [
    "import numpy as np\n",
    "import pandas as pd\n",
    "import matplotlib.pyplot as plt\n",
    "import seaborn as sns\n",
    "%matplotlib inline"
   ]
  },
  {
   "cell_type": "markdown",
   "metadata": {},
   "source": [
    "### importing the dataset"
   ]
  },
  {
   "cell_type": "code",
   "execution_count": 2,
   "metadata": {
    "ExecuteTime": {
     "end_time": "2020-12-05T07:26:22.119387Z",
     "start_time": "2020-12-05T07:26:21.863879Z"
    }
   },
   "outputs": [],
   "source": [
    "# training csv file\n",
    "df_train = pd.read_csv('D:/Analytics_Vidhya/NeuralNetwork/BigMartSales/train.csv')"
   ]
  },
  {
   "cell_type": "code",
   "execution_count": 3,
   "metadata": {
    "ExecuteTime": {
     "end_time": "2020-12-05T07:26:39.286370Z",
     "start_time": "2020-12-05T07:26:39.143757Z"
    },
    "scrolled": true
   },
   "outputs": [
    {
     "name": "stdout",
     "output_type": "stream",
     "text": [
      "<class 'pandas.core.frame.DataFrame'>\n",
      "RangeIndex: 8523 entries, 0 to 8522\n",
      "Data columns (total 12 columns):\n",
      " #   Column                     Non-Null Count  Dtype  \n",
      "---  ------                     --------------  -----  \n",
      " 0   Item_Identifier            8523 non-null   object \n",
      " 1   Item_Weight                7060 non-null   float64\n",
      " 2   Item_Fat_Content           8523 non-null   object \n",
      " 3   Item_Visibility            8523 non-null   float64\n",
      " 4   Item_Type                  8523 non-null   object \n",
      " 5   Item_MRP                   8523 non-null   float64\n",
      " 6   Outlet_Identifier          8523 non-null   object \n",
      " 7   Outlet_Establishment_Year  8523 non-null   int64  \n",
      " 8   Outlet_Size                6113 non-null   object \n",
      " 9   Outlet_Location_Type       8523 non-null   object \n",
      " 10  Outlet_Type                8523 non-null   object \n",
      " 11  Item_Outlet_Sales          8523 non-null   float64\n",
      "dtypes: float64(4), int64(1), object(7)\n",
      "memory usage: 799.2+ KB\n"
     ]
    }
   ],
   "source": [
    "df_train.info()"
   ]
  },
  {
   "cell_type": "code",
   "execution_count": 4,
   "metadata": {
    "ExecuteTime": {
     "end_time": "2020-12-05T07:26:41.209781Z",
     "start_time": "2020-12-05T07:26:41.095657Z"
    }
   },
   "outputs": [
    {
     "data": {
      "text/html": [
       "<div>\n",
       "<style scoped>\n",
       "    .dataframe tbody tr th:only-of-type {\n",
       "        vertical-align: middle;\n",
       "    }\n",
       "\n",
       "    .dataframe tbody tr th {\n",
       "        vertical-align: top;\n",
       "    }\n",
       "\n",
       "    .dataframe thead th {\n",
       "        text-align: right;\n",
       "    }\n",
       "</style>\n",
       "<table border=\"1\" class=\"dataframe\">\n",
       "  <thead>\n",
       "    <tr style=\"text-align: right;\">\n",
       "      <th></th>\n",
       "      <th>Item_Identifier</th>\n",
       "      <th>Item_Weight</th>\n",
       "      <th>Item_Fat_Content</th>\n",
       "      <th>Item_Visibility</th>\n",
       "      <th>Item_Type</th>\n",
       "      <th>Item_MRP</th>\n",
       "      <th>Outlet_Identifier</th>\n",
       "      <th>Outlet_Establishment_Year</th>\n",
       "      <th>Outlet_Size</th>\n",
       "      <th>Outlet_Location_Type</th>\n",
       "      <th>Outlet_Type</th>\n",
       "      <th>Item_Outlet_Sales</th>\n",
       "    </tr>\n",
       "  </thead>\n",
       "  <tbody>\n",
       "    <tr>\n",
       "      <th>0</th>\n",
       "      <td>FDA15</td>\n",
       "      <td>9.30</td>\n",
       "      <td>Low Fat</td>\n",
       "      <td>0.016047</td>\n",
       "      <td>Dairy</td>\n",
       "      <td>249.8092</td>\n",
       "      <td>OUT049</td>\n",
       "      <td>1999</td>\n",
       "      <td>Medium</td>\n",
       "      <td>Tier 1</td>\n",
       "      <td>Supermarket Type1</td>\n",
       "      <td>3735.1380</td>\n",
       "    </tr>\n",
       "    <tr>\n",
       "      <th>1</th>\n",
       "      <td>DRC01</td>\n",
       "      <td>5.92</td>\n",
       "      <td>Regular</td>\n",
       "      <td>0.019278</td>\n",
       "      <td>Soft Drinks</td>\n",
       "      <td>48.2692</td>\n",
       "      <td>OUT018</td>\n",
       "      <td>2009</td>\n",
       "      <td>Medium</td>\n",
       "      <td>Tier 3</td>\n",
       "      <td>Supermarket Type2</td>\n",
       "      <td>443.4228</td>\n",
       "    </tr>\n",
       "    <tr>\n",
       "      <th>2</th>\n",
       "      <td>FDN15</td>\n",
       "      <td>17.50</td>\n",
       "      <td>Low Fat</td>\n",
       "      <td>0.016760</td>\n",
       "      <td>Meat</td>\n",
       "      <td>141.6180</td>\n",
       "      <td>OUT049</td>\n",
       "      <td>1999</td>\n",
       "      <td>Medium</td>\n",
       "      <td>Tier 1</td>\n",
       "      <td>Supermarket Type1</td>\n",
       "      <td>2097.2700</td>\n",
       "    </tr>\n",
       "    <tr>\n",
       "      <th>3</th>\n",
       "      <td>FDX07</td>\n",
       "      <td>19.20</td>\n",
       "      <td>Regular</td>\n",
       "      <td>0.000000</td>\n",
       "      <td>Fruits and Vegetables</td>\n",
       "      <td>182.0950</td>\n",
       "      <td>OUT010</td>\n",
       "      <td>1998</td>\n",
       "      <td>NaN</td>\n",
       "      <td>Tier 3</td>\n",
       "      <td>Grocery Store</td>\n",
       "      <td>732.3800</td>\n",
       "    </tr>\n",
       "    <tr>\n",
       "      <th>4</th>\n",
       "      <td>NCD19</td>\n",
       "      <td>8.93</td>\n",
       "      <td>Low Fat</td>\n",
       "      <td>0.000000</td>\n",
       "      <td>Household</td>\n",
       "      <td>53.8614</td>\n",
       "      <td>OUT013</td>\n",
       "      <td>1987</td>\n",
       "      <td>High</td>\n",
       "      <td>Tier 3</td>\n",
       "      <td>Supermarket Type1</td>\n",
       "      <td>994.7052</td>\n",
       "    </tr>\n",
       "  </tbody>\n",
       "</table>\n",
       "</div>"
      ],
      "text/plain": [
       "  Item_Identifier  Item_Weight Item_Fat_Content  Item_Visibility  \\\n",
       "0           FDA15         9.30          Low Fat         0.016047   \n",
       "1           DRC01         5.92          Regular         0.019278   \n",
       "2           FDN15        17.50          Low Fat         0.016760   \n",
       "3           FDX07        19.20          Regular         0.000000   \n",
       "4           NCD19         8.93          Low Fat         0.000000   \n",
       "\n",
       "               Item_Type  Item_MRP Outlet_Identifier  \\\n",
       "0                  Dairy  249.8092            OUT049   \n",
       "1            Soft Drinks   48.2692            OUT018   \n",
       "2                   Meat  141.6180            OUT049   \n",
       "3  Fruits and Vegetables  182.0950            OUT010   \n",
       "4              Household   53.8614            OUT013   \n",
       "\n",
       "   Outlet_Establishment_Year Outlet_Size Outlet_Location_Type  \\\n",
       "0                       1999      Medium               Tier 1   \n",
       "1                       2009      Medium               Tier 3   \n",
       "2                       1999      Medium               Tier 1   \n",
       "3                       1998         NaN               Tier 3   \n",
       "4                       1987        High               Tier 3   \n",
       "\n",
       "         Outlet_Type  Item_Outlet_Sales  \n",
       "0  Supermarket Type1          3735.1380  \n",
       "1  Supermarket Type2           443.4228  \n",
       "2  Supermarket Type1          2097.2700  \n",
       "3      Grocery Store           732.3800  \n",
       "4  Supermarket Type1           994.7052  "
      ]
     },
     "execution_count": 4,
     "metadata": {},
     "output_type": "execute_result"
    }
   ],
   "source": [
    "df_train.head()"
   ]
  },
  {
   "cell_type": "code",
   "execution_count": 13,
   "metadata": {
    "ExecuteTime": {
     "end_time": "2020-12-05T07:42:09.858174Z",
     "start_time": "2020-12-05T07:42:09.840188Z"
    }
   },
   "outputs": [
    {
     "data": {
      "text/plain": [
       "(8523, 12)"
      ]
     },
     "execution_count": 13,
     "metadata": {},
     "output_type": "execute_result"
    }
   ],
   "source": [
    "df_train.shape"
   ]
  },
  {
   "cell_type": "code",
   "execution_count": 14,
   "metadata": {
    "ExecuteTime": {
     "end_time": "2020-12-05T07:42:12.652753Z",
     "start_time": "2020-12-05T07:42:12.643757Z"
    }
   },
   "outputs": [
    {
     "data": {
      "text/plain": [
       "Item_Identifier               object\n",
       "Item_Weight                  float64\n",
       "Item_Fat_Content              object\n",
       "Item_Visibility              float64\n",
       "Item_Type                     object\n",
       "Item_MRP                     float64\n",
       "Outlet_Identifier             object\n",
       "Outlet_Establishment_Year      int64\n",
       "Outlet_Size                   object\n",
       "Outlet_Location_Type          object\n",
       "Outlet_Type                   object\n",
       "Item_Outlet_Sales            float64\n",
       "dtype: object"
      ]
     },
     "execution_count": 14,
     "metadata": {},
     "output_type": "execute_result"
    }
   ],
   "source": [
    "df_train.dtypes"
   ]
  },
  {
   "cell_type": "code",
   "execution_count": 15,
   "metadata": {
    "ExecuteTime": {
     "end_time": "2020-12-05T07:42:17.776858Z",
     "start_time": "2020-12-05T07:42:17.759867Z"
    }
   },
   "outputs": [
    {
     "data": {
      "text/plain": [
       "Item_Identifier                 0\n",
       "Item_Weight                  1463\n",
       "Item_Fat_Content                0\n",
       "Item_Visibility                 0\n",
       "Item_Type                       0\n",
       "Item_MRP                        0\n",
       "Outlet_Identifier               0\n",
       "Outlet_Establishment_Year       0\n",
       "Outlet_Size                  2410\n",
       "Outlet_Location_Type            0\n",
       "Outlet_Type                     0\n",
       "Item_Outlet_Sales               0\n",
       "dtype: int64"
      ]
     },
     "execution_count": 15,
     "metadata": {},
     "output_type": "execute_result"
    }
   ],
   "source": [
    "df_train.isnull().sum()"
   ]
  },
  {
   "cell_type": "markdown",
   "metadata": {},
   "source": [
    "### Item Visibility cannot be 0 , we will replace it with mean Visibility"
   ]
  },
  {
   "cell_type": "code",
   "execution_count": 52,
   "metadata": {
    "ExecuteTime": {
     "end_time": "2020-12-05T10:30:11.800064Z",
     "start_time": "2020-12-05T10:30:11.755093Z"
    }
   },
   "outputs": [
    {
     "data": {
      "text/html": [
       "<div>\n",
       "<style scoped>\n",
       "    .dataframe tbody tr th:only-of-type {\n",
       "        vertical-align: middle;\n",
       "    }\n",
       "\n",
       "    .dataframe tbody tr th {\n",
       "        vertical-align: top;\n",
       "    }\n",
       "\n",
       "    .dataframe thead th {\n",
       "        text-align: right;\n",
       "    }\n",
       "</style>\n",
       "<table border=\"1\" class=\"dataframe\">\n",
       "  <thead>\n",
       "    <tr style=\"text-align: right;\">\n",
       "      <th></th>\n",
       "      <th>Item_Identifier</th>\n",
       "      <th>Item_Weight</th>\n",
       "      <th>Item_Fat_Content</th>\n",
       "      <th>Item_Visibility</th>\n",
       "      <th>Item_Type</th>\n",
       "      <th>Item_MRP</th>\n",
       "      <th>Outlet_Identifier</th>\n",
       "      <th>Outlet_Establishment_Year</th>\n",
       "      <th>Outlet_Size</th>\n",
       "      <th>Outlet_Location_Type</th>\n",
       "      <th>Outlet_Type</th>\n",
       "      <th>Item_Outlet_Sales</th>\n",
       "    </tr>\n",
       "  </thead>\n",
       "  <tbody>\n",
       "    <tr>\n",
       "      <th>3</th>\n",
       "      <td>FDX07</td>\n",
       "      <td>19.200</td>\n",
       "      <td>Regular</td>\n",
       "      <td>0.0</td>\n",
       "      <td>Fruits and Vegetables</td>\n",
       "      <td>182.0950</td>\n",
       "      <td>OUT010</td>\n",
       "      <td>1998</td>\n",
       "      <td>NaN</td>\n",
       "      <td>Tier 3</td>\n",
       "      <td>Grocery Store</td>\n",
       "      <td>732.3800</td>\n",
       "    </tr>\n",
       "    <tr>\n",
       "      <th>4</th>\n",
       "      <td>NCD19</td>\n",
       "      <td>8.930</td>\n",
       "      <td>Low Fat</td>\n",
       "      <td>0.0</td>\n",
       "      <td>Household</td>\n",
       "      <td>53.8614</td>\n",
       "      <td>OUT013</td>\n",
       "      <td>1987</td>\n",
       "      <td>High</td>\n",
       "      <td>Tier 3</td>\n",
       "      <td>Supermarket Type1</td>\n",
       "      <td>994.7052</td>\n",
       "    </tr>\n",
       "    <tr>\n",
       "      <th>5</th>\n",
       "      <td>FDP36</td>\n",
       "      <td>10.395</td>\n",
       "      <td>Regular</td>\n",
       "      <td>0.0</td>\n",
       "      <td>Baking Goods</td>\n",
       "      <td>51.4008</td>\n",
       "      <td>OUT018</td>\n",
       "      <td>2009</td>\n",
       "      <td>Medium</td>\n",
       "      <td>Tier 3</td>\n",
       "      <td>Supermarket Type2</td>\n",
       "      <td>556.6088</td>\n",
       "    </tr>\n",
       "    <tr>\n",
       "      <th>10</th>\n",
       "      <td>FDY07</td>\n",
       "      <td>11.800</td>\n",
       "      <td>Low Fat</td>\n",
       "      <td>0.0</td>\n",
       "      <td>Fruits and Vegetables</td>\n",
       "      <td>45.5402</td>\n",
       "      <td>OUT049</td>\n",
       "      <td>1999</td>\n",
       "      <td>Medium</td>\n",
       "      <td>Tier 1</td>\n",
       "      <td>Supermarket Type1</td>\n",
       "      <td>1516.0266</td>\n",
       "    </tr>\n",
       "    <tr>\n",
       "      <th>32</th>\n",
       "      <td>FDP33</td>\n",
       "      <td>18.700</td>\n",
       "      <td>Low Fat</td>\n",
       "      <td>0.0</td>\n",
       "      <td>Snack Foods</td>\n",
       "      <td>256.6672</td>\n",
       "      <td>OUT018</td>\n",
       "      <td>2009</td>\n",
       "      <td>Medium</td>\n",
       "      <td>Tier 3</td>\n",
       "      <td>Supermarket Type2</td>\n",
       "      <td>3068.0064</td>\n",
       "    </tr>\n",
       "    <tr>\n",
       "      <th>...</th>\n",
       "      <td>...</td>\n",
       "      <td>...</td>\n",
       "      <td>...</td>\n",
       "      <td>...</td>\n",
       "      <td>...</td>\n",
       "      <td>...</td>\n",
       "      <td>...</td>\n",
       "      <td>...</td>\n",
       "      <td>...</td>\n",
       "      <td>...</td>\n",
       "      <td>...</td>\n",
       "      <td>...</td>\n",
       "    </tr>\n",
       "    <tr>\n",
       "      <th>8480</th>\n",
       "      <td>FDQ58</td>\n",
       "      <td>NaN</td>\n",
       "      <td>Low Fat</td>\n",
       "      <td>0.0</td>\n",
       "      <td>Snack Foods</td>\n",
       "      <td>154.5340</td>\n",
       "      <td>OUT019</td>\n",
       "      <td>1985</td>\n",
       "      <td>Small</td>\n",
       "      <td>Tier 1</td>\n",
       "      <td>Grocery Store</td>\n",
       "      <td>459.4020</td>\n",
       "    </tr>\n",
       "    <tr>\n",
       "      <th>8484</th>\n",
       "      <td>DRJ49</td>\n",
       "      <td>6.865</td>\n",
       "      <td>Low Fat</td>\n",
       "      <td>0.0</td>\n",
       "      <td>Soft Drinks</td>\n",
       "      <td>129.9652</td>\n",
       "      <td>OUT013</td>\n",
       "      <td>1987</td>\n",
       "      <td>High</td>\n",
       "      <td>Tier 3</td>\n",
       "      <td>Supermarket Type1</td>\n",
       "      <td>2324.9736</td>\n",
       "    </tr>\n",
       "    <tr>\n",
       "      <th>8486</th>\n",
       "      <td>FDR20</td>\n",
       "      <td>20.000</td>\n",
       "      <td>Regular</td>\n",
       "      <td>0.0</td>\n",
       "      <td>Fruits and Vegetables</td>\n",
       "      <td>46.4744</td>\n",
       "      <td>OUT010</td>\n",
       "      <td>1998</td>\n",
       "      <td>NaN</td>\n",
       "      <td>Tier 3</td>\n",
       "      <td>Grocery Store</td>\n",
       "      <td>45.2744</td>\n",
       "    </tr>\n",
       "    <tr>\n",
       "      <th>8494</th>\n",
       "      <td>NCI54</td>\n",
       "      <td>15.200</td>\n",
       "      <td>Low Fat</td>\n",
       "      <td>0.0</td>\n",
       "      <td>Household</td>\n",
       "      <td>110.4912</td>\n",
       "      <td>OUT017</td>\n",
       "      <td>2007</td>\n",
       "      <td>NaN</td>\n",
       "      <td>Tier 2</td>\n",
       "      <td>Supermarket Type1</td>\n",
       "      <td>1637.8680</td>\n",
       "    </tr>\n",
       "    <tr>\n",
       "      <th>8500</th>\n",
       "      <td>NCQ42</td>\n",
       "      <td>20.350</td>\n",
       "      <td>Low Fat</td>\n",
       "      <td>0.0</td>\n",
       "      <td>Household</td>\n",
       "      <td>125.1678</td>\n",
       "      <td>OUT017</td>\n",
       "      <td>2007</td>\n",
       "      <td>NaN</td>\n",
       "      <td>Tier 2</td>\n",
       "      <td>Supermarket Type1</td>\n",
       "      <td>1907.5170</td>\n",
       "    </tr>\n",
       "  </tbody>\n",
       "</table>\n",
       "<p>526 rows × 12 columns</p>\n",
       "</div>"
      ],
      "text/plain": [
       "     Item_Identifier  Item_Weight Item_Fat_Content  Item_Visibility  \\\n",
       "3              FDX07       19.200          Regular              0.0   \n",
       "4              NCD19        8.930          Low Fat              0.0   \n",
       "5              FDP36       10.395          Regular              0.0   \n",
       "10             FDY07       11.800          Low Fat              0.0   \n",
       "32             FDP33       18.700          Low Fat              0.0   \n",
       "...              ...          ...              ...              ...   \n",
       "8480           FDQ58          NaN          Low Fat              0.0   \n",
       "8484           DRJ49        6.865          Low Fat              0.0   \n",
       "8486           FDR20       20.000          Regular              0.0   \n",
       "8494           NCI54       15.200          Low Fat              0.0   \n",
       "8500           NCQ42       20.350          Low Fat              0.0   \n",
       "\n",
       "                  Item_Type  Item_MRP Outlet_Identifier  \\\n",
       "3     Fruits and Vegetables  182.0950            OUT010   \n",
       "4                 Household   53.8614            OUT013   \n",
       "5              Baking Goods   51.4008            OUT018   \n",
       "10    Fruits and Vegetables   45.5402            OUT049   \n",
       "32              Snack Foods  256.6672            OUT018   \n",
       "...                     ...       ...               ...   \n",
       "8480            Snack Foods  154.5340            OUT019   \n",
       "8484            Soft Drinks  129.9652            OUT013   \n",
       "8486  Fruits and Vegetables   46.4744            OUT010   \n",
       "8494              Household  110.4912            OUT017   \n",
       "8500              Household  125.1678            OUT017   \n",
       "\n",
       "      Outlet_Establishment_Year Outlet_Size Outlet_Location_Type  \\\n",
       "3                          1998         NaN               Tier 3   \n",
       "4                          1987        High               Tier 3   \n",
       "5                          2009      Medium               Tier 3   \n",
       "10                         1999      Medium               Tier 1   \n",
       "32                         2009      Medium               Tier 3   \n",
       "...                         ...         ...                  ...   \n",
       "8480                       1985       Small               Tier 1   \n",
       "8484                       1987        High               Tier 3   \n",
       "8486                       1998         NaN               Tier 3   \n",
       "8494                       2007         NaN               Tier 2   \n",
       "8500                       2007         NaN               Tier 2   \n",
       "\n",
       "            Outlet_Type  Item_Outlet_Sales  \n",
       "3         Grocery Store           732.3800  \n",
       "4     Supermarket Type1           994.7052  \n",
       "5     Supermarket Type2           556.6088  \n",
       "10    Supermarket Type1          1516.0266  \n",
       "32    Supermarket Type2          3068.0064  \n",
       "...                 ...                ...  \n",
       "8480      Grocery Store           459.4020  \n",
       "8484  Supermarket Type1          2324.9736  \n",
       "8486      Grocery Store            45.2744  \n",
       "8494  Supermarket Type1          1637.8680  \n",
       "8500  Supermarket Type1          1907.5170  \n",
       "\n",
       "[526 rows x 12 columns]"
      ]
     },
     "execution_count": 52,
     "metadata": {},
     "output_type": "execute_result"
    }
   ],
   "source": [
    "df_train[df_train['Item_Visibility']==0.0]"
   ]
  },
  {
   "cell_type": "code",
   "execution_count": 53,
   "metadata": {
    "ExecuteTime": {
     "end_time": "2020-12-05T10:32:23.954646Z",
     "start_time": "2020-12-05T10:32:23.941658Z"
    }
   },
   "outputs": [],
   "source": [
    "# at first droping item identifier , outlet_identifier\n",
    "df_train = df_train.drop(['Item_Identifier','Outlet_Identifier'],axis=1)"
   ]
  },
  {
   "cell_type": "code",
   "execution_count": 54,
   "metadata": {
    "ExecuteTime": {
     "end_time": "2020-12-05T10:32:25.730281Z",
     "start_time": "2020-12-05T10:32:25.720282Z"
    }
   },
   "outputs": [
    {
     "name": "stdout",
     "output_type": "stream",
     "text": [
      "list of the columns is Index(['Item_Weight', 'Item_Fat_Content', 'Item_Visibility', 'Item_Type',\n",
      "       'Item_MRP', 'Outlet_Establishment_Year', 'Outlet_Size',\n",
      "       'Outlet_Location_Type', 'Outlet_Type', 'Item_Outlet_Sales'],\n",
      "      dtype='object')\n",
      " and modified shape is (8523, 10)\n",
      "\n"
     ]
    }
   ],
   "source": [
    "print('list of the columns is {}\\n and modified shape is {}\\n'.format(df_train.columns,df_train.shape))"
   ]
  },
  {
   "cell_type": "code",
   "execution_count": 56,
   "metadata": {
    "ExecuteTime": {
     "end_time": "2020-12-05T10:37:41.122635Z",
     "start_time": "2020-12-05T10:37:41.035270Z"
    }
   },
   "outputs": [],
   "source": [
    "df_train['Outlet_Age']=df_train['Outlet_Establishment_Year'].max() - df_train['Outlet_Establishment_Year']"
   ]
  },
  {
   "cell_type": "code",
   "execution_count": 57,
   "metadata": {
    "ExecuteTime": {
     "end_time": "2020-12-05T10:37:53.303231Z",
     "start_time": "2020-12-05T10:37:53.264254Z"
    }
   },
   "outputs": [
    {
     "data": {
      "text/html": [
       "<div>\n",
       "<style scoped>\n",
       "    .dataframe tbody tr th:only-of-type {\n",
       "        vertical-align: middle;\n",
       "    }\n",
       "\n",
       "    .dataframe tbody tr th {\n",
       "        vertical-align: top;\n",
       "    }\n",
       "\n",
       "    .dataframe thead th {\n",
       "        text-align: right;\n",
       "    }\n",
       "</style>\n",
       "<table border=\"1\" class=\"dataframe\">\n",
       "  <thead>\n",
       "    <tr style=\"text-align: right;\">\n",
       "      <th></th>\n",
       "      <th>Item_Weight</th>\n",
       "      <th>Item_Fat_Content</th>\n",
       "      <th>Item_Visibility</th>\n",
       "      <th>Item_Type</th>\n",
       "      <th>Item_MRP</th>\n",
       "      <th>Outlet_Establishment_Year</th>\n",
       "      <th>Outlet_Size</th>\n",
       "      <th>Outlet_Location_Type</th>\n",
       "      <th>Outlet_Type</th>\n",
       "      <th>Item_Outlet_Sales</th>\n",
       "      <th>Outlet_Age</th>\n",
       "    </tr>\n",
       "  </thead>\n",
       "  <tbody>\n",
       "    <tr>\n",
       "      <th>0</th>\n",
       "      <td>9.300</td>\n",
       "      <td>Low Fat</td>\n",
       "      <td>0.016047</td>\n",
       "      <td>Dairy</td>\n",
       "      <td>249.8092</td>\n",
       "      <td>1999</td>\n",
       "      <td>Medium</td>\n",
       "      <td>Tier 1</td>\n",
       "      <td>Supermarket Type1</td>\n",
       "      <td>3735.1380</td>\n",
       "      <td>10</td>\n",
       "    </tr>\n",
       "    <tr>\n",
       "      <th>1</th>\n",
       "      <td>5.920</td>\n",
       "      <td>Regular</td>\n",
       "      <td>0.019278</td>\n",
       "      <td>Soft Drinks</td>\n",
       "      <td>48.2692</td>\n",
       "      <td>2009</td>\n",
       "      <td>Medium</td>\n",
       "      <td>Tier 3</td>\n",
       "      <td>Supermarket Type2</td>\n",
       "      <td>443.4228</td>\n",
       "      <td>0</td>\n",
       "    </tr>\n",
       "    <tr>\n",
       "      <th>2</th>\n",
       "      <td>17.500</td>\n",
       "      <td>Low Fat</td>\n",
       "      <td>0.016760</td>\n",
       "      <td>Meat</td>\n",
       "      <td>141.6180</td>\n",
       "      <td>1999</td>\n",
       "      <td>Medium</td>\n",
       "      <td>Tier 1</td>\n",
       "      <td>Supermarket Type1</td>\n",
       "      <td>2097.2700</td>\n",
       "      <td>10</td>\n",
       "    </tr>\n",
       "    <tr>\n",
       "      <th>3</th>\n",
       "      <td>19.200</td>\n",
       "      <td>Regular</td>\n",
       "      <td>0.000000</td>\n",
       "      <td>Fruits and Vegetables</td>\n",
       "      <td>182.0950</td>\n",
       "      <td>1998</td>\n",
       "      <td>NaN</td>\n",
       "      <td>Tier 3</td>\n",
       "      <td>Grocery Store</td>\n",
       "      <td>732.3800</td>\n",
       "      <td>11</td>\n",
       "    </tr>\n",
       "    <tr>\n",
       "      <th>4</th>\n",
       "      <td>8.930</td>\n",
       "      <td>Low Fat</td>\n",
       "      <td>0.000000</td>\n",
       "      <td>Household</td>\n",
       "      <td>53.8614</td>\n",
       "      <td>1987</td>\n",
       "      <td>High</td>\n",
       "      <td>Tier 3</td>\n",
       "      <td>Supermarket Type1</td>\n",
       "      <td>994.7052</td>\n",
       "      <td>22</td>\n",
       "    </tr>\n",
       "    <tr>\n",
       "      <th>...</th>\n",
       "      <td>...</td>\n",
       "      <td>...</td>\n",
       "      <td>...</td>\n",
       "      <td>...</td>\n",
       "      <td>...</td>\n",
       "      <td>...</td>\n",
       "      <td>...</td>\n",
       "      <td>...</td>\n",
       "      <td>...</td>\n",
       "      <td>...</td>\n",
       "      <td>...</td>\n",
       "    </tr>\n",
       "    <tr>\n",
       "      <th>8518</th>\n",
       "      <td>6.865</td>\n",
       "      <td>Low Fat</td>\n",
       "      <td>0.056783</td>\n",
       "      <td>Snack Foods</td>\n",
       "      <td>214.5218</td>\n",
       "      <td>1987</td>\n",
       "      <td>High</td>\n",
       "      <td>Tier 3</td>\n",
       "      <td>Supermarket Type1</td>\n",
       "      <td>2778.3834</td>\n",
       "      <td>22</td>\n",
       "    </tr>\n",
       "    <tr>\n",
       "      <th>8519</th>\n",
       "      <td>8.380</td>\n",
       "      <td>Regular</td>\n",
       "      <td>0.046982</td>\n",
       "      <td>Baking Goods</td>\n",
       "      <td>108.1570</td>\n",
       "      <td>2002</td>\n",
       "      <td>NaN</td>\n",
       "      <td>Tier 2</td>\n",
       "      <td>Supermarket Type1</td>\n",
       "      <td>549.2850</td>\n",
       "      <td>7</td>\n",
       "    </tr>\n",
       "    <tr>\n",
       "      <th>8520</th>\n",
       "      <td>10.600</td>\n",
       "      <td>Low Fat</td>\n",
       "      <td>0.035186</td>\n",
       "      <td>Health and Hygiene</td>\n",
       "      <td>85.1224</td>\n",
       "      <td>2004</td>\n",
       "      <td>Small</td>\n",
       "      <td>Tier 2</td>\n",
       "      <td>Supermarket Type1</td>\n",
       "      <td>1193.1136</td>\n",
       "      <td>5</td>\n",
       "    </tr>\n",
       "    <tr>\n",
       "      <th>8521</th>\n",
       "      <td>7.210</td>\n",
       "      <td>Regular</td>\n",
       "      <td>0.145221</td>\n",
       "      <td>Snack Foods</td>\n",
       "      <td>103.1332</td>\n",
       "      <td>2009</td>\n",
       "      <td>Medium</td>\n",
       "      <td>Tier 3</td>\n",
       "      <td>Supermarket Type2</td>\n",
       "      <td>1845.5976</td>\n",
       "      <td>0</td>\n",
       "    </tr>\n",
       "    <tr>\n",
       "      <th>8522</th>\n",
       "      <td>14.800</td>\n",
       "      <td>Low Fat</td>\n",
       "      <td>0.044878</td>\n",
       "      <td>Soft Drinks</td>\n",
       "      <td>75.4670</td>\n",
       "      <td>1997</td>\n",
       "      <td>Small</td>\n",
       "      <td>Tier 1</td>\n",
       "      <td>Supermarket Type1</td>\n",
       "      <td>765.6700</td>\n",
       "      <td>12</td>\n",
       "    </tr>\n",
       "  </tbody>\n",
       "</table>\n",
       "<p>8523 rows × 11 columns</p>\n",
       "</div>"
      ],
      "text/plain": [
       "      Item_Weight Item_Fat_Content  Item_Visibility              Item_Type  \\\n",
       "0           9.300          Low Fat         0.016047                  Dairy   \n",
       "1           5.920          Regular         0.019278            Soft Drinks   \n",
       "2          17.500          Low Fat         0.016760                   Meat   \n",
       "3          19.200          Regular         0.000000  Fruits and Vegetables   \n",
       "4           8.930          Low Fat         0.000000              Household   \n",
       "...           ...              ...              ...                    ...   \n",
       "8518        6.865          Low Fat         0.056783            Snack Foods   \n",
       "8519        8.380          Regular         0.046982           Baking Goods   \n",
       "8520       10.600          Low Fat         0.035186     Health and Hygiene   \n",
       "8521        7.210          Regular         0.145221            Snack Foods   \n",
       "8522       14.800          Low Fat         0.044878            Soft Drinks   \n",
       "\n",
       "      Item_MRP  Outlet_Establishment_Year Outlet_Size Outlet_Location_Type  \\\n",
       "0     249.8092                       1999      Medium               Tier 1   \n",
       "1      48.2692                       2009      Medium               Tier 3   \n",
       "2     141.6180                       1999      Medium               Tier 1   \n",
       "3     182.0950                       1998         NaN               Tier 3   \n",
       "4      53.8614                       1987        High               Tier 3   \n",
       "...        ...                        ...         ...                  ...   \n",
       "8518  214.5218                       1987        High               Tier 3   \n",
       "8519  108.1570                       2002         NaN               Tier 2   \n",
       "8520   85.1224                       2004       Small               Tier 2   \n",
       "8521  103.1332                       2009      Medium               Tier 3   \n",
       "8522   75.4670                       1997       Small               Tier 1   \n",
       "\n",
       "            Outlet_Type  Item_Outlet_Sales  Outlet_Age  \n",
       "0     Supermarket Type1          3735.1380          10  \n",
       "1     Supermarket Type2           443.4228           0  \n",
       "2     Supermarket Type1          2097.2700          10  \n",
       "3         Grocery Store           732.3800          11  \n",
       "4     Supermarket Type1           994.7052          22  \n",
       "...                 ...                ...         ...  \n",
       "8518  Supermarket Type1          2778.3834          22  \n",
       "8519  Supermarket Type1           549.2850           7  \n",
       "8520  Supermarket Type1          1193.1136           5  \n",
       "8521  Supermarket Type2          1845.5976           0  \n",
       "8522  Supermarket Type1           765.6700          12  \n",
       "\n",
       "[8523 rows x 11 columns]"
      ]
     },
     "execution_count": 57,
     "metadata": {},
     "output_type": "execute_result"
    }
   ],
   "source": [
    "df_train"
   ]
  },
  {
   "cell_type": "code",
   "execution_count": 58,
   "metadata": {
    "ExecuteTime": {
     "end_time": "2020-12-05T10:38:45.404290Z",
     "start_time": "2020-12-05T10:38:45.388298Z"
    }
   },
   "outputs": [
    {
     "data": {
      "text/plain": [
       "Item_Weight                  1463\n",
       "Item_Fat_Content                0\n",
       "Item_Visibility                 0\n",
       "Item_Type                       0\n",
       "Item_MRP                        0\n",
       "Outlet_Establishment_Year       0\n",
       "Outlet_Size                  2410\n",
       "Outlet_Location_Type            0\n",
       "Outlet_Type                     0\n",
       "Item_Outlet_Sales               0\n",
       "Outlet_Age                      0\n",
       "dtype: int64"
      ]
     },
     "execution_count": 58,
     "metadata": {},
     "output_type": "execute_result"
    }
   ],
   "source": [
    "df_train.isnull().sum()"
   ]
  },
  {
   "cell_type": "code",
   "execution_count": 59,
   "metadata": {
    "ExecuteTime": {
     "end_time": "2020-12-05T10:38:55.288169Z",
     "start_time": "2020-12-05T10:38:55.274179Z"
    }
   },
   "outputs": [],
   "source": [
    "df_train['Item_Weight'].fillna(df_train['Item_Weight'].mean(),inplace=True)\n",
    "df_train['Outlet_Size'].fillna(df_train['Outlet_Size'].mode()[0],inplace=True)"
   ]
  },
  {
   "cell_type": "code",
   "execution_count": 60,
   "metadata": {
    "ExecuteTime": {
     "end_time": "2020-12-05T10:38:56.603199Z",
     "start_time": "2020-12-05T10:38:56.579212Z"
    }
   },
   "outputs": [
    {
     "data": {
      "text/plain": [
       "Item_Weight                  0\n",
       "Item_Fat_Content             0\n",
       "Item_Visibility              0\n",
       "Item_Type                    0\n",
       "Item_MRP                     0\n",
       "Outlet_Establishment_Year    0\n",
       "Outlet_Size                  0\n",
       "Outlet_Location_Type         0\n",
       "Outlet_Type                  0\n",
       "Item_Outlet_Sales            0\n",
       "Outlet_Age                   0\n",
       "dtype: int64"
      ]
     },
     "execution_count": 60,
     "metadata": {},
     "output_type": "execute_result"
    }
   ],
   "source": [
    "df_train.isnull().sum()"
   ]
  },
  {
   "cell_type": "code",
   "execution_count": 61,
   "metadata": {
    "ExecuteTime": {
     "end_time": "2020-12-05T10:38:59.507169Z",
     "start_time": "2020-12-05T10:38:59.497174Z"
    }
   },
   "outputs": [
    {
     "data": {
      "text/plain": [
       "Low Fat    5089\n",
       "Regular    2889\n",
       "LF          316\n",
       "reg         117\n",
       "low fat     112\n",
       "Name: Item_Fat_Content, dtype: int64"
      ]
     },
     "execution_count": 61,
     "metadata": {},
     "output_type": "execute_result"
    }
   ],
   "source": [
    "df_train['Item_Fat_Content'].value_counts()"
   ]
  },
  {
   "cell_type": "code",
   "execution_count": 63,
   "metadata": {
    "ExecuteTime": {
     "end_time": "2020-12-05T10:42:06.823041Z",
     "start_time": "2020-12-05T10:42:06.801055Z"
    }
   },
   "outputs": [],
   "source": [
    "df_train['Item_Fat_Content'] = df_train['Item_Fat_Content'].replace({'reg':'Regular', 'LF':'Low Fat','low fat':'Low Fat'})\n",
    "#df_train['Item_Visibility'] = df_train['Item_Visibility'].replace()"
   ]
  },
  {
   "cell_type": "code",
   "execution_count": 65,
   "metadata": {
    "ExecuteTime": {
     "end_time": "2020-12-05T10:45:32.809393Z",
     "start_time": "2020-12-05T10:45:32.796400Z"
    }
   },
   "outputs": [],
   "source": [
    "#df=df.mask(df==0).fillna(df.mean())\n",
    "df_train['Item_Visibility']=df_train['Item_Visibility'].mask(df_train['Item_Visibility']==0.0)#.fillna(df.mean())"
   ]
  },
  {
   "cell_type": "code",
   "execution_count": 68,
   "metadata": {
    "ExecuteTime": {
     "end_time": "2020-12-05T10:47:09.338818Z",
     "start_time": "2020-12-05T10:47:09.315832Z"
    }
   },
   "outputs": [
    {
     "data": {
      "text/plain": [
       "Item_Weight                    0\n",
       "Item_Fat_Content               0\n",
       "Item_Visibility              526\n",
       "Item_Type                      0\n",
       "Item_MRP                       0\n",
       "Outlet_Establishment_Year      0\n",
       "Outlet_Size                    0\n",
       "Outlet_Location_Type           0\n",
       "Outlet_Type                    0\n",
       "Item_Outlet_Sales              0\n",
       "Outlet_Age                     0\n",
       "dtype: int64"
      ]
     },
     "execution_count": 68,
     "metadata": {},
     "output_type": "execute_result"
    }
   ],
   "source": [
    "df_train.isna().sum()"
   ]
  },
  {
   "cell_type": "markdown",
   "metadata": {
    "ExecuteTime": {
     "end_time": "2020-12-03T15:55:56.781528Z",
     "start_time": "2020-12-03T15:55:56.760542Z"
    }
   },
   "source": [
    "df_train['Item_Fat_Content']=df_train['Item_Fat_Content'].map({'reg':'Regular','LF':'Low Fat'})"
   ]
  },
  {
   "cell_type": "code",
   "execution_count": 70,
   "metadata": {
    "ExecuteTime": {
     "end_time": "2020-12-05T10:48:21.691575Z",
     "start_time": "2020-12-05T10:48:21.671587Z"
    }
   },
   "outputs": [],
   "source": [
    "df_train['Item_Visibility'].fillna(df_train['Item_Visibility'].mean(),inplace=True)"
   ]
  },
  {
   "cell_type": "code",
   "execution_count": 71,
   "metadata": {
    "ExecuteTime": {
     "end_time": "2020-12-05T10:48:40.648338Z",
     "start_time": "2020-12-05T10:48:40.634346Z"
    }
   },
   "outputs": [
    {
     "data": {
      "text/plain": [
       "Item_Weight                  0\n",
       "Item_Fat_Content             0\n",
       "Item_Visibility              0\n",
       "Item_Type                    0\n",
       "Item_MRP                     0\n",
       "Outlet_Establishment_Year    0\n",
       "Outlet_Size                  0\n",
       "Outlet_Location_Type         0\n",
       "Outlet_Type                  0\n",
       "Item_Outlet_Sales            0\n",
       "Outlet_Age                   0\n",
       "dtype: int64"
      ]
     },
     "execution_count": 71,
     "metadata": {},
     "output_type": "execute_result"
    }
   ],
   "source": [
    "df_train.isna().sum()"
   ]
  },
  {
   "cell_type": "code",
   "execution_count": 72,
   "metadata": {
    "ExecuteTime": {
     "end_time": "2020-12-05T10:50:05.982230Z",
     "start_time": "2020-12-05T10:50:05.963242Z"
    }
   },
   "outputs": [],
   "source": [
    "# at first droping item identifier , outlet_identifier\n",
    "df_train = df_train.drop(['Outlet_Establishment_Year'],axis=1)"
   ]
  },
  {
   "cell_type": "code",
   "execution_count": 73,
   "metadata": {
    "ExecuteTime": {
     "end_time": "2020-12-05T10:50:08.237970Z",
     "start_time": "2020-12-05T10:50:08.213983Z"
    }
   },
   "outputs": [
    {
     "data": {
      "text/plain": [
       "Low Fat    5517\n",
       "Regular    3006\n",
       "Name: Item_Fat_Content, dtype: int64"
      ]
     },
     "execution_count": 73,
     "metadata": {},
     "output_type": "execute_result"
    }
   ],
   "source": [
    "df_train['Item_Fat_Content'].value_counts()"
   ]
  },
  {
   "cell_type": "markdown",
   "metadata": {
    "ExecuteTime": {
     "end_time": "2020-12-03T15:44:00.217605Z",
     "start_time": "2020-12-03T15:44:00.201615Z"
    }
   },
   "source": [
    "df_train['Item_Fat_Content'].unique()"
   ]
  },
  {
   "cell_type": "markdown",
   "metadata": {
    "ExecuteTime": {
     "end_time": "2020-12-03T15:45:54.002020Z",
     "start_time": "2020-12-03T15:45:53.985032Z"
    }
   },
   "source": [
    "df_train['Item_Fat_Content'].value_counts()"
   ]
  },
  {
   "cell_type": "code",
   "execution_count": 74,
   "metadata": {
    "ExecuteTime": {
     "end_time": "2020-12-05T10:50:18.119200Z",
     "start_time": "2020-12-05T10:50:16.043219Z"
    }
   },
   "outputs": [
    {
     "data": {
      "text/html": [
       "<div>\n",
       "<style scoped>\n",
       "    .dataframe tbody tr th:only-of-type {\n",
       "        vertical-align: middle;\n",
       "    }\n",
       "\n",
       "    .dataframe tbody tr th {\n",
       "        vertical-align: top;\n",
       "    }\n",
       "\n",
       "    .dataframe thead th {\n",
       "        text-align: right;\n",
       "    }\n",
       "</style>\n",
       "<table border=\"1\" class=\"dataframe\">\n",
       "  <thead>\n",
       "    <tr style=\"text-align: right;\">\n",
       "      <th></th>\n",
       "      <th>Item_Weight</th>\n",
       "      <th>Item_Fat_Content</th>\n",
       "      <th>Item_Visibility</th>\n",
       "      <th>Item_Type</th>\n",
       "      <th>Item_MRP</th>\n",
       "      <th>Outlet_Size</th>\n",
       "      <th>Outlet_Location_Type</th>\n",
       "      <th>Outlet_Type</th>\n",
       "      <th>Item_Outlet_Sales</th>\n",
       "      <th>Outlet_Age</th>\n",
       "    </tr>\n",
       "  </thead>\n",
       "  <tbody>\n",
       "    <tr>\n",
       "      <th>0</th>\n",
       "      <td>9.30</td>\n",
       "      <td>0</td>\n",
       "      <td>0.016047</td>\n",
       "      <td>4</td>\n",
       "      <td>249.8092</td>\n",
       "      <td>1</td>\n",
       "      <td>0</td>\n",
       "      <td>1</td>\n",
       "      <td>3735.1380</td>\n",
       "      <td>10</td>\n",
       "    </tr>\n",
       "    <tr>\n",
       "      <th>1</th>\n",
       "      <td>5.92</td>\n",
       "      <td>1</td>\n",
       "      <td>0.019278</td>\n",
       "      <td>14</td>\n",
       "      <td>48.2692</td>\n",
       "      <td>1</td>\n",
       "      <td>2</td>\n",
       "      <td>2</td>\n",
       "      <td>443.4228</td>\n",
       "      <td>0</td>\n",
       "    </tr>\n",
       "    <tr>\n",
       "      <th>2</th>\n",
       "      <td>17.50</td>\n",
       "      <td>0</td>\n",
       "      <td>0.016760</td>\n",
       "      <td>10</td>\n",
       "      <td>141.6180</td>\n",
       "      <td>1</td>\n",
       "      <td>0</td>\n",
       "      <td>1</td>\n",
       "      <td>2097.2700</td>\n",
       "      <td>10</td>\n",
       "    </tr>\n",
       "    <tr>\n",
       "      <th>3</th>\n",
       "      <td>19.20</td>\n",
       "      <td>1</td>\n",
       "      <td>0.070482</td>\n",
       "      <td>6</td>\n",
       "      <td>182.0950</td>\n",
       "      <td>1</td>\n",
       "      <td>2</td>\n",
       "      <td>0</td>\n",
       "      <td>732.3800</td>\n",
       "      <td>11</td>\n",
       "    </tr>\n",
       "    <tr>\n",
       "      <th>4</th>\n",
       "      <td>8.93</td>\n",
       "      <td>0</td>\n",
       "      <td>0.070482</td>\n",
       "      <td>9</td>\n",
       "      <td>53.8614</td>\n",
       "      <td>0</td>\n",
       "      <td>2</td>\n",
       "      <td>1</td>\n",
       "      <td>994.7052</td>\n",
       "      <td>22</td>\n",
       "    </tr>\n",
       "  </tbody>\n",
       "</table>\n",
       "</div>"
      ],
      "text/plain": [
       "   Item_Weight  Item_Fat_Content  Item_Visibility  Item_Type  Item_MRP  \\\n",
       "0         9.30                 0         0.016047          4  249.8092   \n",
       "1         5.92                 1         0.019278         14   48.2692   \n",
       "2        17.50                 0         0.016760         10  141.6180   \n",
       "3        19.20                 1         0.070482          6  182.0950   \n",
       "4         8.93                 0         0.070482          9   53.8614   \n",
       "\n",
       "   Outlet_Size  Outlet_Location_Type  Outlet_Type  Item_Outlet_Sales  \\\n",
       "0            1                     0            1          3735.1380   \n",
       "1            1                     2            2           443.4228   \n",
       "2            1                     0            1          2097.2700   \n",
       "3            1                     2            0           732.3800   \n",
       "4            0                     2            1           994.7052   \n",
       "\n",
       "   Outlet_Age  \n",
       "0          10  \n",
       "1           0  \n",
       "2          10  \n",
       "3          11  \n",
       "4          22  "
      ]
     },
     "execution_count": 74,
     "metadata": {},
     "output_type": "execute_result"
    }
   ],
   "source": [
    "# Import label encoder \n",
    "from sklearn import preprocessing\n",
    "# label_encoder object knows how to understand word labels. \n",
    "label_encoder = preprocessing.LabelEncoder()\n",
    "# Encode labels in column 'Country'. \n",
    "df_train['Item_Fat_Content']=label_encoder.fit_transform(df_train['Item_Fat_Content']) \n",
    "#,'Item_Type','Outlet_Size','Outlet_Location_Type','Outlet_Type'\n",
    "df_train['Outlet_Size']=label_encoder.fit_transform(df_train['Outlet_Size'])\n",
    "df_train['Outlet_Location_Type']=label_encoder.fit_transform(df_train['Outlet_Location_Type'])\n",
    "df_train['Outlet_Type']=label_encoder.fit_transform(df_train['Outlet_Type'])\n",
    "df_train['Item_Type']=label_encoder.fit_transform(df_train['Item_Type'])\n",
    "df_train.head()"
   ]
  },
  {
   "cell_type": "code",
   "execution_count": 76,
   "metadata": {
    "ExecuteTime": {
     "end_time": "2020-12-05T10:50:58.339536Z",
     "start_time": "2020-12-05T10:50:58.306555Z"
    }
   },
   "outputs": [
    {
     "data": {
      "text/html": [
       "<div>\n",
       "<style scoped>\n",
       "    .dataframe tbody tr th:only-of-type {\n",
       "        vertical-align: middle;\n",
       "    }\n",
       "\n",
       "    .dataframe tbody tr th {\n",
       "        vertical-align: top;\n",
       "    }\n",
       "\n",
       "    .dataframe thead th {\n",
       "        text-align: right;\n",
       "    }\n",
       "</style>\n",
       "<table border=\"1\" class=\"dataframe\">\n",
       "  <thead>\n",
       "    <tr style=\"text-align: right;\">\n",
       "      <th></th>\n",
       "      <th>Item_Weight</th>\n",
       "      <th>Item_Fat_Content</th>\n",
       "      <th>Item_Visibility</th>\n",
       "      <th>Item_Type</th>\n",
       "      <th>Item_MRP</th>\n",
       "      <th>Outlet_Size</th>\n",
       "      <th>Outlet_Location_Type</th>\n",
       "      <th>Outlet_Type</th>\n",
       "      <th>Item_Outlet_Sales</th>\n",
       "      <th>Outlet_Age</th>\n",
       "    </tr>\n",
       "  </thead>\n",
       "  <tbody>\n",
       "    <tr>\n",
       "      <th>Item_Weight</th>\n",
       "      <td>1.000000</td>\n",
       "      <td>-0.021157</td>\n",
       "      <td>-0.017763</td>\n",
       "      <td>0.028015</td>\n",
       "      <td>0.024756</td>\n",
       "      <td>-0.007225</td>\n",
       "      <td>0.004088</td>\n",
       "      <td>-0.000566</td>\n",
       "      <td>0.011550</td>\n",
       "      <td>0.008301</td>\n",
       "    </tr>\n",
       "    <tr>\n",
       "      <th>Item_Fat_Content</th>\n",
       "      <td>-0.021157</td>\n",
       "      <td>1.000000</td>\n",
       "      <td>0.049915</td>\n",
       "      <td>-0.139434</td>\n",
       "      <td>0.006063</td>\n",
       "      <td>-0.000622</td>\n",
       "      <td>-0.001598</td>\n",
       "      <td>0.002199</td>\n",
       "      <td>0.018719</td>\n",
       "      <td>-0.003151</td>\n",
       "    </tr>\n",
       "    <tr>\n",
       "      <th>Item_Visibility</th>\n",
       "      <td>-0.017763</td>\n",
       "      <td>0.049915</td>\n",
       "      <td>1.000000</td>\n",
       "      <td>-0.035922</td>\n",
       "      <td>-0.005515</td>\n",
       "      <td>0.072297</td>\n",
       "      <td>-0.027742</td>\n",
       "      <td>-0.179380</td>\n",
       "      <td>-0.134035</td>\n",
       "      <td>0.078316</td>\n",
       "    </tr>\n",
       "    <tr>\n",
       "      <th>Item_Type</th>\n",
       "      <td>0.028015</td>\n",
       "      <td>-0.139434</td>\n",
       "      <td>-0.035922</td>\n",
       "      <td>1.000000</td>\n",
       "      <td>0.032651</td>\n",
       "      <td>-0.001859</td>\n",
       "      <td>0.003084</td>\n",
       "      <td>0.003053</td>\n",
       "      <td>0.017048</td>\n",
       "      <td>-0.004970</td>\n",
       "    </tr>\n",
       "    <tr>\n",
       "      <th>Item_MRP</th>\n",
       "      <td>0.024756</td>\n",
       "      <td>0.006063</td>\n",
       "      <td>-0.005515</td>\n",
       "      <td>0.032651</td>\n",
       "      <td>1.000000</td>\n",
       "      <td>0.006059</td>\n",
       "      <td>0.000232</td>\n",
       "      <td>-0.001975</td>\n",
       "      <td>0.567574</td>\n",
       "      <td>-0.005020</td>\n",
       "    </tr>\n",
       "    <tr>\n",
       "      <th>Outlet_Size</th>\n",
       "      <td>-0.007225</td>\n",
       "      <td>-0.000622</td>\n",
       "      <td>0.072297</td>\n",
       "      <td>-0.001859</td>\n",
       "      <td>0.006059</td>\n",
       "      <td>1.000000</td>\n",
       "      <td>-0.614311</td>\n",
       "      <td>-0.201483</td>\n",
       "      <td>-0.086182</td>\n",
       "      <td>-0.193389</td>\n",
       "    </tr>\n",
       "    <tr>\n",
       "      <th>Outlet_Location_Type</th>\n",
       "      <td>0.004088</td>\n",
       "      <td>-0.001598</td>\n",
       "      <td>-0.027742</td>\n",
       "      <td>0.003084</td>\n",
       "      <td>0.000232</td>\n",
       "      <td>-0.614311</td>\n",
       "      <td>1.000000</td>\n",
       "      <td>0.467219</td>\n",
       "      <td>0.089367</td>\n",
       "      <td>0.089216</td>\n",
       "    </tr>\n",
       "    <tr>\n",
       "      <th>Outlet_Type</th>\n",
       "      <td>-0.000566</td>\n",
       "      <td>0.002199</td>\n",
       "      <td>-0.179380</td>\n",
       "      <td>0.003053</td>\n",
       "      <td>-0.001975</td>\n",
       "      <td>-0.201483</td>\n",
       "      <td>0.467219</td>\n",
       "      <td>1.000000</td>\n",
       "      <td>0.401522</td>\n",
       "      <td>0.122304</td>\n",
       "    </tr>\n",
       "    <tr>\n",
       "      <th>Item_Outlet_Sales</th>\n",
       "      <td>0.011550</td>\n",
       "      <td>0.018719</td>\n",
       "      <td>-0.134035</td>\n",
       "      <td>0.017048</td>\n",
       "      <td>0.567574</td>\n",
       "      <td>-0.086182</td>\n",
       "      <td>0.089367</td>\n",
       "      <td>0.401522</td>\n",
       "      <td>1.000000</td>\n",
       "      <td>0.049135</td>\n",
       "    </tr>\n",
       "    <tr>\n",
       "      <th>Outlet_Age</th>\n",
       "      <td>0.008301</td>\n",
       "      <td>-0.003151</td>\n",
       "      <td>0.078316</td>\n",
       "      <td>-0.004970</td>\n",
       "      <td>-0.005020</td>\n",
       "      <td>-0.193389</td>\n",
       "      <td>0.089216</td>\n",
       "      <td>0.122304</td>\n",
       "      <td>0.049135</td>\n",
       "      <td>1.000000</td>\n",
       "    </tr>\n",
       "  </tbody>\n",
       "</table>\n",
       "</div>"
      ],
      "text/plain": [
       "                      Item_Weight  Item_Fat_Content  Item_Visibility  \\\n",
       "Item_Weight              1.000000         -0.021157        -0.017763   \n",
       "Item_Fat_Content        -0.021157          1.000000         0.049915   \n",
       "Item_Visibility         -0.017763          0.049915         1.000000   \n",
       "Item_Type                0.028015         -0.139434        -0.035922   \n",
       "Item_MRP                 0.024756          0.006063        -0.005515   \n",
       "Outlet_Size             -0.007225         -0.000622         0.072297   \n",
       "Outlet_Location_Type     0.004088         -0.001598        -0.027742   \n",
       "Outlet_Type             -0.000566          0.002199        -0.179380   \n",
       "Item_Outlet_Sales        0.011550          0.018719        -0.134035   \n",
       "Outlet_Age               0.008301         -0.003151         0.078316   \n",
       "\n",
       "                      Item_Type  Item_MRP  Outlet_Size  Outlet_Location_Type  \\\n",
       "Item_Weight            0.028015  0.024756    -0.007225              0.004088   \n",
       "Item_Fat_Content      -0.139434  0.006063    -0.000622             -0.001598   \n",
       "Item_Visibility       -0.035922 -0.005515     0.072297             -0.027742   \n",
       "Item_Type              1.000000  0.032651    -0.001859              0.003084   \n",
       "Item_MRP               0.032651  1.000000     0.006059              0.000232   \n",
       "Outlet_Size           -0.001859  0.006059     1.000000             -0.614311   \n",
       "Outlet_Location_Type   0.003084  0.000232    -0.614311              1.000000   \n",
       "Outlet_Type            0.003053 -0.001975    -0.201483              0.467219   \n",
       "Item_Outlet_Sales      0.017048  0.567574    -0.086182              0.089367   \n",
       "Outlet_Age            -0.004970 -0.005020    -0.193389              0.089216   \n",
       "\n",
       "                      Outlet_Type  Item_Outlet_Sales  Outlet_Age  \n",
       "Item_Weight             -0.000566           0.011550    0.008301  \n",
       "Item_Fat_Content         0.002199           0.018719   -0.003151  \n",
       "Item_Visibility         -0.179380          -0.134035    0.078316  \n",
       "Item_Type                0.003053           0.017048   -0.004970  \n",
       "Item_MRP                -0.001975           0.567574   -0.005020  \n",
       "Outlet_Size             -0.201483          -0.086182   -0.193389  \n",
       "Outlet_Location_Type     0.467219           0.089367    0.089216  \n",
       "Outlet_Type              1.000000           0.401522    0.122304  \n",
       "Item_Outlet_Sales        0.401522           1.000000    0.049135  \n",
       "Outlet_Age               0.122304           0.049135    1.000000  "
      ]
     },
     "execution_count": 76,
     "metadata": {},
     "output_type": "execute_result"
    }
   ],
   "source": [
    "df_train.corr(method='pearson')"
   ]
  },
  {
   "cell_type": "code",
   "execution_count": 77,
   "metadata": {
    "ExecuteTime": {
     "end_time": "2020-12-05T10:51:48.848131Z",
     "start_time": "2020-12-05T10:51:47.475005Z"
    }
   },
   "outputs": [
    {
     "data": {
      "text/plain": [
       "<AxesSubplot:>"
      ]
     },
     "execution_count": 77,
     "metadata": {},
     "output_type": "execute_result"
    },
    {
     "data": {
      "image/png": "[encoded data removed]",
      "text/plain": [
       "<Figure size 432x288 with 2 Axes>"
      ]
     },
     "metadata": {
      "needs_background": "light"
     },
     "output_type": "display_data"
    }
   ],
   "source": [
    "correlations = df_train.corr(method='pearson')\n",
    "sns.heatmap(correlations)"
   ]
  },
  {
   "cell_type": "code",
   "execution_count": 78,
   "metadata": {
    "ExecuteTime": {
     "end_time": "2020-12-05T10:52:56.977474Z",
     "start_time": "2020-12-05T10:52:56.880092Z"
    }
   },
   "outputs": [
    {
     "data": {
      "text/html": [
       "<div>\n",
       "<style scoped>\n",
       "    .dataframe tbody tr th:only-of-type {\n",
       "        vertical-align: middle;\n",
       "    }\n",
       "\n",
       "    .dataframe tbody tr th {\n",
       "        vertical-align: top;\n",
       "    }\n",
       "\n",
       "    .dataframe thead th {\n",
       "        text-align: right;\n",
       "    }\n",
       "</style>\n",
       "<table border=\"1\" class=\"dataframe\">\n",
       "  <thead>\n",
       "    <tr style=\"text-align: right;\">\n",
       "      <th></th>\n",
       "      <th>Item_Weight</th>\n",
       "      <th>Item_Fat_Content</th>\n",
       "      <th>Item_Visibility</th>\n",
       "      <th>Item_Type</th>\n",
       "      <th>Item_MRP</th>\n",
       "      <th>Outlet_Size</th>\n",
       "      <th>Outlet_Location_Type</th>\n",
       "      <th>Outlet_Type</th>\n",
       "      <th>Item_Outlet_Sales</th>\n",
       "    </tr>\n",
       "  </thead>\n",
       "  <tbody>\n",
       "    <tr>\n",
       "      <th>Item_Weight</th>\n",
       "      <td>1.000000</td>\n",
       "      <td>-0.021157</td>\n",
       "      <td>-0.017763</td>\n",
       "      <td>0.028015</td>\n",
       "      <td>0.024756</td>\n",
       "      <td>-0.007225</td>\n",
       "      <td>0.004088</td>\n",
       "      <td>-0.000566</td>\n",
       "      <td>0.011550</td>\n",
       "    </tr>\n",
       "    <tr>\n",
       "      <th>Item_Fat_Content</th>\n",
       "      <td>-0.021157</td>\n",
       "      <td>1.000000</td>\n",
       "      <td>0.049915</td>\n",
       "      <td>-0.139434</td>\n",
       "      <td>0.006063</td>\n",
       "      <td>-0.000622</td>\n",
       "      <td>-0.001598</td>\n",
       "      <td>0.002199</td>\n",
       "      <td>0.018719</td>\n",
       "    </tr>\n",
       "    <tr>\n",
       "      <th>Item_Visibility</th>\n",
       "      <td>-0.017763</td>\n",
       "      <td>0.049915</td>\n",
       "      <td>1.000000</td>\n",
       "      <td>-0.035922</td>\n",
       "      <td>-0.005515</td>\n",
       "      <td>0.072297</td>\n",
       "      <td>-0.027742</td>\n",
       "      <td>-0.179380</td>\n",
       "      <td>-0.134035</td>\n",
       "    </tr>\n",
       "    <tr>\n",
       "      <th>Item_Type</th>\n",
       "      <td>0.028015</td>\n",
       "      <td>-0.139434</td>\n",
       "      <td>-0.035922</td>\n",
       "      <td>1.000000</td>\n",
       "      <td>0.032651</td>\n",
       "      <td>-0.001859</td>\n",
       "      <td>0.003084</td>\n",
       "      <td>0.003053</td>\n",
       "      <td>0.017048</td>\n",
       "    </tr>\n",
       "    <tr>\n",
       "      <th>Item_MRP</th>\n",
       "      <td>0.024756</td>\n",
       "      <td>0.006063</td>\n",
       "      <td>-0.005515</td>\n",
       "      <td>0.032651</td>\n",
       "      <td>1.000000</td>\n",
       "      <td>0.006059</td>\n",
       "      <td>0.000232</td>\n",
       "      <td>-0.001975</td>\n",
       "      <td>0.567574</td>\n",
       "    </tr>\n",
       "    <tr>\n",
       "      <th>Outlet_Size</th>\n",
       "      <td>-0.007225</td>\n",
       "      <td>-0.000622</td>\n",
       "      <td>0.072297</td>\n",
       "      <td>-0.001859</td>\n",
       "      <td>0.006059</td>\n",
       "      <td>1.000000</td>\n",
       "      <td>-0.614311</td>\n",
       "      <td>-0.201483</td>\n",
       "      <td>-0.086182</td>\n",
       "    </tr>\n",
       "    <tr>\n",
       "      <th>Outlet_Location_Type</th>\n",
       "      <td>0.004088</td>\n",
       "      <td>-0.001598</td>\n",
       "      <td>-0.027742</td>\n",
       "      <td>0.003084</td>\n",
       "      <td>0.000232</td>\n",
       "      <td>-0.614311</td>\n",
       "      <td>1.000000</td>\n",
       "      <td>0.467219</td>\n",
       "      <td>0.089367</td>\n",
       "    </tr>\n",
       "    <tr>\n",
       "      <th>Outlet_Type</th>\n",
       "      <td>-0.000566</td>\n",
       "      <td>0.002199</td>\n",
       "      <td>-0.179380</td>\n",
       "      <td>0.003053</td>\n",
       "      <td>-0.001975</td>\n",
       "      <td>-0.201483</td>\n",
       "      <td>0.467219</td>\n",
       "      <td>1.000000</td>\n",
       "      <td>0.401522</td>\n",
       "    </tr>\n",
       "    <tr>\n",
       "      <th>Item_Outlet_Sales</th>\n",
       "      <td>0.011550</td>\n",
       "      <td>0.018719</td>\n",
       "      <td>-0.134035</td>\n",
       "      <td>0.017048</td>\n",
       "      <td>0.567574</td>\n",
       "      <td>-0.086182</td>\n",
       "      <td>0.089367</td>\n",
       "      <td>0.401522</td>\n",
       "      <td>1.000000</td>\n",
       "    </tr>\n",
       "  </tbody>\n",
       "</table>\n",
       "</div>"
      ],
      "text/plain": [
       "                      Item_Weight  Item_Fat_Content  Item_Visibility  \\\n",
       "Item_Weight              1.000000         -0.021157        -0.017763   \n",
       "Item_Fat_Content        -0.021157          1.000000         0.049915   \n",
       "Item_Visibility         -0.017763          0.049915         1.000000   \n",
       "Item_Type                0.028015         -0.139434        -0.035922   \n",
       "Item_MRP                 0.024756          0.006063        -0.005515   \n",
       "Outlet_Size             -0.007225         -0.000622         0.072297   \n",
       "Outlet_Location_Type     0.004088         -0.001598        -0.027742   \n",
       "Outlet_Type             -0.000566          0.002199        -0.179380   \n",
       "Item_Outlet_Sales        0.011550          0.018719        -0.134035   \n",
       "\n",
       "                      Item_Type  Item_MRP  Outlet_Size  Outlet_Location_Type  \\\n",
       "Item_Weight            0.028015  0.024756    -0.007225              0.004088   \n",
       "Item_Fat_Content      -0.139434  0.006063    -0.000622             -0.001598   \n",
       "Item_Visibility       -0.035922 -0.005515     0.072297             -0.027742   \n",
       "Item_Type              1.000000  0.032651    -0.001859              0.003084   \n",
       "Item_MRP               0.032651  1.000000     0.006059              0.000232   \n",
       "Outlet_Size           -0.001859  0.006059     1.000000             -0.614311   \n",
       "Outlet_Location_Type   0.003084  0.000232    -0.614311              1.000000   \n",
       "Outlet_Type            0.003053 -0.001975    -0.201483              0.467219   \n",
       "Item_Outlet_Sales      0.017048  0.567574    -0.086182              0.089367   \n",
       "\n",
       "                      Outlet_Type  Item_Outlet_Sales  \n",
       "Item_Weight             -0.000566           0.011550  \n",
       "Item_Fat_Content         0.002199           0.018719  \n",
       "Item_Visibility         -0.179380          -0.134035  \n",
       "Item_Type                0.003053           0.017048  \n",
       "Item_MRP                -0.001975           0.567574  \n",
       "Outlet_Size             -0.201483          -0.086182  \n",
       "Outlet_Location_Type     0.467219           0.089367  \n",
       "Outlet_Type              1.000000           0.401522  \n",
       "Item_Outlet_Sales        0.401522           1.000000  "
      ]
     },
     "execution_count": 78,
     "metadata": {},
     "output_type": "execute_result"
    }
   ],
   "source": [
    "X_train= df_train.iloc[:,0:-1]\n",
    "X_train.corr(method='pearson')"
   ]
  },
  {
   "cell_type": "code",
   "execution_count": 79,
   "metadata": {
    "ExecuteTime": {
     "end_time": "2020-12-05T10:53:03.663934Z",
     "start_time": "2020-12-05T10:53:03.657936Z"
    }
   },
   "outputs": [],
   "source": [
    "y_train=df_train['Item_Outlet_Sales']"
   ]
  },
  {
   "cell_type": "code",
   "execution_count": 80,
   "metadata": {
    "ExecuteTime": {
     "end_time": "2020-12-05T10:53:06.460937Z",
     "start_time": "2020-12-05T10:53:06.441947Z"
    }
   },
   "outputs": [
    {
     "name": "stdout",
     "output_type": "stream",
     "text": [
      "X_train shape is (8523, 9) \n",
      "and y_train shape is (8523,) \n",
      "\n"
     ]
    }
   ],
   "source": [
    "print(\"X_train shape is {} \\nand y_train shape is {} \\n\".format(X_train.shape,y_train.shape))"
   ]
  },
  {
   "cell_type": "code",
   "execution_count": 81,
   "metadata": {
    "ExecuteTime": {
     "end_time": "2020-12-05T10:53:19.094993Z",
     "start_time": "2020-12-05T10:53:19.079002Z"
    }
   },
   "outputs": [],
   "source": [
    "from sklearn.preprocessing import MinMaxScaler\n",
    "min_max_scaler=MinMaxScaler()\n",
    "X_train=min_max_scaler.fit_transform(X_train)"
   ]
  },
  {
   "cell_type": "code",
   "execution_count": 82,
   "metadata": {
    "ExecuteTime": {
     "end_time": "2020-12-05T10:53:23.868313Z",
     "start_time": "2020-12-05T10:53:23.857320Z"
    }
   },
   "outputs": [
    {
     "data": {
      "text/plain": [
       "(8523, 9)"
      ]
     },
     "execution_count": 82,
     "metadata": {},
     "output_type": "execute_result"
    }
   ],
   "source": [
    "X_train.shape"
   ]
  },
  {
   "cell_type": "code",
   "execution_count": 92,
   "metadata": {
    "ExecuteTime": {
     "end_time": "2020-12-05T11:43:35.351735Z",
     "start_time": "2020-12-05T11:43:35.174890Z"
    }
   },
   "outputs": [
    {
     "data": {
      "text/html": [
       "<div>\n",
       "<style scoped>\n",
       "    .dataframe tbody tr th:only-of-type {\n",
       "        vertical-align: middle;\n",
       "    }\n",
       "\n",
       "    .dataframe tbody tr th {\n",
       "        vertical-align: top;\n",
       "    }\n",
       "\n",
       "    .dataframe thead th {\n",
       "        text-align: right;\n",
       "    }\n",
       "</style>\n",
       "<table border=\"1\" class=\"dataframe\">\n",
       "  <thead>\n",
       "    <tr style=\"text-align: right;\">\n",
       "      <th></th>\n",
       "      <th>Item_Identifier</th>\n",
       "      <th>Item_Weight</th>\n",
       "      <th>Item_Fat_Content</th>\n",
       "      <th>Item_Visibility</th>\n",
       "      <th>Item_Type</th>\n",
       "      <th>Item_MRP</th>\n",
       "      <th>Outlet_Identifier</th>\n",
       "      <th>Outlet_Establishment_Year</th>\n",
       "      <th>Outlet_Size</th>\n",
       "      <th>Outlet_Location_Type</th>\n",
       "      <th>Outlet_Type</th>\n",
       "    </tr>\n",
       "  </thead>\n",
       "  <tbody>\n",
       "    <tr>\n",
       "      <th>0</th>\n",
       "      <td>FDW58</td>\n",
       "      <td>20.750</td>\n",
       "      <td>Low Fat</td>\n",
       "      <td>0.007565</td>\n",
       "      <td>Snack Foods</td>\n",
       "      <td>107.8622</td>\n",
       "      <td>OUT049</td>\n",
       "      <td>1999</td>\n",
       "      <td>Medium</td>\n",
       "      <td>Tier 1</td>\n",
       "      <td>Supermarket Type1</td>\n",
       "    </tr>\n",
       "    <tr>\n",
       "      <th>1</th>\n",
       "      <td>FDW14</td>\n",
       "      <td>8.300</td>\n",
       "      <td>reg</td>\n",
       "      <td>0.038428</td>\n",
       "      <td>Dairy</td>\n",
       "      <td>87.3198</td>\n",
       "      <td>OUT017</td>\n",
       "      <td>2007</td>\n",
       "      <td>NaN</td>\n",
       "      <td>Tier 2</td>\n",
       "      <td>Supermarket Type1</td>\n",
       "    </tr>\n",
       "    <tr>\n",
       "      <th>2</th>\n",
       "      <td>NCN55</td>\n",
       "      <td>14.600</td>\n",
       "      <td>Low Fat</td>\n",
       "      <td>0.099575</td>\n",
       "      <td>Others</td>\n",
       "      <td>241.7538</td>\n",
       "      <td>OUT010</td>\n",
       "      <td>1998</td>\n",
       "      <td>NaN</td>\n",
       "      <td>Tier 3</td>\n",
       "      <td>Grocery Store</td>\n",
       "    </tr>\n",
       "    <tr>\n",
       "      <th>3</th>\n",
       "      <td>FDQ58</td>\n",
       "      <td>7.315</td>\n",
       "      <td>Low Fat</td>\n",
       "      <td>0.015388</td>\n",
       "      <td>Snack Foods</td>\n",
       "      <td>155.0340</td>\n",
       "      <td>OUT017</td>\n",
       "      <td>2007</td>\n",
       "      <td>NaN</td>\n",
       "      <td>Tier 2</td>\n",
       "      <td>Supermarket Type1</td>\n",
       "    </tr>\n",
       "    <tr>\n",
       "      <th>4</th>\n",
       "      <td>FDY38</td>\n",
       "      <td>NaN</td>\n",
       "      <td>Regular</td>\n",
       "      <td>0.118599</td>\n",
       "      <td>Dairy</td>\n",
       "      <td>234.2300</td>\n",
       "      <td>OUT027</td>\n",
       "      <td>1985</td>\n",
       "      <td>Medium</td>\n",
       "      <td>Tier 3</td>\n",
       "      <td>Supermarket Type3</td>\n",
       "    </tr>\n",
       "  </tbody>\n",
       "</table>\n",
       "</div>"
      ],
      "text/plain": [
       "  Item_Identifier  Item_Weight Item_Fat_Content  Item_Visibility    Item_Type  \\\n",
       "0           FDW58       20.750          Low Fat         0.007565  Snack Foods   \n",
       "1           FDW14        8.300              reg         0.038428        Dairy   \n",
       "2           NCN55       14.600          Low Fat         0.099575       Others   \n",
       "3           FDQ58        7.315          Low Fat         0.015388  Snack Foods   \n",
       "4           FDY38          NaN          Regular         0.118599        Dairy   \n",
       "\n",
       "   Item_MRP Outlet_Identifier  Outlet_Establishment_Year Outlet_Size  \\\n",
       "0  107.8622            OUT049                       1999      Medium   \n",
       "1   87.3198            OUT017                       2007         NaN   \n",
       "2  241.7538            OUT010                       1998         NaN   \n",
       "3  155.0340            OUT017                       2007         NaN   \n",
       "4  234.2300            OUT027                       1985      Medium   \n",
       "\n",
       "  Outlet_Location_Type        Outlet_Type  \n",
       "0               Tier 1  Supermarket Type1  \n",
       "1               Tier 2  Supermarket Type1  \n",
       "2               Tier 3      Grocery Store  \n",
       "3               Tier 2  Supermarket Type1  \n",
       "4               Tier 3  Supermarket Type3  "
      ]
     },
     "execution_count": 92,
     "metadata": {},
     "output_type": "execute_result"
    }
   ],
   "source": [
    "### Applying the same transformation on\n",
    "df_test = pd.read_csv('D:/Analytics_Vidhya/NeuralNetwork/BigMartSales/test.csv')\n",
    "df_test.head()                  "
   ]
  },
  {
   "cell_type": "code",
   "execution_count": 93,
   "metadata": {
    "ExecuteTime": {
     "end_time": "2020-12-05T11:44:38.122168Z",
     "start_time": "2020-12-05T11:44:38.111175Z"
    }
   },
   "outputs": [
    {
     "data": {
      "text/plain": [
       "(5681, 11)"
      ]
     },
     "execution_count": 93,
     "metadata": {},
     "output_type": "execute_result"
    }
   ],
   "source": [
    "df_test.shape"
   ]
  },
  {
   "cell_type": "code",
   "execution_count": 94,
   "metadata": {
    "ExecuteTime": {
     "end_time": "2020-12-05T11:44:41.820932Z",
     "start_time": "2020-12-05T11:44:41.801945Z"
    }
   },
   "outputs": [],
   "source": [
    "df_test = df_test.drop(['Item_Identifier','Outlet_Identifier'],axis=1)"
   ]
  },
  {
   "cell_type": "code",
   "execution_count": 95,
   "metadata": {
    "ExecuteTime": {
     "end_time": "2020-12-05T11:44:43.241978Z",
     "start_time": "2020-12-05T11:44:43.222992Z"
    }
   },
   "outputs": [
    {
     "data": {
      "text/plain": [
       "Item_Weight                   976\n",
       "Item_Fat_Content                0\n",
       "Item_Visibility                 0\n",
       "Item_Type                       0\n",
       "Item_MRP                        0\n",
       "Outlet_Establishment_Year       0\n",
       "Outlet_Size                  1606\n",
       "Outlet_Location_Type            0\n",
       "Outlet_Type                     0\n",
       "dtype: int64"
      ]
     },
     "execution_count": 95,
     "metadata": {},
     "output_type": "execute_result"
    }
   ],
   "source": [
    "df_test.isnull().sum()"
   ]
  },
  {
   "cell_type": "code",
   "execution_count": 96,
   "metadata": {
    "ExecuteTime": {
     "end_time": "2020-12-05T11:44:47.467884Z",
     "start_time": "2020-12-05T11:44:47.451892Z"
    }
   },
   "outputs": [],
   "source": [
    "df_test['Item_Weight'].fillna(df_test['Item_Weight'].mean(),inplace=True)\n",
    "df_test['Outlet_Size'].fillna(df_test['Outlet_Size'].mode()[0],inplace=True)"
   ]
  },
  {
   "cell_type": "code",
   "execution_count": 97,
   "metadata": {
    "ExecuteTime": {
     "end_time": "2020-12-05T11:44:50.078893Z",
     "start_time": "2020-12-05T11:44:50.062905Z"
    }
   },
   "outputs": [
    {
     "data": {
      "text/plain": [
       "Item_Weight                  0\n",
       "Item_Fat_Content             0\n",
       "Item_Visibility              0\n",
       "Item_Type                    0\n",
       "Item_MRP                     0\n",
       "Outlet_Establishment_Year    0\n",
       "Outlet_Size                  0\n",
       "Outlet_Location_Type         0\n",
       "Outlet_Type                  0\n",
       "dtype: int64"
      ]
     },
     "execution_count": 97,
     "metadata": {},
     "output_type": "execute_result"
    }
   ],
   "source": [
    "df_test.isnull().sum()"
   ]
  },
  {
   "cell_type": "code",
   "execution_count": 102,
   "metadata": {
    "ExecuteTime": {
     "end_time": "2020-12-05T11:47:05.620256Z",
     "start_time": "2020-12-05T11:47:05.578281Z"
    }
   },
   "outputs": [
    {
     "ename": "TypeError",
     "evalue": "ufunc 'invert' not supported for the input types, and the inputs could not be safely coerced to any supported types according to the casting rule ''safe''",
     "output_type": "error",
     "traceback": [
      "\u001b[1;31m---------------------------------------------------------------------------\u001b[0m",
      "\u001b[1;31mTypeError\u001b[0m                                 Traceback (most recent call last)",
      "\u001b[1;32m<ipython-input-102-5b7e01032b0b>\u001b[0m in \u001b[0;36m<module>\u001b[1;34m\u001b[0m\n\u001b[1;32m----> 1\u001b[1;33m \u001b[0mdf_test\u001b[0m\u001b[1;33m[\u001b[0m\u001b[1;34m'Item_Visibility'\u001b[0m\u001b[1;33m]\u001b[0m\u001b[1;33m=\u001b[0m\u001b[0mdf_test\u001b[0m\u001b[1;33m[\u001b[0m\u001b[1;34m'Item_Visibility'\u001b[0m\u001b[1;33m]\u001b[0m\u001b[1;33m.\u001b[0m\u001b[0mmask\u001b[0m\u001b[1;33m(\u001b[0m\u001b[0mdf_test\u001b[0m\u001b[1;33m[\u001b[0m\u001b[1;34m'Item_Visibility'\u001b[0m\u001b[1;33m]\u001b[0m\u001b[1;33m)\u001b[0m\u001b[1;33m\u001b[0m\u001b[1;33m\u001b[0m\u001b[0m\n\u001b[0m\u001b[0;32m      2\u001b[0m \u001b[0mdf_test\u001b[0m\u001b[1;33m\u001b[0m\u001b[1;33m\u001b[0m\u001b[0m\n",
      "\u001b[1;32mC:\\ProgramData\\Anaconda3\\lib\\site-packages\\pandas\\core\\generic.py\u001b[0m in \u001b[0;36mmask\u001b[1;34m(self, cond, other, inplace, axis, level, errors, try_cast)\u001b[0m\n\u001b[0;32m   9024\u001b[0m \u001b[1;33m\u001b[0m\u001b[0m\n\u001b[0;32m   9025\u001b[0m         return self.where(\n\u001b[1;32m-> 9026\u001b[1;33m             \u001b[1;33m~\u001b[0m\u001b[0mcond\u001b[0m\u001b[1;33m,\u001b[0m\u001b[1;33m\u001b[0m\u001b[1;33m\u001b[0m\u001b[0m\n\u001b[0m\u001b[0;32m   9027\u001b[0m             \u001b[0mother\u001b[0m\u001b[1;33m=\u001b[0m\u001b[0mother\u001b[0m\u001b[1;33m,\u001b[0m\u001b[1;33m\u001b[0m\u001b[1;33m\u001b[0m\u001b[0m\n\u001b[0;32m   9028\u001b[0m             \u001b[0minplace\u001b[0m\u001b[1;33m=\u001b[0m\u001b[0minplace\u001b[0m\u001b[1;33m,\u001b[0m\u001b[1;33m\u001b[0m\u001b[1;33m\u001b[0m\u001b[0m\n",
      "\u001b[1;32mC:\\ProgramData\\Anaconda3\\lib\\site-packages\\pandas\\core\\generic.py\u001b[0m in \u001b[0;36m__invert__\u001b[1;34m(self)\u001b[0m\n\u001b[0;32m   1319\u001b[0m             \u001b[1;32mreturn\u001b[0m \u001b[0mself\u001b[0m\u001b[1;33m\u001b[0m\u001b[1;33m\u001b[0m\u001b[0m\n\u001b[0;32m   1320\u001b[0m \u001b[1;33m\u001b[0m\u001b[0m\n\u001b[1;32m-> 1321\u001b[1;33m         \u001b[0mnew_data\u001b[0m \u001b[1;33m=\u001b[0m \u001b[0mself\u001b[0m\u001b[1;33m.\u001b[0m\u001b[0m_mgr\u001b[0m\u001b[1;33m.\u001b[0m\u001b[0mapply\u001b[0m\u001b[1;33m(\u001b[0m\u001b[0moperator\u001b[0m\u001b[1;33m.\u001b[0m\u001b[0minvert\u001b[0m\u001b[1;33m)\u001b[0m\u001b[1;33m\u001b[0m\u001b[1;33m\u001b[0m\u001b[0m\n\u001b[0m\u001b[0;32m   1322\u001b[0m         \u001b[0mresult\u001b[0m \u001b[1;33m=\u001b[0m \u001b[0mself\u001b[0m\u001b[1;33m.\u001b[0m\u001b[0m_constructor\u001b[0m\u001b[1;33m(\u001b[0m\u001b[0mnew_data\u001b[0m\u001b[1;33m)\u001b[0m\u001b[1;33m.\u001b[0m\u001b[0m__finalize__\u001b[0m\u001b[1;33m(\u001b[0m\u001b[0mself\u001b[0m\u001b[1;33m,\u001b[0m \u001b[0mmethod\u001b[0m\u001b[1;33m=\u001b[0m\u001b[1;34m\"__invert__\"\u001b[0m\u001b[1;33m)\u001b[0m\u001b[1;33m\u001b[0m\u001b[1;33m\u001b[0m\u001b[0m\n\u001b[0;32m   1323\u001b[0m         \u001b[1;32mreturn\u001b[0m \u001b[0mresult\u001b[0m\u001b[1;33m\u001b[0m\u001b[1;33m\u001b[0m\u001b[0m\n",
      "\u001b[1;32mC:\\ProgramData\\Anaconda3\\lib\\site-packages\\pandas\\core\\internals\\managers.py\u001b[0m in \u001b[0;36mapply\u001b[1;34m(self, f, align_keys, **kwargs)\u001b[0m\n\u001b[0;32m    402\u001b[0m \u001b[1;33m\u001b[0m\u001b[0m\n\u001b[0;32m    403\u001b[0m             \u001b[1;32mif\u001b[0m \u001b[0mcallable\u001b[0m\u001b[1;33m(\u001b[0m\u001b[0mf\u001b[0m\u001b[1;33m)\u001b[0m\u001b[1;33m:\u001b[0m\u001b[1;33m\u001b[0m\u001b[1;33m\u001b[0m\u001b[0m\n\u001b[1;32m--> 404\u001b[1;33m                 \u001b[0mapplied\u001b[0m \u001b[1;33m=\u001b[0m \u001b[0mb\u001b[0m\u001b[1;33m.\u001b[0m\u001b[0mapply\u001b[0m\u001b[1;33m(\u001b[0m\u001b[0mf\u001b[0m\u001b[1;33m,\u001b[0m \u001b[1;33m**\u001b[0m\u001b[0mkwargs\u001b[0m\u001b[1;33m)\u001b[0m\u001b[1;33m\u001b[0m\u001b[1;33m\u001b[0m\u001b[0m\n\u001b[0m\u001b[0;32m    405\u001b[0m             \u001b[1;32melse\u001b[0m\u001b[1;33m:\u001b[0m\u001b[1;33m\u001b[0m\u001b[1;33m\u001b[0m\u001b[0m\n\u001b[0;32m    406\u001b[0m                 \u001b[0mapplied\u001b[0m \u001b[1;33m=\u001b[0m \u001b[0mgetattr\u001b[0m\u001b[1;33m(\u001b[0m\u001b[0mb\u001b[0m\u001b[1;33m,\u001b[0m \u001b[0mf\u001b[0m\u001b[1;33m)\u001b[0m\u001b[1;33m(\u001b[0m\u001b[1;33m**\u001b[0m\u001b[0mkwargs\u001b[0m\u001b[1;33m)\u001b[0m\u001b[1;33m\u001b[0m\u001b[1;33m\u001b[0m\u001b[0m\n",
      "\u001b[1;32mC:\\ProgramData\\Anaconda3\\lib\\site-packages\\pandas\\core\\internals\\blocks.py\u001b[0m in \u001b[0;36mapply\u001b[1;34m(self, func, **kwargs)\u001b[0m\n\u001b[0;32m    343\u001b[0m         \"\"\"\n\u001b[0;32m    344\u001b[0m         \u001b[1;32mwith\u001b[0m \u001b[0mnp\u001b[0m\u001b[1;33m.\u001b[0m\u001b[0merrstate\u001b[0m\u001b[1;33m(\u001b[0m\u001b[0mall\u001b[0m\u001b[1;33m=\u001b[0m\u001b[1;34m\"ignore\"\u001b[0m\u001b[1;33m)\u001b[0m\u001b[1;33m:\u001b[0m\u001b[1;33m\u001b[0m\u001b[1;33m\u001b[0m\u001b[0m\n\u001b[1;32m--> 345\u001b[1;33m             \u001b[0mresult\u001b[0m \u001b[1;33m=\u001b[0m \u001b[0mfunc\u001b[0m\u001b[1;33m(\u001b[0m\u001b[0mself\u001b[0m\u001b[1;33m.\u001b[0m\u001b[0mvalues\u001b[0m\u001b[1;33m,\u001b[0m \u001b[1;33m**\u001b[0m\u001b[0mkwargs\u001b[0m\u001b[1;33m)\u001b[0m\u001b[1;33m\u001b[0m\u001b[1;33m\u001b[0m\u001b[0m\n\u001b[0m\u001b[0;32m    346\u001b[0m \u001b[1;33m\u001b[0m\u001b[0m\n\u001b[0;32m    347\u001b[0m         \u001b[1;32mreturn\u001b[0m \u001b[0mself\u001b[0m\u001b[1;33m.\u001b[0m\u001b[0m_split_op_result\u001b[0m\u001b[1;33m(\u001b[0m\u001b[0mresult\u001b[0m\u001b[1;33m)\u001b[0m\u001b[1;33m\u001b[0m\u001b[1;33m\u001b[0m\u001b[0m\n",
      "\u001b[1;31mTypeError\u001b[0m: ufunc 'invert' not supported for the input types, and the inputs could not be safely coerced to any supported types according to the casting rule ''safe''"
     ]
    }
   ],
   "source": [
    "df_test['Item_Visibility']=df_test['Item_Visibility'].mask(df_test['Item_Visibility']) \n",
    "df_test"
   ]
  },
  {
   "cell_type": "code",
   "execution_count": null,
   "metadata": {
    "ExecuteTime": {
     "end_time": "2020-12-03T18:05:14.556650Z",
     "start_time": "2020-12-03T18:05:14.539659Z"
    }
   },
   "outputs": [],
   "source": [
    "df_test['Item_Fat_Content'].value_counts()"
   ]
  },
  {
   "cell_type": "code",
   "execution_count": null,
   "metadata": {
    "ExecuteTime": {
     "end_time": "2020-12-03T18:05:18.467684Z",
     "start_time": "2020-12-03T18:05:18.451693Z"
    }
   },
   "outputs": [],
   "source": [
    "df_test['Item_Fat_Content'] = df_test['Item_Fat_Content'].replace({'reg':'Regular', 'LF':'Low Fat','low fat':'Low Fat'})"
   ]
  },
  {
   "cell_type": "code",
   "execution_count": null,
   "metadata": {
    "ExecuteTime": {
     "end_time": "2020-12-03T18:05:20.857007Z",
     "start_time": "2020-12-03T18:05:20.848010Z"
    }
   },
   "outputs": [],
   "source": [
    "df_test['Item_Fat_Content'].value_counts()"
   ]
  },
  {
   "cell_type": "code",
   "execution_count": null,
   "metadata": {
    "ExecuteTime": {
     "end_time": "2020-12-03T18:05:32.598294Z",
     "start_time": "2020-12-03T18:05:32.585304Z"
    }
   },
   "outputs": [],
   "source": [
    "X_test = df_test\n",
    "print(\"X_test shape is {}\\n\".format(X_test.shape))"
   ]
  },
  {
   "cell_type": "code",
   "execution_count": null,
   "metadata": {
    "ExecuteTime": {
     "end_time": "2020-12-03T18:05:37.863637Z",
     "start_time": "2020-12-03T18:05:37.819035Z"
    }
   },
   "outputs": [],
   "source": [
    "# Import label encoder \n",
    "# from sklearn import preprocessing\n",
    "# # label_encoder object knows how to understand word labels. \n",
    "# label_encoder = preprocessing.LabelEncoder()\n",
    "# # Encode labels in column 'Country'. \n",
    "df_test['Item_Fat_Content']=label_encoder.fit_transform(df_test['Item_Fat_Content']) \n",
    "#,'Item_Type','Outlet_Size','Outlet_Location_Type','Outlet_Type'\n",
    "df_test['Outlet_Size']=label_encoder.fit_transform(df_test['Outlet_Size'])\n",
    "df_test['Outlet_Location_Type']=label_encoder.fit_transform(df_test['Outlet_Location_Type'])\n",
    "df_test['Outlet_Type']=label_encoder.fit_transform(df_test['Outlet_Type'])\n",
    "df_test['Item_Type']=label_encoder.fit_transform(df_test['Item_Type'])\n",
    "df_test.head()"
   ]
  },
  {
   "cell_type": "code",
   "execution_count": null,
   "metadata": {
    "ExecuteTime": {
     "end_time": "2020-12-03T18:06:04.317032Z",
     "start_time": "2020-12-03T18:06:04.303041Z"
    }
   },
   "outputs": [],
   "source": [
    "# scaling X_test\n",
    "X_test=min_max_scaler.fit_transform(X_test)"
   ]
  },
  {
   "cell_type": "code",
   "execution_count": null,
   "metadata": {
    "ExecuteTime": {
     "end_time": "2020-12-03T18:06:22.950745Z",
     "start_time": "2020-12-03T18:06:22.939753Z"
    }
   },
   "outputs": [],
   "source": [
    "X_test[:5]"
   ]
  },
  {
   "cell_type": "code",
   "execution_count": 83,
   "metadata": {
    "ExecuteTime": {
     "end_time": "2020-12-05T10:54:27.561746Z",
     "start_time": "2020-12-05T10:53:53.948323Z"
    }
   },
   "outputs": [
    {
     "name": "stderr",
     "output_type": "stream",
     "text": [
      "Using TensorFlow backend.\n"
     ]
    }
   ],
   "source": [
    "from keras.models import Sequential\n",
    "# importing different layers from keras\n",
    "from keras.layers import InputLayer, Dense\n",
    "from keras.optimizers import Adam,RMSprop"
   ]
  },
  {
   "cell_type": "code",
   "execution_count": 85,
   "metadata": {
    "ExecuteTime": {
     "end_time": "2020-12-05T10:55:26.134797Z",
     "start_time": "2020-12-05T10:55:26.125804Z"
    }
   },
   "outputs": [],
   "source": [
    "# defining input neurons\n",
    "input_neurons = X_train.shape[1]"
   ]
  },
  {
   "cell_type": "code",
   "execution_count": 86,
   "metadata": {
    "ExecuteTime": {
     "end_time": "2020-12-05T10:55:28.529714Z",
     "start_time": "2020-12-05T10:55:28.513725Z"
    }
   },
   "outputs": [],
   "source": [
    "# define number of output neurons\n",
    "output_neurons = 1"
   ]
  },
  {
   "cell_type": "code",
   "execution_count": 103,
   "metadata": {
    "ExecuteTime": {
     "end_time": "2020-12-05T11:48:53.657193Z",
     "start_time": "2020-12-05T11:48:53.607223Z"
    }
   },
   "outputs": [],
   "source": [
    "model = Sequential()\n",
    "model.add(InputLayer(input_shape=(input_neurons,)))\n",
    "#model.add(Dense(units=128,activation='relu'))\n",
    "model.add(Dense(units=64,activation='relu'))\n",
    "model.add(Dense(units=32,activation='relu'))\n",
    "model.add(Dense(units=16,activation='relu'))\n",
    "model.add(Dense(units=output_neurons,activation='linear'))"
   ]
  },
  {
   "cell_type": "code",
   "execution_count": 105,
   "metadata": {
    "ExecuteTime": {
     "end_time": "2020-12-05T11:49:21.557421Z",
     "start_time": "2020-12-05T11:49:21.519442Z"
    }
   },
   "outputs": [],
   "source": [
    "learning_rate = 0.01\n",
    "opt=RMSprop(lr=learning_rate)\n",
    "#model.compile(loss='MSE', optimizer='Adam',metrics=['MAE'])\n",
    "model.compile(optimizer=opt, loss='mse', metrics=['mae'])"
   ]
  },
  {
   "cell_type": "code",
   "execution_count": 106,
   "metadata": {
    "ExecuteTime": {
     "end_time": "2020-12-05T11:49:23.118274Z",
     "start_time": "2020-12-05T11:49:23.102283Z"
    }
   },
   "outputs": [
    {
     "name": "stdout",
     "output_type": "stream",
     "text": [
      "Model: \"sequential_2\"\n",
      "_________________________________________________________________\n",
      "Layer (type)                 Output Shape              Param #   \n",
      "=================================================================\n",
      "dense_5 (Dense)              (None, 64)                640       \n",
      "_________________________________________________________________\n",
      "dense_6 (Dense)              (None, 32)                2080      \n",
      "_________________________________________________________________\n",
      "dense_7 (Dense)              (None, 16)                528       \n",
      "_________________________________________________________________\n",
      "dense_8 (Dense)              (None, 1)                 17        \n",
      "=================================================================\n",
      "Total params: 3,265\n",
      "Trainable params: 3,265\n",
      "Non-trainable params: 0\n",
      "_________________________________________________________________\n"
     ]
    }
   ],
   "source": [
    "model.summary()"
   ]
  },
  {
   "cell_type": "code",
   "execution_count": 108,
   "metadata": {
    "ExecuteTime": {
     "end_time": "2020-12-05T11:51:29.481149Z",
     "start_time": "2020-12-05T11:50:19.663745Z"
    }
   },
   "outputs": [
    {
     "name": "stdout",
     "output_type": "stream",
     "text": [
      "Train on 6818 samples, validate on 1705 samples\n",
      "Epoch 1/200\n",
      "6818/6818 [==============================] - 0s 50us/step - loss: 7118.3904 - mae: 66.2006 - val_loss: 44.2486 - val_mae: 4.9049\n",
      "Epoch 2/200\n",
      "6818/6818 [==============================] - 0s 49us/step - loss: 7153.7868 - mae: 59.4769 - val_loss: 2368.1934 - val_mae: 45.6147\n",
      "Epoch 3/200\n",
      "6818/6818 [==============================] - 0s 49us/step - loss: 6904.6633 - mae: 62.1725 - val_loss: 4402.1918 - val_mae: 63.1361\n",
      "Epoch 4/200\n",
      "6818/6818 [==============================] - 0s 48us/step - loss: 7234.6197 - mae: 69.8689 - val_loss: 194.1544 - val_mae: 12.6155\n",
      "Epoch 5/200\n",
      "6818/6818 [==============================] - 0s 47us/step - loss: 6740.8701 - mae: 58.3594 - val_loss: 11177.2135 - val_mae: 95.2008\n",
      "Epoch 6/200\n",
      "6818/6818 [==============================] - 0s 46us/step - loss: 6833.2443 - mae: 62.8844 - val_loss: 10049.6041 - val_mae: 92.7610\n",
      "Epoch 7/200\n",
      "6818/6818 [==============================] - 0s 49us/step - loss: 7060.7399 - mae: 58.1344 - val_loss: 2209.7974 - val_mae: 40.9559\n",
      "Epoch 8/200\n",
      "6818/6818 [==============================] - 0s 48us/step - loss: 6764.4595 - mae: 59.2591 - val_loss: 156.1920 - val_mae: 9.9341\n",
      "Epoch 9/200\n",
      "6818/6818 [==============================] - 0s 53us/step - loss: 6556.2321 - mae: 58.4502 - val_loss: 2111.3024 - val_mae: 41.3775\n",
      "Epoch 10/200\n",
      "6818/6818 [==============================] - 0s 46us/step - loss: 6723.0703 - mae: 61.9098 - val_loss: 53822.4085 - val_mae: 208.0033\n",
      "Epoch 11/200\n",
      "6818/6818 [==============================] - 0s 49us/step - loss: 6747.4674 - mae: 61.4113 - val_loss: 1026.2287 - val_mae: 28.4052\n",
      "Epoch 12/200\n",
      "6818/6818 [==============================] - 0s 48us/step - loss: 6392.5363 - mae: 62.3472 - val_loss: 11799.7433 - val_mae: 99.9139\n",
      "Epoch 13/200\n",
      "6818/6818 [==============================] - 0s 49us/step - loss: 6750.3660 - mae: 66.2158 - val_loss: 816.9566 - val_mae: 24.7863\n",
      "Epoch 14/200\n",
      "6818/6818 [==============================] - 0s 49us/step - loss: 6527.1753 - mae: 56.3337 - val_loss: 5368.4543 - val_mae: 61.3202\n",
      "Epoch 15/200\n",
      "6818/6818 [==============================] - 0s 47us/step - loss: 6396.8604 - mae: 50.3157 - val_loss: 8183.8259 - val_mae: 85.1955\n",
      "Epoch 16/200\n",
      "6818/6818 [==============================] - 0s 48us/step - loss: 6310.7466 - mae: 61.0244 - val_loss: 6649.1669 - val_mae: 76.5652\n",
      "Epoch 17/200\n",
      "6818/6818 [==============================] - 0s 47us/step - loss: 6622.0618 - mae: 65.3902 - val_loss: 634.4041 - val_mae: 20.9406\n",
      "Epoch 18/200\n",
      "6818/6818 [==============================] - 0s 48us/step - loss: 6462.6970 - mae: 57.8698 - val_loss: 2158.5875 - val_mae: 44.2705\n",
      "Epoch 19/200\n",
      "6818/6818 [==============================] - 0s 46us/step - loss: 6229.8577 - mae: 58.7205 - val_loss: 680.0721 - val_mae: 22.3855\n",
      "Epoch 20/200\n",
      "6818/6818 [==============================] - 0s 49us/step - loss: 6284.9231 - mae: 54.3259 - val_loss: 77.5295 - val_mae: 7.4856\n",
      "Epoch 21/200\n",
      "6818/6818 [==============================] - 0s 46us/step - loss: 6370.8290 - mae: 63.3118 - val_loss: 600.3943 - val_mae: 20.3958\n",
      "Epoch 22/200\n",
      "6818/6818 [==============================] - 0s 53us/step - loss: 6110.2612 - mae: 54.8894 - val_loss: 25017.1352 - val_mae: 126.4034\n",
      "Epoch 23/200\n",
      "6818/6818 [==============================] - 0s 54us/step - loss: 6135.8326 - mae: 54.1283 - val_loss: 839.0968 - val_mae: 23.2781\n",
      "Epoch 24/200\n",
      "6818/6818 [==============================] - 0s 56us/step - loss: 6014.9545 - mae: 61.3093 - val_loss: 48.8896 - val_mae: 4.9953\n",
      "Epoch 25/200\n",
      "6818/6818 [==============================] - 0s 49us/step - loss: 6491.0348 - mae: 60.1434 - val_loss: 262.3018 - val_mae: 12.8783\n",
      "Epoch 26/200\n",
      "6818/6818 [==============================] - 0s 52us/step - loss: 6161.4556 - mae: 61.0963 - val_loss: 5377.2989 - val_mae: 65.7509\n",
      "Epoch 27/200\n",
      "6818/6818 [==============================] - 0s 58us/step - loss: 5997.2494 - mae: 57.9488 - val_loss: 18170.1759 - val_mae: 118.4667\n",
      "Epoch 28/200\n",
      "6818/6818 [==============================] - 0s 48us/step - loss: 5915.3407 - mae: 57.3104 - val_loss: 28345.3209 - val_mae: 154.3513\n",
      "Epoch 29/200\n",
      "6818/6818 [==============================] - 0s 49us/step - loss: 6081.5572 - mae: 59.0985 - val_loss: 311.4558 - val_mae: 14.0339\n",
      "Epoch 30/200\n",
      "6818/6818 [==============================] - 0s 47us/step - loss: 5835.5655 - mae: 57.5766 - val_loss: 9275.9140 - val_mae: 90.3183\n",
      "Epoch 31/200\n",
      "6818/6818 [==============================] - 0s 50us/step - loss: 5957.3338 - mae: 55.3792 - val_loss: 2127.7158 - val_mae: 41.7204\n",
      "Epoch 32/200\n",
      "6818/6818 [==============================] - 0s 50us/step - loss: 6168.5754 - mae: 58.3839 - val_loss: 122.2332 - val_mae: 8.8856\n",
      "Epoch 33/200\n",
      "6818/6818 [==============================] - 0s 48us/step - loss: 5939.6957 - mae: 57.9640 - val_loss: 101.7634 - val_mae: 8.6133\n",
      "Epoch 34/200\n",
      "6818/6818 [==============================] - 0s 49us/step - loss: 5908.7228 - mae: 58.4314 - val_loss: 3711.6717 - val_mae: 55.2447\n",
      "Epoch 35/200\n",
      "6818/6818 [==============================] - 0s 51us/step - loss: 5823.0097 - mae: 56.2381 - val_loss: 94.9031 - val_mae: 8.0837\n",
      "Epoch 36/200\n",
      "6818/6818 [==============================] - 0s 49us/step - loss: 5874.5880 - mae: 55.7744 - val_loss: 17200.6079 - val_mae: 120.9124\n",
      "Epoch 37/200\n",
      "6818/6818 [==============================] - 0s 58us/step - loss: 5713.7707 - mae: 55.5973 - val_loss: 153.7354 - val_mae: 10.7361\n",
      "Epoch 38/200\n",
      "6818/6818 [==============================] - 0s 47us/step - loss: 5873.0175 - mae: 58.4347 - val_loss: 6304.8827 - val_mae: 72.8818\n",
      "Epoch 39/200\n",
      "6818/6818 [==============================] - 0s 47us/step - loss: 5636.4449 - mae: 58.1857 - val_loss: 40641.9614 - val_mae: 177.7006\n",
      "Epoch 40/200\n",
      "6818/6818 [==============================] - 0s 54us/step - loss: 5904.1256 - mae: 60.9783 - val_loss: 142.1286 - val_mae: 10.1113\n",
      "Epoch 41/200\n",
      "6818/6818 [==============================] - 0s 48us/step - loss: 5829.3820 - mae: 56.6250 - val_loss: 142.1967 - val_mae: 10.3133\n",
      "Epoch 42/200\n",
      "6818/6818 [==============================] - 0s 53us/step - loss: 5415.3858 - mae: 50.4761 - val_loss: 5107.3297 - val_mae: 62.1420\n",
      "Epoch 43/200\n",
      "6818/6818 [==============================] - 0s 55us/step - loss: 5658.4752 - mae: 51.5630 - val_loss: 361.1281 - val_mae: 13.2430\n",
      "Epoch 44/200\n",
      "6818/6818 [==============================] - 0s 50us/step - loss: 5559.6412 - mae: 57.1671 - val_loss: 78.3899 - val_mae: 7.6142\n",
      "Epoch 45/200\n",
      "6818/6818 [==============================] - 0s 61us/step - loss: 5623.7777 - mae: 57.5629 - val_loss: 26266.6154 - val_mae: 146.4771\n",
      "Epoch 46/200\n",
      "6818/6818 [==============================] - 0s 46us/step - loss: 5466.7724 - mae: 53.2321 - val_loss: 213.8393 - val_mae: 11.3229\n",
      "Epoch 47/200\n",
      "6818/6818 [==============================] - 0s 46us/step - loss: 5590.1322 - mae: 51.9369 - val_loss: 364.2830 - val_mae: 14.7937\n",
      "Epoch 48/200\n",
      "6818/6818 [==============================] - 0s 46us/step - loss: 5611.5298 - mae: 54.0474 - val_loss: 313.0831 - val_mae: 14.2448\n",
      "Epoch 49/200\n",
      "6818/6818 [==============================] - 0s 53us/step - loss: 5364.1984 - mae: 49.3447 - val_loss: 1501.0679 - val_mae: 36.4131\n",
      "Epoch 50/200\n",
      "6818/6818 [==============================] - 0s 46us/step - loss: 5488.7611 - mae: 55.9047 - val_loss: 186.5755 - val_mae: 12.0260\n",
      "Epoch 51/200\n",
      "6818/6818 [==============================] - 0s 51us/step - loss: 5540.0068 - mae: 54.9605 - val_loss: 6177.2692 - val_mae: 72.8293\n",
      "Epoch 52/200\n",
      "6818/6818 [==============================] - 0s 48us/step - loss: 5500.8974 - mae: 53.7657 - val_loss: 130.2177 - val_mae: 8.3855\n",
      "Epoch 53/200\n",
      "6818/6818 [==============================] - 0s 48us/step - loss: 5463.9055 - mae: 56.0242 - val_loss: 99.5464 - val_mae: 8.5268\n",
      "Epoch 54/200\n",
      "6818/6818 [==============================] - 0s 46us/step - loss: 5476.1882 - mae: 55.1401 - val_loss: 2134.8337 - val_mae: 40.0053\n",
      "Epoch 55/200\n",
      "6818/6818 [==============================] - 0s 50us/step - loss: 5713.7244 - mae: 57.5296 - val_loss: 3300.9517 - val_mae: 52.8648\n",
      "Epoch 56/200\n",
      "6818/6818 [==============================] - 0s 50us/step - loss: 5363.0298 - mae: 54.6480 - val_loss: 1725.3117 - val_mae: 36.6801\n",
      "Epoch 57/200\n"
     ]
    },
    {
     "name": "stdout",
     "output_type": "stream",
     "text": [
      "6818/6818 [==============================] - 0s 50us/step - loss: 5414.3122 - mae: 53.8243 - val_loss: 3599.4741 - val_mae: 55.9709\n",
      "Epoch 58/200\n",
      "6818/6818 [==============================] - 0s 49us/step - loss: 5354.5735 - mae: 56.2365 - val_loss: 19639.3030 - val_mae: 129.9384\n",
      "Epoch 59/200\n",
      "6818/6818 [==============================] - 0s 62us/step - loss: 5413.6431 - mae: 56.5626 - val_loss: 9655.4249 - val_mae: 90.2924\n",
      "Epoch 60/200\n",
      "6818/6818 [==============================] - 0s 63us/step - loss: 5676.1864 - mae: 60.5486 - val_loss: 126.9185 - val_mae: 8.8866\n",
      "Epoch 61/200\n",
      "6818/6818 [==============================] - 0s 51us/step - loss: 5266.9561 - mae: 51.3876 - val_loss: 238.9542 - val_mae: 14.2830\n",
      "Epoch 62/200\n",
      "6818/6818 [==============================] - 0s 45us/step - loss: 5386.7593 - mae: 53.2651 - val_loss: 26.3166 - val_mae: 3.9840\n",
      "Epoch 63/200\n",
      "6818/6818 [==============================] - 0s 48us/step - loss: 5304.1973 - mae: 48.2187 - val_loss: 5554.6102 - val_mae: 67.4871\n",
      "Epoch 64/200\n",
      "6818/6818 [==============================] - 0s 47us/step - loss: 5403.2786 - mae: 53.4087 - val_loss: 6190.3026 - val_mae: 64.7801\n",
      "Epoch 65/200\n",
      "6818/6818 [==============================] - 0s 47us/step - loss: 5382.7217 - mae: 53.5885 - val_loss: 5624.2049 - val_mae: 66.6709\n",
      "Epoch 66/200\n",
      "6818/6818 [==============================] - 0s 47us/step - loss: 5444.9127 - mae: 53.6876 - val_loss: 92.6858 - val_mae: 7.3285\n",
      "Epoch 67/200\n",
      "6818/6818 [==============================] - 0s 52us/step - loss: 5192.4397 - mae: 53.1886 - val_loss: 2718.1093 - val_mae: 46.6136\n",
      "Epoch 68/200\n",
      "6818/6818 [==============================] - 0s 52us/step - loss: 5317.1969 - mae: 53.6103 - val_loss: 388.2760 - val_mae: 17.9554\n",
      "Epoch 69/200\n",
      "6818/6818 [==============================] - 0s 50us/step - loss: 5098.1313 - mae: 52.0463 - val_loss: 20329.1664 - val_mae: 131.7267\n",
      "Epoch 70/200\n",
      "6818/6818 [==============================] - 0s 49us/step - loss: 5259.0043 - mae: 49.5962 - val_loss: 10217.3394 - val_mae: 80.4709\n",
      "Epoch 71/200\n",
      "6818/6818 [==============================] - 0s 48us/step - loss: 5174.1745 - mae: 51.0791 - val_loss: 180.2842 - val_mae: 10.6863\n",
      "Epoch 72/200\n",
      "6818/6818 [==============================] - 0s 49us/step - loss: 5249.5788 - mae: 55.5961 - val_loss: 49467.0405 - val_mae: 194.6041\n",
      "Epoch 73/200\n",
      "6818/6818 [==============================] - 0s 50us/step - loss: 5202.0428 - mae: 50.9934 - val_loss: 4153.3870 - val_mae: 60.4718\n",
      "Epoch 74/200\n",
      "6818/6818 [==============================] - 0s 50us/step - loss: 5140.1875 - mae: 50.4444 - val_loss: 11577.3953 - val_mae: 96.4634\n",
      "Epoch 75/200\n",
      "6818/6818 [==============================] - 0s 52us/step - loss: 5052.1278 - mae: 47.9268 - val_loss: 3747.6750 - val_mae: 55.3688\n",
      "Epoch 76/200\n",
      "6818/6818 [==============================] - 0s 49us/step - loss: 5131.3477 - mae: 56.0518 - val_loss: 30710.9087 - val_mae: 152.7869\n",
      "Epoch 77/200\n",
      "6818/6818 [==============================] - 0s 49us/step - loss: 5049.4530 - mae: 53.9654 - val_loss: 677.6050 - val_mae: 21.2348\n",
      "Epoch 78/200\n",
      "6818/6818 [==============================] - 0s 51us/step - loss: 5334.8097 - mae: 52.2633 - val_loss: 572.5950 - val_mae: 19.5536\n",
      "Epoch 79/200\n",
      "6818/6818 [==============================] - 0s 49us/step - loss: 5023.5447 - mae: 52.6124 - val_loss: 291.1574 - val_mae: 12.3658\n",
      "Epoch 80/200\n",
      "6818/6818 [==============================] - 0s 49us/step - loss: 4930.3171 - mae: 43.5317 - val_loss: 19.6535 - val_mae: 3.1748\n",
      "Epoch 81/200\n",
      "6818/6818 [==============================] - 0s 49us/step - loss: 5100.3957 - mae: 53.2371 - val_loss: 1559.4236 - val_mae: 37.9002\n",
      "Epoch 82/200\n",
      "6818/6818 [==============================] - 0s 49us/step - loss: 5059.6809 - mae: 51.2901 - val_loss: 10870.1751 - val_mae: 92.3928\n",
      "Epoch 83/200\n",
      "6818/6818 [==============================] - 0s 51us/step - loss: 5131.1247 - mae: 54.2256 - val_loss: 93.0060 - val_mae: 7.6942\n",
      "Epoch 84/200\n",
      "6818/6818 [==============================] - 0s 49us/step - loss: 5022.2449 - mae: 49.2552 - val_loss: 382.6349 - val_mae: 15.4038\n",
      "Epoch 85/200\n",
      "6818/6818 [==============================] - 0s 54us/step - loss: 4924.5395 - mae: 48.9779 - val_loss: 3447.1379 - val_mae: 51.6173\n",
      "Epoch 86/200\n",
      "6818/6818 [==============================] - 0s 49us/step - loss: 4924.2164 - mae: 51.9192 - val_loss: 47494.3463 - val_mae: 192.1687\n",
      "Epoch 87/200\n",
      "6818/6818 [==============================] - 0s 51us/step - loss: 5194.8628 - mae: 53.8217 - val_loss: 940.1330 - val_mae: 27.1733\n",
      "Epoch 88/200\n",
      "6818/6818 [==============================] - 0s 49us/step - loss: 4579.9339 - mae: 45.7388 - val_loss: 35.6998 - val_mae: 4.5309\n",
      "Epoch 89/200\n",
      "6818/6818 [==============================] - 0s 51us/step - loss: 4863.0211 - mae: 50.7113 - val_loss: 21179.5180 - val_mae: 125.8644\n",
      "Epoch 90/200\n",
      "6818/6818 [==============================] - 0s 52us/step - loss: 4957.0557 - mae: 46.8645 - val_loss: 119.7795 - val_mae: 7.9924\n",
      "Epoch 91/200\n",
      "6818/6818 [==============================] - 0s 49us/step - loss: 4692.0648 - mae: 46.9959 - val_loss: 291.4321 - val_mae: 13.6782\n",
      "Epoch 92/200\n",
      "6818/6818 [==============================] - 0s 56us/step - loss: 4786.5953 - mae: 42.7619 - val_loss: 740.0914 - val_mae: 21.3245\n",
      "Epoch 93/200\n",
      "6818/6818 [==============================] - 0s 49us/step - loss: 4749.1413 - mae: 49.6505 - val_loss: 96.4418 - val_mae: 7.7146\n",
      "Epoch 94/200\n",
      "6818/6818 [==============================] - 0s 49us/step - loss: 4631.8390 - mae: 49.5066 - val_loss: 407.3337 - val_mae: 18.6936\n",
      "Epoch 95/200\n",
      "6818/6818 [==============================] - 0s 52us/step - loss: 4998.2810 - mae: 50.5883 - val_loss: 13537.2145 - val_mae: 103.8682\n",
      "Epoch 96/200\n",
      "6818/6818 [==============================] - 0s 50us/step - loss: 4960.8459 - mae: 55.5631 - val_loss: 280.2146 - val_mae: 12.8538\n",
      "Epoch 97/200\n",
      "6818/6818 [==============================] - 0s 49us/step - loss: 4570.5781 - mae: 47.5491 - val_loss: 151.3436 - val_mae: 10.6327\n",
      "Epoch 98/200\n",
      "6818/6818 [==============================] - 0s 53us/step - loss: 4633.1164 - mae: 49.9114 - val_loss: 86.5651 - val_mae: 7.3739\n",
      "Epoch 99/200\n",
      "6818/6818 [==============================] - 0s 49us/step - loss: 4932.2273 - mae: 49.0891 - val_loss: 356.3221 - val_mae: 16.9812\n",
      "Epoch 100/200\n",
      "6818/6818 [==============================] - 0s 49us/step - loss: 4651.6821 - mae: 50.2613 - val_loss: 78.6660 - val_mae: 6.9717\n",
      "Epoch 101/200\n",
      "6818/6818 [==============================] - 0s 55us/step - loss: 4714.9091 - mae: 53.7218 - val_loss: 43.3274 - val_mae: 4.7581\n",
      "Epoch 102/200\n",
      "6818/6818 [==============================] - 0s 51us/step - loss: 4726.6165 - mae: 51.3817 - val_loss: 3970.8157 - val_mae: 56.0260\n",
      "Epoch 103/200\n",
      "6818/6818 [==============================] - 0s 49us/step - loss: 4743.5333 - mae: 49.9934 - val_loss: 2799.3435 - val_mae: 47.6180\n",
      "Epoch 104/200\n",
      "6818/6818 [==============================] - 0s 52us/step - loss: 4592.3345 - mae: 52.8643 - val_loss: 204.0617 - val_mae: 12.9793\n",
      "Epoch 105/200\n",
      "6818/6818 [==============================] - 0s 52us/step - loss: 4834.2715 - mae: 55.3759 - val_loss: 56.7568 - val_mae: 5.9532\n",
      "Epoch 106/200\n",
      "6818/6818 [==============================] - 0s 50us/step - loss: 4521.0279 - mae: 49.9362 - val_loss: 1720.5402 - val_mae: 39.9937\n",
      "Epoch 107/200\n",
      "6818/6818 [==============================] - 0s 53us/step - loss: 4722.7796 - mae: 49.4952 - val_loss: 594.4280 - val_mae: 18.5712\n",
      "Epoch 108/200\n",
      "6818/6818 [==============================] - 0s 51us/step - loss: 4615.3409 - mae: 46.9299 - val_loss: 2724.1379 - val_mae: 45.1437\n",
      "Epoch 109/200\n",
      "6818/6818 [==============================] - 0s 50us/step - loss: 4575.8903 - mae: 53.0834 - val_loss: 455.5552 - val_mae: 17.9625\n",
      "Epoch 110/200\n",
      "6818/6818 [==============================] - 0s 54us/step - loss: 4593.0407 - mae: 46.6902 - val_loss: 257.7314 - val_mae: 13.2863\n",
      "Epoch 111/200\n",
      "6818/6818 [==============================] - 0s 48us/step - loss: 4564.4321 - mae: 42.6534 - val_loss: 276.0898 - val_mae: 13.9049\n",
      "Epoch 112/200\n",
      "6818/6818 [==============================] - 0s 51us/step - loss: 4557.3377 - mae: 49.1409 - val_loss: 13747.7020 - val_mae: 97.9249\n",
      "Epoch 113/200\n",
      "6818/6818 [==============================] - 0s 49us/step - loss: 4479.6230 - mae: 47.6336 - val_loss: 252.8788 - val_mae: 12.4065\n"
     ]
    },
    {
     "name": "stdout",
     "output_type": "stream",
     "text": [
      "Epoch 114/200\n",
      "6818/6818 [==============================] - 0s 44us/step - loss: 4460.5815 - mae: 51.2752 - val_loss: 196.6008 - val_mae: 11.8860\n",
      "Epoch 115/200\n",
      "6818/6818 [==============================] - 0s 51us/step - loss: 4518.5037 - mae: 49.8233 - val_loss: 227.4096 - val_mae: 12.4203\n",
      "Epoch 116/200\n",
      "6818/6818 [==============================] - 0s 49us/step - loss: 4464.7465 - mae: 45.1578 - val_loss: 107.2184 - val_mae: 8.9628\n",
      "Epoch 117/200\n",
      "6818/6818 [==============================] - 0s 49us/step - loss: 4551.2955 - mae: 50.2865 - val_loss: 66.5630 - val_mae: 6.1098\n",
      "Epoch 118/200\n",
      "6818/6818 [==============================] - 0s 53us/step - loss: 4314.5279 - mae: 46.9249 - val_loss: 117.3335 - val_mae: 7.3812\n",
      "Epoch 119/200\n",
      "6818/6818 [==============================] - 0s 47us/step - loss: 4428.2167 - mae: 50.9179 - val_loss: 703.5576 - val_mae: 23.3058\n",
      "Epoch 120/200\n",
      "6818/6818 [==============================] - 0s 48us/step - loss: 4391.8078 - mae: 50.0342 - val_loss: 74.5523 - val_mae: 6.8671\n",
      "Epoch 121/200\n",
      "6818/6818 [==============================] - 0s 49us/step - loss: 4384.9149 - mae: 44.1940 - val_loss: 582.1486 - val_mae: 17.8491\n",
      "Epoch 122/200\n",
      "6818/6818 [==============================] - 0s 47us/step - loss: 4349.4741 - mae: 49.8275 - val_loss: 244.3155 - val_mae: 14.2940\n",
      "Epoch 123/200\n",
      "6818/6818 [==============================] - 0s 47us/step - loss: 4516.4101 - mae: 53.5253 - val_loss: 433.0921 - val_mae: 17.2701\n",
      "Epoch 124/200\n",
      "6818/6818 [==============================] - 0s 49us/step - loss: 4268.0646 - mae: 45.6716 - val_loss: 2547.5809 - val_mae: 43.0622\n",
      "Epoch 125/200\n",
      "6818/6818 [==============================] - 0s 58us/step - loss: 4351.7189 - mae: 47.9053 - val_loss: 4322.8023 - val_mae: 53.0668\n",
      "Epoch 126/200\n",
      "6818/6818 [==============================] - 0s 50us/step - loss: 4252.0860 - mae: 46.6504 - val_loss: 822.3785 - val_mae: 27.0246\n",
      "Epoch 127/200\n",
      "6818/6818 [==============================] - 0s 50us/step - loss: 4486.5788 - mae: 47.1212 - val_loss: 22.5571 - val_mae: 3.3164\n",
      "Epoch 128/200\n",
      "6818/6818 [==============================] - 0s 50us/step - loss: 4051.6971 - mae: 41.7446 - val_loss: 5369.4435 - val_mae: 68.1041\n",
      "Epoch 129/200\n",
      "6818/6818 [==============================] - 0s 50us/step - loss: 4299.3806 - mae: 45.9145 - val_loss: 2084.9247 - val_mae: 43.6548\n",
      "Epoch 130/200\n",
      "6818/6818 [==============================] - 0s 51us/step - loss: 4416.4864 - mae: 50.0644 - val_loss: 76.3869 - val_mae: 7.0952\n",
      "Epoch 131/200\n",
      "6818/6818 [==============================] - 0s 49us/step - loss: 4166.9062 - mae: 49.9370 - val_loss: 1834.3749 - val_mae: 41.0775\n",
      "Epoch 132/200\n",
      "6818/6818 [==============================] - 0s 49us/step - loss: 4224.6344 - mae: 47.3832 - val_loss: 741.7790 - val_mae: 22.0080\n",
      "Epoch 133/200\n",
      "6818/6818 [==============================] - 0s 50us/step - loss: 4208.6678 - mae: 49.8656 - val_loss: 2969.3718 - val_mae: 50.2884\n",
      "Epoch 134/200\n",
      "6818/6818 [==============================] - 0s 48us/step - loss: 4284.8040 - mae: 50.4686 - val_loss: 742.5399 - val_mae: 25.2248\n",
      "Epoch 135/200\n",
      "6818/6818 [==============================] - 0s 50us/step - loss: 4155.7254 - mae: 44.8895 - val_loss: 1928.4623 - val_mae: 39.9509\n",
      "Epoch 136/200\n",
      "6818/6818 [==============================] - 0s 50us/step - loss: 4213.1066 - mae: 47.7020 - val_loss: 7470.1200 - val_mae: 78.9595\n",
      "Epoch 137/200\n",
      "6818/6818 [==============================] - 0s 49us/step - loss: 4217.7210 - mae: 45.9230 - val_loss: 2113.1154 - val_mae: 34.1118\n",
      "Epoch 138/200\n",
      "6818/6818 [==============================] - 0s 49us/step - loss: 4136.0874 - mae: 47.6319 - val_loss: 360.5820 - val_mae: 16.3724\n",
      "Epoch 139/200\n",
      "6818/6818 [==============================] - 0s 51us/step - loss: 4188.2135 - mae: 49.4095 - val_loss: 253.8712 - val_mae: 13.1230\n",
      "Epoch 140/200\n",
      "6818/6818 [==============================] - 0s 48us/step - loss: 4128.2318 - mae: 44.9069 - val_loss: 6269.4917 - val_mae: 73.3731\n",
      "Epoch 141/200\n",
      "6818/6818 [==============================] - 0s 49us/step - loss: 4180.8785 - mae: 46.4523 - val_loss: 152.5587 - val_mae: 8.7040\n",
      "Epoch 142/200\n",
      "6818/6818 [==============================] - 0s 48us/step - loss: 3996.7434 - mae: 44.1039 - val_loss: 1264.9678 - val_mae: 27.9123\n",
      "Epoch 143/200\n",
      "6818/6818 [==============================] - 0s 47us/step - loss: 4195.4205 - mae: 49.3427 - val_loss: 1004.7970 - val_mae: 28.7022\n",
      "Epoch 144/200\n",
      "6818/6818 [==============================] - 0s 49us/step - loss: 3883.4006 - mae: 42.3872 - val_loss: 28.3623 - val_mae: 4.4563\n",
      "Epoch 145/200\n",
      "6818/6818 [==============================] - 0s 55us/step - loss: 4172.8570 - mae: 46.2912 - val_loss: 173.6792 - val_mae: 11.4006\n",
      "Epoch 146/200\n",
      "6818/6818 [==============================] - 0s 49us/step - loss: 3908.5756 - mae: 41.8027 - val_loss: 2314.3475 - val_mae: 45.1139\n",
      "Epoch 147/200\n",
      "6818/6818 [==============================] - 0s 55us/step - loss: 4167.0585 - mae: 47.7365 - val_loss: 98.3683 - val_mae: 7.1061\n",
      "Epoch 148/200\n",
      "6818/6818 [==============================] - 0s 49us/step - loss: 4013.8896 - mae: 46.8730 - val_loss: 5687.5143 - val_mae: 61.1744\n",
      "Epoch 149/200\n",
      "6818/6818 [==============================] - 0s 50us/step - loss: 4013.7699 - mae: 45.1463 - val_loss: 1096.7315 - val_mae: 30.6006\n",
      "Epoch 150/200\n",
      "6818/6818 [==============================] - 0s 50us/step - loss: 3883.0075 - mae: 40.3675 - val_loss: 741.6909 - val_mae: 23.9608\n",
      "Epoch 151/200\n",
      "6818/6818 [==============================] - 0s 51us/step - loss: 4088.5832 - mae: 48.3111 - val_loss: 213.3513 - val_mae: 12.1960\n",
      "Epoch 152/200\n",
      "6818/6818 [==============================] - 0s 50us/step - loss: 3860.7684 - mae: 47.1178 - val_loss: 32.9359 - val_mae: 4.0935\n",
      "Epoch 153/200\n",
      "6818/6818 [==============================] - 0s 59us/step - loss: 3900.3573 - mae: 42.5147 - val_loss: 4970.9863 - val_mae: 64.7347\n",
      "Epoch 154/200\n",
      "6818/6818 [==============================] - 0s 49us/step - loss: 3932.3968 - mae: 48.1084 - val_loss: 2680.2860 - val_mae: 38.8776\n",
      "Epoch 155/200\n",
      "6818/6818 [==============================] - 0s 47us/step - loss: 3792.4928 - mae: 47.0319 - val_loss: 11825.7875 - val_mae: 95.9957\n",
      "Epoch 156/200\n",
      "6818/6818 [==============================] - 0s 51us/step - loss: 3824.2323 - mae: 40.5830 - val_loss: 28.9327 - val_mae: 4.2494\n",
      "Epoch 157/200\n",
      "6818/6818 [==============================] - 0s 51us/step - loss: 3723.8327 - mae: 44.9122 - val_loss: 11512.8462 - val_mae: 101.0445\n",
      "Epoch 158/200\n",
      "6818/6818 [==============================] - 0s 54us/step - loss: 3762.0220 - mae: 48.1778 - val_loss: 190.3228 - val_mae: 11.5535\n",
      "Epoch 159/200\n",
      "6818/6818 [==============================] - 0s 56us/step - loss: 3734.7774 - mae: 45.4110 - val_loss: 8755.5677 - val_mae: 81.3386\n",
      "Epoch 160/200\n",
      "6818/6818 [==============================] - 0s 50us/step - loss: 3852.0276 - mae: 44.3094 - val_loss: 48.0698 - val_mae: 5.3589\n",
      "Epoch 161/200\n",
      "6818/6818 [==============================] - 0s 55us/step - loss: 3716.1814 - mae: 41.9291 - val_loss: 6352.2790 - val_mae: 67.8076\n",
      "Epoch 162/200\n",
      "6818/6818 [==============================] - 0s 56us/step - loss: 3654.2939 - mae: 47.8160 - val_loss: 1212.8191 - val_mae: 32.7832\n",
      "Epoch 163/200\n",
      "6818/6818 [==============================] - 0s 55us/step - loss: 3737.6233 - mae: 45.5240 - val_loss: 23689.8872 - val_mae: 137.6777\n",
      "Epoch 164/200\n",
      "6818/6818 [==============================] - 0s 57us/step - loss: 3571.8084 - mae: 43.3689 - val_loss: 5682.4360 - val_mae: 69.7067\n",
      "Epoch 165/200\n",
      "6818/6818 [==============================] - 0s 62us/step - loss: 3732.5200 - mae: 44.5916 - val_loss: 12709.8166 - val_mae: 97.3825\n",
      "Epoch 166/200\n",
      "6818/6818 [==============================] - 0s 63us/step - loss: 3798.3631 - mae: 48.5042 - val_loss: 31.2144 - val_mae: 4.2793\n",
      "Epoch 167/200\n",
      "6818/6818 [==============================] - 0s 55us/step - loss: 3551.0260 - mae: 40.6716 - val_loss: 4009.2723 - val_mae: 53.5941\n",
      "Epoch 168/200\n",
      "6818/6818 [==============================] - 0s 50us/step - loss: 3571.8788 - mae: 37.2057 - val_loss: 2082.0106 - val_mae: 41.2339\n",
      "Epoch 169/200\n",
      "6818/6818 [==============================] - 0s 52us/step - loss: 3782.4981 - mae: 46.7714 - val_loss: 40.2138 - val_mae: 4.7664\n",
      "Epoch 170/200\n"
     ]
    },
    {
     "name": "stdout",
     "output_type": "stream",
     "text": [
      "6818/6818 [==============================] - 0s 51us/step - loss: 3538.4356 - mae: 39.0179 - val_loss: 384.7247 - val_mae: 15.9507\n",
      "Epoch 171/200\n",
      "6818/6818 [==============================] - 0s 46us/step - loss: 3670.4020 - mae: 42.3937 - val_loss: 94.1118 - val_mae: 8.2011\n",
      "Epoch 172/200\n",
      "6818/6818 [==============================] - 0s 50us/step - loss: 3448.3745 - mae: 39.1176 - val_loss: 18745.6188 - val_mae: 122.3889\n",
      "Epoch 173/200\n",
      "6818/6818 [==============================] - 0s 47us/step - loss: 3700.1830 - mae: 46.2867 - val_loss: 322.1643 - val_mae: 13.7465\n",
      "Epoch 174/200\n",
      "6818/6818 [==============================] - 0s 67us/step - loss: 3741.0073 - mae: 42.6459 - val_loss: 32.0693 - val_mae: 4.2431\n",
      "Epoch 175/200\n",
      "6818/6818 [==============================] - 0s 62us/step - loss: 3579.3409 - mae: 40.7978 - val_loss: 82.2778 - val_mae: 7.4629\n",
      "Epoch 176/200\n",
      "6818/6818 [==============================] - 0s 53us/step - loss: 3641.5470 - mae: 41.6035 - val_loss: 37.3442 - val_mae: 4.8231\n",
      "Epoch 177/200\n",
      "6818/6818 [==============================] - 0s 54us/step - loss: 3434.2440 - mae: 44.0413 - val_loss: 11065.4263 - val_mae: 91.1156\n",
      "Epoch 178/200\n",
      "6818/6818 [==============================] - 0s 52us/step - loss: 3714.2278 - mae: 48.2533 - val_loss: 13246.0355 - val_mae: 102.9870\n",
      "Epoch 179/200\n",
      "6818/6818 [==============================] - 0s 53us/step - loss: 3694.8304 - mae: 39.6116 - val_loss: 90.5092 - val_mae: 7.7994\n",
      "Epoch 180/200\n",
      "6818/6818 [==============================] - 0s 69us/step - loss: 3480.4399 - mae: 38.5661 - val_loss: 21058.9563 - val_mae: 128.1975\n",
      "Epoch 181/200\n",
      "6818/6818 [==============================] - 0s 56us/step - loss: 3578.2946 - mae: 43.0608 - val_loss: 299.6824 - val_mae: 13.5295\n",
      "Epoch 182/200\n",
      "6818/6818 [==============================] - ETA: 0s - loss: 3418.9647 - mae: 37.428 - 1s 86us/step - loss: 3474.4418 - mae: 37.9632 - val_loss: 641.5971 - val_mae: 21.7038\n",
      "Epoch 183/200\n",
      "6818/6818 [==============================] - 0s 68us/step - loss: 3541.3607 - mae: 41.4518 - val_loss: 967.1822 - val_mae: 29.4360\n",
      "Epoch 184/200\n",
      "6818/6818 [==============================] - 1s 75us/step - loss: 3569.0732 - mae: 40.7518 - val_loss: 293.5884 - val_mae: 15.4439\n",
      "Epoch 185/200\n",
      "6818/6818 [==============================] - 1s 75us/step - loss: 3498.2375 - mae: 43.2418 - val_loss: 207.5345 - val_mae: 9.8312\n",
      "Epoch 186/200\n",
      "6818/6818 [==============================] - 0s 63us/step - loss: 3538.1612 - mae: 41.7022 - val_loss: 169.9905 - val_mae: 10.0342\n",
      "Epoch 187/200\n",
      "6818/6818 [==============================] - 0s 62us/step - loss: 3493.8932 - mae: 44.6089 - val_loss: 128.3985 - val_mae: 9.9820\n",
      "Epoch 188/200\n",
      "6818/6818 [==============================] - 0s 48us/step - loss: 3490.1805 - mae: 42.9084 - val_loss: 2128.7557 - val_mae: 45.0428\n",
      "Epoch 189/200\n",
      "6818/6818 [==============================] - 0s 42us/step - loss: 3592.8738 - mae: 40.6420 - val_loss: 33.7426 - val_mae: 4.8359\n",
      "Epoch 190/200\n",
      "6818/6818 [==============================] - 0s 45us/step - loss: 3493.3178 - mae: 43.1390 - val_loss: 4000.4829 - val_mae: 59.0713\n",
      "Epoch 191/200\n",
      "6818/6818 [==============================] - 0s 42us/step - loss: 3541.9235 - mae: 45.7051 - val_loss: 5196.8914 - val_mae: 62.8816\n",
      "Epoch 192/200\n",
      "6818/6818 [==============================] - 0s 41us/step - loss: 3547.3455 - mae: 45.8449 - val_loss: 485.1624 - val_mae: 20.4586\n",
      "Epoch 193/200\n",
      "6818/6818 [==============================] - 0s 41us/step - loss: 3423.6384 - mae: 41.2378 - val_loss: 7896.3344 - val_mae: 77.0683\n",
      "Epoch 194/200\n",
      "6818/6818 [==============================] - 0s 40us/step - loss: 3457.2649 - mae: 40.0803 - val_loss: 15.6357 - val_mae: 2.9761\n",
      "Epoch 195/200\n",
      "6818/6818 [==============================] - 0s 39us/step - loss: 3458.1838 - mae: 43.4496 - val_loss: 2452.9810 - val_mae: 44.7927\n",
      "Epoch 196/200\n",
      "6818/6818 [==============================] - 0s 41us/step - loss: 3457.3180 - mae: 41.0986 - val_loss: 850.0814 - val_mae: 25.7787\n",
      "Epoch 197/200\n",
      "6818/6818 [==============================] - 0s 48us/step - loss: 3584.4277 - mae: 42.4309 - val_loss: 61.7644 - val_mae: 6.5147\n",
      "Epoch 198/200\n",
      "6818/6818 [==============================] - 0s 42us/step - loss: 3339.0144 - mae: 43.3486 - val_loss: 2267.8167 - val_mae: 39.9072\n",
      "Epoch 199/200\n",
      "6818/6818 [==============================] - 0s 40us/step - loss: 3376.0850 - mae: 38.6386 - val_loss: 64.1794 - val_mae: 6.6144\n",
      "Epoch 200/200\n",
      "6818/6818 [==============================] - 0s 43us/step - loss: 3428.0003 - mae: 38.2513 - val_loss: 24.1959 - val_mae: 3.7016\n"
     ]
    }
   ],
   "source": [
    "history = model.fit(X_train, y_train, epochs=200, batch_size=32,validation_split = 0.2, verbose=1)"
   ]
  },
  {
   "cell_type": "code",
   "execution_count": 110,
   "metadata": {
    "ExecuteTime": {
     "end_time": "2020-12-05T11:52:38.322493Z",
     "start_time": "2020-12-05T11:52:38.112625Z"
    }
   },
   "outputs": [
    {
     "name": "stdout",
     "output_type": "stream",
     "text": [
      "8523/8523 [==============================] - 0s 23us/step\n"
     ]
    },
    {
     "data": {
      "text/plain": [
       "[23.761798902505106, 3.6878461837768555]"
      ]
     },
     "execution_count": 110,
     "metadata": {},
     "output_type": "execute_result"
    }
   ],
   "source": [
    "model.evaluate(X_train,y_train)"
   ]
  },
  {
   "cell_type": "code",
   "execution_count": 111,
   "metadata": {
    "ExecuteTime": {
     "end_time": "2020-12-05T11:52:48.978114Z",
     "start_time": "2020-12-05T11:52:48.766245Z"
    }
   },
   "outputs": [
    {
     "ename": "ValueError",
     "evalue": "x and y must have same first dimension, but have shapes (100,) and (200,)",
     "output_type": "error",
     "traceback": [
      "\u001b[1;31m---------------------------------------------------------------------------\u001b[0m",
      "\u001b[1;31mValueError\u001b[0m                                Traceback (most recent call last)",
      "\u001b[1;32m<ipython-input-111-aab95f3b11ca>\u001b[0m in \u001b[0;36m<module>\u001b[1;34m\u001b[0m\n\u001b[0;32m      4\u001b[0m \u001b[0mplt\u001b[0m\u001b[1;33m.\u001b[0m\u001b[0mfigure\u001b[0m\u001b[1;33m(\u001b[0m\u001b[0mfigsize\u001b[0m\u001b[1;33m=\u001b[0m\u001b[1;33m(\u001b[0m\u001b[1;36m12\u001b[0m\u001b[1;33m,\u001b[0m \u001b[1;36m8\u001b[0m\u001b[1;33m)\u001b[0m\u001b[1;33m)\u001b[0m\u001b[1;33m\u001b[0m\u001b[1;33m\u001b[0m\u001b[0m\n\u001b[0;32m      5\u001b[0m \u001b[1;31m#plt.figure(figure)\u001b[0m\u001b[1;33m\u001b[0m\u001b[1;33m\u001b[0m\u001b[1;33m\u001b[0m\u001b[0m\n\u001b[1;32m----> 6\u001b[1;33m \u001b[0mplt\u001b[0m\u001b[1;33m.\u001b[0m\u001b[0mplot\u001b[0m\u001b[1;33m(\u001b[0m\u001b[0mN\u001b[0m\u001b[1;33m,\u001b[0m \u001b[0mhistory\u001b[0m\u001b[1;33m.\u001b[0m\u001b[0mhistory\u001b[0m\u001b[1;33m[\u001b[0m\u001b[1;34m\"loss\"\u001b[0m\u001b[1;33m]\u001b[0m\u001b[1;33m,\u001b[0m \u001b[0mlabel\u001b[0m\u001b[1;33m=\u001b[0m\u001b[1;34m\"train_loss\"\u001b[0m\u001b[1;33m)\u001b[0m\u001b[1;33m\u001b[0m\u001b[1;33m\u001b[0m\u001b[0m\n\u001b[0m\u001b[0;32m      7\u001b[0m \u001b[0mplt\u001b[0m\u001b[1;33m.\u001b[0m\u001b[0mplot\u001b[0m\u001b[1;33m(\u001b[0m\u001b[0mN\u001b[0m\u001b[1;33m,\u001b[0m \u001b[0mhistory\u001b[0m\u001b[1;33m.\u001b[0m\u001b[0mhistory\u001b[0m\u001b[1;33m[\u001b[0m\u001b[1;34m\"val_loss\"\u001b[0m\u001b[1;33m]\u001b[0m\u001b[1;33m,\u001b[0m \u001b[0mlabel\u001b[0m\u001b[1;33m=\u001b[0m\u001b[1;34m\"val_loss\"\u001b[0m\u001b[1;33m)\u001b[0m\u001b[1;33m\u001b[0m\u001b[1;33m\u001b[0m\u001b[0m\n\u001b[0;32m      8\u001b[0m \u001b[0mplt\u001b[0m\u001b[1;33m.\u001b[0m\u001b[0mplot\u001b[0m\u001b[1;33m(\u001b[0m\u001b[0mN\u001b[0m\u001b[1;33m,\u001b[0m \u001b[0mhistory\u001b[0m\u001b[1;33m.\u001b[0m\u001b[0mhistory\u001b[0m\u001b[1;33m[\u001b[0m\u001b[1;34m\"mae\"\u001b[0m\u001b[1;33m]\u001b[0m\u001b[1;33m,\u001b[0m \u001b[0mlabel\u001b[0m\u001b[1;33m=\u001b[0m\u001b[1;34m\"train_mae\"\u001b[0m\u001b[1;33m)\u001b[0m\u001b[1;33m\u001b[0m\u001b[1;33m\u001b[0m\u001b[0m\n",
      "\u001b[1;32mC:\\ProgramData\\Anaconda3\\lib\\site-packages\\matplotlib\\pyplot.py\u001b[0m in \u001b[0;36mplot\u001b[1;34m(scalex, scaley, data, *args, **kwargs)\u001b[0m\n\u001b[0;32m   2824\u001b[0m     return gca().plot(\n\u001b[0;32m   2825\u001b[0m         \u001b[1;33m*\u001b[0m\u001b[0margs\u001b[0m\u001b[1;33m,\u001b[0m \u001b[0mscalex\u001b[0m\u001b[1;33m=\u001b[0m\u001b[0mscalex\u001b[0m\u001b[1;33m,\u001b[0m \u001b[0mscaley\u001b[0m\u001b[1;33m=\u001b[0m\u001b[0mscaley\u001b[0m\u001b[1;33m,\u001b[0m\u001b[1;33m\u001b[0m\u001b[1;33m\u001b[0m\u001b[0m\n\u001b[1;32m-> 2826\u001b[1;33m         **({\"data\": data} if data is not None else {}), **kwargs)\n\u001b[0m\u001b[0;32m   2827\u001b[0m \u001b[1;33m\u001b[0m\u001b[0m\n\u001b[0;32m   2828\u001b[0m \u001b[1;33m\u001b[0m\u001b[0m\n",
      "\u001b[1;32mC:\\ProgramData\\Anaconda3\\lib\\site-packages\\matplotlib\\axes\\_axes.py\u001b[0m in \u001b[0;36mplot\u001b[1;34m(self, scalex, scaley, data, *args, **kwargs)\u001b[0m\n\u001b[0;32m   1741\u001b[0m         \"\"\"\n\u001b[0;32m   1742\u001b[0m         \u001b[0mkwargs\u001b[0m \u001b[1;33m=\u001b[0m \u001b[0mcbook\u001b[0m\u001b[1;33m.\u001b[0m\u001b[0mnormalize_kwargs\u001b[0m\u001b[1;33m(\u001b[0m\u001b[0mkwargs\u001b[0m\u001b[1;33m,\u001b[0m \u001b[0mmlines\u001b[0m\u001b[1;33m.\u001b[0m\u001b[0mLine2D\u001b[0m\u001b[1;33m)\u001b[0m\u001b[1;33m\u001b[0m\u001b[1;33m\u001b[0m\u001b[0m\n\u001b[1;32m-> 1743\u001b[1;33m         \u001b[0mlines\u001b[0m \u001b[1;33m=\u001b[0m \u001b[1;33m[\u001b[0m\u001b[1;33m*\u001b[0m\u001b[0mself\u001b[0m\u001b[1;33m.\u001b[0m\u001b[0m_get_lines\u001b[0m\u001b[1;33m(\u001b[0m\u001b[1;33m*\u001b[0m\u001b[0margs\u001b[0m\u001b[1;33m,\u001b[0m \u001b[0mdata\u001b[0m\u001b[1;33m=\u001b[0m\u001b[0mdata\u001b[0m\u001b[1;33m,\u001b[0m \u001b[1;33m**\u001b[0m\u001b[0mkwargs\u001b[0m\u001b[1;33m)\u001b[0m\u001b[1;33m]\u001b[0m\u001b[1;33m\u001b[0m\u001b[1;33m\u001b[0m\u001b[0m\n\u001b[0m\u001b[0;32m   1744\u001b[0m         \u001b[1;32mfor\u001b[0m \u001b[0mline\u001b[0m \u001b[1;32min\u001b[0m \u001b[0mlines\u001b[0m\u001b[1;33m:\u001b[0m\u001b[1;33m\u001b[0m\u001b[1;33m\u001b[0m\u001b[0m\n\u001b[0;32m   1745\u001b[0m             \u001b[0mself\u001b[0m\u001b[1;33m.\u001b[0m\u001b[0madd_line\u001b[0m\u001b[1;33m(\u001b[0m\u001b[0mline\u001b[0m\u001b[1;33m)\u001b[0m\u001b[1;33m\u001b[0m\u001b[1;33m\u001b[0m\u001b[0m\n",
      "\u001b[1;32mC:\\ProgramData\\Anaconda3\\lib\\site-packages\\matplotlib\\axes\\_base.py\u001b[0m in \u001b[0;36m__call__\u001b[1;34m(self, data, *args, **kwargs)\u001b[0m\n\u001b[0;32m    271\u001b[0m                 \u001b[0mthis\u001b[0m \u001b[1;33m+=\u001b[0m \u001b[0margs\u001b[0m\u001b[1;33m[\u001b[0m\u001b[1;36m0\u001b[0m\u001b[1;33m]\u001b[0m\u001b[1;33m,\u001b[0m\u001b[1;33m\u001b[0m\u001b[1;33m\u001b[0m\u001b[0m\n\u001b[0;32m    272\u001b[0m                 \u001b[0margs\u001b[0m \u001b[1;33m=\u001b[0m \u001b[0margs\u001b[0m\u001b[1;33m[\u001b[0m\u001b[1;36m1\u001b[0m\u001b[1;33m:\u001b[0m\u001b[1;33m]\u001b[0m\u001b[1;33m\u001b[0m\u001b[1;33m\u001b[0m\u001b[0m\n\u001b[1;32m--> 273\u001b[1;33m             \u001b[1;32myield\u001b[0m \u001b[1;32mfrom\u001b[0m \u001b[0mself\u001b[0m\u001b[1;33m.\u001b[0m\u001b[0m_plot_args\u001b[0m\u001b[1;33m(\u001b[0m\u001b[0mthis\u001b[0m\u001b[1;33m,\u001b[0m \u001b[0mkwargs\u001b[0m\u001b[1;33m)\u001b[0m\u001b[1;33m\u001b[0m\u001b[1;33m\u001b[0m\u001b[0m\n\u001b[0m\u001b[0;32m    274\u001b[0m \u001b[1;33m\u001b[0m\u001b[0m\n\u001b[0;32m    275\u001b[0m     \u001b[1;32mdef\u001b[0m \u001b[0mget_next_color\u001b[0m\u001b[1;33m(\u001b[0m\u001b[0mself\u001b[0m\u001b[1;33m)\u001b[0m\u001b[1;33m:\u001b[0m\u001b[1;33m\u001b[0m\u001b[1;33m\u001b[0m\u001b[0m\n",
      "\u001b[1;32mC:\\ProgramData\\Anaconda3\\lib\\site-packages\\matplotlib\\axes\\_base.py\u001b[0m in \u001b[0;36m_plot_args\u001b[1;34m(self, tup, kwargs)\u001b[0m\n\u001b[0;32m    397\u001b[0m \u001b[1;33m\u001b[0m\u001b[0m\n\u001b[0;32m    398\u001b[0m         \u001b[1;32mif\u001b[0m \u001b[0mx\u001b[0m\u001b[1;33m.\u001b[0m\u001b[0mshape\u001b[0m\u001b[1;33m[\u001b[0m\u001b[1;36m0\u001b[0m\u001b[1;33m]\u001b[0m \u001b[1;33m!=\u001b[0m \u001b[0my\u001b[0m\u001b[1;33m.\u001b[0m\u001b[0mshape\u001b[0m\u001b[1;33m[\u001b[0m\u001b[1;36m0\u001b[0m\u001b[1;33m]\u001b[0m\u001b[1;33m:\u001b[0m\u001b[1;33m\u001b[0m\u001b[1;33m\u001b[0m\u001b[0m\n\u001b[1;32m--> 399\u001b[1;33m             raise ValueError(f\"x and y must have same first dimension, but \"\n\u001b[0m\u001b[0;32m    400\u001b[0m                              f\"have shapes {x.shape} and {y.shape}\")\n\u001b[0;32m    401\u001b[0m         \u001b[1;32mif\u001b[0m \u001b[0mx\u001b[0m\u001b[1;33m.\u001b[0m\u001b[0mndim\u001b[0m \u001b[1;33m>\u001b[0m \u001b[1;36m2\u001b[0m \u001b[1;32mor\u001b[0m \u001b[0my\u001b[0m\u001b[1;33m.\u001b[0m\u001b[0mndim\u001b[0m \u001b[1;33m>\u001b[0m \u001b[1;36m2\u001b[0m\u001b[1;33m:\u001b[0m\u001b[1;33m\u001b[0m\u001b[1;33m\u001b[0m\u001b[0m\n",
      "\u001b[1;31mValueError\u001b[0m: x and y must have same first dimension, but have shapes (100,) and (200,)"
     ]
    },
    {
     "data": {
      "image/png": "[encoded data removed]",
      "text/plain": [
       "<Figure size 864x576 with 1 Axes>"
      ]
     },
     "metadata": {
      "needs_background": "light"
     },
     "output_type": "display_data"
    }
   ],
   "source": [
    "# plot the training loss and accuracy\n",
    "N = np.arange(0, 100)\n",
    "#plt.style.use(\"ggplot\")\n",
    "plt.figure(figsize=(12, 8))\n",
    "#plt.figure(figure)\n",
    "plt.plot(N, history.history[\"loss\"], label=\"train_loss\")\n",
    "plt.plot(N, history.history[\"val_loss\"], label=\"val_loss\")\n",
    "plt.plot(N, history.history[\"mae\"], label=\"train_mae\")\n",
    "plt.plot(N, history.history[\"val_mae\"], label=\"val_mae\")\n",
    "plt.title(\"Training Loss and Mean Absolute Error on Dataset\")\n",
    "plt.xlabel(\"Epoch #\")\n",
    "plt.ylabel(\"Loss/MAE\")\n",
    "plt.legend(loc=\"upper right\")\n",
    "#plt.savefig(args[\"plot\"])"
   ]
  },
  {
   "cell_type": "code",
   "execution_count": null,
   "metadata": {
    "ExecuteTime": {
     "end_time": "2020-12-03T18:44:25.362389Z",
     "start_time": "2020-12-03T18:44:25.255456Z"
    }
   },
   "outputs": [],
   "source": [
    "predictions = model.predict(X_test)"
   ]
  },
  {
   "cell_type": "code",
   "execution_count": null,
   "metadata": {
    "ExecuteTime": {
     "end_time": "2020-12-03T18:44:35.493426Z",
     "start_time": "2020-12-03T18:44:35.429468Z"
    }
   },
   "outputs": [],
   "source": [
    "predictions"
   ]
  },
  {
   "cell_type": "code",
   "execution_count": null,
   "metadata": {},
   "outputs": [],
   "source": []
  }
 ],
 "metadata": {
  "kernelspec": {
   "display_name": "Python 3",
   "language": "python",
   "name": "python3"
  },
  "language_info": {
   "codemirror_mode": {
    "name": "ipython",
    "version": 3
   },
   "file_extension": ".py",
   "mimetype": "text/x-python",
   "name": "python",
   "nbconvert_exporter": "python",
   "pygments_lexer": "ipython3",
   "version": "3.7.6"
  }
 },
 "nbformat": 4,
 "nbformat_minor": 4
}
