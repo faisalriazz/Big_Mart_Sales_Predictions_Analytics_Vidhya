{
 "cells": [
  {
   "cell_type": "markdown",
   "metadata": {},
   "source": [
    "# Big Mart Sales Prediction"
   ]
  },
  {
   "cell_type": "markdown",
   "metadata": {
    "ExecuteTime": {
     "end_time": "2020-12-05T11:54:14.087401Z",
     "start_time": "2020-12-05T11:54:14.084401Z"
    }
   },
   "source": [
    "### Importing required Libraries"
   ]
  },
  {
   "cell_type": "code",
   "execution_count": 1,
   "metadata": {
    "ExecuteTime": {
     "end_time": "2020-12-07T10:52:54.772472Z",
     "start_time": "2020-12-07T10:52:38.701574Z"
    }
   },
   "outputs": [],
   "source": [
    "import numpy as np\n",
    "import pandas as pd\n",
    "import matplotlib.pyplot as plt\n",
    "import seaborn as sns\n",
    "from sklearn.metrics import mean_squared_error\n",
    "from math import sqrt\n",
    "%matplotlib inline"
   ]
  },
  {
   "cell_type": "markdown",
   "metadata": {
    "ExecuteTime": {
     "end_time": "2020-12-05T11:55:08.808846Z",
     "start_time": "2020-12-05T11:55:08.790857Z"
    }
   },
   "source": [
    "### importing the dataset"
   ]
  },
  {
   "cell_type": "code",
   "execution_count": 2,
   "metadata": {
    "ExecuteTime": {
     "end_time": "2020-12-07T10:52:55.118718Z",
     "start_time": "2020-12-07T10:52:54.775452Z"
    }
   },
   "outputs": [],
   "source": [
    "# importing the test and train csv files\n",
    "train = pd.read_csv(\"train.csv\")\n",
    "test = pd.read_csv(\"test.csv\")"
   ]
  },
  {
   "cell_type": "code",
   "execution_count": 3,
   "metadata": {
    "ExecuteTime": {
     "end_time": "2020-12-07T10:52:55.134298Z",
     "start_time": "2020-12-07T10:52:55.121731Z"
    }
   },
   "outputs": [],
   "source": [
    "## Data exploration of Train Data"
   ]
  },
  {
   "cell_type": "code",
   "execution_count": 4,
   "metadata": {
    "ExecuteTime": {
     "end_time": "2020-12-07T10:52:55.226911Z",
     "start_time": "2020-12-07T10:52:55.137268Z"
    }
   },
   "outputs": [
    {
     "name": "stdout",
     "output_type": "stream",
     "text": [
      "dimension of train set are (8523, 12)\n",
      "dimension of test set are (5681, 11)\n",
      "\n"
     ]
    }
   ],
   "source": [
    "print('dimension of train set are {}\\ndimension of test set are {}\\n'.format(train.shape,test.shape))"
   ]
  },
  {
   "cell_type": "code",
   "execution_count": 5,
   "metadata": {
    "ExecuteTime": {
     "end_time": "2020-12-07T10:52:55.303872Z",
     "start_time": "2020-12-07T10:52:55.228902Z"
    }
   },
   "outputs": [
    {
     "name": "stdout",
     "output_type": "stream",
     "text": [
      "<class 'pandas.core.frame.DataFrame'>\n",
      "RangeIndex: 8523 entries, 0 to 8522\n",
      "Data columns (total 12 columns):\n",
      " #   Column                     Non-Null Count  Dtype  \n",
      "---  ------                     --------------  -----  \n",
      " 0   Item_Identifier            8523 non-null   object \n",
      " 1   Item_Weight                7060 non-null   float64\n",
      " 2   Item_Fat_Content           8523 non-null   object \n",
      " 3   Item_Visibility            8523 non-null   float64\n",
      " 4   Item_Type                  8523 non-null   object \n",
      " 5   Item_MRP                   8523 non-null   float64\n",
      " 6   Outlet_Identifier          8523 non-null   object \n",
      " 7   Outlet_Establishment_Year  8523 non-null   int64  \n",
      " 8   Outlet_Size                6113 non-null   object \n",
      " 9   Outlet_Location_Type       8523 non-null   object \n",
      " 10  Outlet_Type                8523 non-null   object \n",
      " 11  Item_Outlet_Sales          8523 non-null   float64\n",
      "dtypes: float64(4), int64(1), object(7)\n",
      "memory usage: 799.2+ KB\n"
     ]
    }
   ],
   "source": [
    "train.info()"
   ]
  },
  {
   "cell_type": "code",
   "execution_count": 6,
   "metadata": {
    "ExecuteTime": {
     "end_time": "2020-12-07T10:52:55.505996Z",
     "start_time": "2020-12-07T10:52:55.305871Z"
    }
   },
   "outputs": [
    {
     "data": {
      "text/html": [
       "<div>\n",
       "<style scoped>\n",
       "    .dataframe tbody tr th:only-of-type {\n",
       "        vertical-align: middle;\n",
       "    }\n",
       "\n",
       "    .dataframe tbody tr th {\n",
       "        vertical-align: top;\n",
       "    }\n",
       "\n",
       "    .dataframe thead th {\n",
       "        text-align: right;\n",
       "    }\n",
       "</style>\n",
       "<table border=\"1\" class=\"dataframe\">\n",
       "  <thead>\n",
       "    <tr style=\"text-align: right;\">\n",
       "      <th></th>\n",
       "      <th>Item_Weight</th>\n",
       "      <th>Item_Visibility</th>\n",
       "      <th>Item_MRP</th>\n",
       "      <th>Outlet_Establishment_Year</th>\n",
       "      <th>Item_Outlet_Sales</th>\n",
       "    </tr>\n",
       "  </thead>\n",
       "  <tbody>\n",
       "    <tr>\n",
       "      <th>count</th>\n",
       "      <td>7060.000000</td>\n",
       "      <td>8523.000000</td>\n",
       "      <td>8523.000000</td>\n",
       "      <td>8523.000000</td>\n",
       "      <td>8523.000000</td>\n",
       "    </tr>\n",
       "    <tr>\n",
       "      <th>mean</th>\n",
       "      <td>12.857645</td>\n",
       "      <td>0.066132</td>\n",
       "      <td>140.992782</td>\n",
       "      <td>1997.831867</td>\n",
       "      <td>2181.288914</td>\n",
       "    </tr>\n",
       "    <tr>\n",
       "      <th>std</th>\n",
       "      <td>4.643456</td>\n",
       "      <td>0.051598</td>\n",
       "      <td>62.275067</td>\n",
       "      <td>8.371760</td>\n",
       "      <td>1706.499616</td>\n",
       "    </tr>\n",
       "    <tr>\n",
       "      <th>min</th>\n",
       "      <td>4.555000</td>\n",
       "      <td>0.000000</td>\n",
       "      <td>31.290000</td>\n",
       "      <td>1985.000000</td>\n",
       "      <td>33.290000</td>\n",
       "    </tr>\n",
       "    <tr>\n",
       "      <th>25%</th>\n",
       "      <td>8.773750</td>\n",
       "      <td>0.026989</td>\n",
       "      <td>93.826500</td>\n",
       "      <td>1987.000000</td>\n",
       "      <td>834.247400</td>\n",
       "    </tr>\n",
       "    <tr>\n",
       "      <th>50%</th>\n",
       "      <td>12.600000</td>\n",
       "      <td>0.053931</td>\n",
       "      <td>143.012800</td>\n",
       "      <td>1999.000000</td>\n",
       "      <td>1794.331000</td>\n",
       "    </tr>\n",
       "    <tr>\n",
       "      <th>75%</th>\n",
       "      <td>16.850000</td>\n",
       "      <td>0.094585</td>\n",
       "      <td>185.643700</td>\n",
       "      <td>2004.000000</td>\n",
       "      <td>3101.296400</td>\n",
       "    </tr>\n",
       "    <tr>\n",
       "      <th>max</th>\n",
       "      <td>21.350000</td>\n",
       "      <td>0.328391</td>\n",
       "      <td>266.888400</td>\n",
       "      <td>2009.000000</td>\n",
       "      <td>13086.964800</td>\n",
       "    </tr>\n",
       "  </tbody>\n",
       "</table>\n",
       "</div>"
      ],
      "text/plain": [
       "       Item_Weight  Item_Visibility     Item_MRP  Outlet_Establishment_Year  \\\n",
       "count  7060.000000      8523.000000  8523.000000                8523.000000   \n",
       "mean     12.857645         0.066132   140.992782                1997.831867   \n",
       "std       4.643456         0.051598    62.275067                   8.371760   \n",
       "min       4.555000         0.000000    31.290000                1985.000000   \n",
       "25%       8.773750         0.026989    93.826500                1987.000000   \n",
       "50%      12.600000         0.053931   143.012800                1999.000000   \n",
       "75%      16.850000         0.094585   185.643700                2004.000000   \n",
       "max      21.350000         0.328391   266.888400                2009.000000   \n",
       "\n",
       "       Item_Outlet_Sales  \n",
       "count        8523.000000  \n",
       "mean         2181.288914  \n",
       "std          1706.499616  \n",
       "min            33.290000  \n",
       "25%           834.247400  \n",
       "50%          1794.331000  \n",
       "75%          3101.296400  \n",
       "max         13086.964800  "
      ]
     },
     "execution_count": 6,
     "metadata": {},
     "output_type": "execute_result"
    }
   ],
   "source": [
    "train.describe()"
   ]
  },
  {
   "cell_type": "code",
   "execution_count": 7,
   "metadata": {
    "ExecuteTime": {
     "end_time": "2020-12-07T10:52:55.552971Z",
     "start_time": "2020-12-07T10:52:55.507993Z"
    }
   },
   "outputs": [
    {
     "data": {
      "text/html": [
       "<div>\n",
       "<style scoped>\n",
       "    .dataframe tbody tr th:only-of-type {\n",
       "        vertical-align: middle;\n",
       "    }\n",
       "\n",
       "    .dataframe tbody tr th {\n",
       "        vertical-align: top;\n",
       "    }\n",
       "\n",
       "    .dataframe thead th {\n",
       "        text-align: right;\n",
       "    }\n",
       "</style>\n",
       "<table border=\"1\" class=\"dataframe\">\n",
       "  <thead>\n",
       "    <tr style=\"text-align: right;\">\n",
       "      <th></th>\n",
       "      <th>Item_Identifier</th>\n",
       "      <th>Item_Weight</th>\n",
       "      <th>Item_Fat_Content</th>\n",
       "      <th>Item_Visibility</th>\n",
       "      <th>Item_Type</th>\n",
       "      <th>Item_MRP</th>\n",
       "      <th>Outlet_Identifier</th>\n",
       "      <th>Outlet_Establishment_Year</th>\n",
       "      <th>Outlet_Size</th>\n",
       "      <th>Outlet_Location_Type</th>\n",
       "      <th>Outlet_Type</th>\n",
       "      <th>Item_Outlet_Sales</th>\n",
       "    </tr>\n",
       "  </thead>\n",
       "  <tbody>\n",
       "    <tr>\n",
       "      <th>0</th>\n",
       "      <td>FDA15</td>\n",
       "      <td>9.30</td>\n",
       "      <td>Low Fat</td>\n",
       "      <td>0.016047</td>\n",
       "      <td>Dairy</td>\n",
       "      <td>249.8092</td>\n",
       "      <td>OUT049</td>\n",
       "      <td>1999</td>\n",
       "      <td>Medium</td>\n",
       "      <td>Tier 1</td>\n",
       "      <td>Supermarket Type1</td>\n",
       "      <td>3735.1380</td>\n",
       "    </tr>\n",
       "    <tr>\n",
       "      <th>1</th>\n",
       "      <td>DRC01</td>\n",
       "      <td>5.92</td>\n",
       "      <td>Regular</td>\n",
       "      <td>0.019278</td>\n",
       "      <td>Soft Drinks</td>\n",
       "      <td>48.2692</td>\n",
       "      <td>OUT018</td>\n",
       "      <td>2009</td>\n",
       "      <td>Medium</td>\n",
       "      <td>Tier 3</td>\n",
       "      <td>Supermarket Type2</td>\n",
       "      <td>443.4228</td>\n",
       "    </tr>\n",
       "    <tr>\n",
       "      <th>2</th>\n",
       "      <td>FDN15</td>\n",
       "      <td>17.50</td>\n",
       "      <td>Low Fat</td>\n",
       "      <td>0.016760</td>\n",
       "      <td>Meat</td>\n",
       "      <td>141.6180</td>\n",
       "      <td>OUT049</td>\n",
       "      <td>1999</td>\n",
       "      <td>Medium</td>\n",
       "      <td>Tier 1</td>\n",
       "      <td>Supermarket Type1</td>\n",
       "      <td>2097.2700</td>\n",
       "    </tr>\n",
       "    <tr>\n",
       "      <th>3</th>\n",
       "      <td>FDX07</td>\n",
       "      <td>19.20</td>\n",
       "      <td>Regular</td>\n",
       "      <td>0.000000</td>\n",
       "      <td>Fruits and Vegetables</td>\n",
       "      <td>182.0950</td>\n",
       "      <td>OUT010</td>\n",
       "      <td>1998</td>\n",
       "      <td>NaN</td>\n",
       "      <td>Tier 3</td>\n",
       "      <td>Grocery Store</td>\n",
       "      <td>732.3800</td>\n",
       "    </tr>\n",
       "    <tr>\n",
       "      <th>4</th>\n",
       "      <td>NCD19</td>\n",
       "      <td>8.93</td>\n",
       "      <td>Low Fat</td>\n",
       "      <td>0.000000</td>\n",
       "      <td>Household</td>\n",
       "      <td>53.8614</td>\n",
       "      <td>OUT013</td>\n",
       "      <td>1987</td>\n",
       "      <td>High</td>\n",
       "      <td>Tier 3</td>\n",
       "      <td>Supermarket Type1</td>\n",
       "      <td>994.7052</td>\n",
       "    </tr>\n",
       "  </tbody>\n",
       "</table>\n",
       "</div>"
      ],
      "text/plain": [
       "  Item_Identifier  Item_Weight Item_Fat_Content  Item_Visibility  \\\n",
       "0           FDA15         9.30          Low Fat         0.016047   \n",
       "1           DRC01         5.92          Regular         0.019278   \n",
       "2           FDN15        17.50          Low Fat         0.016760   \n",
       "3           FDX07        19.20          Regular         0.000000   \n",
       "4           NCD19         8.93          Low Fat         0.000000   \n",
       "\n",
       "               Item_Type  Item_MRP Outlet_Identifier  \\\n",
       "0                  Dairy  249.8092            OUT049   \n",
       "1            Soft Drinks   48.2692            OUT018   \n",
       "2                   Meat  141.6180            OUT049   \n",
       "3  Fruits and Vegetables  182.0950            OUT010   \n",
       "4              Household   53.8614            OUT013   \n",
       "\n",
       "   Outlet_Establishment_Year Outlet_Size Outlet_Location_Type  \\\n",
       "0                       1999      Medium               Tier 1   \n",
       "1                       2009      Medium               Tier 3   \n",
       "2                       1999      Medium               Tier 1   \n",
       "3                       1998         NaN               Tier 3   \n",
       "4                       1987        High               Tier 3   \n",
       "\n",
       "         Outlet_Type  Item_Outlet_Sales  \n",
       "0  Supermarket Type1          3735.1380  \n",
       "1  Supermarket Type2           443.4228  \n",
       "2  Supermarket Type1          2097.2700  \n",
       "3      Grocery Store           732.3800  \n",
       "4  Supermarket Type1           994.7052  "
      ]
     },
     "execution_count": 7,
     "metadata": {},
     "output_type": "execute_result"
    }
   ],
   "source": [
    "train.head()"
   ]
  },
  {
   "cell_type": "code",
   "execution_count": 8,
   "metadata": {
    "ExecuteTime": {
     "end_time": "2020-12-07T10:52:55.630249Z",
     "start_time": "2020-12-07T10:52:55.558964Z"
    }
   },
   "outputs": [
    {
     "name": "stdout",
     "output_type": "stream",
     "text": [
      "Xtrain shape is (8523, 11)\n",
      "ytrain shape is (8523,)\n",
      "\n"
     ]
    }
   ],
   "source": [
    "## Extracting X and y from train dataset\n",
    "X = train.iloc[:,0:-1]\n",
    "y =train['Item_Outlet_Sales']\n",
    "print(\"Xtrain shape is {}\\nytrain shape is {}\\n\".format(X.shape,y.shape))"
   ]
  },
  {
   "cell_type": "code",
   "execution_count": 9,
   "metadata": {
    "ExecuteTime": {
     "end_time": "2020-12-07T10:52:55.862096Z",
     "start_time": "2020-12-07T10:52:55.633223Z"
    }
   },
   "outputs": [],
   "source": [
    "# Outlet_Establishment_year does not carry any significance so adding the age of Outlet\n",
    "# adding extra feature of Outlet_Age = max(Outlet_Establishment_Year)-(Outlet_Establishment_year)\n",
    "X['Outlet_Age']=X['Outlet_Establishment_Year'].max() - X['Outlet_Establishment_Year']"
   ]
  },
  {
   "cell_type": "code",
   "execution_count": 10,
   "metadata": {
    "ExecuteTime": {
     "end_time": "2020-12-07T10:52:55.894085Z",
     "start_time": "2020-12-07T10:52:55.864104Z"
    }
   },
   "outputs": [
    {
     "data": {
      "text/html": [
       "<div>\n",
       "<style scoped>\n",
       "    .dataframe tbody tr th:only-of-type {\n",
       "        vertical-align: middle;\n",
       "    }\n",
       "\n",
       "    .dataframe tbody tr th {\n",
       "        vertical-align: top;\n",
       "    }\n",
       "\n",
       "    .dataframe thead th {\n",
       "        text-align: right;\n",
       "    }\n",
       "</style>\n",
       "<table border=\"1\" class=\"dataframe\">\n",
       "  <thead>\n",
       "    <tr style=\"text-align: right;\">\n",
       "      <th></th>\n",
       "      <th>Item_Identifier</th>\n",
       "      <th>Item_Weight</th>\n",
       "      <th>Item_Fat_Content</th>\n",
       "      <th>Item_Visibility</th>\n",
       "      <th>Item_Type</th>\n",
       "      <th>Item_MRP</th>\n",
       "      <th>Outlet_Identifier</th>\n",
       "      <th>Outlet_Establishment_Year</th>\n",
       "      <th>Outlet_Size</th>\n",
       "      <th>Outlet_Location_Type</th>\n",
       "      <th>Outlet_Type</th>\n",
       "      <th>Outlet_Age</th>\n",
       "    </tr>\n",
       "  </thead>\n",
       "  <tbody>\n",
       "    <tr>\n",
       "      <th>0</th>\n",
       "      <td>FDA15</td>\n",
       "      <td>9.30</td>\n",
       "      <td>Low Fat</td>\n",
       "      <td>0.016047</td>\n",
       "      <td>Dairy</td>\n",
       "      <td>249.8092</td>\n",
       "      <td>OUT049</td>\n",
       "      <td>1999</td>\n",
       "      <td>Medium</td>\n",
       "      <td>Tier 1</td>\n",
       "      <td>Supermarket Type1</td>\n",
       "      <td>10</td>\n",
       "    </tr>\n",
       "    <tr>\n",
       "      <th>1</th>\n",
       "      <td>DRC01</td>\n",
       "      <td>5.92</td>\n",
       "      <td>Regular</td>\n",
       "      <td>0.019278</td>\n",
       "      <td>Soft Drinks</td>\n",
       "      <td>48.2692</td>\n",
       "      <td>OUT018</td>\n",
       "      <td>2009</td>\n",
       "      <td>Medium</td>\n",
       "      <td>Tier 3</td>\n",
       "      <td>Supermarket Type2</td>\n",
       "      <td>0</td>\n",
       "    </tr>\n",
       "    <tr>\n",
       "      <th>2</th>\n",
       "      <td>FDN15</td>\n",
       "      <td>17.50</td>\n",
       "      <td>Low Fat</td>\n",
       "      <td>0.016760</td>\n",
       "      <td>Meat</td>\n",
       "      <td>141.6180</td>\n",
       "      <td>OUT049</td>\n",
       "      <td>1999</td>\n",
       "      <td>Medium</td>\n",
       "      <td>Tier 1</td>\n",
       "      <td>Supermarket Type1</td>\n",
       "      <td>10</td>\n",
       "    </tr>\n",
       "    <tr>\n",
       "      <th>3</th>\n",
       "      <td>FDX07</td>\n",
       "      <td>19.20</td>\n",
       "      <td>Regular</td>\n",
       "      <td>0.000000</td>\n",
       "      <td>Fruits and Vegetables</td>\n",
       "      <td>182.0950</td>\n",
       "      <td>OUT010</td>\n",
       "      <td>1998</td>\n",
       "      <td>NaN</td>\n",
       "      <td>Tier 3</td>\n",
       "      <td>Grocery Store</td>\n",
       "      <td>11</td>\n",
       "    </tr>\n",
       "    <tr>\n",
       "      <th>4</th>\n",
       "      <td>NCD19</td>\n",
       "      <td>8.93</td>\n",
       "      <td>Low Fat</td>\n",
       "      <td>0.000000</td>\n",
       "      <td>Household</td>\n",
       "      <td>53.8614</td>\n",
       "      <td>OUT013</td>\n",
       "      <td>1987</td>\n",
       "      <td>High</td>\n",
       "      <td>Tier 3</td>\n",
       "      <td>Supermarket Type1</td>\n",
       "      <td>22</td>\n",
       "    </tr>\n",
       "  </tbody>\n",
       "</table>\n",
       "</div>"
      ],
      "text/plain": [
       "  Item_Identifier  Item_Weight Item_Fat_Content  Item_Visibility  \\\n",
       "0           FDA15         9.30          Low Fat         0.016047   \n",
       "1           DRC01         5.92          Regular         0.019278   \n",
       "2           FDN15        17.50          Low Fat         0.016760   \n",
       "3           FDX07        19.20          Regular         0.000000   \n",
       "4           NCD19         8.93          Low Fat         0.000000   \n",
       "\n",
       "               Item_Type  Item_MRP Outlet_Identifier  \\\n",
       "0                  Dairy  249.8092            OUT049   \n",
       "1            Soft Drinks   48.2692            OUT018   \n",
       "2                   Meat  141.6180            OUT049   \n",
       "3  Fruits and Vegetables  182.0950            OUT010   \n",
       "4              Household   53.8614            OUT013   \n",
       "\n",
       "   Outlet_Establishment_Year Outlet_Size Outlet_Location_Type  \\\n",
       "0                       1999      Medium               Tier 1   \n",
       "1                       2009      Medium               Tier 3   \n",
       "2                       1999      Medium               Tier 1   \n",
       "3                       1998         NaN               Tier 3   \n",
       "4                       1987        High               Tier 3   \n",
       "\n",
       "         Outlet_Type  Outlet_Age  \n",
       "0  Supermarket Type1          10  \n",
       "1  Supermarket Type2           0  \n",
       "2  Supermarket Type1          10  \n",
       "3      Grocery Store          11  \n",
       "4  Supermarket Type1          22  "
      ]
     },
     "execution_count": 10,
     "metadata": {},
     "output_type": "execute_result"
    }
   ],
   "source": [
    "X.head()"
   ]
  },
  {
   "cell_type": "code",
   "execution_count": 11,
   "metadata": {
    "ExecuteTime": {
     "end_time": "2020-12-07T10:52:56.018982Z",
     "start_time": "2020-12-07T10:52:55.897083Z"
    }
   },
   "outputs": [],
   "source": [
    "# at first droping item identifier , outlet_identifier , outlet establishment year\n",
    "X = X.drop(['Item_Identifier','Outlet_Identifier','Outlet_Establishment_Year'],axis=1)"
   ]
  },
  {
   "cell_type": "code",
   "execution_count": 12,
   "metadata": {
    "ExecuteTime": {
     "end_time": "2020-12-07T10:52:56.234294Z",
     "start_time": "2020-12-07T10:52:56.020974Z"
    }
   },
   "outputs": [],
   "source": [
    "### Item visibilty of 0 does not make any sense so imputing these 0 values with nan"
   ]
  },
  {
   "cell_type": "code",
   "execution_count": 13,
   "metadata": {
    "ExecuteTime": {
     "end_time": "2020-12-07T10:52:56.405239Z",
     "start_time": "2020-12-07T10:52:56.236268Z"
    }
   },
   "outputs": [],
   "source": [
    "X['Item_Visibility']=X['Item_Visibility'].mask(X['Item_Visibility']==0.0)"
   ]
  },
  {
   "cell_type": "code",
   "execution_count": 14,
   "metadata": {
    "ExecuteTime": {
     "end_time": "2020-12-07T10:52:56.466346Z",
     "start_time": "2020-12-07T10:52:56.407687Z"
    }
   },
   "outputs": [
    {
     "data": {
      "text/plain": [
       "Item_Weight             1463\n",
       "Item_Fat_Content           0\n",
       "Item_Visibility          526\n",
       "Item_Type                  0\n",
       "Item_MRP                   0\n",
       "Outlet_Size             2410\n",
       "Outlet_Location_Type       0\n",
       "Outlet_Type                0\n",
       "Outlet_Age                 0\n",
       "dtype: int64"
      ]
     },
     "execution_count": 14,
     "metadata": {},
     "output_type": "execute_result"
    }
   ],
   "source": [
    "# missing values\n",
    "X.isna().sum()"
   ]
  },
  {
   "cell_type": "code",
   "execution_count": 15,
   "metadata": {
    "ExecuteTime": {
     "end_time": "2020-12-07T10:52:56.591305Z",
     "start_time": "2020-12-07T10:52:56.468343Z"
    }
   },
   "outputs": [],
   "source": [
    "### missing values imputation"
   ]
  },
  {
   "cell_type": "code",
   "execution_count": 16,
   "metadata": {
    "ExecuteTime": {
     "end_time": "2020-12-07T10:52:56.653469Z",
     "start_time": "2020-12-07T10:52:56.594277Z"
    }
   },
   "outputs": [],
   "source": [
    "X['Item_Weight'].fillna(X['Item_Weight'].mean(),inplace=True)\n",
    "X['Outlet_Size'].fillna(X['Outlet_Size'].mode()[0],inplace=True)\n",
    "X['Item_Visibility'].fillna(X['Item_Visibility'].mean(),inplace=True)"
   ]
  },
  {
   "cell_type": "code",
   "execution_count": 17,
   "metadata": {
    "ExecuteTime": {
     "end_time": "2020-12-07T10:52:56.732096Z",
     "start_time": "2020-12-07T10:52:56.655436Z"
    }
   },
   "outputs": [
    {
     "data": {
      "text/plain": [
       "Item_Weight             0\n",
       "Item_Fat_Content        0\n",
       "Item_Visibility         0\n",
       "Item_Type               0\n",
       "Item_MRP                0\n",
       "Outlet_Size             0\n",
       "Outlet_Location_Type    0\n",
       "Outlet_Type             0\n",
       "Outlet_Age              0\n",
       "dtype: int64"
      ]
     },
     "execution_count": 17,
     "metadata": {},
     "output_type": "execute_result"
    }
   ],
   "source": [
    "X.isna().sum()\n"
   ]
  },
  {
   "cell_type": "code",
   "execution_count": 18,
   "metadata": {
    "ExecuteTime": {
     "end_time": "2020-12-07T10:52:56.856043Z",
     "start_time": "2020-12-07T10:52:56.734095Z"
    }
   },
   "outputs": [
    {
     "data": {
      "text/plain": [
       "Low Fat    5089\n",
       "Regular    2889\n",
       "LF          316\n",
       "reg         117\n",
       "low fat     112\n",
       "Name: Item_Fat_Content, dtype: int64"
      ]
     },
     "execution_count": 18,
     "metadata": {},
     "output_type": "execute_result"
    }
   ],
   "source": [
    "# checking the categorical variables\n",
    "X['Item_Fat_Content'].value_counts()"
   ]
  },
  {
   "cell_type": "code",
   "execution_count": 19,
   "metadata": {
    "ExecuteTime": {
     "end_time": "2020-12-07T10:52:56.948650Z",
     "start_time": "2020-12-07T10:52:56.858044Z"
    }
   },
   "outputs": [],
   "source": [
    "# Unifying categories to Low Fat and Regular only\n",
    "X['Item_Fat_Content'] = X['Item_Fat_Content'].replace({'reg':'Regular', 'LF':'Low Fat','low fat':'Low Fat'})"
   ]
  },
  {
   "cell_type": "code",
   "execution_count": 20,
   "metadata": {
    "ExecuteTime": {
     "end_time": "2020-12-07T10:52:57.011624Z",
     "start_time": "2020-12-07T10:52:56.950624Z"
    }
   },
   "outputs": [
    {
     "data": {
      "text/plain": [
       "Low Fat    5517\n",
       "Regular    3006\n",
       "Name: Item_Fat_Content, dtype: int64"
      ]
     },
     "execution_count": 20,
     "metadata": {},
     "output_type": "execute_result"
    }
   ],
   "source": [
    "X['Item_Fat_Content'].value_counts()"
   ]
  },
  {
   "cell_type": "code",
   "execution_count": 21,
   "metadata": {
    "ExecuteTime": {
     "end_time": "2020-12-07T10:52:57.089689Z",
     "start_time": "2020-12-07T10:52:57.013615Z"
    }
   },
   "outputs": [],
   "source": [
    "# Label encoding the categorical variables."
   ]
  },
  {
   "cell_type": "code",
   "execution_count": 22,
   "metadata": {
    "ExecuteTime": {
     "end_time": "2020-12-07T10:52:57.243731Z",
     "start_time": "2020-12-07T10:52:57.091919Z"
    }
   },
   "outputs": [],
   "source": [
    "# # Import label encoder \n",
    "# from sklearn import preprocessing\n",
    "# # label_encoder object knows how to understand word labels. \n",
    "# label_encoder = preprocessing.LabelEncoder()\n",
    "\n",
    "# X['Item_Fat_Content']=label_encoder.fit_transform(X['Item_Fat_Content']) \n",
    "# #,'Item_Type','Outlet_Size','Outlet_Location_Type','Outlet_Type'\n",
    "# X['Outlet_Size']=label_encoder.fit_transform(X['Outlet_Size'])\n",
    "# X['Outlet_Location_Type']=label_encoder.fit_transform(X['Outlet_Location_Type'])\n",
    "# X['Outlet_Type']=label_encoder.fit_transform(X['Outlet_Type'])\n",
    "# X['Item_Type']=label_encoder.fit_transform(X['Item_Type'])\n",
    "# X.head()"
   ]
  },
  {
   "cell_type": "code",
   "execution_count": 23,
   "metadata": {
    "ExecuteTime": {
     "end_time": "2020-12-07T10:52:57.415946Z",
     "start_time": "2020-12-07T10:52:57.253728Z"
    }
   },
   "outputs": [
    {
     "data": {
      "text/html": [
       "<div>\n",
       "<style scoped>\n",
       "    .dataframe tbody tr th:only-of-type {\n",
       "        vertical-align: middle;\n",
       "    }\n",
       "\n",
       "    .dataframe tbody tr th {\n",
       "        vertical-align: top;\n",
       "    }\n",
       "\n",
       "    .dataframe thead th {\n",
       "        text-align: right;\n",
       "    }\n",
       "</style>\n",
       "<table border=\"1\" class=\"dataframe\">\n",
       "  <thead>\n",
       "    <tr style=\"text-align: right;\">\n",
       "      <th></th>\n",
       "      <th>Item_Weight</th>\n",
       "      <th>Item_Visibility</th>\n",
       "      <th>Item_MRP</th>\n",
       "      <th>Outlet_Age</th>\n",
       "      <th>Fat_is_Low Fat</th>\n",
       "      <th>Fat_is_Regular</th>\n",
       "      <th>Type_is_Baking Goods</th>\n",
       "      <th>Type_is_Breads</th>\n",
       "      <th>Type_is_Breakfast</th>\n",
       "      <th>Type_is_Canned</th>\n",
       "      <th>...</th>\n",
       "      <th>Loc_is_Tier 1</th>\n",
       "      <th>Loc_is_Tier 2</th>\n",
       "      <th>Loc_is_Tier 3</th>\n",
       "      <th>Size_is_High</th>\n",
       "      <th>Size_is_Medium</th>\n",
       "      <th>Size_is_Small</th>\n",
       "      <th>Outlet_is_Grocery Store</th>\n",
       "      <th>Outlet_is_Supermarket Type1</th>\n",
       "      <th>Outlet_is_Supermarket Type2</th>\n",
       "      <th>Outlet_is_Supermarket Type3</th>\n",
       "    </tr>\n",
       "  </thead>\n",
       "  <tbody>\n",
       "    <tr>\n",
       "      <th>0</th>\n",
       "      <td>9.30</td>\n",
       "      <td>0.016047</td>\n",
       "      <td>249.8092</td>\n",
       "      <td>10</td>\n",
       "      <td>1</td>\n",
       "      <td>0</td>\n",
       "      <td>0</td>\n",
       "      <td>0</td>\n",
       "      <td>0</td>\n",
       "      <td>0</td>\n",
       "      <td>...</td>\n",
       "      <td>1</td>\n",
       "      <td>0</td>\n",
       "      <td>0</td>\n",
       "      <td>0</td>\n",
       "      <td>1</td>\n",
       "      <td>0</td>\n",
       "      <td>0</td>\n",
       "      <td>1</td>\n",
       "      <td>0</td>\n",
       "      <td>0</td>\n",
       "    </tr>\n",
       "    <tr>\n",
       "      <th>1</th>\n",
       "      <td>5.92</td>\n",
       "      <td>0.019278</td>\n",
       "      <td>48.2692</td>\n",
       "      <td>0</td>\n",
       "      <td>0</td>\n",
       "      <td>1</td>\n",
       "      <td>0</td>\n",
       "      <td>0</td>\n",
       "      <td>0</td>\n",
       "      <td>0</td>\n",
       "      <td>...</td>\n",
       "      <td>0</td>\n",
       "      <td>0</td>\n",
       "      <td>1</td>\n",
       "      <td>0</td>\n",
       "      <td>1</td>\n",
       "      <td>0</td>\n",
       "      <td>0</td>\n",
       "      <td>0</td>\n",
       "      <td>1</td>\n",
       "      <td>0</td>\n",
       "    </tr>\n",
       "    <tr>\n",
       "      <th>2</th>\n",
       "      <td>17.50</td>\n",
       "      <td>0.016760</td>\n",
       "      <td>141.6180</td>\n",
       "      <td>10</td>\n",
       "      <td>1</td>\n",
       "      <td>0</td>\n",
       "      <td>0</td>\n",
       "      <td>0</td>\n",
       "      <td>0</td>\n",
       "      <td>0</td>\n",
       "      <td>...</td>\n",
       "      <td>1</td>\n",
       "      <td>0</td>\n",
       "      <td>0</td>\n",
       "      <td>0</td>\n",
       "      <td>1</td>\n",
       "      <td>0</td>\n",
       "      <td>0</td>\n",
       "      <td>1</td>\n",
       "      <td>0</td>\n",
       "      <td>0</td>\n",
       "    </tr>\n",
       "    <tr>\n",
       "      <th>3</th>\n",
       "      <td>19.20</td>\n",
       "      <td>0.070482</td>\n",
       "      <td>182.0950</td>\n",
       "      <td>11</td>\n",
       "      <td>0</td>\n",
       "      <td>1</td>\n",
       "      <td>0</td>\n",
       "      <td>0</td>\n",
       "      <td>0</td>\n",
       "      <td>0</td>\n",
       "      <td>...</td>\n",
       "      <td>0</td>\n",
       "      <td>0</td>\n",
       "      <td>1</td>\n",
       "      <td>0</td>\n",
       "      <td>1</td>\n",
       "      <td>0</td>\n",
       "      <td>1</td>\n",
       "      <td>0</td>\n",
       "      <td>0</td>\n",
       "      <td>0</td>\n",
       "    </tr>\n",
       "    <tr>\n",
       "      <th>4</th>\n",
       "      <td>8.93</td>\n",
       "      <td>0.070482</td>\n",
       "      <td>53.8614</td>\n",
       "      <td>22</td>\n",
       "      <td>1</td>\n",
       "      <td>0</td>\n",
       "      <td>0</td>\n",
       "      <td>0</td>\n",
       "      <td>0</td>\n",
       "      <td>0</td>\n",
       "      <td>...</td>\n",
       "      <td>0</td>\n",
       "      <td>0</td>\n",
       "      <td>1</td>\n",
       "      <td>1</td>\n",
       "      <td>0</td>\n",
       "      <td>0</td>\n",
       "      <td>0</td>\n",
       "      <td>1</td>\n",
       "      <td>0</td>\n",
       "      <td>0</td>\n",
       "    </tr>\n",
       "  </tbody>\n",
       "</table>\n",
       "<p>5 rows × 32 columns</p>\n",
       "</div>"
      ],
      "text/plain": [
       "   Item_Weight  Item_Visibility  Item_MRP  Outlet_Age  Fat_is_Low Fat  \\\n",
       "0         9.30         0.016047  249.8092          10               1   \n",
       "1         5.92         0.019278   48.2692           0               0   \n",
       "2        17.50         0.016760  141.6180          10               1   \n",
       "3        19.20         0.070482  182.0950          11               0   \n",
       "4         8.93         0.070482   53.8614          22               1   \n",
       "\n",
       "   Fat_is_Regular  Type_is_Baking Goods  Type_is_Breads  Type_is_Breakfast  \\\n",
       "0               0                     0               0                  0   \n",
       "1               1                     0               0                  0   \n",
       "2               0                     0               0                  0   \n",
       "3               1                     0               0                  0   \n",
       "4               0                     0               0                  0   \n",
       "\n",
       "   Type_is_Canned  ...  Loc_is_Tier 1  Loc_is_Tier 2  Loc_is_Tier 3  \\\n",
       "0               0  ...              1              0              0   \n",
       "1               0  ...              0              0              1   \n",
       "2               0  ...              1              0              0   \n",
       "3               0  ...              0              0              1   \n",
       "4               0  ...              0              0              1   \n",
       "\n",
       "   Size_is_High  Size_is_Medium  Size_is_Small  Outlet_is_Grocery Store  \\\n",
       "0             0               1              0                        0   \n",
       "1             0               1              0                        0   \n",
       "2             0               1              0                        0   \n",
       "3             0               1              0                        1   \n",
       "4             1               0              0                        0   \n",
       "\n",
       "   Outlet_is_Supermarket Type1  Outlet_is_Supermarket Type2  \\\n",
       "0                            1                            0   \n",
       "1                            0                            1   \n",
       "2                            1                            0   \n",
       "3                            0                            0   \n",
       "4                            1                            0   \n",
       "\n",
       "   Outlet_is_Supermarket Type3  \n",
       "0                            0  \n",
       "1                            0  \n",
       "2                            0  \n",
       "3                            0  \n",
       "4                            0  \n",
       "\n",
       "[5 rows x 32 columns]"
      ]
     },
     "execution_count": 23,
     "metadata": {},
     "output_type": "execute_result"
    }
   ],
   "source": [
    "# using pandas dummy variables for categorical variables \n",
    "#pd.get_dummies(df, prefix=['A', 'D'], columns=['A', 'D'])\n",
    "X_dum=pd.get_dummies(X,columns=['Item_Fat_Content','Item_Type','Outlet_Location_Type','Outlet_Size','Outlet_Type'],prefix=['Fat_is','Type_is','Loc_is','Size_is','Outlet_is'])\n",
    "X_dum.head()"
   ]
  },
  {
   "cell_type": "code",
   "execution_count": 24,
   "metadata": {
    "ExecuteTime": {
     "end_time": "2020-12-07T10:52:57.556735Z",
     "start_time": "2020-12-07T10:52:57.418945Z"
    }
   },
   "outputs": [
    {
     "data": {
      "text/plain": [
       "['Item_Weight',\n",
       " 'Item_Visibility',\n",
       " 'Item_MRP',\n",
       " 'Outlet_Age',\n",
       " 'Fat_is_Low Fat',\n",
       " 'Fat_is_Regular',\n",
       " 'Type_is_Baking Goods',\n",
       " 'Type_is_Breads',\n",
       " 'Type_is_Breakfast',\n",
       " 'Type_is_Canned',\n",
       " 'Type_is_Dairy',\n",
       " 'Type_is_Frozen Foods',\n",
       " 'Type_is_Fruits and Vegetables',\n",
       " 'Type_is_Hard Drinks',\n",
       " 'Type_is_Health and Hygiene',\n",
       " 'Type_is_Household',\n",
       " 'Type_is_Meat',\n",
       " 'Type_is_Others',\n",
       " 'Type_is_Seafood',\n",
       " 'Type_is_Snack Foods',\n",
       " 'Type_is_Soft Drinks',\n",
       " 'Type_is_Starchy Foods',\n",
       " 'Loc_is_Tier 1',\n",
       " 'Loc_is_Tier 2',\n",
       " 'Loc_is_Tier 3',\n",
       " 'Size_is_High',\n",
       " 'Size_is_Medium',\n",
       " 'Size_is_Small',\n",
       " 'Outlet_is_Grocery Store',\n",
       " 'Outlet_is_Supermarket Type1',\n",
       " 'Outlet_is_Supermarket Type2',\n",
       " 'Outlet_is_Supermarket Type3']"
      ]
     },
     "execution_count": 24,
     "metadata": {},
     "output_type": "execute_result"
    }
   ],
   "source": [
    "list(X_dum.columns)"
   ]
  },
  {
   "cell_type": "code",
   "execution_count": 25,
   "metadata": {
    "ExecuteTime": {
     "end_time": "2020-12-07T10:52:57.697646Z",
     "start_time": "2020-12-07T10:52:57.559732Z"
    }
   },
   "outputs": [],
   "source": [
    "# ### checking correlation to check if there is any highly correlated variable\n",
    "# X.corr()"
   ]
  },
  {
   "cell_type": "code",
   "execution_count": 26,
   "metadata": {
    "ExecuteTime": {
     "end_time": "2020-12-07T10:52:57.759783Z",
     "start_time": "2020-12-07T10:52:57.699645Z"
    }
   },
   "outputs": [],
   "source": [
    "# print(\"X shape is {} \\ny shape is {} \\n\".format(X.shape,y.shape))"
   ]
  },
  {
   "cell_type": "code",
   "execution_count": 27,
   "metadata": {
    "ExecuteTime": {
     "end_time": "2020-12-07T10:52:57.836837Z",
     "start_time": "2020-12-07T10:52:57.761775Z"
    }
   },
   "outputs": [
    {
     "name": "stdout",
     "output_type": "stream",
     "text": [
      "Xdummy shape is (8523, 32) \n",
      "y shape is (8523,) \n",
      "\n"
     ]
    }
   ],
   "source": [
    "print(\"Xdummy shape is {} \\ny shape is {} \\n\".format(X_dum.shape,y.shape))"
   ]
  },
  {
   "cell_type": "code",
   "execution_count": 28,
   "metadata": {
    "ExecuteTime": {
     "end_time": "2020-12-07T10:52:57.915218Z",
     "start_time": "2020-12-07T10:52:57.839837Z"
    }
   },
   "outputs": [],
   "source": [
    "# #normalizing the X from 0 to 1 using MinMaxScalar\n",
    "# from sklearn.preprocessing import MinMaxScaler\n",
    "# min_max_scaler=MinMaxScaler()\n",
    "# X=min_max_scaler.fit_transform(X)\n",
    "# X[:5]"
   ]
  },
  {
   "cell_type": "code",
   "execution_count": 29,
   "metadata": {
    "ExecuteTime": {
     "end_time": "2020-12-07T10:52:58.024694Z",
     "start_time": "2020-12-07T10:52:57.917587Z"
    }
   },
   "outputs": [
    {
     "data": {
      "text/html": [
       "<div>\n",
       "<style scoped>\n",
       "    .dataframe tbody tr th:only-of-type {\n",
       "        vertical-align: middle;\n",
       "    }\n",
       "\n",
       "    .dataframe tbody tr th {\n",
       "        vertical-align: top;\n",
       "    }\n",
       "\n",
       "    .dataframe thead th {\n",
       "        text-align: right;\n",
       "    }\n",
       "</style>\n",
       "<table border=\"1\" class=\"dataframe\">\n",
       "  <thead>\n",
       "    <tr style=\"text-align: right;\">\n",
       "      <th></th>\n",
       "      <th>Item_Weight</th>\n",
       "      <th>Item_Visibility</th>\n",
       "      <th>Item_MRP</th>\n",
       "      <th>Outlet_Age</th>\n",
       "      <th>Fat_is_Low Fat</th>\n",
       "      <th>Fat_is_Regular</th>\n",
       "      <th>Type_is_Baking Goods</th>\n",
       "      <th>Type_is_Breads</th>\n",
       "      <th>Type_is_Breakfast</th>\n",
       "      <th>Type_is_Canned</th>\n",
       "      <th>...</th>\n",
       "      <th>Loc_is_Tier 1</th>\n",
       "      <th>Loc_is_Tier 2</th>\n",
       "      <th>Loc_is_Tier 3</th>\n",
       "      <th>Size_is_High</th>\n",
       "      <th>Size_is_Medium</th>\n",
       "      <th>Size_is_Small</th>\n",
       "      <th>Outlet_is_Grocery Store</th>\n",
       "      <th>Outlet_is_Supermarket Type1</th>\n",
       "      <th>Outlet_is_Supermarket Type2</th>\n",
       "      <th>Outlet_is_Supermarket Type3</th>\n",
       "    </tr>\n",
       "  </thead>\n",
       "  <tbody>\n",
       "    <tr>\n",
       "      <th>0</th>\n",
       "      <td>0.282525</td>\n",
       "      <td>0.038399</td>\n",
       "      <td>0.927507</td>\n",
       "      <td>0.416667</td>\n",
       "      <td>1</td>\n",
       "      <td>0</td>\n",
       "      <td>0</td>\n",
       "      <td>0</td>\n",
       "      <td>0</td>\n",
       "      <td>0</td>\n",
       "      <td>...</td>\n",
       "      <td>1</td>\n",
       "      <td>0</td>\n",
       "      <td>0</td>\n",
       "      <td>0</td>\n",
       "      <td>1</td>\n",
       "      <td>0</td>\n",
       "      <td>0</td>\n",
       "      <td>1</td>\n",
       "      <td>0</td>\n",
       "      <td>0</td>\n",
       "    </tr>\n",
       "    <tr>\n",
       "      <th>1</th>\n",
       "      <td>0.081274</td>\n",
       "      <td>0.048346</td>\n",
       "      <td>0.072068</td>\n",
       "      <td>0.000000</td>\n",
       "      <td>0</td>\n",
       "      <td>1</td>\n",
       "      <td>0</td>\n",
       "      <td>0</td>\n",
       "      <td>0</td>\n",
       "      <td>0</td>\n",
       "      <td>...</td>\n",
       "      <td>0</td>\n",
       "      <td>0</td>\n",
       "      <td>1</td>\n",
       "      <td>0</td>\n",
       "      <td>1</td>\n",
       "      <td>0</td>\n",
       "      <td>0</td>\n",
       "      <td>0</td>\n",
       "      <td>1</td>\n",
       "      <td>0</td>\n",
       "    </tr>\n",
       "    <tr>\n",
       "      <th>2</th>\n",
       "      <td>0.770765</td>\n",
       "      <td>0.040593</td>\n",
       "      <td>0.468288</td>\n",
       "      <td>0.416667</td>\n",
       "      <td>1</td>\n",
       "      <td>0</td>\n",
       "      <td>0</td>\n",
       "      <td>0</td>\n",
       "      <td>0</td>\n",
       "      <td>0</td>\n",
       "      <td>...</td>\n",
       "      <td>1</td>\n",
       "      <td>0</td>\n",
       "      <td>0</td>\n",
       "      <td>0</td>\n",
       "      <td>1</td>\n",
       "      <td>0</td>\n",
       "      <td>0</td>\n",
       "      <td>1</td>\n",
       "      <td>0</td>\n",
       "      <td>0</td>\n",
       "    </tr>\n",
       "    <tr>\n",
       "      <th>3</th>\n",
       "      <td>0.871986</td>\n",
       "      <td>0.205985</td>\n",
       "      <td>0.640093</td>\n",
       "      <td>0.458333</td>\n",
       "      <td>0</td>\n",
       "      <td>1</td>\n",
       "      <td>0</td>\n",
       "      <td>0</td>\n",
       "      <td>0</td>\n",
       "      <td>0</td>\n",
       "      <td>...</td>\n",
       "      <td>0</td>\n",
       "      <td>0</td>\n",
       "      <td>1</td>\n",
       "      <td>0</td>\n",
       "      <td>1</td>\n",
       "      <td>0</td>\n",
       "      <td>1</td>\n",
       "      <td>0</td>\n",
       "      <td>0</td>\n",
       "      <td>0</td>\n",
       "    </tr>\n",
       "    <tr>\n",
       "      <th>4</th>\n",
       "      <td>0.260494</td>\n",
       "      <td>0.205985</td>\n",
       "      <td>0.095805</td>\n",
       "      <td>0.916667</td>\n",
       "      <td>1</td>\n",
       "      <td>0</td>\n",
       "      <td>0</td>\n",
       "      <td>0</td>\n",
       "      <td>0</td>\n",
       "      <td>0</td>\n",
       "      <td>...</td>\n",
       "      <td>0</td>\n",
       "      <td>0</td>\n",
       "      <td>1</td>\n",
       "      <td>1</td>\n",
       "      <td>0</td>\n",
       "      <td>0</td>\n",
       "      <td>0</td>\n",
       "      <td>1</td>\n",
       "      <td>0</td>\n",
       "      <td>0</td>\n",
       "    </tr>\n",
       "  </tbody>\n",
       "</table>\n",
       "<p>5 rows × 32 columns</p>\n",
       "</div>"
      ],
      "text/plain": [
       "   Item_Weight  Item_Visibility  Item_MRP  Outlet_Age  Fat_is_Low Fat  \\\n",
       "0     0.282525         0.038399  0.927507    0.416667               1   \n",
       "1     0.081274         0.048346  0.072068    0.000000               0   \n",
       "2     0.770765         0.040593  0.468288    0.416667               1   \n",
       "3     0.871986         0.205985  0.640093    0.458333               0   \n",
       "4     0.260494         0.205985  0.095805    0.916667               1   \n",
       "\n",
       "   Fat_is_Regular  Type_is_Baking Goods  Type_is_Breads  Type_is_Breakfast  \\\n",
       "0               0                     0               0                  0   \n",
       "1               1                     0               0                  0   \n",
       "2               0                     0               0                  0   \n",
       "3               1                     0               0                  0   \n",
       "4               0                     0               0                  0   \n",
       "\n",
       "   Type_is_Canned  ...  Loc_is_Tier 1  Loc_is_Tier 2  Loc_is_Tier 3  \\\n",
       "0               0  ...              1              0              0   \n",
       "1               0  ...              0              0              1   \n",
       "2               0  ...              1              0              0   \n",
       "3               0  ...              0              0              1   \n",
       "4               0  ...              0              0              1   \n",
       "\n",
       "   Size_is_High  Size_is_Medium  Size_is_Small  Outlet_is_Grocery Store  \\\n",
       "0             0               1              0                        0   \n",
       "1             0               1              0                        0   \n",
       "2             0               1              0                        0   \n",
       "3             0               1              0                        1   \n",
       "4             1               0              0                        0   \n",
       "\n",
       "   Outlet_is_Supermarket Type1  Outlet_is_Supermarket Type2  \\\n",
       "0                            1                            0   \n",
       "1                            0                            1   \n",
       "2                            1                            0   \n",
       "3                            0                            0   \n",
       "4                            1                            0   \n",
       "\n",
       "   Outlet_is_Supermarket Type3  \n",
       "0                            0  \n",
       "1                            0  \n",
       "2                            0  \n",
       "3                            0  \n",
       "4                            0  \n",
       "\n",
       "[5 rows x 32 columns]"
      ]
     },
     "execution_count": 29,
     "metadata": {},
     "output_type": "execute_result"
    }
   ],
   "source": [
    "for i in ['Item_Weight','Item_Visibility','Item_MRP','Outlet_Age',]:\n",
    "    X_dum[i] = (X_dum[i]-X_dum[i].min())/(X_dum[i].max()-X_dum[i].min())\n",
    "\n",
    "X_dum.head()\n"
   ]
  },
  {
   "cell_type": "code",
   "execution_count": 30,
   "metadata": {
    "ExecuteTime": {
     "end_time": "2020-12-07T10:52:58.118640Z",
     "start_time": "2020-12-07T10:52:58.027691Z"
    }
   },
   "outputs": [],
   "source": [
    "# normalizing the continuous variables only\n",
    "# from sklearn.preprocessing import MinMaxScaler\n",
    "# min_max_scaler=MinMaxScaler()\n",
    "# X_dum=min_max_scaler.fit_transform(X[['Item_Weight','Item_Visibility','Item_MRP','Outlet_Age',]])\n",
    "# X_dum.shape"
   ]
  },
  {
   "cell_type": "code",
   "execution_count": 31,
   "metadata": {
    "ExecuteTime": {
     "end_time": "2020-12-07T10:52:58.196904Z",
     "start_time": "2020-12-07T10:52:58.120614Z"
    }
   },
   "outputs": [],
   "source": [
    "# Test Train split \n",
    "# from sklearn.model_selection import train_test_split\n",
    "# X_train,X_test,y_train,y_test= train_test_split(X,y, test_size = 0.3 ,shuffle = True,random_state =0)\n",
    "# print(X_train.shape,y_train.shape);print(X_test.shape,y_test.shape)"
   ]
  },
  {
   "cell_type": "code",
   "execution_count": 32,
   "metadata": {
    "ExecuteTime": {
     "end_time": "2020-12-07T10:52:58.446034Z",
     "start_time": "2020-12-07T10:52:58.198849Z"
    }
   },
   "outputs": [
    {
     "name": "stdout",
     "output_type": "stream",
     "text": [
      "(5966, 32) (5966,)\n",
      "(2557, 32) (2557,)\n"
     ]
    }
   ],
   "source": [
    "from sklearn.model_selection import train_test_split\n",
    "X_train,X_test,y_train,y_test= train_test_split(X_dum,y, test_size = 0.3 ,shuffle = True,random_state =0)\n",
    "print(X_train.shape,y_train.shape);print(X_test.shape,y_test.shape)"
   ]
  },
  {
   "cell_type": "code",
   "execution_count": 33,
   "metadata": {
    "ExecuteTime": {
     "end_time": "2020-12-07T10:53:15.969842Z",
     "start_time": "2020-12-07T10:52:58.449033Z"
    }
   },
   "outputs": [
    {
     "name": "stderr",
     "output_type": "stream",
     "text": [
      "Using TensorFlow backend.\n"
     ]
    }
   ],
   "source": [
    "# Building the Model using Keras\n",
    "from keras.models import Sequential\n",
    "# importing different layers from keras\n",
    "from keras.layers import InputLayer, Dense , Dropout\n",
    "from keras.optimizers import Adam,RMSprop\n",
    "from keras.regularizers import l2"
   ]
  },
  {
   "cell_type": "code",
   "execution_count": 34,
   "metadata": {
    "ExecuteTime": {
     "end_time": "2020-12-07T10:53:15.984833Z",
     "start_time": "2020-12-07T10:53:15.973839Z"
    }
   },
   "outputs": [],
   "source": [
    "# defining the input and output neurons\n",
    "input_neurons = X_train.shape[1]\n",
    "output_neurons = 1"
   ]
  },
  {
   "cell_type": "code",
   "execution_count": 35,
   "metadata": {
    "ExecuteTime": {
     "end_time": "2020-12-07T10:53:16.419266Z",
     "start_time": "2020-12-07T10:53:15.989830Z"
    }
   },
   "outputs": [
    {
     "name": "stdout",
     "output_type": "stream",
     "text": [
      "Model: \"sequential_1\"\n",
      "_________________________________________________________________\n",
      "Layer (type)                 Output Shape              Param #   \n",
      "=================================================================\n",
      "Input_Layer (Dense)          (None, 500)               16500     \n",
      "_________________________________________________________________\n",
      "Layer1 (Dense)               (None, 300)               150300    \n",
      "_________________________________________________________________\n",
      "dropout_1 (Dropout)          (None, 300)               0         \n",
      "_________________________________________________________________\n",
      "Layer2 (Dense)               (None, 100)               30100     \n",
      "_________________________________________________________________\n",
      "dropout_2 (Dropout)          (None, 100)               0         \n",
      "_________________________________________________________________\n",
      "hidden_Layer3 (Dense)        (None, 50)                5050      \n",
      "_________________________________________________________________\n",
      "dropout_3 (Dropout)          (None, 50)                0         \n",
      "_________________________________________________________________\n",
      "output_Layer (Dense)         (None, 1)                 51        \n",
      "=================================================================\n",
      "Total params: 202,001\n",
      "Trainable params: 202,001\n",
      "Non-trainable params: 0\n",
      "_________________________________________________________________\n"
     ]
    }
   ],
   "source": [
    "model = Sequential()\n",
    "model.add(InputLayer(input_shape=(input_neurons,)))\n",
    "model.add(Dense(units=500,activation='relu',name='Input_Layer'))\n",
    "model.add(Dense(units=300,activation='relu',name='Layer1'))\n",
    "model.add(Dropout(0.5))\n",
    "model.add(Dense(units=100,activation='relu',name='Layer2'))\n",
    "model.add(Dropout(0.4))\n",
    "model.add(Dense(units=50,activation='relu',name='hidden_Layer3'))\n",
    "model.add(Dropout(0.3))\n",
    "model.add(Dense(units=output_neurons,activation='linear',name ='output_Layer'))\n",
    "\n",
    "model.compile(loss= \"mse\" , optimizer=\"RMSprop\", metrics=[\"mae\"])\n",
    "model.summary()"
   ]
  },
  {
   "cell_type": "code",
   "execution_count": 37,
   "metadata": {
    "ExecuteTime": {
     "end_time": "2020-12-07T10:56:11.330666Z",
     "start_time": "2020-12-07T10:53:50.946689Z"
    }
   },
   "outputs": [
    {
     "name": "stdout",
     "output_type": "stream",
     "text": [
      "Train on 5966 samples, validate on 2557 samples\n",
      "Epoch 1/500\n",
      "5966/5966 [==============================] - 1s 98us/step - loss: 7552093.0000 - mae: 2167.5007 - val_loss: 7941321.5000 - val_mae: 2212.7563\n",
      "Epoch 2/500\n",
      "5966/5966 [==============================] - 0s 45us/step - loss: 7548600.5000 - mae: 2166.7090 - val_loss: 7933550.5000 - val_mae: 2211.0388\n",
      "Epoch 3/500\n",
      "5966/5966 [==============================] - 0s 44us/step - loss: 7541144.5000 - mae: 2165.0366 - val_loss: 7919744.0000 - val_mae: 2207.9875\n",
      "Epoch 4/500\n",
      "5966/5966 [==============================] - 0s 43us/step - loss: 7527723.5000 - mae: 2161.9890 - val_loss: 7897187.5000 - val_mae: 2202.9897\n",
      "Epoch 5/500\n",
      "5966/5966 [==============================] - 0s 46us/step - loss: 7505627.5000 - mae: 2157.0159 - val_loss: 7862253.0000 - val_mae: 2195.2244\n",
      "Epoch 6/500\n",
      "5966/5966 [==============================] - 0s 46us/step - loss: 7470623.5000 - mae: 2149.1003 - val_loss: 7809864.0000 - val_mae: 2183.5208\n",
      "Epoch 7/500\n",
      "5966/5966 [==============================] - 0s 43us/step - loss: 7418923.5000 - mae: 2137.2056 - val_loss: 7736074.5000 - val_mae: 2166.9646\n",
      "Epoch 8/500\n",
      "5966/5966 [==============================] - 0s 44us/step - loss: 7346227.5000 - mae: 2120.5061 - val_loss: 7636574.5000 - val_mae: 2144.5283\n",
      "Epoch 9/500\n",
      "5966/5966 [==============================] - 0s 45us/step - loss: 7248812.5000 - mae: 2098.2078 - val_loss: 7506666.5000 - val_mae: 2115.0818\n",
      "Epoch 10/500\n",
      "5966/5966 [==============================] - 0s 44us/step - loss: 7121474.0000 - mae: 2068.8606 - val_loss: 7342165.0000 - val_mae: 2078.2219\n",
      "Epoch 11/500\n",
      "5966/5966 [==============================] - 0s 44us/step - loss: 6956719.5000 - mae: 2031.7101 - val_loss: 7137035.5000 - val_mae: 2033.2397\n",
      "Epoch 12/500\n",
      "5966/5966 [==============================] - 0s 43us/step - loss: 6752916.0000 - mae: 1985.9886 - val_loss: 6890606.0000 - val_mae: 1980.4482\n",
      "Epoch 13/500\n",
      "5966/5966 [==============================] - 0s 45us/step - loss: 6520914.5000 - mae: 1934.3837 - val_loss: 6605403.0000 - val_mae: 1919.7056\n",
      "Epoch 14/500\n",
      "5966/5966 [==============================] - 0s 44us/step - loss: 6256437.0000 - mae: 1875.9529 - val_loss: 6284196.0000 - val_mae: 1852.8522\n",
      "Epoch 15/500\n",
      "5966/5966 [==============================] - 0s 44us/step - loss: 5935856.5000 - mae: 1806.7101 - val_loss: 5928775.5000 - val_mae: 1780.3080\n",
      "Epoch 16/500\n",
      "5966/5966 [==============================] - 0s 44us/step - loss: 5593195.0000 - mae: 1734.8842 - val_loss: 5548461.0000 - val_mae: 1704.5061\n",
      "Epoch 17/500\n",
      "5966/5966 [==============================] - 0s 44us/step - loss: 5232430.5000 - mae: 1660.9285 - val_loss: 5153445.0000 - val_mae: 1628.0371\n",
      "Epoch 18/500\n",
      "5966/5966 [==============================] - 0s 44us/step - loss: 4857052.5000 - mae: 1583.3389 - val_loss: 4756421.0000 - val_mae: 1553.7373\n",
      "Epoch 19/500\n",
      "5966/5966 [==============================] - 0s 45us/step - loss: 4469719.0000 - mae: 1504.4159 - val_loss: 4368595.5000 - val_mae: 1484.7848\n",
      "Epoch 20/500\n",
      "5966/5966 [==============================] - 0s 45us/step - loss: 4133869.0000 - mae: 1440.0244 - val_loss: 4008751.7500 - val_mae: 1424.8579\n",
      "Epoch 21/500\n",
      "5966/5966 [==============================] - 0s 45us/step - loss: 3770124.0000 - mae: 1379.0814 - val_loss: 3683949.5000 - val_mae: 1372.7992\n",
      "Epoch 22/500\n",
      "5966/5966 [==============================] - 0s 45us/step - loss: 3473738.5000 - mae: 1329.9969 - val_loss: 3409377.2500 - val_mae: 1333.3551\n",
      "Epoch 23/500\n",
      "5966/5966 [==============================] - 0s 53us/step - loss: 3248588.2500 - mae: 1300.4406 - val_loss: 3189018.5000 - val_mae: 1306.1727\n",
      "Epoch 24/500\n",
      "5966/5966 [==============================] - 0s 48us/step - loss: 3034795.5000 - mae: 1271.4603 - val_loss: 3020832.0000 - val_mae: 1291.1407\n",
      "Epoch 25/500\n",
      "5966/5966 [==============================] - 0s 46us/step - loss: 2924431.5000 - mae: 1268.5154 - val_loss: 2905336.2500 - val_mae: 1285.4117\n",
      "Epoch 26/500\n",
      "5966/5966 [==============================] - 0s 44us/step - loss: 2798765.5000 - mae: 1256.6562 - val_loss: 2826280.7500 - val_mae: 1284.4961\n",
      "Epoch 27/500\n",
      "5966/5966 [==============================] - 0s 45us/step - loss: 2784566.2500 - mae: 1268.3722 - val_loss: 2777886.2500 - val_mae: 1285.4113\n",
      "Epoch 28/500\n",
      "5966/5966 [==============================] - 0s 44us/step - loss: 2733813.2500 - mae: 1269.3942 - val_loss: 2745468.7500 - val_mae: 1286.2207\n",
      "Epoch 29/500\n",
      "5966/5966 [==============================] - 0s 44us/step - loss: 2717684.0000 - mae: 1270.0129 - val_loss: 2720697.7500 - val_mae: 1286.7946\n",
      "Epoch 30/500\n",
      "5966/5966 [==============================] - 0s 44us/step - loss: 2714869.5000 - mae: 1274.5674 - val_loss: 2701749.5000 - val_mae: 1286.2684\n",
      "Epoch 31/500\n",
      "5966/5966 [==============================] - 0s 47us/step - loss: 2685412.2500 - mae: 1270.6140 - val_loss: 2686020.7500 - val_mae: 1284.9329\n",
      "Epoch 32/500\n",
      "5966/5966 [==============================] - 0s 48us/step - loss: 2654225.7500 - mae: 1268.0468 - val_loss: 2671801.5000 - val_mae: 1283.3024\n",
      "Epoch 33/500\n",
      "5966/5966 [==============================] - 0s 45us/step - loss: 2655418.5000 - mae: 1270.5272 - val_loss: 2659585.0000 - val_mae: 1280.7225\n",
      "Epoch 34/500\n",
      "5966/5966 [==============================] - 0s 45us/step - loss: 2625472.5000 - mae: 1262.4194 - val_loss: 2647110.0000 - val_mae: 1278.3800\n",
      "Epoch 35/500\n",
      "5966/5966 [==============================] - 0s 45us/step - loss: 2654264.5000 - mae: 1265.7273 - val_loss: 2635676.0000 - val_mae: 1275.4829\n",
      "Epoch 36/500\n",
      "5966/5966 [==============================] - 0s 45us/step - loss: 2638868.0000 - mae: 1263.3635 - val_loss: 2623604.5000 - val_mae: 1272.9392\n",
      "Epoch 37/500\n",
      "5966/5966 [==============================] - 0s 44us/step - loss: 2638737.5000 - mae: 1270.5205 - val_loss: 2613534.2500 - val_mae: 1269.3420\n",
      "Epoch 38/500\n",
      "5966/5966 [==============================] - 0s 47us/step - loss: 2608582.7500 - mae: 1256.5522 - val_loss: 2599329.7500 - val_mae: 1267.6272\n",
      "Epoch 39/500\n",
      "5966/5966 [==============================] - 0s 45us/step - loss: 2596355.7500 - mae: 1254.6178 - val_loss: 2585470.7500 - val_mae: 1265.8323\n",
      "Epoch 40/500\n",
      "5966/5966 [==============================] - 0s 43us/step - loss: 2585060.2500 - mae: 1253.3900 - val_loss: 2573131.5000 - val_mae: 1263.1393\n",
      "Epoch 41/500\n",
      "5966/5966 [==============================] - 0s 44us/step - loss: 2602278.0000 - mae: 1259.8076 - val_loss: 2564476.2500 - val_mae: 1258.4170\n",
      "Epoch 42/500\n",
      "5966/5966 [==============================] - 0s 44us/step - loss: 2534743.0000 - mae: 1240.7197 - val_loss: 2548679.2500 - val_mae: 1257.1552\n",
      "Epoch 43/500\n",
      "5966/5966 [==============================] - 0s 44us/step - loss: 2536338.7500 - mae: 1239.1935 - val_loss: 2535318.2500 - val_mae: 1254.6346\n",
      "Epoch 44/500\n",
      "5966/5966 [==============================] - 0s 43us/step - loss: 2531132.0000 - mae: 1242.5365 - val_loss: 2526357.5000 - val_mae: 1249.6677\n",
      "Epoch 45/500\n",
      "5966/5966 [==============================] - 0s 43us/step - loss: 2527606.7500 - mae: 1237.7948 - val_loss: 2510609.0000 - val_mae: 1248.0502\n",
      "Epoch 46/500\n",
      "5966/5966 [==============================] - 0s 44us/step - loss: 2526403.7500 - mae: 1239.7520 - val_loss: 2502003.5000 - val_mae: 1242.4423\n",
      "Epoch 47/500\n",
      "5966/5966 [==============================] - 0s 43us/step - loss: 2491266.2500 - mae: 1225.7332 - val_loss: 2484714.2500 - val_mae: 1241.3469\n",
      "Epoch 48/500\n",
      "5966/5966 [==============================] - 0s 43us/step - loss: 2460116.5000 - mae: 1225.1603 - val_loss: 2471091.5000 - val_mae: 1237.8845\n",
      "Epoch 49/500\n",
      "5966/5966 [==============================] - 0s 44us/step - loss: 2489057.2500 - mae: 1230.5322 - val_loss: 2464893.0000 - val_mae: 1230.6127\n",
      "Epoch 50/500\n",
      "5966/5966 [==============================] - 0s 44us/step - loss: 2457364.0000 - mae: 1217.3691 - val_loss: 2440522.5000 - val_mae: 1232.3303\n",
      "Epoch 51/500\n",
      "5966/5966 [==============================] - 0s 43us/step - loss: 2471769.7500 - mae: 1229.4927 - val_loss: 2435246.2500 - val_mae: 1223.3680\n",
      "Epoch 52/500\n",
      "5966/5966 [==============================] - 0s 43us/step - loss: 2417414.2500 - mae: 1208.1322 - val_loss: 2412005.5000 - val_mae: 1223.6981\n",
      "Epoch 53/500\n",
      "5966/5966 [==============================] - 0s 45us/step - loss: 2425367.0000 - mae: 1217.0812 - val_loss: 2402551.0000 - val_mae: 1216.4373\n"
     ]
    },
    {
     "name": "stdout",
     "output_type": "stream",
     "text": [
      "Epoch 54/500\n",
      "5966/5966 [==============================] - 0s 45us/step - loss: 2390698.0000 - mae: 1202.1935 - val_loss: 2380891.0000 - val_mae: 1215.6196\n",
      "Epoch 55/500\n",
      "5966/5966 [==============================] - 0s 41us/step - loss: 2379173.2500 - mae: 1201.8428 - val_loss: 2367800.5000 - val_mae: 1209.0518\n",
      "Epoch 56/500\n",
      "5966/5966 [==============================] - 0s 42us/step - loss: 2373545.2500 - mae: 1196.5574 - val_loss: 2347111.2500 - val_mae: 1206.8876\n",
      "Epoch 57/500\n",
      "5966/5966 [==============================] - 0s 44us/step - loss: 2351348.5000 - mae: 1192.0958 - val_loss: 2334671.2500 - val_mae: 1199.1654\n",
      "Epoch 58/500\n",
      "5966/5966 [==============================] - 0s 45us/step - loss: 2337180.0000 - mae: 1189.1216 - val_loss: 2312213.5000 - val_mae: 1197.0145\n",
      "Epoch 59/500\n",
      "5966/5966 [==============================] - 0s 42us/step - loss: 2321947.5000 - mae: 1184.6252 - val_loss: 2296951.2500 - val_mae: 1189.6451\n",
      "Epoch 60/500\n",
      "5966/5966 [==============================] - 0s 43us/step - loss: 2301237.7500 - mae: 1178.9801 - val_loss: 2276966.5000 - val_mae: 1184.8374\n",
      "Epoch 61/500\n",
      "5966/5966 [==============================] - 0s 45us/step - loss: 2268397.5000 - mae: 1167.5291 - val_loss: 2256303.7500 - val_mae: 1179.3350\n",
      "Epoch 62/500\n",
      "5966/5966 [==============================] - 0s 44us/step - loss: 2254134.7500 - mae: 1165.2849 - val_loss: 2235402.5000 - val_mae: 1173.8716\n",
      "Epoch 63/500\n",
      "5966/5966 [==============================] - 0s 43us/step - loss: 2223307.0000 - mae: 1159.2421 - val_loss: 2209542.7500 - val_mae: 1170.2915\n",
      "Epoch 64/500\n",
      "5966/5966 [==============================] - 0s 45us/step - loss: 2214378.2500 - mae: 1152.8081 - val_loss: 2196623.7500 - val_mae: 1158.6500\n",
      "Epoch 65/500\n",
      "5966/5966 [==============================] - 0s 44us/step - loss: 2194223.7500 - mae: 1142.5142 - val_loss: 2159108.5000 - val_mae: 1162.7128\n",
      "Epoch 66/500\n",
      "5966/5966 [==============================] - 0s 44us/step - loss: 2180455.2500 - mae: 1152.8596 - val_loss: 2166802.5000 - val_mae: 1139.6625\n",
      "Epoch 67/500\n",
      "5966/5966 [==============================] - 0s 43us/step - loss: 2132477.2500 - mae: 1114.2236 - val_loss: 2110815.7500 - val_mae: 1162.5818\n",
      "Epoch 68/500\n",
      "5966/5966 [==============================] - 0s 43us/step - loss: 2157861.2500 - mae: 1154.7719 - val_loss: 2153814.5000 - val_mae: 1121.4298\n",
      "Epoch 69/500\n",
      "5966/5966 [==============================] - 0s 45us/step - loss: 2122565.5000 - mae: 1100.1774 - val_loss: 2070693.3750 - val_mae: 1151.3966\n",
      "Epoch 70/500\n",
      "5966/5966 [==============================] - 0s 44us/step - loss: 2073043.7500 - mae: 1141.1334 - val_loss: 2102782.7500 - val_mae: 1111.2920\n",
      "Epoch 71/500\n",
      "5966/5966 [==============================] - 0s 43us/step - loss: 2063678.0000 - mae: 1085.4966 - val_loss: 2032012.1250 - val_mae: 1132.1000\n",
      "Epoch 72/500\n",
      "5966/5966 [==============================] - 0s 43us/step - loss: 2078018.5000 - mae: 1124.1444 - val_loss: 2046438.7500 - val_mae: 1102.5503\n",
      "Epoch 73/500\n",
      "5966/5966 [==============================] - 0s 44us/step - loss: 2062792.5000 - mae: 1094.7343 - val_loss: 1993476.2500 - val_mae: 1115.5370\n",
      "Epoch 74/500\n",
      "5966/5966 [==============================] - 0s 43us/step - loss: 1972055.6250 - mae: 1089.4421 - val_loss: 1993056.6250 - val_mae: 1093.4053\n",
      "Epoch 75/500\n",
      "5966/5966 [==============================] - 0s 43us/step - loss: 1984883.7500 - mae: 1073.0847 - val_loss: 1952995.2500 - val_mae: 1100.3058\n",
      "Epoch 76/500\n",
      "5966/5966 [==============================] - 0s 44us/step - loss: 1949716.3750 - mae: 1078.9165 - val_loss: 1954812.3750 - val_mae: 1078.4266\n",
      "Epoch 77/500\n",
      "5966/5966 [==============================] - 0s 45us/step - loss: 1943653.1250 - mae: 1059.7238 - val_loss: 1908907.3750 - val_mae: 1088.9476\n",
      "Epoch 78/500\n",
      "5966/5966 [==============================] - 0s 44us/step - loss: 1937787.6250 - mae: 1076.9558 - val_loss: 1921652.3750 - val_mae: 1061.6588\n",
      "Epoch 79/500\n",
      "5966/5966 [==============================] - 0s 44us/step - loss: 1931409.3750 - mae: 1050.4547 - val_loss: 1865162.5000 - val_mae: 1081.7502\n",
      "Epoch 80/500\n",
      "5966/5966 [==============================] - 0s 44us/step - loss: 1933148.6250 - mae: 1079.8470 - val_loss: 1899364.2500 - val_mae: 1043.8573\n",
      "Epoch 81/500\n",
      "5966/5966 [==============================] - 0s 44us/step - loss: 1880009.6250 - mae: 1026.1766 - val_loss: 1826097.1250 - val_mae: 1071.0973\n",
      "Epoch 82/500\n",
      "5966/5966 [==============================] - 0s 44us/step - loss: 1846890.7500 - mae: 1055.7047 - val_loss: 1857131.7500 - val_mae: 1031.6047\n",
      "Epoch 83/500\n",
      "5966/5966 [==============================] - 0s 43us/step - loss: 1859128.1250 - mae: 1021.1864 - val_loss: 1789578.7500 - val_mae: 1050.1770\n",
      "Epoch 84/500\n",
      "5966/5966 [==============================] - 0s 44us/step - loss: 1826628.7500 - mae: 1039.2269 - val_loss: 1796014.7500 - val_mae: 1023.8035\n",
      "Epoch 85/500\n",
      "5966/5966 [==============================] - 0s 44us/step - loss: 1837632.2500 - mae: 1020.6622 - val_loss: 1754719.8750 - val_mae: 1030.1372\n",
      "Epoch 86/500\n",
      "5966/5966 [==============================] - 0s 44us/step - loss: 1799867.6250 - mae: 1026.1484 - val_loss: 1755947.5000 - val_mae: 1010.3102\n",
      "Epoch 87/500\n",
      "5966/5966 [==============================] - 0s 44us/step - loss: 1777473.0000 - mae: 1001.6166 - val_loss: 1713413.8750 - val_mae: 1019.4725\n",
      "Epoch 88/500\n",
      "5966/5966 [==============================] - 0s 44us/step - loss: 1773572.6250 - mae: 1016.4305 - val_loss: 1732485.8750 - val_mae: 991.5136\n",
      "Epoch 89/500\n",
      "5966/5966 [==============================] - 0s 44us/step - loss: 1742502.0000 - mae: 977.4330 - val_loss: 1675593.1250 - val_mae: 1010.7875\n",
      "Epoch 90/500\n",
      "5966/5966 [==============================] - 0s 45us/step - loss: 1722181.7500 - mae: 1004.1558 - val_loss: 1712526.8750 - val_mae: 975.1053\n",
      "Epoch 91/500\n",
      "5966/5966 [==============================] - 0s 44us/step - loss: 1729091.2500 - mae: 966.2150 - val_loss: 1642408.2500 - val_mae: 1001.2497\n",
      "Epoch 92/500\n",
      "5966/5966 [==============================] - 0s 44us/step - loss: 1739643.8750 - mae: 1009.5062 - val_loss: 1704361.1250 - val_mae: 960.9191\n",
      "Epoch 93/500\n",
      "5966/5966 [==============================] - 0s 44us/step - loss: 1688689.5000 - mae: 940.6483 - val_loss: 1613945.1250 - val_mae: 990.5500\n",
      "Epoch 94/500\n",
      "5966/5966 [==============================] - 0s 43us/step - loss: 1670143.3750 - mae: 988.0389 - val_loss: 1655708.1250 - val_mae: 951.2996\n",
      "Epoch 95/500\n",
      "5966/5966 [==============================] - 0s 44us/step - loss: 1667463.6250 - mae: 942.0621 - val_loss: 1585432.1250 - val_mae: 970.5070\n",
      "Epoch 96/500\n",
      "5966/5966 [==============================] - 0s 45us/step - loss: 1667528.3750 - mae: 978.5997 - val_loss: 1603386.3750 - val_mae: 943.6990\n",
      "Epoch 97/500\n",
      "5966/5966 [==============================] - 0s 45us/step - loss: 1626356.1250 - mae: 931.9903 - val_loss: 1561370.1250 - val_mae: 950.7911\n",
      "Epoch 98/500\n",
      "5966/5966 [==============================] - 0s 43us/step - loss: 1615013.6250 - mae: 947.0820 - val_loss: 1563588.3750 - val_mae: 934.6767\n",
      "Epoch 99/500\n",
      "5966/5966 [==============================] - 0s 44us/step - loss: 1627785.5000 - mae: 933.5317 - val_loss: 1533341.8750 - val_mae: 937.4836\n",
      "Epoch 100/500\n",
      "5966/5966 [==============================] - 0s 43us/step - loss: 1603245.0000 - mae: 940.7089 - val_loss: 1545793.6250 - val_mae: 919.2747\n",
      "Epoch 101/500\n",
      "5966/5966 [==============================] - 0s 42us/step - loss: 1568677.0000 - mae: 913.9260 - val_loss: 1501478.5000 - val_mae: 934.2731\n",
      "Epoch 102/500\n",
      "5966/5966 [==============================] - 0s 44us/step - loss: 1582373.1250 - mae: 937.0786 - val_loss: 1536438.8750 - val_mae: 904.8823\n",
      "Epoch 103/500\n",
      "5966/5966 [==============================] - 0s 43us/step - loss: 1565030.5000 - mae: 898.9303 - val_loss: 1475348.5000 - val_mae: 923.6829\n",
      "Epoch 104/500\n",
      "5966/5966 [==============================] - 0s 44us/step - loss: 1561418.8750 - mae: 929.8724 - val_loss: 1523259.8750 - val_mae: 893.5439\n",
      "Epoch 105/500\n",
      "5966/5966 [==============================] - 0s 43us/step - loss: 1566674.8750 - mae: 890.7957 - val_loss: 1453548.7500 - val_mae: 917.2141\n",
      "Epoch 106/500\n",
      "5966/5966 [==============================] - 0s 44us/step - loss: 1540294.6250 - mae: 922.9366 - val_loss: 1499405.7500 - val_mae: 883.7908\n",
      "Epoch 107/500\n"
     ]
    },
    {
     "name": "stdout",
     "output_type": "stream",
     "text": [
      "5966/5966 [==============================] - 0s 44us/step - loss: 1551495.2500 - mae: 888.1002 - val_loss: 1430985.3750 - val_mae: 898.4554\n",
      "Epoch 108/500\n",
      "5966/5966 [==============================] - 0s 42us/step - loss: 1519820.3750 - mae: 905.6912 - val_loss: 1465064.2500 - val_mae: 874.8515\n",
      "Epoch 109/500\n",
      "5966/5966 [==============================] - 0s 43us/step - loss: 1489530.5000 - mae: 874.2249 - val_loss: 1409470.6250 - val_mae: 888.8102\n",
      "Epoch 110/500\n",
      "5966/5966 [==============================] - 0s 43us/step - loss: 1475893.7500 - mae: 899.3328 - val_loss: 1450002.8750 - val_mae: 865.0752\n",
      "Epoch 111/500\n",
      "5966/5966 [==============================] - 0s 44us/step - loss: 1489655.3750 - mae: 863.0587 - val_loss: 1390655.3750 - val_mae: 885.6406\n",
      "Epoch 112/500\n",
      "5966/5966 [==============================] - 0s 43us/step - loss: 1466457.2500 - mae: 888.3117 - val_loss: 1442939.0000 - val_mae: 856.5563\n",
      "Epoch 113/500\n",
      "5966/5966 [==============================] - 0s 42us/step - loss: 1451583.0000 - mae: 845.9659 - val_loss: 1374763.0000 - val_mae: 878.9134\n",
      "Epoch 114/500\n",
      "5966/5966 [==============================] - 0s 43us/step - loss: 1461675.5000 - mae: 894.0743 - val_loss: 1438388.2500 - val_mae: 850.1685\n",
      "Epoch 115/500\n",
      "5966/5966 [==============================] - 0s 44us/step - loss: 1439667.6250 - mae: 839.9198 - val_loss: 1361708.5000 - val_mae: 873.4565\n",
      "Epoch 116/500\n",
      "5966/5966 [==============================] - 0s 44us/step - loss: 1416484.8750 - mae: 875.3782 - val_loss: 1407262.6250 - val_mae: 844.5065\n",
      "Epoch 117/500\n",
      "5966/5966 [==============================] - 0s 43us/step - loss: 1465114.7500 - mae: 846.2115 - val_loss: 1345700.2500 - val_mae: 856.6160\n",
      "Epoch 118/500\n",
      "5966/5966 [==============================] - 0s 43us/step - loss: 1454017.3750 - mae: 873.9156 - val_loss: 1382700.0000 - val_mae: 839.2689\n",
      "Epoch 119/500\n",
      "5966/5966 [==============================] - 0s 43us/step - loss: 1414587.3750 - mae: 836.2147 - val_loss: 1333336.7500 - val_mae: 850.5118\n",
      "Epoch 120/500\n",
      "5966/5966 [==============================] - 0s 43us/step - loss: 1412369.7500 - mae: 863.9496 - val_loss: 1369738.2500 - val_mae: 834.0340\n",
      "Epoch 121/500\n",
      "5966/5966 [==============================] - 0s 43us/step - loss: 1430592.0000 - mae: 839.0654 - val_loss: 1321940.7500 - val_mae: 849.7396\n",
      "Epoch 122/500\n",
      "5966/5966 [==============================] - 0s 43us/step - loss: 1446125.0000 - mae: 870.3912 - val_loss: 1380774.5000 - val_mae: 829.8945\n",
      "Epoch 123/500\n",
      "5966/5966 [==============================] - 0s 44us/step - loss: 1434644.7500 - mae: 839.0853 - val_loss: 1312957.2500 - val_mae: 846.5112\n",
      "Epoch 124/500\n",
      "5966/5966 [==============================] - 0s 43us/step - loss: 1400001.3750 - mae: 854.6783 - val_loss: 1369251.0000 - val_mae: 826.2527\n",
      "Epoch 125/500\n",
      "5966/5966 [==============================] - 0s 43us/step - loss: 1397177.7500 - mae: 821.9802 - val_loss: 1304150.3750 - val_mae: 841.5801\n",
      "Epoch 126/500\n",
      "5966/5966 [==============================] - 0s 44us/step - loss: 1396731.2500 - mae: 851.5285 - val_loss: 1353462.0000 - val_mae: 822.6902\n",
      "Epoch 127/500\n",
      "5966/5966 [==============================] - 0s 48us/step - loss: 1391462.5000 - mae: 822.5575 - val_loss: 1295443.6250 - val_mae: 835.9594\n",
      "Epoch 128/500\n",
      "5966/5966 [==============================] - 0s 44us/step - loss: 1399825.2500 - mae: 845.4078 - val_loss: 1340166.2500 - val_mae: 819.5709\n",
      "Epoch 129/500\n",
      "5966/5966 [==============================] - 0s 43us/step - loss: 1400222.2500 - mae: 828.3754 - val_loss: 1287953.2500 - val_mae: 830.9709\n",
      "Epoch 130/500\n",
      "5966/5966 [==============================] - 0s 44us/step - loss: 1415835.6250 - mae: 854.7931 - val_loss: 1337409.1250 - val_mae: 817.1796\n",
      "Epoch 131/500\n",
      "5966/5966 [==============================] - 0s 45us/step - loss: 1381614.3750 - mae: 817.9023 - val_loss: 1283117.6250 - val_mae: 830.8246\n",
      "Epoch 132/500\n",
      "5966/5966 [==============================] - 0s 44us/step - loss: 1424285.2500 - mae: 853.0351 - val_loss: 1343616.0000 - val_mae: 816.1229\n",
      "Epoch 133/500\n",
      "5966/5966 [==============================] - 0s 44us/step - loss: 1379807.0000 - mae: 812.4012 - val_loss: 1277908.0000 - val_mae: 828.0809\n",
      "Epoch 134/500\n",
      "5966/5966 [==============================] - 0s 44us/step - loss: 1386323.3750 - mae: 845.5217 - val_loss: 1335623.6250 - val_mae: 813.8687\n",
      "Epoch 135/500\n",
      "5966/5966 [==============================] - 0s 44us/step - loss: 1368578.8750 - mae: 810.5268 - val_loss: 1273088.7500 - val_mae: 824.4066\n",
      "Epoch 136/500\n",
      "5966/5966 [==============================] - 0s 44us/step - loss: 1385020.3750 - mae: 842.0743 - val_loss: 1311261.6250 - val_mae: 810.3741\n",
      "Epoch 137/500\n",
      "5966/5966 [==============================] - 0s 43us/step - loss: 1364357.5000 - mae: 816.0564 - val_loss: 1267319.7500 - val_mae: 817.6821\n",
      "Epoch 138/500\n",
      "5966/5966 [==============================] - 0s 44us/step - loss: 1382399.6250 - mae: 837.7587 - val_loss: 1319268.1250 - val_mae: 809.7584\n",
      "Epoch 139/500\n",
      "5966/5966 [==============================] - 0s 44us/step - loss: 1374635.5000 - mae: 816.3306 - val_loss: 1265409.3750 - val_mae: 820.1492\n",
      "Epoch 140/500\n",
      "5966/5966 [==============================] - 0s 44us/step - loss: 1400503.3750 - mae: 845.9840 - val_loss: 1326668.6250 - val_mae: 809.6687\n",
      "Epoch 141/500\n",
      "5966/5966 [==============================] - 0s 58us/step - loss: 1354816.7500 - mae: 810.2504 - val_loss: 1263764.6250 - val_mae: 820.3256\n",
      "Epoch 142/500\n",
      "5966/5966 [==============================] - 0s 45us/step - loss: 1356878.6250 - mae: 831.5361 - val_loss: 1312024.3750 - val_mae: 807.0773\n",
      "Epoch 143/500\n",
      "5966/5966 [==============================] - 0s 44us/step - loss: 1368044.3750 - mae: 814.8845 - val_loss: 1257839.0000 - val_mae: 812.7177\n",
      "Epoch 144/500\n",
      "5966/5966 [==============================] - 0s 44us/step - loss: 1375766.6250 - mae: 833.8271 - val_loss: 1306239.1250 - val_mae: 805.5973\n",
      "Epoch 145/500\n",
      "5966/5966 [==============================] - 0s 45us/step - loss: 1385942.7500 - mae: 815.1143 - val_loss: 1254716.3750 - val_mae: 811.6703\n",
      "Epoch 146/500\n",
      "5966/5966 [==============================] - 0s 44us/step - loss: 1360190.3750 - mae: 829.8109 - val_loss: 1311163.7500 - val_mae: 805.5615\n",
      "Epoch 147/500\n",
      "5966/5966 [==============================] - 0s 45us/step - loss: 1386584.8750 - mae: 815.7217 - val_loss: 1254876.1250 - val_mae: 815.4682\n",
      "Epoch 148/500\n",
      "5966/5966 [==============================] - 0s 45us/step - loss: 1377704.5000 - mae: 833.0438 - val_loss: 1312355.8750 - val_mae: 805.2982\n",
      "Epoch 149/500\n",
      "5966/5966 [==============================] - 0s 44us/step - loss: 1348571.7500 - mae: 808.7598 - val_loss: 1252869.6250 - val_mae: 814.3448\n",
      "Epoch 150/500\n",
      "5966/5966 [==============================] - 0s 46us/step - loss: 1359993.7500 - mae: 830.6852 - val_loss: 1314764.5000 - val_mae: 805.4139\n",
      "Epoch 151/500\n",
      "5966/5966 [==============================] - 0s 44us/step - loss: 1370456.8750 - mae: 810.4306 - val_loss: 1251647.1250 - val_mae: 813.3743\n",
      "Epoch 152/500\n",
      "5966/5966 [==============================] - 0s 45us/step - loss: 1357812.0000 - mae: 827.9885 - val_loss: 1310487.0000 - val_mae: 804.1484\n",
      "Epoch 153/500\n",
      "5966/5966 [==============================] - 0s 44us/step - loss: 1380660.3750 - mae: 818.9423 - val_loss: 1247328.5000 - val_mae: 807.6141\n",
      "Epoch 154/500\n",
      "5966/5966 [==============================] - 0s 44us/step - loss: 1355432.6250 - mae: 827.5854 - val_loss: 1303572.8750 - val_mae: 802.7399\n",
      "Epoch 155/500\n",
      "5966/5966 [==============================] - 0s 44us/step - loss: 1329270.3750 - mae: 801.3560 - val_loss: 1246225.5000 - val_mae: 808.1509\n",
      "Epoch 156/500\n",
      "5966/5966 [==============================] - 0s 45us/step - loss: 1318925.0000 - mae: 813.8589 - val_loss: 1283206.7500 - val_mae: 799.4235\n",
      "Epoch 157/500\n",
      "5966/5966 [==============================] - 0s 44us/step - loss: 1357390.0000 - mae: 810.1053 - val_loss: 1243236.3750 - val_mae: 803.0919\n",
      "Epoch 158/500\n",
      "5966/5966 [==============================] - 0s 44us/step - loss: 1355708.5000 - mae: 819.6494 - val_loss: 1275973.8750 - val_mae: 797.9427\n",
      "Epoch 159/500\n",
      "5966/5966 [==============================] - 0s 45us/step - loss: 1333077.8750 - mae: 803.6718 - val_loss: 1241348.7500 - val_mae: 802.5197\n",
      "Epoch 160/500\n",
      "5966/5966 [==============================] - 0s 44us/step - loss: 1341180.7500 - mae: 817.9149 - val_loss: 1283597.0000 - val_mae: 798.4466\n"
     ]
    },
    {
     "name": "stdout",
     "output_type": "stream",
     "text": [
      "Epoch 161/500\n",
      "5966/5966 [==============================] - 0s 44us/step - loss: 1338952.7500 - mae: 803.9976 - val_loss: 1242172.7500 - val_mae: 805.8186\n",
      "Epoch 162/500\n",
      "5966/5966 [==============================] - 0s 43us/step - loss: 1393873.6250 - mae: 831.1451 - val_loss: 1324971.8750 - val_mae: 805.4006\n",
      "Epoch 163/500\n",
      "5966/5966 [==============================] - 0s 45us/step - loss: 1384040.2500 - mae: 813.0079 - val_loss: 1243250.8750 - val_mae: 807.3655\n",
      "Epoch 164/500\n",
      "5966/5966 [==============================] - 0s 43us/step - loss: 1349730.3750 - mae: 822.6013 - val_loss: 1310480.7500 - val_mae: 802.2560\n",
      "Epoch 165/500\n",
      "5966/5966 [==============================] - 0s 46us/step - loss: 1394636.2500 - mae: 815.7129 - val_loss: 1241243.6250 - val_mae: 805.6266\n",
      "Epoch 166/500\n",
      "5966/5966 [==============================] - 0s 44us/step - loss: 1343994.6250 - mae: 818.0553 - val_loss: 1281391.8750 - val_mae: 797.1288\n",
      "Epoch 167/500\n",
      "5966/5966 [==============================] - 0s 45us/step - loss: 1344110.7500 - mae: 805.1982 - val_loss: 1237724.7500 - val_mae: 799.9717\n",
      "Epoch 168/500\n",
      "5966/5966 [==============================] - 0s 44us/step - loss: 1329483.0000 - mae: 817.2129 - val_loss: 1261838.2500 - val_mae: 794.4947\n",
      "Epoch 169/500\n",
      "5966/5966 [==============================] - 0s 44us/step - loss: 1353248.1250 - mae: 809.6202 - val_loss: 1237393.6250 - val_mae: 796.6943\n",
      "Epoch 170/500\n",
      "5966/5966 [==============================] - 0s 44us/step - loss: 1319029.6250 - mae: 809.4409 - val_loss: 1266910.7500 - val_mae: 794.5394\n",
      "Epoch 171/500\n",
      "5966/5966 [==============================] - 0s 44us/step - loss: 1313826.0000 - mae: 799.9540 - val_loss: 1235685.7500 - val_mae: 799.3261\n",
      "Epoch 172/500\n",
      "5966/5966 [==============================] - 0s 45us/step - loss: 1349219.7500 - mae: 816.2760 - val_loss: 1299741.3750 - val_mae: 799.5468\n",
      "Epoch 173/500\n",
      "5966/5966 [==============================] - 0s 43us/step - loss: 1341691.7500 - mae: 804.0004 - val_loss: 1243237.5000 - val_mae: 808.7294\n",
      "Epoch 174/500\n",
      "5966/5966 [==============================] - 0s 44us/step - loss: 1375578.7500 - mae: 831.2996 - val_loss: 1319942.5000 - val_mae: 803.3665\n",
      "Epoch 175/500\n",
      "5966/5966 [==============================] - 0s 44us/step - loss: 1393184.2500 - mae: 816.8674 - val_loss: 1237233.3750 - val_mae: 803.7750\n",
      "Epoch 176/500\n",
      "5966/5966 [==============================] - 0s 43us/step - loss: 1313770.0000 - mae: 813.1866 - val_loss: 1285170.0000 - val_mae: 796.3002\n",
      "Epoch 177/500\n",
      "5966/5966 [==============================] - 0s 45us/step - loss: 1322361.7500 - mae: 795.9852 - val_loss: 1232912.3750 - val_mae: 797.5755\n",
      "Epoch 178/500\n",
      "5966/5966 [==============================] - 0s 45us/step - loss: 1312629.3750 - mae: 809.0623 - val_loss: 1284553.0000 - val_mae: 795.9264\n",
      "Epoch 179/500\n",
      "5966/5966 [==============================] - 0s 44us/step - loss: 1343591.6250 - mae: 807.4221 - val_loss: 1232572.5000 - val_mae: 796.6148\n",
      "Epoch 180/500\n",
      "5966/5966 [==============================] - 0s 44us/step - loss: 1336406.3750 - mae: 815.1006 - val_loss: 1276863.8750 - val_mae: 794.2171\n",
      "Epoch 181/500\n",
      "5966/5966 [==============================] - 0s 43us/step - loss: 1360759.2500 - mae: 806.1494 - val_loss: 1231990.2500 - val_mae: 796.5415\n",
      "Epoch 182/500\n",
      "5966/5966 [==============================] - 0s 45us/step - loss: 1302731.7500 - mae: 805.9078 - val_loss: 1280879.5000 - val_mae: 794.3636\n",
      "Epoch 183/500\n",
      "5966/5966 [==============================] - 0s 43us/step - loss: 1333022.6250 - mae: 799.2788 - val_loss: 1232614.8750 - val_mae: 798.0472\n",
      "Epoch 184/500\n",
      "5966/5966 [==============================] - 0s 44us/step - loss: 1365125.5000 - mae: 824.6287 - val_loss: 1296970.1250 - val_mae: 797.0898\n",
      "Epoch 185/500\n",
      "5966/5966 [==============================] - 0s 43us/step - loss: 1360382.5000 - mae: 811.4605 - val_loss: 1232737.7500 - val_mae: 799.0138\n",
      "Epoch 186/500\n",
      "5966/5966 [==============================] - 0s 44us/step - loss: 1340038.6250 - mae: 818.3788 - val_loss: 1288012.2500 - val_mae: 795.2209\n",
      "Epoch 187/500\n",
      "5966/5966 [==============================] - 0s 44us/step - loss: 1348339.3750 - mae: 801.5673 - val_loss: 1231409.0000 - val_mae: 797.9643\n",
      "Epoch 188/500\n",
      "5966/5966 [==============================] - 0s 44us/step - loss: 1350360.0000 - mae: 822.3030 - val_loss: 1299218.6250 - val_mae: 797.0876\n",
      "Epoch 189/500\n",
      "5966/5966 [==============================] - 0s 44us/step - loss: 1334180.3750 - mae: 801.2664 - val_loss: 1231777.1250 - val_mae: 799.1655\n",
      "Epoch 190/500\n",
      "5966/5966 [==============================] - 0s 44us/step - loss: 1354898.3750 - mae: 819.5802 - val_loss: 1285237.2500 - val_mae: 794.2418\n",
      "Epoch 191/500\n",
      "5966/5966 [==============================] - 0s 45us/step - loss: 1343989.2500 - mae: 804.0546 - val_loss: 1229081.1250 - val_mae: 795.4001\n",
      "Epoch 192/500\n",
      "5966/5966 [==============================] - 0s 45us/step - loss: 1346264.6250 - mae: 817.5256 - val_loss: 1287860.6250 - val_mae: 794.5640\n",
      "Epoch 193/500\n",
      "5966/5966 [==============================] - 0s 44us/step - loss: 1350092.6250 - mae: 804.6563 - val_loss: 1230359.7500 - val_mae: 797.6160\n",
      "Epoch 194/500\n",
      "5966/5966 [==============================] - 0s 45us/step - loss: 1375405.3750 - mae: 820.7153 - val_loss: 1294302.8750 - val_mae: 795.4529\n",
      "Epoch 195/500\n",
      "5966/5966 [==============================] - 0s 47us/step - loss: 1337695.8750 - mae: 799.6321 - val_loss: 1230404.7500 - val_mae: 798.0602\n",
      "Epoch 196/500\n",
      "5966/5966 [==============================] - 0s 54us/step - loss: 1363957.1250 - mae: 826.0379 - val_loss: 1285186.6250 - val_mae: 793.6564\n",
      "Epoch 197/500\n",
      "5966/5966 [==============================] - 0s 49us/step - loss: 1344677.5000 - mae: 802.5671 - val_loss: 1229090.3750 - val_mae: 794.8334\n",
      "Epoch 198/500\n",
      "5966/5966 [==============================] - 0s 50us/step - loss: 1333833.0000 - mae: 815.9854 - val_loss: 1279206.3750 - val_mae: 792.3038\n",
      "Epoch 199/500\n",
      "5966/5966 [==============================] - 0s 50us/step - loss: 1350739.3750 - mae: 803.0474 - val_loss: 1228365.3750 - val_mae: 794.1196\n",
      "Epoch 200/500\n",
      "5966/5966 [==============================] - 0s 47us/step - loss: 1356039.2500 - mae: 817.7250 - val_loss: 1288434.6250 - val_mae: 793.5977\n",
      "Epoch 201/500\n",
      "5966/5966 [==============================] - 0s 50us/step - loss: 1346712.7500 - mae: 802.0936 - val_loss: 1227473.0000 - val_mae: 793.4551\n",
      "Epoch 202/500\n",
      "5966/5966 [==============================] - 0s 49us/step - loss: 1339135.0000 - mae: 808.2271 - val_loss: 1273739.8750 - val_mae: 790.8984\n",
      "Epoch 203/500\n",
      "5966/5966 [==============================] - 0s 52us/step - loss: 1334263.3750 - mae: 797.5056 - val_loss: 1225949.1250 - val_mae: 792.0668\n",
      "Epoch 204/500\n",
      "5966/5966 [==============================] - 0s 51us/step - loss: 1324222.0000 - mae: 811.2587 - val_loss: 1276185.6250 - val_mae: 790.9810\n",
      "Epoch 205/500\n",
      "5966/5966 [==============================] - 0s 47us/step - loss: 1309226.2500 - mae: 792.5038 - val_loss: 1227570.7500 - val_mae: 795.6661\n",
      "Epoch 206/500\n",
      "5966/5966 [==============================] - 0s 50us/step - loss: 1364211.8750 - mae: 816.4634 - val_loss: 1285349.6250 - val_mae: 792.4022\n",
      "Epoch 207/500\n",
      "5966/5966 [==============================] - 0s 46us/step - loss: 1339926.0000 - mae: 801.2415 - val_loss: 1225636.6250 - val_mae: 793.2462\n",
      "Epoch 208/500\n",
      "5966/5966 [==============================] - 0s 53us/step - loss: 1341902.6250 - mae: 812.8005 - val_loss: 1282492.8750 - val_mae: 791.7504\n",
      "Epoch 209/500\n",
      "5966/5966 [==============================] - 0s 50us/step - loss: 1377238.2500 - mae: 813.3520 - val_loss: 1224714.7500 - val_mae: 792.4110\n",
      "Epoch 210/500\n",
      "5966/5966 [==============================] - 0s 50us/step - loss: 1358670.7500 - mae: 813.3745 - val_loss: 1285605.0000 - val_mae: 792.0925\n",
      "Epoch 211/500\n",
      "5966/5966 [==============================] - 0s 45us/step - loss: 1354074.2500 - mae: 807.4496 - val_loss: 1224762.1250 - val_mae: 792.8357\n",
      "Epoch 212/500\n",
      "5966/5966 [==============================] - 0s 46us/step - loss: 1374743.3750 - mae: 821.6566 - val_loss: 1304333.7500 - val_mae: 795.5332\n",
      "Epoch 213/500\n",
      "5966/5966 [==============================] - 0s 45us/step - loss: 1342593.7500 - mae: 801.3077 - val_loss: 1226722.3750 - val_mae: 794.8717\n",
      "Epoch 214/500\n",
      "5966/5966 [==============================] - 0s 45us/step - loss: 1340196.2500 - mae: 813.1797 - val_loss: 1278554.7500 - val_mae: 790.4012\n"
     ]
    },
    {
     "name": "stdout",
     "output_type": "stream",
     "text": [
      "Epoch 215/500\n",
      "5966/5966 [==============================] - 0s 44us/step - loss: 1326238.1250 - mae: 798.1866 - val_loss: 1224029.5000 - val_mae: 792.1102\n",
      "Epoch 216/500\n",
      "5966/5966 [==============================] - 0s 46us/step - loss: 1350847.7500 - mae: 813.3380 - val_loss: 1267641.3750 - val_mae: 788.4774\n",
      "Epoch 217/500\n",
      "5966/5966 [==============================] - 0s 55us/step - loss: 1342314.5000 - mae: 799.7438 - val_loss: 1223434.7500 - val_mae: 788.6184\n",
      "Epoch 218/500\n",
      "5966/5966 [==============================] - 0s 45us/step - loss: 1298333.1250 - mae: 797.5241 - val_loss: 1246806.2500 - val_mae: 785.6514\n",
      "Epoch 219/500\n",
      "5966/5966 [==============================] - 0s 51us/step - loss: 1293455.0000 - mae: 790.2623 - val_loss: 1222032.6250 - val_mae: 788.8101\n",
      "Epoch 220/500\n",
      "5966/5966 [==============================] - 0s 49us/step - loss: 1312068.7500 - mae: 800.9549 - val_loss: 1271757.1250 - val_mae: 788.8504\n",
      "Epoch 221/500\n",
      "5966/5966 [==============================] - 0s 50us/step - loss: 1339880.6250 - mae: 801.6611 - val_loss: 1222344.6250 - val_mae: 791.4262\n",
      "Epoch 222/500\n",
      "5966/5966 [==============================] - 0s 49us/step - loss: 1294805.1250 - mae: 801.8751 - val_loss: 1280848.6250 - val_mae: 790.4352\n",
      "Epoch 223/500\n",
      "5966/5966 [==============================] - 0s 45us/step - loss: 1335703.2500 - mae: 797.5066 - val_loss: 1226286.6250 - val_mae: 796.2414\n",
      "Epoch 224/500\n",
      "5966/5966 [==============================] - 0s 53us/step - loss: 1327563.5000 - mae: 810.2434 - val_loss: 1301899.1250 - val_mae: 794.4210\n",
      "Epoch 225/500\n",
      "5966/5966 [==============================] - 0s 45us/step - loss: 1339493.7500 - mae: 797.4839 - val_loss: 1226110.5000 - val_mae: 796.0302\n",
      "Epoch 226/500\n",
      "5966/5966 [==============================] - 0s 51us/step - loss: 1333119.1250 - mae: 814.0580 - val_loss: 1292156.1250 - val_mae: 792.3542\n",
      "Epoch 227/500\n",
      "5966/5966 [==============================] - 0s 43us/step - loss: 1313767.7500 - mae: 791.7997 - val_loss: 1222547.1250 - val_mae: 791.9568\n",
      "Epoch 228/500\n",
      "5966/5966 [==============================] - 0s 49us/step - loss: 1293696.2500 - mae: 798.4487 - val_loss: 1266847.0000 - val_mae: 787.2679\n",
      "Epoch 229/500\n",
      "5966/5966 [==============================] - 0s 44us/step - loss: 1336729.3750 - mae: 799.1937 - val_loss: 1220442.6250 - val_mae: 788.3182\n",
      "Epoch 230/500\n",
      "5966/5966 [==============================] - 0s 54us/step - loss: 1309929.0000 - mae: 802.9068 - val_loss: 1257906.7500 - val_mae: 785.7177\n",
      "Epoch 231/500\n",
      "5966/5966 [==============================] - 0s 52us/step - loss: 1312452.1250 - mae: 794.1666 - val_loss: 1219983.7500 - val_mae: 787.3186\n",
      "Epoch 232/500\n",
      "5966/5966 [==============================] - 0s 45us/step - loss: 1328341.6250 - mae: 801.1370 - val_loss: 1257377.7500 - val_mae: 785.4999\n",
      "Epoch 233/500\n",
      "5966/5966 [==============================] - 0s 46us/step - loss: 1296099.8750 - mae: 787.7498 - val_loss: 1219469.7500 - val_mae: 788.3165\n",
      "Epoch 234/500\n",
      "5966/5966 [==============================] - 0s 45us/step - loss: 1325051.1250 - mae: 797.0346 - val_loss: 1263138.0000 - val_mae: 786.1514\n",
      "Epoch 235/500\n",
      "5966/5966 [==============================] - 0s 48us/step - loss: 1304819.1250 - mae: 790.0546 - val_loss: 1218646.1250 - val_mae: 788.9919\n",
      "Epoch 236/500\n",
      "5966/5966 [==============================] - 0s 45us/step - loss: 1323710.6250 - mae: 809.6804 - val_loss: 1261619.0000 - val_mae: 785.6839\n",
      "Epoch 237/500\n",
      "5966/5966 [==============================] - 0s 44us/step - loss: 1288952.7500 - mae: 784.6758 - val_loss: 1218468.2500 - val_mae: 788.4833\n",
      "Epoch 238/500\n",
      "5966/5966 [==============================] - 0s 48us/step - loss: 1321042.0000 - mae: 803.0353 - val_loss: 1280060.3750 - val_mae: 789.0750\n",
      "Epoch 239/500\n",
      "5966/5966 [==============================] - 0s 48us/step - loss: 1341107.5000 - mae: 798.0948 - val_loss: 1222893.6250 - val_mae: 793.9595\n",
      "Epoch 240/500\n",
      "5966/5966 [==============================] - 0s 49us/step - loss: 1336069.5000 - mae: 810.7462 - val_loss: 1318325.1250 - val_mae: 796.9331\n",
      "Epoch 241/500\n",
      "5966/5966 [==============================] - 0s 46us/step - loss: 1369596.6250 - mae: 804.8133 - val_loss: 1222887.2500 - val_mae: 794.6130\n",
      "Epoch 242/500\n",
      "5966/5966 [==============================] - 0s 46us/step - loss: 1338673.8750 - mae: 819.6332 - val_loss: 1280369.3750 - val_mae: 788.8629\n",
      "Epoch 243/500\n",
      "5966/5966 [==============================] - 0s 46us/step - loss: 1342666.5000 - mae: 797.8781 - val_loss: 1217608.8750 - val_mae: 788.0710\n",
      "Epoch 244/500\n",
      "5966/5966 [==============================] - 0s 57us/step - loss: 1318888.3750 - mae: 803.5224 - val_loss: 1264102.1250 - val_mae: 785.6542\n",
      "Epoch 245/500\n",
      "5966/5966 [==============================] - 0s 56us/step - loss: 1304397.0000 - mae: 788.2378 - val_loss: 1217469.1250 - val_mae: 785.2720\n",
      "Epoch 246/500\n",
      "5966/5966 [==============================] - 0s 47us/step - loss: 1295229.2500 - mae: 796.1752 - val_loss: 1245846.2500 - val_mae: 782.6931\n",
      "Epoch 247/500\n",
      "5966/5966 [==============================] - 0s 47us/step - loss: 1294214.6250 - mae: 790.9332 - val_loss: 1217321.0000 - val_mae: 786.4841\n",
      "Epoch 248/500\n",
      "5966/5966 [==============================] - 0s 47us/step - loss: 1315165.8750 - mae: 798.9531 - val_loss: 1265291.2500 - val_mae: 785.8112\n",
      "Epoch 249/500\n",
      "5966/5966 [==============================] - 0s 46us/step - loss: 1350736.8750 - mae: 799.2197 - val_loss: 1217342.8750 - val_mae: 787.2349\n",
      "Epoch 250/500\n",
      "5966/5966 [==============================] - 0s 51us/step - loss: 1346935.1250 - mae: 814.4955 - val_loss: 1292410.0000 - val_mae: 790.8198\n",
      "Epoch 251/500\n",
      "5966/5966 [==============================] - 0s 50us/step - loss: 1342540.0000 - mae: 796.5223 - val_loss: 1222994.2500 - val_mae: 794.1906\n",
      "Epoch 252/500\n",
      "5966/5966 [==============================] - 0s 52us/step - loss: 1341994.0000 - mae: 816.4803 - val_loss: 1301697.3750 - val_mae: 792.6500\n",
      "Epoch 253/500\n",
      "5966/5966 [==============================] - 0s 53us/step - loss: 1325082.5000 - mae: 791.4604 - val_loss: 1220630.0000 - val_mae: 792.1648\n",
      "Epoch 254/500\n",
      "5966/5966 [==============================] - 0s 48us/step - loss: 1353063.6250 - mae: 815.9782 - val_loss: 1272664.1250 - val_mae: 786.9682\n",
      "Epoch 255/500\n",
      "5966/5966 [==============================] - 0s 49us/step - loss: 1328217.2500 - mae: 794.3713 - val_loss: 1216592.6250 - val_mae: 787.1536\n",
      "Epoch 256/500\n",
      "5966/5966 [==============================] - 0s 49us/step - loss: 1312773.3750 - mae: 807.2788 - val_loss: 1251671.8750 - val_mae: 782.9534\n",
      "Epoch 257/500\n",
      "5966/5966 [==============================] - 0s 50us/step - loss: 1293109.6250 - mae: 789.4915 - val_loss: 1216619.0000 - val_mae: 783.1635\n",
      "Epoch 258/500\n",
      "5966/5966 [==============================] - 0s 51us/step - loss: 1279052.6250 - mae: 791.9274 - val_loss: 1242047.7500 - val_mae: 781.5756\n",
      "Epoch 259/500\n",
      "5966/5966 [==============================] - 0s 51us/step - loss: 1322891.8750 - mae: 793.1930 - val_loss: 1215083.1250 - val_mae: 784.4449\n",
      "Epoch 260/500\n",
      "5966/5966 [==============================] - 0s 50us/step - loss: 1294600.0000 - mae: 793.7768 - val_loss: 1254555.1250 - val_mae: 783.0927\n",
      "Epoch 261/500\n",
      "5966/5966 [==============================] - 0s 47us/step - loss: 1337228.0000 - mae: 796.0356 - val_loss: 1215324.7500 - val_mae: 785.2458\n",
      "Epoch 262/500\n",
      "5966/5966 [==============================] - 0s 47us/step - loss: 1335347.3750 - mae: 808.2403 - val_loss: 1285437.5000 - val_mae: 788.8662\n",
      "Epoch 263/500\n",
      "5966/5966 [==============================] - 0s 48us/step - loss: 1375551.0000 - mae: 806.1544 - val_loss: 1220940.8750 - val_mae: 792.5205\n",
      "Epoch 264/500\n",
      "5966/5966 [==============================] - 0s 46us/step - loss: 1324915.6250 - mae: 806.2877 - val_loss: 1295722.3750 - val_mae: 790.8871\n",
      "Epoch 265/500\n",
      "5966/5966 [==============================] - 0s 49us/step - loss: 1344662.1250 - mae: 798.8860 - val_loss: 1219999.7500 - val_mae: 791.8575\n",
      "Epoch 266/500\n",
      "5966/5966 [==============================] - 0s 47us/step - loss: 1330723.7500 - mae: 808.1541 - val_loss: 1274242.1250 - val_mae: 786.6680\n",
      "Epoch 267/500\n",
      "5966/5966 [==============================] - 0s 48us/step - loss: 1297585.6250 - mae: 788.5859 - val_loss: 1215765.8750 - val_mae: 787.5779\n",
      "Epoch 268/500\n",
      "5966/5966 [==============================] - 0s 47us/step - loss: 1318783.6250 - mae: 804.7197 - val_loss: 1266278.3750 - val_mae: 784.8732\n"
     ]
    },
    {
     "name": "stdout",
     "output_type": "stream",
     "text": [
      "Epoch 269/500\n",
      "5966/5966 [==============================] - 0s 47us/step - loss: 1297327.8750 - mae: 782.7293 - val_loss: 1215129.0000 - val_mae: 786.8086\n",
      "Epoch 270/500\n",
      "5966/5966 [==============================] - 0s 47us/step - loss: 1323187.3750 - mae: 807.8634 - val_loss: 1263007.3750 - val_mae: 784.3573\n",
      "Epoch 271/500\n",
      "5966/5966 [==============================] - 0s 46us/step - loss: 1317975.5000 - mae: 789.4849 - val_loss: 1214273.3750 - val_mae: 785.1143\n",
      "Epoch 272/500\n",
      "5966/5966 [==============================] - 0s 45us/step - loss: 1314057.2500 - mae: 801.4654 - val_loss: 1264006.7500 - val_mae: 784.2722\n",
      "Epoch 273/500\n",
      "5966/5966 [==============================] - 0s 44us/step - loss: 1351919.1250 - mae: 800.2234 - val_loss: 1214067.8750 - val_mae: 783.8655\n",
      "Epoch 274/500\n",
      "5966/5966 [==============================] - 0s 46us/step - loss: 1338325.6250 - mae: 809.4202 - val_loss: 1253184.0000 - val_mae: 782.4288\n",
      "Epoch 275/500\n",
      "5966/5966 [==============================] - 0s 45us/step - loss: 1330870.0000 - mae: 795.6279 - val_loss: 1212945.7500 - val_mae: 783.5148\n",
      "Epoch 276/500\n",
      "5966/5966 [==============================] - 0s 46us/step - loss: 1274882.6250 - mae: 794.4202 - val_loss: 1268101.5000 - val_mae: 784.9797\n",
      "Epoch 277/500\n",
      "5966/5966 [==============================] - 0s 48us/step - loss: 1312980.5000 - mae: 788.5070 - val_loss: 1217913.0000 - val_mae: 790.6402\n",
      "Epoch 278/500\n",
      "5966/5966 [==============================] - 0s 45us/step - loss: 1334896.7500 - mae: 810.3089 - val_loss: 1294607.1250 - val_mae: 790.1059\n",
      "Epoch 279/500\n",
      "5966/5966 [==============================] - 0s 46us/step - loss: 1334611.1250 - mae: 792.3970 - val_loss: 1218430.8750 - val_mae: 791.4597\n",
      "Epoch 280/500\n",
      "5966/5966 [==============================] - 0s 45us/step - loss: 1315366.1250 - mae: 805.5333 - val_loss: 1286612.6250 - val_mae: 788.2692\n",
      "Epoch 281/500\n",
      "5966/5966 [==============================] - 0s 45us/step - loss: 1330698.1250 - mae: 790.9766 - val_loss: 1214558.6250 - val_mae: 787.4569\n",
      "Epoch 282/500\n",
      "5966/5966 [==============================] - 0s 46us/step - loss: 1297212.6250 - mae: 798.8140 - val_loss: 1253483.8750 - val_mae: 781.8706\n",
      "Epoch 283/500\n",
      "5966/5966 [==============================] - 0s 50us/step - loss: 1333978.3750 - mae: 796.6880 - val_loss: 1211887.5000 - val_mae: 783.5652\n",
      "Epoch 284/500\n",
      "5966/5966 [==============================] - 0s 51us/step - loss: 1300308.2500 - mae: 797.6199 - val_loss: 1245814.1250 - val_mae: 780.4952\n",
      "Epoch 285/500\n",
      "5966/5966 [==============================] - 0s 56us/step - loss: 1293053.8750 - mae: 787.5695 - val_loss: 1211338.2500 - val_mae: 782.2477\n",
      "Epoch 286/500\n",
      "5966/5966 [==============================] - 0s 56us/step - loss: 1285810.7500 - mae: 794.0710 - val_loss: 1255877.3750 - val_mae: 782.0863\n",
      "Epoch 287/500\n",
      "5966/5966 [==============================] - 0s 55us/step - loss: 1310116.6250 - mae: 785.0954 - val_loss: 1212814.8750 - val_mae: 785.8901\n",
      "Epoch 288/500\n",
      "5966/5966 [==============================] - 0s 48us/step - loss: 1295784.7500 - mae: 799.3809 - val_loss: 1271622.0000 - val_mae: 785.0410\n",
      "Epoch 289/500\n",
      "5966/5966 [==============================] - 0s 47us/step - loss: 1330456.5000 - mae: 793.6615 - val_loss: 1213018.8750 - val_mae: 786.5364\n",
      "Epoch 290/500\n",
      "5966/5966 [==============================] - 0s 46us/step - loss: 1303694.5000 - mae: 800.7263 - val_loss: 1266599.2500 - val_mae: 783.9022\n",
      "Epoch 291/500\n",
      "5966/5966 [==============================] - 0s 46us/step - loss: 1292799.1250 - mae: 785.2463 - val_loss: 1212480.6250 - val_mae: 785.7963\n",
      "Epoch 292/500\n",
      "5966/5966 [==============================] - 0s 46us/step - loss: 1320092.0000 - mae: 805.9764 - val_loss: 1274644.5000 - val_mae: 785.5873\n",
      "Epoch 293/500\n",
      "5966/5966 [==============================] - 0s 49us/step - loss: 1366246.3750 - mae: 800.6411 - val_loss: 1212742.2500 - val_mae: 786.5955\n",
      "Epoch 294/500\n",
      "5966/5966 [==============================] - 0s 46us/step - loss: 1344516.6250 - mae: 807.0784 - val_loss: 1282884.3750 - val_mae: 787.1212\n",
      "Epoch 295/500\n",
      "5966/5966 [==============================] - 0s 46us/step - loss: 1338367.0000 - mae: 795.7662 - val_loss: 1214188.3750 - val_mae: 788.0535\n",
      "Epoch 296/500\n",
      "5966/5966 [==============================] - 0s 46us/step - loss: 1310236.2500 - mae: 803.7977 - val_loss: 1271374.6250 - val_mae: 784.7649\n",
      "Epoch 297/500\n",
      "5966/5966 [==============================] - 0s 46us/step - loss: 1310398.2500 - mae: 790.9949 - val_loss: 1211383.2500 - val_mae: 784.6417\n",
      "Epoch 298/500\n",
      "5966/5966 [==============================] - 0s 47us/step - loss: 1292022.2500 - mae: 792.9904 - val_loss: 1257685.0000 - val_mae: 782.1119\n",
      "Epoch 299/500\n",
      "5966/5966 [==============================] - 0s 45us/step - loss: 1302011.0000 - mae: 783.0696 - val_loss: 1210103.7500 - val_mae: 782.3149\n",
      "Epoch 300/500\n",
      "5966/5966 [==============================] - 0s 47us/step - loss: 1324563.1250 - mae: 803.3718 - val_loss: 1251241.8750 - val_mae: 780.9188\n",
      "Epoch 301/500\n",
      "5966/5966 [==============================] - 0s 45us/step - loss: 1329540.5000 - mae: 791.5189 - val_loss: 1210230.7500 - val_mae: 781.4418\n",
      "Epoch 302/500\n",
      "5966/5966 [==============================] - 0s 49us/step - loss: 1304204.1250 - mae: 799.0164 - val_loss: 1238276.0000 - val_mae: 778.8292\n",
      "Epoch 303/500\n",
      "5966/5966 [==============================] - 0s 45us/step - loss: 1295933.7500 - mae: 791.1362 - val_loss: 1210755.8750 - val_mae: 779.5809\n",
      "Epoch 304/500\n",
      "5966/5966 [==============================] - 0s 46us/step - loss: 1266455.6250 - mae: 786.5988 - val_loss: 1239937.5000 - val_mae: 778.8344\n",
      "Epoch 305/500\n",
      "5966/5966 [==============================] - 0s 46us/step - loss: 1293138.0000 - mae: 783.5815 - val_loss: 1209836.5000 - val_mae: 781.4908\n",
      "Epoch 306/500\n",
      "5966/5966 [==============================] - 0s 47us/step - loss: 1255383.1250 - mae: 786.6556 - val_loss: 1267898.7500 - val_mae: 783.6986\n",
      "Epoch 307/500\n",
      "5966/5966 [==============================] - 0s 46us/step - loss: 1306905.7500 - mae: 792.1260 - val_loss: 1214500.8750 - val_mae: 788.6409\n",
      "Epoch 308/500\n",
      "5966/5966 [==============================] - 0s 45us/step - loss: 1338775.0000 - mae: 810.4470 - val_loss: 1322390.6250 - val_mae: 795.9817\n",
      "Epoch 309/500\n",
      "5966/5966 [==============================] - 0s 46us/step - loss: 1355075.0000 - mae: 796.1336 - val_loss: 1217904.3750 - val_mae: 791.8275\n",
      "Epoch 310/500\n",
      "5966/5966 [==============================] - 0s 49us/step - loss: 1326723.8750 - mae: 812.2941 - val_loss: 1288742.3750 - val_mae: 788.1356\n",
      "Epoch 311/500\n",
      "5966/5966 [==============================] - 0s 46us/step - loss: 1319873.3750 - mae: 791.1985 - val_loss: 1210925.6250 - val_mae: 785.4266\n",
      "Epoch 312/500\n",
      "5966/5966 [==============================] - 0s 55us/step - loss: 1295941.2500 - mae: 794.6783 - val_loss: 1251205.3750 - val_mae: 780.5200\n",
      "Epoch 313/500\n",
      "5966/5966 [==============================] - 0s 45us/step - loss: 1323304.1250 - mae: 790.7938 - val_loss: 1208932.8750 - val_mae: 779.6843\n",
      "Epoch 314/500\n",
      "5966/5966 [==============================] - 0s 46us/step - loss: 1288741.7500 - mae: 791.6733 - val_loss: 1245313.6250 - val_mae: 779.4493\n",
      "Epoch 315/500\n",
      "5966/5966 [==============================] - 0s 46us/step - loss: 1291716.8750 - mae: 789.8771 - val_loss: 1207805.1250 - val_mae: 780.9173\n",
      "Epoch 316/500\n",
      "5966/5966 [==============================] - 0s 47us/step - loss: 1325769.3750 - mae: 801.0368 - val_loss: 1263023.3750 - val_mae: 782.7021\n",
      "Epoch 317/500\n",
      "5966/5966 [==============================] - 0s 48us/step - loss: 1289909.1250 - mae: 781.3745 - val_loss: 1209793.8750 - val_mae: 784.9183\n",
      "Epoch 318/500\n",
      "5966/5966 [==============================] - 0s 49us/step - loss: 1308254.8750 - mae: 796.6019 - val_loss: 1276954.1250 - val_mae: 785.3530\n",
      "Epoch 319/500\n",
      "5966/5966 [==============================] - 0s 48us/step - loss: 1318607.5000 - mae: 787.4785 - val_loss: 1209419.5000 - val_mae: 784.3444\n",
      "Epoch 320/500\n",
      "5966/5966 [==============================] - 0s 46us/step - loss: 1288074.5000 - mae: 792.1911 - val_loss: 1258194.2500 - val_mae: 781.5493\n",
      "Epoch 321/500\n",
      "5966/5966 [==============================] - 0s 46us/step - loss: 1286890.2500 - mae: 781.0321 - val_loss: 1209744.2500 - val_mae: 784.3231\n",
      "Epoch 322/500\n",
      "5966/5966 [==============================] - 0s 45us/step - loss: 1307179.2500 - mae: 795.6917 - val_loss: 1260514.7500 - val_mae: 782.0057\n"
     ]
    },
    {
     "name": "stdout",
     "output_type": "stream",
     "text": [
      "Epoch 323/500\n",
      "5966/5966 [==============================] - 0s 48us/step - loss: 1307450.6250 - mae: 787.2091 - val_loss: 1208633.7500 - val_mae: 783.2409\n",
      "Epoch 324/500\n",
      "5966/5966 [==============================] - 0s 45us/step - loss: 1322721.2500 - mae: 796.3955 - val_loss: 1276375.5000 - val_mae: 785.2336\n",
      "Epoch 325/500\n",
      "5966/5966 [==============================] - 0s 46us/step - loss: 1330715.2500 - mae: 791.6234 - val_loss: 1210379.6250 - val_mae: 785.0229\n",
      "Epoch 326/500\n",
      "5966/5966 [==============================] - 0s 45us/step - loss: 1301511.7500 - mae: 795.3989 - val_loss: 1263749.6250 - val_mae: 782.6857\n",
      "Epoch 327/500\n",
      "5966/5966 [==============================] - 0s 47us/step - loss: 1311570.3750 - mae: 790.0575 - val_loss: 1209516.6250 - val_mae: 784.3387\n",
      "Epoch 328/500\n",
      "5966/5966 [==============================] - 0s 46us/step - loss: 1282909.5000 - mae: 793.6230 - val_loss: 1274448.7500 - val_mae: 784.6595\n",
      "Epoch 329/500\n",
      "5966/5966 [==============================] - 0s 45us/step - loss: 1329436.6250 - mae: 792.0594 - val_loss: 1208917.1250 - val_mae: 783.9532\n",
      "Epoch 330/500\n",
      "5966/5966 [==============================] - 0s 46us/step - loss: 1347639.1250 - mae: 806.7878 - val_loss: 1265691.6250 - val_mae: 782.8963\n",
      "Epoch 331/500\n",
      "5966/5966 [==============================] - 0s 47us/step - loss: 1305673.0000 - mae: 785.9888 - val_loss: 1207584.6250 - val_mae: 782.2371\n",
      "Epoch 332/500\n",
      "5966/5966 [==============================] - 0s 45us/step - loss: 1346826.3750 - mae: 806.0189 - val_loss: 1262519.3750 - val_mae: 782.1387\n",
      "Epoch 333/500\n",
      "5966/5966 [==============================] - 0s 46us/step - loss: 1315543.8750 - mae: 786.0306 - val_loss: 1207512.5000 - val_mae: 783.2949\n",
      "Epoch 334/500\n",
      "5966/5966 [==============================] - 0s 46us/step - loss: 1289505.3750 - mae: 794.8063 - val_loss: 1256188.6250 - val_mae: 781.0062\n",
      "Epoch 335/500\n",
      "5966/5966 [==============================] - 0s 46us/step - loss: 1311004.2500 - mae: 787.5582 - val_loss: 1206939.1250 - val_mae: 779.5984\n",
      "Epoch 336/500\n",
      "5966/5966 [==============================] - 0s 47us/step - loss: 1294983.6250 - mae: 794.8112 - val_loss: 1247657.6250 - val_mae: 779.4068\n",
      "Epoch 337/500\n",
      "5966/5966 [==============================] - 0s 50us/step - loss: 1307434.7500 - mae: 785.0200 - val_loss: 1206691.0000 - val_mae: 781.0015\n",
      "Epoch 338/500\n",
      "5966/5966 [==============================] - 0s 46us/step - loss: 1295927.5000 - mae: 793.7521 - val_loss: 1269081.6250 - val_mae: 783.6082\n",
      "Epoch 339/500\n",
      "5966/5966 [==============================] - 0s 46us/step - loss: 1324105.6250 - mae: 793.2621 - val_loss: 1210788.0000 - val_mae: 786.5844\n",
      "Epoch 340/500\n",
      "5966/5966 [==============================] - 0s 51us/step - loss: 1334197.6250 - mae: 807.8958 - val_loss: 1281149.6250 - val_mae: 786.1335\n",
      "Epoch 341/500\n",
      "5966/5966 [==============================] - 0s 45us/step - loss: 1308294.3750 - mae: 785.8376 - val_loss: 1209547.0000 - val_mae: 785.1988\n",
      "Epoch 342/500\n",
      "5966/5966 [==============================] - 0s 45us/step - loss: 1324934.1250 - mae: 803.9711 - val_loss: 1269927.7500 - val_mae: 783.5397\n",
      "Epoch 343/500\n",
      "5966/5966 [==============================] - 0s 46us/step - loss: 1306926.1250 - mae: 783.4349 - val_loss: 1209028.1250 - val_mae: 784.5606\n",
      "Epoch 344/500\n",
      "5966/5966 [==============================] - 0s 47us/step - loss: 1273719.5000 - mae: 789.2593 - val_loss: 1261813.7500 - val_mae: 781.8431\n",
      "Epoch 345/500\n",
      "5966/5966 [==============================] - 0s 45us/step - loss: 1303414.1250 - mae: 787.2435 - val_loss: 1206560.5000 - val_mae: 781.3258\n",
      "Epoch 346/500\n",
      "5966/5966 [==============================] - 0s 46us/step - loss: 1301712.2500 - mae: 797.8070 - val_loss: 1261469.5000 - val_mae: 781.6818\n",
      "Epoch 347/500\n",
      "5966/5966 [==============================] - 0s 45us/step - loss: 1356152.5000 - mae: 789.9962 - val_loss: 1206090.8750 - val_mae: 779.9346\n",
      "Epoch 348/500\n",
      "5966/5966 [==============================] - 0s 46us/step - loss: 1303934.1250 - mae: 792.9366 - val_loss: 1257711.8750 - val_mae: 780.7995\n",
      "Epoch 349/500\n",
      "5966/5966 [==============================] - 0s 45us/step - loss: 1329693.3750 - mae: 790.5419 - val_loss: 1206521.7500 - val_mae: 781.1865\n",
      "Epoch 350/500\n",
      "5966/5966 [==============================] - 0s 46us/step - loss: 1301212.1250 - mae: 796.7365 - val_loss: 1254990.7500 - val_mae: 780.4598\n",
      "Epoch 351/500\n",
      "5966/5966 [==============================] - 0s 45us/step - loss: 1316676.0000 - mae: 789.3070 - val_loss: 1207064.0000 - val_mae: 782.0460\n",
      "Epoch 352/500\n",
      "5966/5966 [==============================] - 0s 47us/step - loss: 1295408.5000 - mae: 794.8625 - val_loss: 1264706.3750 - val_mae: 782.2770\n",
      "Epoch 353/500\n",
      "5966/5966 [==============================] - 0s 46us/step - loss: 1288076.6250 - mae: 778.2424 - val_loss: 1208330.0000 - val_mae: 784.3979\n",
      "Epoch 354/500\n",
      "5966/5966 [==============================] - 0s 46us/step - loss: 1325136.7500 - mae: 801.2294 - val_loss: 1282543.5000 - val_mae: 786.0452\n",
      "Epoch 355/500\n",
      "5966/5966 [==============================] - 0s 45us/step - loss: 1317921.3750 - mae: 789.2338 - val_loss: 1209447.6250 - val_mae: 785.4628\n",
      "Epoch 356/500\n",
      "5966/5966 [==============================] - 0s 46us/step - loss: 1297125.6250 - mae: 798.5232 - val_loss: 1269724.6250 - val_mae: 783.1659\n",
      "Epoch 357/500\n",
      "5966/5966 [==============================] - 0s 49us/step - loss: 1331388.8750 - mae: 787.5146 - val_loss: 1206061.0000 - val_mae: 781.5291\n",
      "Epoch 358/500\n",
      "5966/5966 [==============================] - 0s 45us/step - loss: 1275172.5000 - mae: 792.7947 - val_loss: 1257885.2500 - val_mae: 780.6464\n",
      "Epoch 359/500\n",
      "5966/5966 [==============================] - 0s 46us/step - loss: 1284205.1250 - mae: 777.3644 - val_loss: 1205659.8750 - val_mae: 781.3181\n",
      "Epoch 360/500\n",
      "5966/5966 [==============================] - 0s 45us/step - loss: 1304972.5000 - mae: 804.4097 - val_loss: 1251897.1250 - val_mae: 779.2730\n",
      "Epoch 361/500\n",
      "5966/5966 [==============================] - 0s 46us/step - loss: 1281782.5000 - mae: 780.6605 - val_loss: 1204949.3750 - val_mae: 781.1951\n",
      "Epoch 362/500\n",
      "5966/5966 [==============================] - 0s 45us/step - loss: 1299939.7500 - mae: 795.5015 - val_loss: 1256402.1250 - val_mae: 780.2690\n",
      "Epoch 363/500\n",
      "5966/5966 [==============================] - 0s 45us/step - loss: 1307187.3750 - mae: 783.3277 - val_loss: 1204380.1250 - val_mae: 779.3198\n",
      "Epoch 364/500\n",
      "5966/5966 [==============================] - 0s 46us/step - loss: 1307907.8750 - mae: 802.1498 - val_loss: 1255516.2500 - val_mae: 780.0053\n",
      "Epoch 365/500\n",
      "5966/5966 [==============================] - 0s 46us/step - loss: 1288789.2500 - mae: 781.4789 - val_loss: 1204008.0000 - val_mae: 780.8356\n",
      "Epoch 366/500\n",
      "5966/5966 [==============================] - 0s 46us/step - loss: 1328048.8750 - mae: 802.0375 - val_loss: 1265396.0000 - val_mae: 781.9337\n",
      "Epoch 367/500\n",
      "5966/5966 [==============================] - 0s 45us/step - loss: 1316199.6250 - mae: 789.7028 - val_loss: 1204771.8750 - val_mae: 781.1202\n",
      "Epoch 368/500\n",
      "5966/5966 [==============================] - 0s 46us/step - loss: 1274001.7500 - mae: 793.6562 - val_loss: 1265828.2500 - val_mae: 782.0778\n",
      "Epoch 369/500\n",
      "5966/5966 [==============================] - 0s 47us/step - loss: 1285669.3750 - mae: 778.6606 - val_loss: 1207894.1250 - val_mae: 785.0865\n",
      "Epoch 370/500\n",
      "5966/5966 [==============================] - 0s 47us/step - loss: 1309088.1250 - mae: 803.1139 - val_loss: 1284339.0000 - val_mae: 786.2120\n",
      "Epoch 371/500\n",
      "5966/5966 [==============================] - 0s 46us/step - loss: 1332831.1250 - mae: 791.1420 - val_loss: 1208494.7500 - val_mae: 785.5558\n",
      "Epoch 372/500\n",
      "5966/5966 [==============================] - 0s 46us/step - loss: 1312015.5000 - mae: 805.9589 - val_loss: 1266127.5000 - val_mae: 782.1779\n",
      "Epoch 373/500\n",
      "5966/5966 [==============================] - 0s 47us/step - loss: 1297315.3750 - mae: 778.9500 - val_loss: 1204039.0000 - val_mae: 780.3478\n",
      "Epoch 374/500\n",
      "5966/5966 [==============================] - 0s 50us/step - loss: 1297957.3750 - mae: 796.0222 - val_loss: 1252969.6250 - val_mae: 779.3795\n",
      "Epoch 375/500\n",
      "5966/5966 [==============================] - 0s 48us/step - loss: 1270285.5000 - mae: 773.1207 - val_loss: 1203557.1250 - val_mae: 778.0330\n",
      "Epoch 376/500\n",
      "5966/5966 [==============================] - 0s 45us/step - loss: 1284140.7500 - mae: 788.5125 - val_loss: 1240314.6250 - val_mae: 777.0219\n"
     ]
    },
    {
     "name": "stdout",
     "output_type": "stream",
     "text": [
      "Epoch 377/500\n",
      "5966/5966 [==============================] - 0s 46us/step - loss: 1301412.2500 - mae: 784.7369 - val_loss: 1204095.5000 - val_mae: 776.5586\n",
      "Epoch 378/500\n",
      "5966/5966 [==============================] - 0s 47us/step - loss: 1288626.0000 - mae: 788.1141 - val_loss: 1241021.3750 - val_mae: 777.0136\n",
      "Epoch 379/500\n",
      "5966/5966 [==============================] - 0s 45us/step - loss: 1285963.3750 - mae: 782.3807 - val_loss: 1203546.7500 - val_mae: 777.1313\n",
      "Epoch 380/500\n",
      "5966/5966 [==============================] - 0s 46us/step - loss: 1249037.8750 - mae: 784.0990 - val_loss: 1246700.3750 - val_mae: 778.1048\n",
      "Epoch 381/500\n",
      "5966/5966 [==============================] - 0s 45us/step - loss: 1249242.0000 - mae: 771.3699 - val_loss: 1205953.3750 - val_mae: 782.6253\n",
      "Epoch 382/500\n",
      "5966/5966 [==============================] - 0s 47us/step - loss: 1284447.3750 - mae: 791.2750 - val_loss: 1282564.8750 - val_mae: 785.8494\n",
      "Epoch 383/500\n",
      "5966/5966 [==============================] - 0s 46us/step - loss: 1323366.8750 - mae: 787.8315 - val_loss: 1214271.1250 - val_mae: 790.1774\n",
      "Epoch 384/500\n",
      "5966/5966 [==============================] - 0s 48us/step - loss: 1316608.5000 - mae: 805.1143 - val_loss: 1298571.7500 - val_mae: 789.3005\n",
      "Epoch 385/500\n",
      "5966/5966 [==============================] - 0s 48us/step - loss: 1331859.0000 - mae: 785.8929 - val_loss: 1208848.3750 - val_mae: 786.1104\n",
      "Epoch 386/500\n",
      "5966/5966 [==============================] - 0s 47us/step - loss: 1320027.0000 - mae: 804.0584 - val_loss: 1261663.2500 - val_mae: 781.0706\n",
      "Epoch 387/500\n",
      "5966/5966 [==============================] - 0s 46us/step - loss: 1345847.1250 - mae: 796.3924 - val_loss: 1204175.8750 - val_mae: 777.4368\n",
      "Epoch 388/500\n",
      "5966/5966 [==============================] - 0s 45us/step - loss: 1303013.3750 - mae: 793.7734 - val_loss: 1243191.8750 - val_mae: 777.4344\n",
      "Epoch 389/500\n",
      "5966/5966 [==============================] - 0s 46us/step - loss: 1302226.5000 - mae: 784.2924 - val_loss: 1204170.2500 - val_mae: 776.7594\n",
      "Epoch 390/500\n",
      "5966/5966 [==============================] - 0s 45us/step - loss: 1304303.3750 - mae: 789.7978 - val_loss: 1227884.5000 - val_mae: 775.0476\n",
      "Epoch 391/500\n",
      "5966/5966 [==============================] - 0s 47us/step - loss: 1291767.8750 - mae: 782.5608 - val_loss: 1205572.7500 - val_mae: 774.8898\n",
      "Epoch 392/500\n",
      "5966/5966 [==============================] - 0s 45us/step - loss: 1264225.7500 - mae: 779.1323 - val_loss: 1224998.7500 - val_mae: 774.4869\n",
      "Epoch 393/500\n",
      "5966/5966 [==============================] - 0s 46us/step - loss: 1269482.3750 - mae: 779.9342 - val_loss: 1203080.2500 - val_mae: 777.0208\n",
      "Epoch 394/500\n",
      "5966/5966 [==============================] - 0s 49us/step - loss: 1315902.0000 - mae: 799.4822 - val_loss: 1272398.5000 - val_mae: 783.5377\n",
      "Epoch 395/500\n",
      "5966/5966 [==============================] - 0s 53us/step - loss: 1313917.5000 - mae: 787.8641 - val_loss: 1213547.8750 - val_mae: 790.0146\n",
      "Epoch 396/500\n",
      "5966/5966 [==============================] - 0s 46us/step - loss: 1332875.8750 - mae: 812.0797 - val_loss: 1313580.7500 - val_mae: 792.9039\n",
      "Epoch 397/500\n",
      "5966/5966 [==============================] - 0s 51us/step - loss: 1346775.7500 - mae: 786.4332 - val_loss: 1211755.0000 - val_mae: 788.9993\n",
      "Epoch 398/500\n",
      "5966/5966 [==============================] - 0s 53us/step - loss: 1335658.0000 - mae: 808.8187 - val_loss: 1293086.3750 - val_mae: 787.6743\n",
      "Epoch 399/500\n",
      "5966/5966 [==============================] - 0s 47us/step - loss: 1317339.2500 - mae: 786.7579 - val_loss: 1204539.0000 - val_mae: 781.8209\n",
      "Epoch 400/500\n",
      "5966/5966 [==============================] - 0s 46us/step - loss: 1321628.5000 - mae: 802.7540 - val_loss: 1251503.6250 - val_mae: 778.8853\n",
      "Epoch 401/500\n",
      "5966/5966 [==============================] - 0s 47us/step - loss: 1289623.5000 - mae: 778.1708 - val_loss: 1203642.3750 - val_mae: 779.2057\n",
      "Epoch 402/500\n",
      "5966/5966 [==============================] - 0s 46us/step - loss: 1311535.0000 - mae: 797.0389 - val_loss: 1248962.2500 - val_mae: 778.5232\n",
      "Epoch 403/500\n",
      "5966/5966 [==============================] - 0s 47us/step - loss: 1280265.2500 - mae: 778.3038 - val_loss: 1203915.0000 - val_mae: 778.9196\n",
      "Epoch 404/500\n",
      "5966/5966 [==============================] - 0s 46us/step - loss: 1295547.6250 - mae: 790.5822 - val_loss: 1245772.7500 - val_mae: 777.7847\n",
      "Epoch 405/500\n",
      "5966/5966 [==============================] - 0s 48us/step - loss: 1289760.6250 - mae: 781.2662 - val_loss: 1203426.5000 - val_mae: 777.3828\n",
      "Epoch 406/500\n",
      "5966/5966 [==============================] - 0s 46us/step - loss: 1264772.6250 - mae: 789.4929 - val_loss: 1239886.8750 - val_mae: 776.7882\n",
      "Epoch 407/500\n",
      "5966/5966 [==============================] - 0s 47us/step - loss: 1286407.7500 - mae: 779.5721 - val_loss: 1203498.0000 - val_mae: 779.6568\n",
      "Epoch 408/500\n",
      "5966/5966 [==============================] - 0s 47us/step - loss: 1282655.0000 - mae: 790.7736 - val_loss: 1257864.3750 - val_mae: 780.1140\n",
      "Epoch 409/500\n",
      "5966/5966 [==============================] - 0s 47us/step - loss: 1269824.5000 - mae: 775.2024 - val_loss: 1205405.2500 - val_mae: 783.0726\n",
      "Epoch 410/500\n",
      "5966/5966 [==============================] - 0s 47us/step - loss: 1273814.3750 - mae: 787.0096 - val_loss: 1268877.6250 - val_mae: 782.4714\n",
      "Epoch 411/500\n",
      "5966/5966 [==============================] - 0s 52us/step - loss: 1294202.1250 - mae: 774.2491 - val_loss: 1205578.3750 - val_mae: 783.7628\n",
      "Epoch 412/500\n",
      "5966/5966 [==============================] - 0s 52us/step - loss: 1306896.3750 - mae: 800.0469 - val_loss: 1285076.0000 - val_mae: 785.9937\n",
      "Epoch 413/500\n",
      "5966/5966 [==============================] - 0s 48us/step - loss: 1307977.5000 - mae: 785.6783 - val_loss: 1207332.0000 - val_mae: 785.5275\n",
      "Epoch 414/500\n",
      "5966/5966 [==============================] - 0s 51us/step - loss: 1315567.3750 - mae: 800.4377 - val_loss: 1269533.7500 - val_mae: 782.3759\n",
      "Epoch 415/500\n",
      "5966/5966 [==============================] - 0s 49us/step - loss: 1297270.8750 - mae: 782.9213 - val_loss: 1202323.7500 - val_mae: 779.2302\n",
      "Epoch 416/500\n",
      "5966/5966 [==============================] - 0s 46us/step - loss: 1281976.5000 - mae: 787.4041 - val_loss: 1240972.1250 - val_mae: 776.7386\n",
      "Epoch 417/500\n",
      "5966/5966 [==============================] - 0s 47us/step - loss: 1273680.5000 - mae: 776.5852 - val_loss: 1201595.6250 - val_mae: 776.9284\n",
      "Epoch 418/500\n",
      "5966/5966 [==============================] - 0s 48us/step - loss: 1296753.7500 - mae: 793.2839 - val_loss: 1238917.0000 - val_mae: 776.4688\n",
      "Epoch 419/500\n",
      "5966/5966 [==============================] - 0s 47us/step - loss: 1253638.8750 - mae: 768.2372 - val_loss: 1201991.6250 - val_mae: 777.3198\n",
      "Epoch 420/500\n",
      "5966/5966 [==============================] - 0s 47us/step - loss: 1314718.5000 - mae: 800.4454 - val_loss: 1247629.0000 - val_mae: 778.0561\n",
      "Epoch 421/500\n",
      "5966/5966 [==============================] - 0s 46us/step - loss: 1312413.1250 - mae: 783.0126 - val_loss: 1201864.0000 - val_mae: 778.5688\n",
      "Epoch 422/500\n",
      "5966/5966 [==============================] - 0s 51us/step - loss: 1269942.6250 - mae: 787.5283 - val_loss: 1269677.7500 - val_mae: 782.6548\n",
      "Epoch 423/500\n",
      "5966/5966 [==============================] - 0s 47us/step - loss: 1328981.2500 - mae: 789.3428 - val_loss: 1207464.7500 - val_mae: 785.2231\n",
      "Epoch 424/500\n",
      "5966/5966 [==============================] - 0s 48us/step - loss: 1310610.5000 - mae: 799.9537 - val_loss: 1283559.6250 - val_mae: 785.7849\n",
      "Epoch 425/500\n",
      "5966/5966 [==============================] - 0s 50us/step - loss: 1314959.3750 - mae: 780.9766 - val_loss: 1207703.1250 - val_mae: 785.5493\n",
      "Epoch 426/500\n",
      "5966/5966 [==============================] - 0s 46us/step - loss: 1303779.8750 - mae: 801.7073 - val_loss: 1270993.6250 - val_mae: 782.8167\n",
      "Epoch 427/500\n",
      "5966/5966 [==============================] - 0s 47us/step - loss: 1318534.6250 - mae: 786.7590 - val_loss: 1203588.7500 - val_mae: 780.6520\n",
      "Epoch 428/500\n",
      "5966/5966 [==============================] - 0s 48us/step - loss: 1296507.8750 - mae: 795.4571 - val_loss: 1259778.3750 - val_mae: 780.3931\n",
      "Epoch 429/500\n",
      "5966/5966 [==============================] - 0s 50us/step - loss: 1295632.2500 - mae: 778.6050 - val_loss: 1203046.0000 - val_mae: 779.7681\n",
      "Epoch 430/500\n",
      "5966/5966 [==============================] - 0s 46us/step - loss: 1312283.2500 - mae: 797.7177 - val_loss: 1259139.0000 - val_mae: 780.3331\n"
     ]
    },
    {
     "name": "stdout",
     "output_type": "stream",
     "text": [
      "Epoch 431/500\n",
      "5966/5966 [==============================] - 0s 46us/step - loss: 1296825.2500 - mae: 779.4982 - val_loss: 1205059.8750 - val_mae: 783.0019\n",
      "Epoch 432/500\n",
      "5966/5966 [==============================] - 0s 46us/step - loss: 1307002.6250 - mae: 795.7934 - val_loss: 1270278.7500 - val_mae: 782.6044\n",
      "Epoch 433/500\n",
      "5966/5966 [==============================] - 0s 46us/step - loss: 1286116.6250 - mae: 779.6206 - val_loss: 1202448.3750 - val_mae: 779.1967\n",
      "Epoch 434/500\n",
      "5966/5966 [==============================] - 0s 50us/step - loss: 1275116.0000 - mae: 787.4933 - val_loss: 1247580.3750 - val_mae: 777.9731\n",
      "Epoch 435/500\n",
      "5966/5966 [==============================] - 0s 45us/step - loss: 1295903.2500 - mae: 782.4694 - val_loss: 1202486.2500 - val_mae: 778.7704\n",
      "Epoch 436/500\n",
      "5966/5966 [==============================] - 0s 45us/step - loss: 1282396.3750 - mae: 787.1068 - val_loss: 1246636.0000 - val_mae: 777.9429\n",
      "Epoch 437/500\n",
      "5966/5966 [==============================] - 0s 49us/step - loss: 1260197.7500 - mae: 777.0309 - val_loss: 1202803.2500 - val_mae: 779.0425\n",
      "Epoch 438/500\n",
      "5966/5966 [==============================] - 0s 46us/step - loss: 1269628.7500 - mae: 787.3252 - val_loss: 1244842.2500 - val_mae: 777.5198\n",
      "Epoch 439/500\n",
      "5966/5966 [==============================] - 0s 51us/step - loss: 1289216.2500 - mae: 777.3158 - val_loss: 1202895.7500 - val_mae: 778.6094\n",
      "Epoch 440/500\n",
      "5966/5966 [==============================] - 0s 45us/step - loss: 1263679.3750 - mae: 779.6506 - val_loss: 1246513.5000 - val_mae: 777.8176\n",
      "Epoch 441/500\n",
      "5966/5966 [==============================] - 0s 50us/step - loss: 1285789.8750 - mae: 781.8495 - val_loss: 1203252.1250 - val_mae: 780.0970\n",
      "Epoch 442/500\n",
      "5966/5966 [==============================] - 0s 46us/step - loss: 1294229.8750 - mae: 795.2379 - val_loss: 1264936.8750 - val_mae: 781.5837\n",
      "Epoch 443/500\n",
      "5966/5966 [==============================] - 0s 47us/step - loss: 1328039.3750 - mae: 788.6397 - val_loss: 1206705.1250 - val_mae: 784.5110\n",
      "Epoch 444/500\n",
      "5966/5966 [==============================] - 0s 49us/step - loss: 1295849.1250 - mae: 796.7786 - val_loss: 1284001.0000 - val_mae: 785.8943\n",
      "Epoch 445/500\n",
      "5966/5966 [==============================] - 0s 47us/step - loss: 1309160.0000 - mae: 783.7687 - val_loss: 1208211.7500 - val_mae: 785.8480\n",
      "Epoch 446/500\n",
      "5966/5966 [==============================] - 0s 49us/step - loss: 1327466.6250 - mae: 801.5249 - val_loss: 1280020.2500 - val_mae: 784.8494\n",
      "Epoch 447/500\n",
      "5966/5966 [==============================] - 0s 45us/step - loss: 1296004.1250 - mae: 782.2590 - val_loss: 1205065.1250 - val_mae: 782.7545\n",
      "Epoch 448/500\n",
      "5966/5966 [==============================] - 0s 46us/step - loss: 1338838.1250 - mae: 803.2296 - val_loss: 1271005.6250 - val_mae: 782.8536\n",
      "Epoch 449/500\n",
      "5966/5966 [==============================] - 0s 51us/step - loss: 1296538.5000 - mae: 778.2969 - val_loss: 1203266.5000 - val_mae: 780.5701\n",
      "Epoch 450/500\n",
      "5966/5966 [==============================] - 0s 45us/step - loss: 1278768.2500 - mae: 786.0605 - val_loss: 1242043.3750 - val_mae: 776.9144\n",
      "Epoch 451/500\n",
      "5966/5966 [==============================] - 0s 45us/step - loss: 1254826.6250 - mae: 767.6688 - val_loss: 1201789.1250 - val_mae: 777.5318\n",
      "Epoch 452/500\n",
      "5966/5966 [==============================] - 0s 46us/step - loss: 1290236.1250 - mae: 790.9284 - val_loss: 1242887.6250 - val_mae: 777.0468\n",
      "Epoch 453/500\n",
      "5966/5966 [==============================] - 0s 51us/step - loss: 1289528.7500 - mae: 780.1573 - val_loss: 1201549.1250 - val_mae: 779.1190\n",
      "Epoch 454/500\n",
      "5966/5966 [==============================] - 0s 46us/step - loss: 1309551.1250 - mae: 795.7232 - val_loss: 1258162.2500 - val_mae: 780.0105\n",
      "Epoch 455/500\n",
      "5966/5966 [==============================] - 0s 51us/step - loss: 1289973.7500 - mae: 779.7161 - val_loss: 1204998.7500 - val_mae: 783.7199\n",
      "Epoch 456/500\n",
      "5966/5966 [==============================] - 0s 45us/step - loss: 1289376.1250 - mae: 798.9221 - val_loss: 1268430.3750 - val_mae: 782.2380\n",
      "Epoch 457/500\n",
      "5966/5966 [==============================] - 0s 47us/step - loss: 1279475.7500 - mae: 774.2051 - val_loss: 1203131.5000 - val_mae: 781.7126\n",
      "Epoch 458/500\n",
      "5966/5966 [==============================] - 0s 45us/step - loss: 1305531.0000 - mae: 793.6975 - val_loss: 1264066.6250 - val_mae: 781.0913\n",
      "Epoch 459/500\n",
      "5966/5966 [==============================] - 0s 45us/step - loss: 1286941.8750 - mae: 776.4370 - val_loss: 1202859.8750 - val_mae: 781.6232\n",
      "Epoch 460/500\n",
      "5966/5966 [==============================] - 0s 45us/step - loss: 1302983.0000 - mae: 799.9596 - val_loss: 1268940.6250 - val_mae: 782.2027\n",
      "Epoch 461/500\n",
      "5966/5966 [==============================] - 0s 49us/step - loss: 1303502.8750 - mae: 778.7629 - val_loss: 1201906.8750 - val_mae: 779.4572\n",
      "Epoch 462/500\n",
      "5966/5966 [==============================] - 0s 47us/step - loss: 1295502.8750 - mae: 793.2833 - val_loss: 1249005.7500 - val_mae: 778.0588\n",
      "Epoch 463/500\n",
      "5966/5966 [==============================] - 0s 45us/step - loss: 1317478.2500 - mae: 782.4548 - val_loss: 1201157.8750 - val_mae: 777.6634\n",
      "Epoch 464/500\n",
      "5966/5966 [==============================] - 0s 45us/step - loss: 1284710.8750 - mae: 788.4736 - val_loss: 1240080.2500 - val_mae: 776.4746\n",
      "Epoch 465/500\n",
      "5966/5966 [==============================] - 0s 45us/step - loss: 1263528.2500 - mae: 778.4941 - val_loss: 1201630.0000 - val_mae: 778.4351\n",
      "Epoch 466/500\n",
      "5966/5966 [==============================] - 0s 46us/step - loss: 1303893.8750 - mae: 791.7577 - val_loss: 1252421.1250 - val_mae: 778.8224\n",
      "Epoch 467/500\n",
      "5966/5966 [==============================] - 0s 46us/step - loss: 1314145.6250 - mae: 785.2500 - val_loss: 1201529.1250 - val_mae: 778.9669\n",
      "Epoch 468/500\n",
      "5966/5966 [==============================] - 0s 51us/step - loss: 1307562.0000 - mae: 795.2597 - val_loss: 1264292.0000 - val_mae: 781.3651\n",
      "Epoch 469/500\n",
      "5966/5966 [==============================] - 0s 54us/step - loss: 1280202.5000 - mae: 778.7576 - val_loss: 1202932.3750 - val_mae: 781.4698\n",
      "Epoch 470/500\n",
      "5966/5966 [==============================] - 0s 54us/step - loss: 1277691.1250 - mae: 789.5429 - val_loss: 1268298.7500 - val_mae: 782.2861\n",
      "Epoch 471/500\n",
      "5966/5966 [==============================] - 0s 56us/step - loss: 1296184.1250 - mae: 782.1311 - val_loss: 1204271.7500 - val_mae: 782.8408\n",
      "Epoch 472/500\n",
      "5966/5966 [==============================] - 0s 48us/step - loss: 1321004.1250 - mae: 800.5459 - val_loss: 1263350.7500 - val_mae: 781.1055\n",
      "Epoch 473/500\n",
      "5966/5966 [==============================] - 0s 47us/step - loss: 1291858.8750 - mae: 778.6537 - val_loss: 1203658.1250 - val_mae: 782.1273\n",
      "Epoch 474/500\n",
      "5966/5966 [==============================] - 0s 48us/step - loss: 1276550.0000 - mae: 790.4418 - val_loss: 1253780.0000 - val_mae: 779.1232\n",
      "Epoch 475/500\n",
      "5966/5966 [==============================] - 0s 47us/step - loss: 1285917.7500 - mae: 773.4883 - val_loss: 1201761.5000 - val_mae: 779.9070\n",
      "Epoch 476/500\n",
      "5966/5966 [==============================] - 0s 46us/step - loss: 1267787.3750 - mae: 781.8604 - val_loss: 1257301.3750 - val_mae: 779.8161\n",
      "Epoch 477/500\n",
      "5966/5966 [==============================] - 0s 46us/step - loss: 1276205.8750 - mae: 773.8047 - val_loss: 1202776.2500 - val_mae: 780.8218\n",
      "Epoch 478/500\n",
      "5966/5966 [==============================] - 0s 47us/step - loss: 1275242.8750 - mae: 788.6117 - val_loss: 1261341.5000 - val_mae: 780.6865\n",
      "Epoch 479/500\n",
      "5966/5966 [==============================] - 0s 48us/step - loss: 1289954.2500 - mae: 777.9042 - val_loss: 1203402.1250 - val_mae: 781.9393\n",
      "Epoch 480/500\n",
      "5966/5966 [==============================] - 0s 46us/step - loss: 1269849.3750 - mae: 787.4690 - val_loss: 1250696.7500 - val_mae: 778.5131\n",
      "Epoch 481/500\n",
      "5966/5966 [==============================] - 0s 50us/step - loss: 1269921.8750 - mae: 767.0084 - val_loss: 1203392.6250 - val_mae: 781.4871\n",
      "Epoch 482/500\n",
      "5966/5966 [==============================] - 0s 47us/step - loss: 1266680.8750 - mae: 787.8985 - val_loss: 1252315.5000 - val_mae: 778.7736\n",
      "Epoch 483/500\n",
      "5966/5966 [==============================] - 0s 48us/step - loss: 1297666.6250 - mae: 781.1190 - val_loss: 1201625.7500 - val_mae: 779.4142\n",
      "Epoch 484/500\n",
      "5966/5966 [==============================] - 0s 45us/step - loss: 1288675.5000 - mae: 790.7996 - val_loss: 1249287.2500 - val_mae: 778.0609\n"
     ]
    },
    {
     "name": "stdout",
     "output_type": "stream",
     "text": [
      "Epoch 485/500\n",
      "5966/5966 [==============================] - 0s 46us/step - loss: 1309405.2500 - mae: 782.4131 - val_loss: 1201758.3750 - val_mae: 780.1970\n",
      "Epoch 486/500\n",
      "5966/5966 [==============================] - 0s 46us/step - loss: 1279027.3750 - mae: 790.6519 - val_loss: 1262646.6250 - val_mae: 780.8463\n",
      "Epoch 487/500\n",
      "5966/5966 [==============================] - 0s 45us/step - loss: 1269636.7500 - mae: 771.6676 - val_loss: 1202976.3750 - val_mae: 781.7435\n",
      "Epoch 488/500\n",
      "5966/5966 [==============================] - 0s 45us/step - loss: 1342953.3750 - mae: 809.2635 - val_loss: 1270497.6250 - val_mae: 782.6871\n",
      "Epoch 489/500\n",
      "5966/5966 [==============================] - 0s 45us/step - loss: 1298984.3750 - mae: 785.0802 - val_loss: 1203997.7500 - val_mae: 782.2930\n",
      "Epoch 490/500\n",
      "5966/5966 [==============================] - 0s 45us/step - loss: 1285622.7500 - mae: 797.1982 - val_loss: 1271964.0000 - val_mae: 783.1459\n",
      "Epoch 491/500\n",
      "5966/5966 [==============================] - 0s 45us/step - loss: 1280697.5000 - mae: 777.8628 - val_loss: 1202400.6250 - val_mae: 780.1789\n",
      "Epoch 492/500\n",
      "5966/5966 [==============================] - 0s 46us/step - loss: 1262554.3750 - mae: 783.1821 - val_loss: 1250583.8750 - val_mae: 778.5141\n",
      "Epoch 493/500\n",
      "5966/5966 [==============================] - 0s 45us/step - loss: 1282354.2500 - mae: 776.5016 - val_loss: 1201185.2500 - val_mae: 778.9353\n",
      "Epoch 494/500\n",
      "5966/5966 [==============================] - 0s 47us/step - loss: 1275689.0000 - mae: 786.2986 - val_loss: 1246334.8750 - val_mae: 777.6951\n",
      "Epoch 495/500\n",
      "5966/5966 [==============================] - 0s 46us/step - loss: 1291617.2500 - mae: 779.3560 - val_loss: 1200937.1250 - val_mae: 778.8432\n",
      "Epoch 496/500\n",
      "5966/5966 [==============================] - 0s 46us/step - loss: 1307304.1250 - mae: 790.8533 - val_loss: 1247381.1250 - val_mae: 777.9800\n",
      "Epoch 497/500\n",
      "5966/5966 [==============================] - 0s 46us/step - loss: 1282259.7500 - mae: 779.3025 - val_loss: 1200976.7500 - val_mae: 778.1823\n",
      "Epoch 498/500\n",
      "5966/5966 [==============================] - 0s 45us/step - loss: 1292450.6250 - mae: 790.4619 - val_loss: 1258477.3750 - val_mae: 780.1613\n",
      "Epoch 499/500\n",
      "5966/5966 [==============================] - 0s 46us/step - loss: 1285643.5000 - mae: 780.1543 - val_loss: 1204578.1250 - val_mae: 783.4274\n",
      "Epoch 500/500\n",
      "5966/5966 [==============================] - 0s 45us/step - loss: 1297619.1250 - mae: 793.8207 - val_loss: 1279278.5000 - val_mae: 784.6657\n"
     ]
    }
   ],
   "source": [
    "# removing history from memory\n",
    "#del history\n",
    "# training the model\n",
    "history = model.fit(X_train, y_train, epochs=500, batch_size=len(X_train),validation_data =(X_test,y_test), verbose=1)"
   ]
  },
  {
   "cell_type": "code",
   "execution_count": 38,
   "metadata": {
    "ExecuteTime": {
     "end_time": "2020-12-07T10:56:18.435251Z",
     "start_time": "2020-12-07T10:56:18.046492Z"
    }
   },
   "outputs": [
    {
     "name": "stdout",
     "output_type": "stream",
     "text": [
      "1076.2093234196254\n"
     ]
    }
   ],
   "source": [
    "pred_train= model.predict(X_train)\n",
    "print(np.sqrt(mean_squared_error(y_train,pred_train)))"
   ]
  },
  {
   "cell_type": "code",
   "execution_count": 39,
   "metadata": {
    "ExecuteTime": {
     "end_time": "2020-12-07T10:56:22.517713Z",
     "start_time": "2020-12-07T10:56:22.106969Z"
    }
   },
   "outputs": [
    {
     "name": "stdout",
     "output_type": "stream",
     "text": [
      "5966/5966 [==============================] - 0s 64us/step\n"
     ]
    },
    {
     "data": {
      "text/plain": [
       "[1158226.5124455246, 737.131591796875]"
      ]
     },
     "execution_count": 39,
     "metadata": {},
     "output_type": "execute_result"
    }
   ],
   "source": [
    "model.evaluate(X_train,y_train)"
   ]
  },
  {
   "cell_type": "code",
   "execution_count": 40,
   "metadata": {
    "ExecuteTime": {
     "end_time": "2020-12-07T10:56:29.799188Z",
     "start_time": "2020-12-07T10:56:29.077635Z"
    }
   },
   "outputs": [
    {
     "data": {
      "text/plain": [
       "<matplotlib.legend.Legend at 0x1edf28d1908>"
      ]
     },
     "execution_count": 40,
     "metadata": {},
     "output_type": "execute_result"
    },
    {
     "data": {
      "image/png": "[encoded data removed]",
      "text/plain": [
       "<Figure size 864x576 with 1 Axes>"
      ]
     },
     "metadata": {},
     "output_type": "display_data"
    }
   ],
   "source": [
    "# plot the training loss and accuracy\n",
    "N = np.arange(0, 500)\n",
    "plt.style.use(\"ggplot\")\n",
    "plt.figure(figsize=(12, 8))\n",
    "#plt.figure(figure)\n",
    "plt.plot(N, history.history[\"loss\"], label=\"train_loss\")\n",
    "plt.plot(N, history.history[\"val_loss\"], label=\"val_loss\")\n",
    "plt.plot(N, history.history[\"mae\"], label=\"train_MAE\")\n",
    "plt.plot(N, history.history[\"val_mae\"], label=\"val_MAE\")\n",
    "plt.title(\"Training Loss and Mean Absolute Error on Dataset\")\n",
    "plt.xlabel(\"Epoch #\")\n",
    "plt.ylabel(\"Loss/MAE\")\n",
    "plt.legend(loc=\"upper right\")\n",
    "#plt.savefig(args[\"plot\"])"
   ]
  },
  {
   "cell_type": "code",
   "execution_count": 41,
   "metadata": {
    "ExecuteTime": {
     "end_time": "2020-12-07T10:56:59.626651Z",
     "start_time": "2020-12-07T10:56:59.614658Z"
    }
   },
   "outputs": [],
   "source": [
    "# Applying the same transformations to test dataset\n",
    "# Outlet_Establishment_year does not carry any significance so adding the age of Outlet\n",
    "# adding extra feature of Outlet_Age = max(Outlet_Establishment_Year)-(Outlet_Establishment_year)\n",
    "test['Outlet_Age']=test['Outlet_Establishment_Year'].max() - test['Outlet_Establishment_Year']"
   ]
  },
  {
   "cell_type": "code",
   "execution_count": 42,
   "metadata": {
    "ExecuteTime": {
     "end_time": "2020-12-07T10:57:01.845269Z",
     "start_time": "2020-12-07T10:57:01.837277Z"
    }
   },
   "outputs": [],
   "source": [
    "submission = test[['Item_Identifier','Outlet_Identifier']].copy()"
   ]
  },
  {
   "cell_type": "code",
   "execution_count": 43,
   "metadata": {
    "ExecuteTime": {
     "end_time": "2020-12-07T10:57:04.486631Z",
     "start_time": "2020-12-07T10:57:04.474636Z"
    },
    "scrolled": true
   },
   "outputs": [],
   "source": [
    "# at first droping item identifier , outlet_identifier , outlet establishment year\n",
    "test = test.drop(['Item_Identifier','Outlet_Identifier','Outlet_Establishment_Year'],axis=1)"
   ]
  },
  {
   "cell_type": "code",
   "execution_count": 44,
   "metadata": {
    "ExecuteTime": {
     "end_time": "2020-12-07T10:57:05.909747Z",
     "start_time": "2020-12-07T10:57:05.888760Z"
    }
   },
   "outputs": [],
   "source": [
    "test['Item_Visibility']=test['Item_Visibility'].mask(test['Item_Visibility']==0.0)"
   ]
  },
  {
   "cell_type": "code",
   "execution_count": 45,
   "metadata": {
    "ExecuteTime": {
     "end_time": "2020-12-07T10:57:07.268902Z",
     "start_time": "2020-12-07T10:57:07.247914Z"
    }
   },
   "outputs": [
    {
     "data": {
      "text/plain": [
       "Item_Weight              976\n",
       "Item_Fat_Content           0\n",
       "Item_Visibility          353\n",
       "Item_Type                  0\n",
       "Item_MRP                   0\n",
       "Outlet_Size             1606\n",
       "Outlet_Location_Type       0\n",
       "Outlet_Type                0\n",
       "Outlet_Age                 0\n",
       "dtype: int64"
      ]
     },
     "execution_count": 45,
     "metadata": {},
     "output_type": "execute_result"
    }
   ],
   "source": [
    "test.isna().sum()"
   ]
  },
  {
   "cell_type": "code",
   "execution_count": 46,
   "metadata": {
    "ExecuteTime": {
     "end_time": "2020-12-07T10:57:09.283650Z",
     "start_time": "2020-12-07T10:57:09.270654Z"
    }
   },
   "outputs": [],
   "source": [
    "test['Item_Weight'].fillna(test['Item_Weight'].mean(),inplace=True)\n",
    "test['Outlet_Size'].fillna(test['Outlet_Size'].mode()[0],inplace=True)\n",
    "test['Item_Visibility'].fillna(test['Item_Visibility'].mean(),inplace=True)"
   ]
  },
  {
   "cell_type": "code",
   "execution_count": 47,
   "metadata": {
    "ExecuteTime": {
     "end_time": "2020-12-07T10:57:10.487898Z",
     "start_time": "2020-12-07T10:57:10.472906Z"
    }
   },
   "outputs": [
    {
     "data": {
      "text/plain": [
       "Low Fat    3396\n",
       "Regular    1935\n",
       "LF          206\n",
       "reg          78\n",
       "low fat      66\n",
       "Name: Item_Fat_Content, dtype: int64"
      ]
     },
     "execution_count": 47,
     "metadata": {},
     "output_type": "execute_result"
    }
   ],
   "source": [
    "# checking the categorical variables\n",
    "test['Item_Fat_Content'].value_counts()"
   ]
  },
  {
   "cell_type": "code",
   "execution_count": 48,
   "metadata": {
    "ExecuteTime": {
     "end_time": "2020-12-07T10:57:13.347122Z",
     "start_time": "2020-12-07T10:57:13.337127Z"
    }
   },
   "outputs": [],
   "source": [
    "# Unifying categories to Low Fat and Regular only\n",
    "test['Item_Fat_Content'] = test['Item_Fat_Content'].replace({'reg':'Regular', 'LF':'Low Fat','low fat':'Low Fat'})"
   ]
  },
  {
   "cell_type": "code",
   "execution_count": 49,
   "metadata": {
    "ExecuteTime": {
     "end_time": "2020-12-07T10:57:15.251941Z",
     "start_time": "2020-12-07T10:57:15.238946Z"
    }
   },
   "outputs": [],
   "source": [
    "# # Import label encoder \n",
    "# from sklearn import preprocessing\n",
    "# # label_encoder object knows how to understand word labels. \n",
    "# label_encoder = preprocessing.LabelEncoder()\n",
    "# # Encode labels in column 'Country'. \n",
    "# test['Item_Fat_Content']=label_encoder.fit_transform(test['Item_Fat_Content']) \n",
    "# #,'Item_Type','Outlet_Size','Outlet_Location_Type','Outlet_Type'\n",
    "# test['Outlet_Size']=label_encoder.fit_transform(test['Outlet_Size'])\n",
    "# test['Outlet_Location_Type']=label_encoder.fit_transform(test['Outlet_Location_Type'])\n",
    "# test['Outlet_Type']=label_encoder.fit_transform(test['Outlet_Type'])\n",
    "# test['Item_Type']=label_encoder.fit_transform(test['Item_Type'])\n",
    "# test.head()"
   ]
  },
  {
   "cell_type": "code",
   "execution_count": 51,
   "metadata": {
    "ExecuteTime": {
     "end_time": "2020-12-07T10:57:45.425282Z",
     "start_time": "2020-12-07T10:57:45.366319Z"
    }
   },
   "outputs": [
    {
     "data": {
      "text/html": [
       "<div>\n",
       "<style scoped>\n",
       "    .dataframe tbody tr th:only-of-type {\n",
       "        vertical-align: middle;\n",
       "    }\n",
       "\n",
       "    .dataframe tbody tr th {\n",
       "        vertical-align: top;\n",
       "    }\n",
       "\n",
       "    .dataframe thead th {\n",
       "        text-align: right;\n",
       "    }\n",
       "</style>\n",
       "<table border=\"1\" class=\"dataframe\">\n",
       "  <thead>\n",
       "    <tr style=\"text-align: right;\">\n",
       "      <th></th>\n",
       "      <th>Item_Weight</th>\n",
       "      <th>Item_Visibility</th>\n",
       "      <th>Item_MRP</th>\n",
       "      <th>Outlet_Age</th>\n",
       "      <th>Fat_is_Low Fat</th>\n",
       "      <th>Fat_is_Regular</th>\n",
       "      <th>Type_is_Baking Goods</th>\n",
       "      <th>Type_is_Breads</th>\n",
       "      <th>Type_is_Breakfast</th>\n",
       "      <th>Type_is_Canned</th>\n",
       "      <th>...</th>\n",
       "      <th>Loc_is_Tier 1</th>\n",
       "      <th>Loc_is_Tier 2</th>\n",
       "      <th>Loc_is_Tier 3</th>\n",
       "      <th>Size_is_High</th>\n",
       "      <th>Size_is_Medium</th>\n",
       "      <th>Size_is_Small</th>\n",
       "      <th>Outlet_is_Grocery Store</th>\n",
       "      <th>Outlet_is_Supermarket Type1</th>\n",
       "      <th>Outlet_is_Supermarket Type2</th>\n",
       "      <th>Outlet_is_Supermarket Type3</th>\n",
       "    </tr>\n",
       "  </thead>\n",
       "  <tbody>\n",
       "    <tr>\n",
       "      <th>0</th>\n",
       "      <td>20.750000</td>\n",
       "      <td>0.007565</td>\n",
       "      <td>107.8622</td>\n",
       "      <td>10</td>\n",
       "      <td>1</td>\n",
       "      <td>0</td>\n",
       "      <td>0</td>\n",
       "      <td>0</td>\n",
       "      <td>0</td>\n",
       "      <td>0</td>\n",
       "      <td>...</td>\n",
       "      <td>1</td>\n",
       "      <td>0</td>\n",
       "      <td>0</td>\n",
       "      <td>0</td>\n",
       "      <td>1</td>\n",
       "      <td>0</td>\n",
       "      <td>0</td>\n",
       "      <td>1</td>\n",
       "      <td>0</td>\n",
       "      <td>0</td>\n",
       "    </tr>\n",
       "    <tr>\n",
       "      <th>1</th>\n",
       "      <td>8.300000</td>\n",
       "      <td>0.038428</td>\n",
       "      <td>87.3198</td>\n",
       "      <td>2</td>\n",
       "      <td>0</td>\n",
       "      <td>1</td>\n",
       "      <td>0</td>\n",
       "      <td>0</td>\n",
       "      <td>0</td>\n",
       "      <td>0</td>\n",
       "      <td>...</td>\n",
       "      <td>0</td>\n",
       "      <td>1</td>\n",
       "      <td>0</td>\n",
       "      <td>0</td>\n",
       "      <td>1</td>\n",
       "      <td>0</td>\n",
       "      <td>0</td>\n",
       "      <td>1</td>\n",
       "      <td>0</td>\n",
       "      <td>0</td>\n",
       "    </tr>\n",
       "    <tr>\n",
       "      <th>2</th>\n",
       "      <td>14.600000</td>\n",
       "      <td>0.099575</td>\n",
       "      <td>241.7538</td>\n",
       "      <td>11</td>\n",
       "      <td>1</td>\n",
       "      <td>0</td>\n",
       "      <td>0</td>\n",
       "      <td>0</td>\n",
       "      <td>0</td>\n",
       "      <td>0</td>\n",
       "      <td>...</td>\n",
       "      <td>0</td>\n",
       "      <td>0</td>\n",
       "      <td>1</td>\n",
       "      <td>0</td>\n",
       "      <td>1</td>\n",
       "      <td>0</td>\n",
       "      <td>1</td>\n",
       "      <td>0</td>\n",
       "      <td>0</td>\n",
       "      <td>0</td>\n",
       "    </tr>\n",
       "    <tr>\n",
       "      <th>3</th>\n",
       "      <td>7.315000</td>\n",
       "      <td>0.015388</td>\n",
       "      <td>155.0340</td>\n",
       "      <td>2</td>\n",
       "      <td>1</td>\n",
       "      <td>0</td>\n",
       "      <td>0</td>\n",
       "      <td>0</td>\n",
       "      <td>0</td>\n",
       "      <td>0</td>\n",
       "      <td>...</td>\n",
       "      <td>0</td>\n",
       "      <td>1</td>\n",
       "      <td>0</td>\n",
       "      <td>0</td>\n",
       "      <td>1</td>\n",
       "      <td>0</td>\n",
       "      <td>0</td>\n",
       "      <td>1</td>\n",
       "      <td>0</td>\n",
       "      <td>0</td>\n",
       "    </tr>\n",
       "    <tr>\n",
       "      <th>4</th>\n",
       "      <td>12.695633</td>\n",
       "      <td>0.118599</td>\n",
       "      <td>234.2300</td>\n",
       "      <td>24</td>\n",
       "      <td>0</td>\n",
       "      <td>1</td>\n",
       "      <td>0</td>\n",
       "      <td>0</td>\n",
       "      <td>0</td>\n",
       "      <td>0</td>\n",
       "      <td>...</td>\n",
       "      <td>0</td>\n",
       "      <td>0</td>\n",
       "      <td>1</td>\n",
       "      <td>0</td>\n",
       "      <td>1</td>\n",
       "      <td>0</td>\n",
       "      <td>0</td>\n",
       "      <td>0</td>\n",
       "      <td>0</td>\n",
       "      <td>1</td>\n",
       "    </tr>\n",
       "  </tbody>\n",
       "</table>\n",
       "<p>5 rows × 32 columns</p>\n",
       "</div>"
      ],
      "text/plain": [
       "   Item_Weight  Item_Visibility  Item_MRP  Outlet_Age  Fat_is_Low Fat  \\\n",
       "0    20.750000         0.007565  107.8622          10               1   \n",
       "1     8.300000         0.038428   87.3198           2               0   \n",
       "2    14.600000         0.099575  241.7538          11               1   \n",
       "3     7.315000         0.015388  155.0340           2               1   \n",
       "4    12.695633         0.118599  234.2300          24               0   \n",
       "\n",
       "   Fat_is_Regular  Type_is_Baking Goods  Type_is_Breads  Type_is_Breakfast  \\\n",
       "0               0                     0               0                  0   \n",
       "1               1                     0               0                  0   \n",
       "2               0                     0               0                  0   \n",
       "3               0                     0               0                  0   \n",
       "4               1                     0               0                  0   \n",
       "\n",
       "   Type_is_Canned  ...  Loc_is_Tier 1  Loc_is_Tier 2  Loc_is_Tier 3  \\\n",
       "0               0  ...              1              0              0   \n",
       "1               0  ...              0              1              0   \n",
       "2               0  ...              0              0              1   \n",
       "3               0  ...              0              1              0   \n",
       "4               0  ...              0              0              1   \n",
       "\n",
       "   Size_is_High  Size_is_Medium  Size_is_Small  Outlet_is_Grocery Store  \\\n",
       "0             0               1              0                        0   \n",
       "1             0               1              0                        0   \n",
       "2             0               1              0                        1   \n",
       "3             0               1              0                        0   \n",
       "4             0               1              0                        0   \n",
       "\n",
       "   Outlet_is_Supermarket Type1  Outlet_is_Supermarket Type2  \\\n",
       "0                            1                            0   \n",
       "1                            1                            0   \n",
       "2                            0                            0   \n",
       "3                            1                            0   \n",
       "4                            0                            0   \n",
       "\n",
       "   Outlet_is_Supermarket Type3  \n",
       "0                            0  \n",
       "1                            0  \n",
       "2                            0  \n",
       "3                            0  \n",
       "4                            1  \n",
       "\n",
       "[5 rows x 32 columns]"
      ]
     },
     "execution_count": 51,
     "metadata": {},
     "output_type": "execute_result"
    }
   ],
   "source": [
    "test_dum=pd.get_dummies(test,columns=['Item_Fat_Content','Item_Type','Outlet_Location_Type','Outlet_Size','Outlet_Type'],prefix=['Fat_is','Type_is','Loc_is','Size_is','Outlet_is'])\n",
    "test_dum.head()"
   ]
  },
  {
   "cell_type": "code",
   "execution_count": null,
   "metadata": {
    "ExecuteTime": {
     "end_time": "2020-12-07T10:53:16.816388Z",
     "start_time": "2020-12-07T10:52:38.829Z"
    }
   },
   "outputs": [],
   "source": [
    "# #normalizing the test from 0 to 1 using MinMaxScalar\n",
    "# from sklearn.preprocessing import MinMaxScaler\n",
    "# min_max_scaler=MinMaxScaler()\n",
    "# test=min_max_scaler.fit_transform(test)\n",
    "# test[:5]"
   ]
  },
  {
   "cell_type": "code",
   "execution_count": null,
   "metadata": {
    "ExecuteTime": {
     "end_time": "2020-12-07T10:53:16.818388Z",
     "start_time": "2020-12-07T10:52:38.834Z"
    }
   },
   "outputs": [],
   "source": [
    "for i in ['Item_Weight','Item_Visibility','Item_MRP','Outlet_Age',]:\n",
    "    test_dum[i] = (test_dum[i]-test_dum[i].min())/(test_dum[i].max()-test_dum[i].min())\n",
    "\n",
    "test_dum.head()"
   ]
  },
  {
   "cell_type": "code",
   "execution_count": null,
   "metadata": {
    "ExecuteTime": {
     "end_time": "2020-12-07T10:53:16.820385Z",
     "start_time": "2020-12-07T10:52:38.836Z"
    }
   },
   "outputs": [],
   "source": [
    "predictions = model.predict(test_dum)"
   ]
  },
  {
   "cell_type": "code",
   "execution_count": null,
   "metadata": {
    "ExecuteTime": {
     "end_time": "2020-12-07T10:53:16.823383Z",
     "start_time": "2020-12-07T10:52:38.839Z"
    }
   },
   "outputs": [],
   "source": [
    "submission['Item_Outlet_Sales']=predictions\n",
    "submission"
   ]
  },
  {
   "cell_type": "code",
   "execution_count": null,
   "metadata": {
    "ExecuteTime": {
     "end_time": "2020-12-07T10:53:16.825383Z",
     "start_time": "2020-12-07T10:52:38.841Z"
    }
   },
   "outputs": [],
   "source": [
    "submission.to_csv('submission7.csv',index=False)"
   ]
  }
 ],
 "metadata": {
  "kernelspec": {
   "display_name": "Python 3",
   "language": "python",
   "name": "python3"
  },
  "language_info": {
   "codemirror_mode": {
    "name": "ipython",
    "version": 3
   },
   "file_extension": ".py",
   "mimetype": "text/x-python",
   "name": "python",
   "nbconvert_exporter": "python",
   "pygments_lexer": "ipython3",
   "version": "3.7.6"
  }
 },
 "nbformat": 4,
 "nbformat_minor": 4
}
